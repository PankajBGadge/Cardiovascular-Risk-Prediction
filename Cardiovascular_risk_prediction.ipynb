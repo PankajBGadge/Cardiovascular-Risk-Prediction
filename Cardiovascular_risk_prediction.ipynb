{
  "nbformat": 4,
  "nbformat_minor": 0,
  "metadata": {
    "kernelspec": {
      "display_name": "Python 3",
      "language": "python",
      "name": "python3"
    },
    "language_info": {
      "codemirror_mode": {
        "name": "ipython",
        "version": 3
      },
      "file_extension": ".py",
      "mimetype": "text/x-python",
      "name": "python",
      "nbconvert_exporter": "python",
      "pygments_lexer": "ipython3",
      "version": "3.7.1"
    },
    "colab": {
      "provenance": [],
      "collapsed_sections": [],
      "include_colab_link": true
    }
  },
  "cells": [
    {
      "cell_type": "markdown",
      "metadata": {
        "id": "view-in-github",
        "colab_type": "text"
      },
      "source": [
        "<a href=\"https://colab.research.google.com/github/PankajBGadge/Cardiovascular-Risk-Prediction/blob/main/Cardiovascular_risk_prediction.ipynb\" target=\"_parent\"><img src=\"https://colab.research.google.com/assets/colab-badge.svg\" alt=\"Open In Colab\"/></a>"
      ]
    },
    {
      "cell_type": "markdown",
      "metadata": {
        "id": "JI1a1HXMjCxF"
      },
      "source": [
        "\n",
        "\n",
        "### <b>Problem Statement</b>\n",
        "The dataset is from an ongoing cardiovascular study on residents of the town of Framingham,\n",
        "Massachusetts. The classification goal is to predict whether the patient has a 10-year risk of\n",
        "future coronary heart disease (CHD). The dataset provides the patients’ information. It includes\n",
        "over 4,000 records and 15 attributes."
      ]
    },
    {
      "cell_type": "markdown",
      "source": [
        "# ![OIP (1).jpg](data:image/jpeg;base64,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)"
      ],
      "metadata": {
        "id": "WmWitRRtqBmI"
      }
    },
    {
      "cell_type": "markdown",
      "source": [
        "## **Variables**\n",
        "Each attribute is a potential risk factor. There are both demographic, behavioral, and medical risk\n",
        "factors.\n",
        "## **Data Description**\n",
        "**Demographic:**\n",
        "\n",
        "\n",
        "• **Sex:** male or female(\"M\" or \"F\")\n",
        "\n",
        "• **Age:** Age of the patient;(Continuous - Although the recorded ages have been truncated to whole numbers, the concept of age is continuous)\n",
        "\n",
        "\n",
        " **Behavioral**\n",
        "\n",
        "• **is_smoking:** whether or not the patient is a current smoker (\"YES\" or \"NO\")\n",
        "\n",
        "• **Cigs Per Day:** the number of cigarettes that the person smoked on average in one day.(can be considered continuous as one can have any number of cigarettes, even half a cigarette.)\n",
        "\n",
        "\n",
        "**Medical( history)**\n",
        "• **BP Meds:** whether or not the patient was on blood pressure medication (Nominal)\n",
        "\n",
        "• **Prevalent Stroke:** whether or not the patient had previously had a stroke (Nominal)\n",
        "\n",
        "• **Prevalent Hyp:** whether or not the patient was hypertensive (Nominal)\n",
        "\n",
        "• **Diabetes:** whether or not the patient had diabetes (Nominal)\n",
        "Medical(current)\n",
        "\n",
        "• **Tot Chol:** total cholesterol level (Continuous)\n",
        "\n",
        "• **Sys BP:** systolic blood pressure (Continuous)\n",
        "\n",
        "• **Dia BP:** diastolic blood pressure (Continuous)\n",
        "\n",
        "• **BMI:** Body Mass Index (Continuous)\n",
        "\n",
        "• **Heart Rate:** heart rate (Continuous - In medical research, variables such as heart rate though in fact discrete, yet are considered continuous because of large number of possible values).\n",
        "\n",
        "• **Glucose:** glucose level (Continuous)\n",
        "\n",
        "# **Predict variable (desired target)**\n",
        "\n",
        "• **10-year risk of coronary heart disease CHD**(binary: “1”, means “Yes”, “0” means “No”) -\n",
        "DV"
      ],
      "metadata": {
        "id": "-5M_M8ZTwAF8"
      }
    },
    {
      "cell_type": "markdown",
      "source": [
        "# **Now lets import required libraries**"
      ],
      "metadata": {
        "id": "b9uK1tpUHhBF"
      }
    },
    {
      "cell_type": "code",
      "metadata": {
        "id": "ZksP1cmJo5Sq"
      },
      "source": [
        "# Importing the libraries\n",
        "import numpy as np\n",
        "import pandas as pd\n",
        "import matplotlib.pyplot as plt\n",
        "import seaborn as sns\n",
        "from sklearn.model_selection import train_test_split\n"
      ],
      "execution_count": null,
      "outputs": []
    },
    {
      "cell_type": "code",
      "metadata": {
        "id": "qwL50ZCPWVn2",
        "colab": {
          "base_uri": "https://localhost:8080/"
        },
        "outputId": "33693399-c91b-4f6c-8a8a-087907a8faed"
      },
      "source": [
        "from google.colab import drive\n",
        "drive.mount('/content/drive')"
      ],
      "execution_count": null,
      "outputs": [
        {
          "output_type": "stream",
          "name": "stdout",
          "text": [
            "Drive already mounted at /content/drive; to attempt to forcibly remount, call drive.mount(\"/content/drive\", force_remount=True).\n"
          ]
        }
      ]
    },
    {
      "cell_type": "code",
      "metadata": {
        "id": "bAR4dHQWWwSM"
      },
      "source": [
        "# Importing the dataset\n",
        "dataset = pd.read_csv('/content/drive/MyDrive/Capstone Project 3/data_cardiovascular_risk.csv')"
      ],
      "execution_count": null,
      "outputs": []
    },
    {
      "cell_type": "markdown",
      "metadata": {
        "id": "qanqVUsKXB6i"
      },
      "source": [
        "# **Data Inspection**"
      ]
    },
    {
      "cell_type": "code",
      "metadata": {
        "id": "nZuNe4yrW5EF",
        "colab": {
          "base_uri": "https://localhost:8080/",
          "height": 270
        },
        "outputId": "27994239-e3da-4535-ce97-8c8e879912e3"
      },
      "source": [
        "# First look\n",
        "dataset.head()"
      ],
      "execution_count": null,
      "outputs": [
        {
          "output_type": "execute_result",
          "data": {
            "text/plain": [
              "   id  age  education sex is_smoking  cigsPerDay  BPMeds  prevalentStroke  \\\n",
              "0   0   64        2.0   F        YES         3.0     0.0                0   \n",
              "1   1   36        4.0   M         NO         0.0     0.0                0   \n",
              "2   2   46        1.0   F        YES        10.0     0.0                0   \n",
              "3   3   50        1.0   M        YES        20.0     0.0                0   \n",
              "4   4   64        1.0   F        YES        30.0     0.0                0   \n",
              "\n",
              "   prevalentHyp  diabetes  totChol  sysBP  diaBP    BMI  heartRate  glucose  \\\n",
              "0             0         0    221.0  148.0   85.0    NaN       90.0     80.0   \n",
              "1             1         0    212.0  168.0   98.0  29.77       72.0     75.0   \n",
              "2             0         0    250.0  116.0   71.0  20.35       88.0     94.0   \n",
              "3             1         0    233.0  158.0   88.0  28.26       68.0     94.0   \n",
              "4             0         0    241.0  136.5   85.0  26.42       70.0     77.0   \n",
              "\n",
              "   TenYearCHD  \n",
              "0           1  \n",
              "1           0  \n",
              "2           0  \n",
              "3           1  \n",
              "4           0  "
            ],
            "text/html": [
              "\n",
              "  <div id=\"df-1b71fdaa-8f1f-4e0c-ae5d-3c6b779d390a\">\n",
              "    <div class=\"colab-df-container\">\n",
              "      <div>\n",
              "<style scoped>\n",
              "    .dataframe tbody tr th:only-of-type {\n",
              "        vertical-align: middle;\n",
              "    }\n",
              "\n",
              "    .dataframe tbody tr th {\n",
              "        vertical-align: top;\n",
              "    }\n",
              "\n",
              "    .dataframe thead th {\n",
              "        text-align: right;\n",
              "    }\n",
              "</style>\n",
              "<table border=\"1\" class=\"dataframe\">\n",
              "  <thead>\n",
              "    <tr style=\"text-align: right;\">\n",
              "      <th></th>\n",
              "      <th>id</th>\n",
              "      <th>age</th>\n",
              "      <th>education</th>\n",
              "      <th>sex</th>\n",
              "      <th>is_smoking</th>\n",
              "      <th>cigsPerDay</th>\n",
              "      <th>BPMeds</th>\n",
              "      <th>prevalentStroke</th>\n",
              "      <th>prevalentHyp</th>\n",
              "      <th>diabetes</th>\n",
              "      <th>totChol</th>\n",
              "      <th>sysBP</th>\n",
              "      <th>diaBP</th>\n",
              "      <th>BMI</th>\n",
              "      <th>heartRate</th>\n",
              "      <th>glucose</th>\n",
              "      <th>TenYearCHD</th>\n",
              "    </tr>\n",
              "  </thead>\n",
              "  <tbody>\n",
              "    <tr>\n",
              "      <th>0</th>\n",
              "      <td>0</td>\n",
              "      <td>64</td>\n",
              "      <td>2.0</td>\n",
              "      <td>F</td>\n",
              "      <td>YES</td>\n",
              "      <td>3.0</td>\n",
              "      <td>0.0</td>\n",
              "      <td>0</td>\n",
              "      <td>0</td>\n",
              "      <td>0</td>\n",
              "      <td>221.0</td>\n",
              "      <td>148.0</td>\n",
              "      <td>85.0</td>\n",
              "      <td>NaN</td>\n",
              "      <td>90.0</td>\n",
              "      <td>80.0</td>\n",
              "      <td>1</td>\n",
              "    </tr>\n",
              "    <tr>\n",
              "      <th>1</th>\n",
              "      <td>1</td>\n",
              "      <td>36</td>\n",
              "      <td>4.0</td>\n",
              "      <td>M</td>\n",
              "      <td>NO</td>\n",
              "      <td>0.0</td>\n",
              "      <td>0.0</td>\n",
              "      <td>0</td>\n",
              "      <td>1</td>\n",
              "      <td>0</td>\n",
              "      <td>212.0</td>\n",
              "      <td>168.0</td>\n",
              "      <td>98.0</td>\n",
              "      <td>29.77</td>\n",
              "      <td>72.0</td>\n",
              "      <td>75.0</td>\n",
              "      <td>0</td>\n",
              "    </tr>\n",
              "    <tr>\n",
              "      <th>2</th>\n",
              "      <td>2</td>\n",
              "      <td>46</td>\n",
              "      <td>1.0</td>\n",
              "      <td>F</td>\n",
              "      <td>YES</td>\n",
              "      <td>10.0</td>\n",
              "      <td>0.0</td>\n",
              "      <td>0</td>\n",
              "      <td>0</td>\n",
              "      <td>0</td>\n",
              "      <td>250.0</td>\n",
              "      <td>116.0</td>\n",
              "      <td>71.0</td>\n",
              "      <td>20.35</td>\n",
              "      <td>88.0</td>\n",
              "      <td>94.0</td>\n",
              "      <td>0</td>\n",
              "    </tr>\n",
              "    <tr>\n",
              "      <th>3</th>\n",
              "      <td>3</td>\n",
              "      <td>50</td>\n",
              "      <td>1.0</td>\n",
              "      <td>M</td>\n",
              "      <td>YES</td>\n",
              "      <td>20.0</td>\n",
              "      <td>0.0</td>\n",
              "      <td>0</td>\n",
              "      <td>1</td>\n",
              "      <td>0</td>\n",
              "      <td>233.0</td>\n",
              "      <td>158.0</td>\n",
              "      <td>88.0</td>\n",
              "      <td>28.26</td>\n",
              "      <td>68.0</td>\n",
              "      <td>94.0</td>\n",
              "      <td>1</td>\n",
              "    </tr>\n",
              "    <tr>\n",
              "      <th>4</th>\n",
              "      <td>4</td>\n",
              "      <td>64</td>\n",
              "      <td>1.0</td>\n",
              "      <td>F</td>\n",
              "      <td>YES</td>\n",
              "      <td>30.0</td>\n",
              "      <td>0.0</td>\n",
              "      <td>0</td>\n",
              "      <td>0</td>\n",
              "      <td>0</td>\n",
              "      <td>241.0</td>\n",
              "      <td>136.5</td>\n",
              "      <td>85.0</td>\n",
              "      <td>26.42</td>\n",
              "      <td>70.0</td>\n",
              "      <td>77.0</td>\n",
              "      <td>0</td>\n",
              "    </tr>\n",
              "  </tbody>\n",
              "</table>\n",
              "</div>\n",
              "      <button class=\"colab-df-convert\" onclick=\"convertToInteractive('df-1b71fdaa-8f1f-4e0c-ae5d-3c6b779d390a')\"\n",
              "              title=\"Convert this dataframe to an interactive table.\"\n",
              "              style=\"display:none;\">\n",
              "        \n",
              "  <svg xmlns=\"http://www.w3.org/2000/svg\" height=\"24px\"viewBox=\"0 0 24 24\"\n",
              "       width=\"24px\">\n",
              "    <path d=\"M0 0h24v24H0V0z\" fill=\"none\"/>\n",
              "    <path d=\"M18.56 5.44l.94 2.06.94-2.06 2.06-.94-2.06-.94-.94-2.06-.94 2.06-2.06.94zm-11 1L8.5 8.5l.94-2.06 2.06-.94-2.06-.94L8.5 2.5l-.94 2.06-2.06.94zm10 10l.94 2.06.94-2.06 2.06-.94-2.06-.94-.94-2.06-.94 2.06-2.06.94z\"/><path d=\"M17.41 7.96l-1.37-1.37c-.4-.4-.92-.59-1.43-.59-.52 0-1.04.2-1.43.59L10.3 9.45l-7.72 7.72c-.78.78-.78 2.05 0 2.83L4 21.41c.39.39.9.59 1.41.59.51 0 1.02-.2 1.41-.59l7.78-7.78 2.81-2.81c.8-.78.8-2.07 0-2.86zM5.41 20L4 18.59l7.72-7.72 1.47 1.35L5.41 20z\"/>\n",
              "  </svg>\n",
              "      </button>\n",
              "      \n",
              "  <style>\n",
              "    .colab-df-container {\n",
              "      display:flex;\n",
              "      flex-wrap:wrap;\n",
              "      gap: 12px;\n",
              "    }\n",
              "\n",
              "    .colab-df-convert {\n",
              "      background-color: #E8F0FE;\n",
              "      border: none;\n",
              "      border-radius: 50%;\n",
              "      cursor: pointer;\n",
              "      display: none;\n",
              "      fill: #1967D2;\n",
              "      height: 32px;\n",
              "      padding: 0 0 0 0;\n",
              "      width: 32px;\n",
              "    }\n",
              "\n",
              "    .colab-df-convert:hover {\n",
              "      background-color: #E2EBFA;\n",
              "      box-shadow: 0px 1px 2px rgba(60, 64, 67, 0.3), 0px 1px 3px 1px rgba(60, 64, 67, 0.15);\n",
              "      fill: #174EA6;\n",
              "    }\n",
              "\n",
              "    [theme=dark] .colab-df-convert {\n",
              "      background-color: #3B4455;\n",
              "      fill: #D2E3FC;\n",
              "    }\n",
              "\n",
              "    [theme=dark] .colab-df-convert:hover {\n",
              "      background-color: #434B5C;\n",
              "      box-shadow: 0px 1px 3px 1px rgba(0, 0, 0, 0.15);\n",
              "      filter: drop-shadow(0px 1px 2px rgba(0, 0, 0, 0.3));\n",
              "      fill: #FFFFFF;\n",
              "    }\n",
              "  </style>\n",
              "\n",
              "      <script>\n",
              "        const buttonEl =\n",
              "          document.querySelector('#df-1b71fdaa-8f1f-4e0c-ae5d-3c6b779d390a button.colab-df-convert');\n",
              "        buttonEl.style.display =\n",
              "          google.colab.kernel.accessAllowed ? 'block' : 'none';\n",
              "\n",
              "        async function convertToInteractive(key) {\n",
              "          const element = document.querySelector('#df-1b71fdaa-8f1f-4e0c-ae5d-3c6b779d390a');\n",
              "          const dataTable =\n",
              "            await google.colab.kernel.invokeFunction('convertToInteractive',\n",
              "                                                     [key], {});\n",
              "          if (!dataTable) return;\n",
              "\n",
              "          const docLinkHtml = 'Like what you see? Visit the ' +\n",
              "            '<a target=\"_blank\" href=https://colab.research.google.com/notebooks/data_table.ipynb>data table notebook</a>'\n",
              "            + ' to learn more about interactive tables.';\n",
              "          element.innerHTML = '';\n",
              "          dataTable['output_type'] = 'display_data';\n",
              "          await google.colab.output.renderOutput(dataTable, element);\n",
              "          const docLink = document.createElement('div');\n",
              "          docLink.innerHTML = docLinkHtml;\n",
              "          element.appendChild(docLink);\n",
              "        }\n",
              "      </script>\n",
              "    </div>\n",
              "  </div>\n",
              "  "
            ]
          },
          "metadata": {},
          "execution_count": 120
        }
      ]
    },
    {
      "cell_type": "code",
      "metadata": {
        "id": "KtPFkHyJW53J",
        "colab": {
          "base_uri": "https://localhost:8080/"
        },
        "outputId": "d889991d-1cf4-4e16-f77e-6cfc323b41d1"
      },
      "source": [
        "dataset.info()"
      ],
      "execution_count": null,
      "outputs": [
        {
          "output_type": "stream",
          "name": "stdout",
          "text": [
            "<class 'pandas.core.frame.DataFrame'>\n",
            "RangeIndex: 3390 entries, 0 to 3389\n",
            "Data columns (total 17 columns):\n",
            " #   Column           Non-Null Count  Dtype  \n",
            "---  ------           --------------  -----  \n",
            " 0   id               3390 non-null   int64  \n",
            " 1   age              3390 non-null   int64  \n",
            " 2   education        3303 non-null   float64\n",
            " 3   sex              3390 non-null   object \n",
            " 4   is_smoking       3390 non-null   object \n",
            " 5   cigsPerDay       3368 non-null   float64\n",
            " 6   BPMeds           3346 non-null   float64\n",
            " 7   prevalentStroke  3390 non-null   int64  \n",
            " 8   prevalentHyp     3390 non-null   int64  \n",
            " 9   diabetes         3390 non-null   int64  \n",
            " 10  totChol          3352 non-null   float64\n",
            " 11  sysBP            3390 non-null   float64\n",
            " 12  diaBP            3390 non-null   float64\n",
            " 13  BMI              3376 non-null   float64\n",
            " 14  heartRate        3389 non-null   float64\n",
            " 15  glucose          3086 non-null   float64\n",
            " 16  TenYearCHD       3390 non-null   int64  \n",
            "dtypes: float64(9), int64(6), object(2)\n",
            "memory usage: 450.4+ KB\n"
          ]
        }
      ]
    },
    {
      "cell_type": "code",
      "source": [
        "dataset.shape"
      ],
      "metadata": {
        "colab": {
          "base_uri": "https://localhost:8080/"
        },
        "id": "xXtxMhKXVDiw",
        "outputId": "41b8da95-f06e-4f72-90bb-3d146ae2becf"
      },
      "execution_count": null,
      "outputs": [
        {
          "output_type": "execute_result",
          "data": {
            "text/plain": [
              "(3390, 17)"
            ]
          },
          "metadata": {},
          "execution_count": 158
        }
      ]
    },
    {
      "cell_type": "markdown",
      "source": [
        "There are 17 columns and 3390 rows in our dataset\n",
        "\n",
        "\n",
        "\n"
      ],
      "metadata": {
        "id": "QkhWTXEYN43U"
      }
    },
    {
      "cell_type": "markdown",
      "source": [
        "# **Convert NaN values**"
      ],
      "metadata": {
        "id": "-4Rbl-07OI5u"
      }
    },
    {
      "cell_type": "code",
      "source": [
        "dataset.isnull().sum()"
      ],
      "metadata": {
        "colab": {
          "base_uri": "https://localhost:8080/"
        },
        "id": "vYuV0U8vLvhw",
        "outputId": "345fd0ca-40fd-4768-aa21-41705f3d30c4"
      },
      "execution_count": null,
      "outputs": [
        {
          "output_type": "execute_result",
          "data": {
            "text/plain": [
              "id                   0\n",
              "age                  0\n",
              "education           87\n",
              "sex                  0\n",
              "is_smoking           0\n",
              "cigsPerDay          22\n",
              "BPMeds              44\n",
              "prevalentStroke      0\n",
              "prevalentHyp         0\n",
              "diabetes             0\n",
              "totChol             38\n",
              "sysBP                0\n",
              "diaBP                0\n",
              "BMI                 14\n",
              "heartRate            1\n",
              "glucose            304\n",
              "TenYearCHD           0\n",
              "dtype: int64"
            ]
          },
          "metadata": {},
          "execution_count": 122
        }
      ]
    },
    {
      "cell_type": "code",
      "source": [
        "dataset['education'].fillna(dataset.education.mean(), inplace=True)\n",
        "dataset['cigsPerDay'].fillna(dataset.cigsPerDay.mean(), inplace=True)\n",
        "dataset['BPMeds'].fillna(dataset.BPMeds.mean(), inplace=True)\n",
        "dataset['totChol'].fillna(dataset.totChol.mean(), inplace=True)\n",
        "dataset['BMI'].fillna(dataset.BMI.mean(), inplace=True)\n",
        "dataset['heartRate'].fillna(dataset.heartRate.mean(), inplace=True)\n",
        "dataset['glucose'].fillna(dataset.glucose.mean(), inplace=True)"
      ],
      "metadata": {
        "id": "a7n1uTZBA5e8"
      },
      "execution_count": null,
      "outputs": []
    },
    {
      "cell_type": "code",
      "source": [
        "dataset.isnull().sum()"
      ],
      "metadata": {
        "colab": {
          "base_uri": "https://localhost:8080/"
        },
        "id": "ksN1NVBTDKD5",
        "outputId": "1f4b65b2-dc35-48c8-97d6-8e4238b14f65"
      },
      "execution_count": null,
      "outputs": [
        {
          "output_type": "execute_result",
          "data": {
            "text/plain": [
              "id                 0\n",
              "age                0\n",
              "education          0\n",
              "sex                0\n",
              "is_smoking         0\n",
              "cigsPerDay         0\n",
              "BPMeds             0\n",
              "prevalentStroke    0\n",
              "prevalentHyp       0\n",
              "diabetes           0\n",
              "totChol            0\n",
              "sysBP              0\n",
              "diaBP              0\n",
              "BMI                0\n",
              "heartRate          0\n",
              "glucose            0\n",
              "TenYearCHD         0\n",
              "dtype: int64"
            ]
          },
          "metadata": {},
          "execution_count": 124
        }
      ]
    },
    {
      "cell_type": "markdown",
      "source": [
        "**NaN values we replace by mean values**"
      ],
      "metadata": {
        "id": "6Dkh6jerOVe4"
      }
    },
    {
      "cell_type": "code",
      "metadata": {
        "colab": {
          "base_uri": "https://localhost:8080/",
          "height": 458
        },
        "id": "a9cfJf4KR-mb",
        "outputId": "0f36261f-2044-45a9-f0f8-70d736080927"
      },
      "source": [
        "dataset.describe(include='all')"
      ],
      "execution_count": null,
      "outputs": [
        {
          "output_type": "execute_result",
          "data": {
            "text/plain": [
              "                 id          age    education   sex is_smoking   cigsPerDay  \\\n",
              "count   3390.000000  3390.000000  3390.000000  3390       3390  3390.000000   \n",
              "unique          NaN          NaN          NaN     2          2          NaN   \n",
              "top             NaN          NaN          NaN     F         NO          NaN   \n",
              "freq            NaN          NaN          NaN  1923       1703          NaN   \n",
              "mean    1694.500000    49.542183     1.970936   NaN        NaN     9.069477   \n",
              "std      978.753033     8.592878     1.005915   NaN        NaN    11.840458   \n",
              "min        0.000000    32.000000     1.000000   NaN        NaN     0.000000   \n",
              "25%      847.250000    42.000000     1.000000   NaN        NaN     0.000000   \n",
              "50%     1694.500000    49.000000     2.000000   NaN        NaN     0.000000   \n",
              "75%     2541.750000    56.000000     3.000000   NaN        NaN    20.000000   \n",
              "max     3389.000000    70.000000     4.000000   NaN        NaN    70.000000   \n",
              "\n",
              "             BPMeds  prevalentStroke  prevalentHyp     diabetes      totChol  \\\n",
              "count   3390.000000      3390.000000   3390.000000  3390.000000  3390.000000   \n",
              "unique          NaN              NaN           NaN          NaN          NaN   \n",
              "top             NaN              NaN           NaN          NaN          NaN   \n",
              "freq            NaN              NaN           NaN          NaN          NaN   \n",
              "mean       0.029886         0.006490      0.315339     0.025664   237.074284   \n",
              "std        0.169190         0.080309      0.464719     0.158153    44.993041   \n",
              "min        0.000000         0.000000      0.000000     0.000000   107.000000   \n",
              "25%        0.000000         0.000000      0.000000     0.000000   206.000000   \n",
              "50%        0.000000         0.000000      0.000000     0.000000   235.000000   \n",
              "75%        0.000000         0.000000      1.000000     0.000000   264.000000   \n",
              "max        1.000000         1.000000      1.000000     1.000000   696.000000   \n",
              "\n",
              "             sysBP        diaBP          BMI    heartRate      glucose  \\\n",
              "count   3390.00000  3390.000000  3390.000000  3390.000000  3390.000000   \n",
              "unique         NaN          NaN          NaN          NaN          NaN   \n",
              "top            NaN          NaN          NaN          NaN          NaN   \n",
              "freq           NaN          NaN          NaN          NaN          NaN   \n",
              "mean     132.60118    82.883038    25.794964    75.977279    82.086520   \n",
              "std       22.29203    12.023581     4.106939    11.970102    23.131808   \n",
              "min       83.50000    48.000000    15.960000    45.000000    40.000000   \n",
              "25%      117.00000    74.500000    23.030000    68.000000    72.000000   \n",
              "50%      128.50000    82.000000    25.400000    75.000000    80.000000   \n",
              "75%      144.00000    90.000000    27.997500    83.000000    85.000000   \n",
              "max      295.00000   142.500000    56.800000   143.000000   394.000000   \n",
              "\n",
              "         TenYearCHD  \n",
              "count   3390.000000  \n",
              "unique          NaN  \n",
              "top             NaN  \n",
              "freq            NaN  \n",
              "mean       0.150737  \n",
              "std        0.357846  \n",
              "min        0.000000  \n",
              "25%        0.000000  \n",
              "50%        0.000000  \n",
              "75%        0.000000  \n",
              "max        1.000000  "
            ],
            "text/html": [
              "\n",
              "  <div id=\"df-fabfea52-f3e4-4478-8799-07bdf2cb3b8b\">\n",
              "    <div class=\"colab-df-container\">\n",
              "      <div>\n",
              "<style scoped>\n",
              "    .dataframe tbody tr th:only-of-type {\n",
              "        vertical-align: middle;\n",
              "    }\n",
              "\n",
              "    .dataframe tbody tr th {\n",
              "        vertical-align: top;\n",
              "    }\n",
              "\n",
              "    .dataframe thead th {\n",
              "        text-align: right;\n",
              "    }\n",
              "</style>\n",
              "<table border=\"1\" class=\"dataframe\">\n",
              "  <thead>\n",
              "    <tr style=\"text-align: right;\">\n",
              "      <th></th>\n",
              "      <th>id</th>\n",
              "      <th>age</th>\n",
              "      <th>education</th>\n",
              "      <th>sex</th>\n",
              "      <th>is_smoking</th>\n",
              "      <th>cigsPerDay</th>\n",
              "      <th>BPMeds</th>\n",
              "      <th>prevalentStroke</th>\n",
              "      <th>prevalentHyp</th>\n",
              "      <th>diabetes</th>\n",
              "      <th>totChol</th>\n",
              "      <th>sysBP</th>\n",
              "      <th>diaBP</th>\n",
              "      <th>BMI</th>\n",
              "      <th>heartRate</th>\n",
              "      <th>glucose</th>\n",
              "      <th>TenYearCHD</th>\n",
              "    </tr>\n",
              "  </thead>\n",
              "  <tbody>\n",
              "    <tr>\n",
              "      <th>count</th>\n",
              "      <td>3390.000000</td>\n",
              "      <td>3390.000000</td>\n",
              "      <td>3390.000000</td>\n",
              "      <td>3390</td>\n",
              "      <td>3390</td>\n",
              "      <td>3390.000000</td>\n",
              "      <td>3390.000000</td>\n",
              "      <td>3390.000000</td>\n",
              "      <td>3390.000000</td>\n",
              "      <td>3390.000000</td>\n",
              "      <td>3390.000000</td>\n",
              "      <td>3390.00000</td>\n",
              "      <td>3390.000000</td>\n",
              "      <td>3390.000000</td>\n",
              "      <td>3390.000000</td>\n",
              "      <td>3390.000000</td>\n",
              "      <td>3390.000000</td>\n",
              "    </tr>\n",
              "    <tr>\n",
              "      <th>unique</th>\n",
              "      <td>NaN</td>\n",
              "      <td>NaN</td>\n",
              "      <td>NaN</td>\n",
              "      <td>2</td>\n",
              "      <td>2</td>\n",
              "      <td>NaN</td>\n",
              "      <td>NaN</td>\n",
              "      <td>NaN</td>\n",
              "      <td>NaN</td>\n",
              "      <td>NaN</td>\n",
              "      <td>NaN</td>\n",
              "      <td>NaN</td>\n",
              "      <td>NaN</td>\n",
              "      <td>NaN</td>\n",
              "      <td>NaN</td>\n",
              "      <td>NaN</td>\n",
              "      <td>NaN</td>\n",
              "    </tr>\n",
              "    <tr>\n",
              "      <th>top</th>\n",
              "      <td>NaN</td>\n",
              "      <td>NaN</td>\n",
              "      <td>NaN</td>\n",
              "      <td>F</td>\n",
              "      <td>NO</td>\n",
              "      <td>NaN</td>\n",
              "      <td>NaN</td>\n",
              "      <td>NaN</td>\n",
              "      <td>NaN</td>\n",
              "      <td>NaN</td>\n",
              "      <td>NaN</td>\n",
              "      <td>NaN</td>\n",
              "      <td>NaN</td>\n",
              "      <td>NaN</td>\n",
              "      <td>NaN</td>\n",
              "      <td>NaN</td>\n",
              "      <td>NaN</td>\n",
              "    </tr>\n",
              "    <tr>\n",
              "      <th>freq</th>\n",
              "      <td>NaN</td>\n",
              "      <td>NaN</td>\n",
              "      <td>NaN</td>\n",
              "      <td>1923</td>\n",
              "      <td>1703</td>\n",
              "      <td>NaN</td>\n",
              "      <td>NaN</td>\n",
              "      <td>NaN</td>\n",
              "      <td>NaN</td>\n",
              "      <td>NaN</td>\n",
              "      <td>NaN</td>\n",
              "      <td>NaN</td>\n",
              "      <td>NaN</td>\n",
              "      <td>NaN</td>\n",
              "      <td>NaN</td>\n",
              "      <td>NaN</td>\n",
              "      <td>NaN</td>\n",
              "    </tr>\n",
              "    <tr>\n",
              "      <th>mean</th>\n",
              "      <td>1694.500000</td>\n",
              "      <td>49.542183</td>\n",
              "      <td>1.970936</td>\n",
              "      <td>NaN</td>\n",
              "      <td>NaN</td>\n",
              "      <td>9.069477</td>\n",
              "      <td>0.029886</td>\n",
              "      <td>0.006490</td>\n",
              "      <td>0.315339</td>\n",
              "      <td>0.025664</td>\n",
              "      <td>237.074284</td>\n",
              "      <td>132.60118</td>\n",
              "      <td>82.883038</td>\n",
              "      <td>25.794964</td>\n",
              "      <td>75.977279</td>\n",
              "      <td>82.086520</td>\n",
              "      <td>0.150737</td>\n",
              "    </tr>\n",
              "    <tr>\n",
              "      <th>std</th>\n",
              "      <td>978.753033</td>\n",
              "      <td>8.592878</td>\n",
              "      <td>1.005915</td>\n",
              "      <td>NaN</td>\n",
              "      <td>NaN</td>\n",
              "      <td>11.840458</td>\n",
              "      <td>0.169190</td>\n",
              "      <td>0.080309</td>\n",
              "      <td>0.464719</td>\n",
              "      <td>0.158153</td>\n",
              "      <td>44.993041</td>\n",
              "      <td>22.29203</td>\n",
              "      <td>12.023581</td>\n",
              "      <td>4.106939</td>\n",
              "      <td>11.970102</td>\n",
              "      <td>23.131808</td>\n",
              "      <td>0.357846</td>\n",
              "    </tr>\n",
              "    <tr>\n",
              "      <th>min</th>\n",
              "      <td>0.000000</td>\n",
              "      <td>32.000000</td>\n",
              "      <td>1.000000</td>\n",
              "      <td>NaN</td>\n",
              "      <td>NaN</td>\n",
              "      <td>0.000000</td>\n",
              "      <td>0.000000</td>\n",
              "      <td>0.000000</td>\n",
              "      <td>0.000000</td>\n",
              "      <td>0.000000</td>\n",
              "      <td>107.000000</td>\n",
              "      <td>83.50000</td>\n",
              "      <td>48.000000</td>\n",
              "      <td>15.960000</td>\n",
              "      <td>45.000000</td>\n",
              "      <td>40.000000</td>\n",
              "      <td>0.000000</td>\n",
              "    </tr>\n",
              "    <tr>\n",
              "      <th>25%</th>\n",
              "      <td>847.250000</td>\n",
              "      <td>42.000000</td>\n",
              "      <td>1.000000</td>\n",
              "      <td>NaN</td>\n",
              "      <td>NaN</td>\n",
              "      <td>0.000000</td>\n",
              "      <td>0.000000</td>\n",
              "      <td>0.000000</td>\n",
              "      <td>0.000000</td>\n",
              "      <td>0.000000</td>\n",
              "      <td>206.000000</td>\n",
              "      <td>117.00000</td>\n",
              "      <td>74.500000</td>\n",
              "      <td>23.030000</td>\n",
              "      <td>68.000000</td>\n",
              "      <td>72.000000</td>\n",
              "      <td>0.000000</td>\n",
              "    </tr>\n",
              "    <tr>\n",
              "      <th>50%</th>\n",
              "      <td>1694.500000</td>\n",
              "      <td>49.000000</td>\n",
              "      <td>2.000000</td>\n",
              "      <td>NaN</td>\n",
              "      <td>NaN</td>\n",
              "      <td>0.000000</td>\n",
              "      <td>0.000000</td>\n",
              "      <td>0.000000</td>\n",
              "      <td>0.000000</td>\n",
              "      <td>0.000000</td>\n",
              "      <td>235.000000</td>\n",
              "      <td>128.50000</td>\n",
              "      <td>82.000000</td>\n",
              "      <td>25.400000</td>\n",
              "      <td>75.000000</td>\n",
              "      <td>80.000000</td>\n",
              "      <td>0.000000</td>\n",
              "    </tr>\n",
              "    <tr>\n",
              "      <th>75%</th>\n",
              "      <td>2541.750000</td>\n",
              "      <td>56.000000</td>\n",
              "      <td>3.000000</td>\n",
              "      <td>NaN</td>\n",
              "      <td>NaN</td>\n",
              "      <td>20.000000</td>\n",
              "      <td>0.000000</td>\n",
              "      <td>0.000000</td>\n",
              "      <td>1.000000</td>\n",
              "      <td>0.000000</td>\n",
              "      <td>264.000000</td>\n",
              "      <td>144.00000</td>\n",
              "      <td>90.000000</td>\n",
              "      <td>27.997500</td>\n",
              "      <td>83.000000</td>\n",
              "      <td>85.000000</td>\n",
              "      <td>0.000000</td>\n",
              "    </tr>\n",
              "    <tr>\n",
              "      <th>max</th>\n",
              "      <td>3389.000000</td>\n",
              "      <td>70.000000</td>\n",
              "      <td>4.000000</td>\n",
              "      <td>NaN</td>\n",
              "      <td>NaN</td>\n",
              "      <td>70.000000</td>\n",
              "      <td>1.000000</td>\n",
              "      <td>1.000000</td>\n",
              "      <td>1.000000</td>\n",
              "      <td>1.000000</td>\n",
              "      <td>696.000000</td>\n",
              "      <td>295.00000</td>\n",
              "      <td>142.500000</td>\n",
              "      <td>56.800000</td>\n",
              "      <td>143.000000</td>\n",
              "      <td>394.000000</td>\n",
              "      <td>1.000000</td>\n",
              "    </tr>\n",
              "  </tbody>\n",
              "</table>\n",
              "</div>\n",
              "      <button class=\"colab-df-convert\" onclick=\"convertToInteractive('df-fabfea52-f3e4-4478-8799-07bdf2cb3b8b')\"\n",
              "              title=\"Convert this dataframe to an interactive table.\"\n",
              "              style=\"display:none;\">\n",
              "        \n",
              "  <svg xmlns=\"http://www.w3.org/2000/svg\" height=\"24px\"viewBox=\"0 0 24 24\"\n",
              "       width=\"24px\">\n",
              "    <path d=\"M0 0h24v24H0V0z\" fill=\"none\"/>\n",
              "    <path d=\"M18.56 5.44l.94 2.06.94-2.06 2.06-.94-2.06-.94-.94-2.06-.94 2.06-2.06.94zm-11 1L8.5 8.5l.94-2.06 2.06-.94-2.06-.94L8.5 2.5l-.94 2.06-2.06.94zm10 10l.94 2.06.94-2.06 2.06-.94-2.06-.94-.94-2.06-.94 2.06-2.06.94z\"/><path d=\"M17.41 7.96l-1.37-1.37c-.4-.4-.92-.59-1.43-.59-.52 0-1.04.2-1.43.59L10.3 9.45l-7.72 7.72c-.78.78-.78 2.05 0 2.83L4 21.41c.39.39.9.59 1.41.59.51 0 1.02-.2 1.41-.59l7.78-7.78 2.81-2.81c.8-.78.8-2.07 0-2.86zM5.41 20L4 18.59l7.72-7.72 1.47 1.35L5.41 20z\"/>\n",
              "  </svg>\n",
              "      </button>\n",
              "      \n",
              "  <style>\n",
              "    .colab-df-container {\n",
              "      display:flex;\n",
              "      flex-wrap:wrap;\n",
              "      gap: 12px;\n",
              "    }\n",
              "\n",
              "    .colab-df-convert {\n",
              "      background-color: #E8F0FE;\n",
              "      border: none;\n",
              "      border-radius: 50%;\n",
              "      cursor: pointer;\n",
              "      display: none;\n",
              "      fill: #1967D2;\n",
              "      height: 32px;\n",
              "      padding: 0 0 0 0;\n",
              "      width: 32px;\n",
              "    }\n",
              "\n",
              "    .colab-df-convert:hover {\n",
              "      background-color: #E2EBFA;\n",
              "      box-shadow: 0px 1px 2px rgba(60, 64, 67, 0.3), 0px 1px 3px 1px rgba(60, 64, 67, 0.15);\n",
              "      fill: #174EA6;\n",
              "    }\n",
              "\n",
              "    [theme=dark] .colab-df-convert {\n",
              "      background-color: #3B4455;\n",
              "      fill: #D2E3FC;\n",
              "    }\n",
              "\n",
              "    [theme=dark] .colab-df-convert:hover {\n",
              "      background-color: #434B5C;\n",
              "      box-shadow: 0px 1px 3px 1px rgba(0, 0, 0, 0.15);\n",
              "      filter: drop-shadow(0px 1px 2px rgba(0, 0, 0, 0.3));\n",
              "      fill: #FFFFFF;\n",
              "    }\n",
              "  </style>\n",
              "\n",
              "      <script>\n",
              "        const buttonEl =\n",
              "          document.querySelector('#df-fabfea52-f3e4-4478-8799-07bdf2cb3b8b button.colab-df-convert');\n",
              "        buttonEl.style.display =\n",
              "          google.colab.kernel.accessAllowed ? 'block' : 'none';\n",
              "\n",
              "        async function convertToInteractive(key) {\n",
              "          const element = document.querySelector('#df-fabfea52-f3e4-4478-8799-07bdf2cb3b8b');\n",
              "          const dataTable =\n",
              "            await google.colab.kernel.invokeFunction('convertToInteractive',\n",
              "                                                     [key], {});\n",
              "          if (!dataTable) return;\n",
              "\n",
              "          const docLinkHtml = 'Like what you see? Visit the ' +\n",
              "            '<a target=\"_blank\" href=https://colab.research.google.com/notebooks/data_table.ipynb>data table notebook</a>'\n",
              "            + ' to learn more about interactive tables.';\n",
              "          element.innerHTML = '';\n",
              "          dataTable['output_type'] = 'display_data';\n",
              "          await google.colab.output.renderOutput(dataTable, element);\n",
              "          const docLink = document.createElement('div');\n",
              "          docLink.innerHTML = docLinkHtml;\n",
              "          element.appendChild(docLink);\n",
              "        }\n",
              "      </script>\n",
              "    </div>\n",
              "  </div>\n",
              "  "
            ]
          },
          "metadata": {},
          "execution_count": 125
        }
      ]
    },
    {
      "cell_type": "code",
      "metadata": {
        "id": "PdAaZDJx6mdC",
        "colab": {
          "base_uri": "https://localhost:8080/"
        },
        "outputId": "d44a8d21-5db9-4bb5-f17e-dfaf2585c536"
      },
      "source": [
        "# duplicate\n",
        "len(dataset[dataset.duplicated()])"
      ],
      "execution_count": null,
      "outputs": [
        {
          "output_type": "execute_result",
          "data": {
            "text/plain": [
              "0"
            ]
          },
          "metadata": {},
          "execution_count": 126
        }
      ]
    },
    {
      "cell_type": "markdown",
      "source": [
        "**There are no duplicate in our datasets**"
      ],
      "metadata": {
        "id": "sP0pssFSOfHz"
      }
    },
    {
      "cell_type": "code",
      "metadata": {
        "colab": {
          "base_uri": "https://localhost:8080/"
        },
        "id": "Zahlh_VfRvF-",
        "outputId": "ec81a332-b823-4ac1-8da8-b58fcca35e7c"
      },
      "source": [
        "dataset.columns"
      ],
      "execution_count": null,
      "outputs": [
        {
          "output_type": "execute_result",
          "data": {
            "text/plain": [
              "Index(['id', 'age', 'education', 'sex', 'is_smoking', 'cigsPerDay', 'BPMeds',\n",
              "       'prevalentStroke', 'prevalentHyp', 'diabetes', 'totChol', 'sysBP',\n",
              "       'diaBP', 'BMI', 'heartRate', 'glucose', 'TenYearCHD'],\n",
              "      dtype='object')"
            ]
          },
          "metadata": {},
          "execution_count": 127
        }
      ]
    },
    {
      "cell_type": "markdown",
      "source": [
        "# **Data encoding**"
      ],
      "metadata": {
        "id": "v9iM88-HRZPO"
      }
    },
    {
      "cell_type": "markdown",
      "source": [
        "Before we start predicting, an important step to do is to convert our sex and is_smoking feature, which is a string, into integer. M will be converted to 1 and F will be converted to 0. Same for YES will be converted to 1 and NO will be converted to 0.We will name this new columns a \"Sex\" and \"Smoking\"."
      ],
      "metadata": {
        "id": "hMYYerR7KKse"
      }
    },
    {
      "cell_type": "code",
      "source": [
        "dataset['Sex'] = dataset['sex'].apply(lambda x : 1 if x == \"M\" else 0)\n",
        "\n"
      ],
      "metadata": {
        "id": "XoSMszzDKNnn"
      },
      "execution_count": null,
      "outputs": []
    },
    {
      "cell_type": "code",
      "source": [
        "dataset['Smoking'] = dataset['is_smoking'].apply(lambda x : 1 if x == \"YES\" else 0)"
      ],
      "metadata": {
        "id": "4B0ovoRoLd4K"
      },
      "execution_count": null,
      "outputs": []
    },
    {
      "cell_type": "code",
      "source": [
        "dataset = dataset.drop(['id','sex','is_smoking'],axis=1)"
      ],
      "metadata": {
        "id": "mrsKr-XGQf44"
      },
      "execution_count": null,
      "outputs": []
    },
    {
      "cell_type": "code",
      "source": [
        "dataset.head()"
      ],
      "metadata": {
        "colab": {
          "base_uri": "https://localhost:8080/",
          "height": 270
        },
        "id": "fGv4AgRbKNxw",
        "outputId": "83c3673b-1288-41b9-8aae-36f2566981e8"
      },
      "execution_count": null,
      "outputs": [
        {
          "output_type": "execute_result",
          "data": {
            "text/plain": [
              "   age  education  cigsPerDay  BPMeds  prevalentStroke  prevalentHyp  \\\n",
              "0   64        2.0         3.0     0.0                0             0   \n",
              "1   36        4.0         0.0     0.0                0             1   \n",
              "2   46        1.0        10.0     0.0                0             0   \n",
              "3   50        1.0        20.0     0.0                0             1   \n",
              "4   64        1.0        30.0     0.0                0             0   \n",
              "\n",
              "   diabetes  totChol  sysBP  diaBP        BMI  heartRate  glucose  TenYearCHD  \\\n",
              "0         0    221.0  148.0   85.0  25.794964       90.0     80.0           1   \n",
              "1         0    212.0  168.0   98.0  29.770000       72.0     75.0           0   \n",
              "2         0    250.0  116.0   71.0  20.350000       88.0     94.0           0   \n",
              "3         0    233.0  158.0   88.0  28.260000       68.0     94.0           1   \n",
              "4         0    241.0  136.5   85.0  26.420000       70.0     77.0           0   \n",
              "\n",
              "   Sex  Smoking age_group  \n",
              "0    0        1    Senior  \n",
              "1    1        0     Young  \n",
              "2    0        1    Adults  \n",
              "3    1        1    Adults  \n",
              "4    0        1    Senior  "
            ],
            "text/html": [
              "\n",
              "  <div id=\"df-4cb82e4d-45d5-4f9b-8d1e-5bd81007c39f\">\n",
              "    <div class=\"colab-df-container\">\n",
              "      <div>\n",
              "<style scoped>\n",
              "    .dataframe tbody tr th:only-of-type {\n",
              "        vertical-align: middle;\n",
              "    }\n",
              "\n",
              "    .dataframe tbody tr th {\n",
              "        vertical-align: top;\n",
              "    }\n",
              "\n",
              "    .dataframe thead th {\n",
              "        text-align: right;\n",
              "    }\n",
              "</style>\n",
              "<table border=\"1\" class=\"dataframe\">\n",
              "  <thead>\n",
              "    <tr style=\"text-align: right;\">\n",
              "      <th></th>\n",
              "      <th>age</th>\n",
              "      <th>education</th>\n",
              "      <th>cigsPerDay</th>\n",
              "      <th>BPMeds</th>\n",
              "      <th>prevalentStroke</th>\n",
              "      <th>prevalentHyp</th>\n",
              "      <th>diabetes</th>\n",
              "      <th>totChol</th>\n",
              "      <th>sysBP</th>\n",
              "      <th>diaBP</th>\n",
              "      <th>BMI</th>\n",
              "      <th>heartRate</th>\n",
              "      <th>glucose</th>\n",
              "      <th>TenYearCHD</th>\n",
              "      <th>Sex</th>\n",
              "      <th>Smoking</th>\n",
              "      <th>age_group</th>\n",
              "    </tr>\n",
              "  </thead>\n",
              "  <tbody>\n",
              "    <tr>\n",
              "      <th>0</th>\n",
              "      <td>64</td>\n",
              "      <td>2.0</td>\n",
              "      <td>3.0</td>\n",
              "      <td>0.0</td>\n",
              "      <td>0</td>\n",
              "      <td>0</td>\n",
              "      <td>0</td>\n",
              "      <td>221.0</td>\n",
              "      <td>148.0</td>\n",
              "      <td>85.0</td>\n",
              "      <td>25.794964</td>\n",
              "      <td>90.0</td>\n",
              "      <td>80.0</td>\n",
              "      <td>1</td>\n",
              "      <td>0</td>\n",
              "      <td>1</td>\n",
              "      <td>Senior</td>\n",
              "    </tr>\n",
              "    <tr>\n",
              "      <th>1</th>\n",
              "      <td>36</td>\n",
              "      <td>4.0</td>\n",
              "      <td>0.0</td>\n",
              "      <td>0.0</td>\n",
              "      <td>0</td>\n",
              "      <td>1</td>\n",
              "      <td>0</td>\n",
              "      <td>212.0</td>\n",
              "      <td>168.0</td>\n",
              "      <td>98.0</td>\n",
              "      <td>29.770000</td>\n",
              "      <td>72.0</td>\n",
              "      <td>75.0</td>\n",
              "      <td>0</td>\n",
              "      <td>1</td>\n",
              "      <td>0</td>\n",
              "      <td>Young</td>\n",
              "    </tr>\n",
              "    <tr>\n",
              "      <th>2</th>\n",
              "      <td>46</td>\n",
              "      <td>1.0</td>\n",
              "      <td>10.0</td>\n",
              "      <td>0.0</td>\n",
              "      <td>0</td>\n",
              "      <td>0</td>\n",
              "      <td>0</td>\n",
              "      <td>250.0</td>\n",
              "      <td>116.0</td>\n",
              "      <td>71.0</td>\n",
              "      <td>20.350000</td>\n",
              "      <td>88.0</td>\n",
              "      <td>94.0</td>\n",
              "      <td>0</td>\n",
              "      <td>0</td>\n",
              "      <td>1</td>\n",
              "      <td>Adults</td>\n",
              "    </tr>\n",
              "    <tr>\n",
              "      <th>3</th>\n",
              "      <td>50</td>\n",
              "      <td>1.0</td>\n",
              "      <td>20.0</td>\n",
              "      <td>0.0</td>\n",
              "      <td>0</td>\n",
              "      <td>1</td>\n",
              "      <td>0</td>\n",
              "      <td>233.0</td>\n",
              "      <td>158.0</td>\n",
              "      <td>88.0</td>\n",
              "      <td>28.260000</td>\n",
              "      <td>68.0</td>\n",
              "      <td>94.0</td>\n",
              "      <td>1</td>\n",
              "      <td>1</td>\n",
              "      <td>1</td>\n",
              "      <td>Adults</td>\n",
              "    </tr>\n",
              "    <tr>\n",
              "      <th>4</th>\n",
              "      <td>64</td>\n",
              "      <td>1.0</td>\n",
              "      <td>30.0</td>\n",
              "      <td>0.0</td>\n",
              "      <td>0</td>\n",
              "      <td>0</td>\n",
              "      <td>0</td>\n",
              "      <td>241.0</td>\n",
              "      <td>136.5</td>\n",
              "      <td>85.0</td>\n",
              "      <td>26.420000</td>\n",
              "      <td>70.0</td>\n",
              "      <td>77.0</td>\n",
              "      <td>0</td>\n",
              "      <td>0</td>\n",
              "      <td>1</td>\n",
              "      <td>Senior</td>\n",
              "    </tr>\n",
              "  </tbody>\n",
              "</table>\n",
              "</div>\n",
              "      <button class=\"colab-df-convert\" onclick=\"convertToInteractive('df-4cb82e4d-45d5-4f9b-8d1e-5bd81007c39f')\"\n",
              "              title=\"Convert this dataframe to an interactive table.\"\n",
              "              style=\"display:none;\">\n",
              "        \n",
              "  <svg xmlns=\"http://www.w3.org/2000/svg\" height=\"24px\"viewBox=\"0 0 24 24\"\n",
              "       width=\"24px\">\n",
              "    <path d=\"M0 0h24v24H0V0z\" fill=\"none\"/>\n",
              "    <path d=\"M18.56 5.44l.94 2.06.94-2.06 2.06-.94-2.06-.94-.94-2.06-.94 2.06-2.06.94zm-11 1L8.5 8.5l.94-2.06 2.06-.94-2.06-.94L8.5 2.5l-.94 2.06-2.06.94zm10 10l.94 2.06.94-2.06 2.06-.94-2.06-.94-.94-2.06-.94 2.06-2.06.94z\"/><path d=\"M17.41 7.96l-1.37-1.37c-.4-.4-.92-.59-1.43-.59-.52 0-1.04.2-1.43.59L10.3 9.45l-7.72 7.72c-.78.78-.78 2.05 0 2.83L4 21.41c.39.39.9.59 1.41.59.51 0 1.02-.2 1.41-.59l7.78-7.78 2.81-2.81c.8-.78.8-2.07 0-2.86zM5.41 20L4 18.59l7.72-7.72 1.47 1.35L5.41 20z\"/>\n",
              "  </svg>\n",
              "      </button>\n",
              "      \n",
              "  <style>\n",
              "    .colab-df-container {\n",
              "      display:flex;\n",
              "      flex-wrap:wrap;\n",
              "      gap: 12px;\n",
              "    }\n",
              "\n",
              "    .colab-df-convert {\n",
              "      background-color: #E8F0FE;\n",
              "      border: none;\n",
              "      border-radius: 50%;\n",
              "      cursor: pointer;\n",
              "      display: none;\n",
              "      fill: #1967D2;\n",
              "      height: 32px;\n",
              "      padding: 0 0 0 0;\n",
              "      width: 32px;\n",
              "    }\n",
              "\n",
              "    .colab-df-convert:hover {\n",
              "      background-color: #E2EBFA;\n",
              "      box-shadow: 0px 1px 2px rgba(60, 64, 67, 0.3), 0px 1px 3px 1px rgba(60, 64, 67, 0.15);\n",
              "      fill: #174EA6;\n",
              "    }\n",
              "\n",
              "    [theme=dark] .colab-df-convert {\n",
              "      background-color: #3B4455;\n",
              "      fill: #D2E3FC;\n",
              "    }\n",
              "\n",
              "    [theme=dark] .colab-df-convert:hover {\n",
              "      background-color: #434B5C;\n",
              "      box-shadow: 0px 1px 3px 1px rgba(0, 0, 0, 0.15);\n",
              "      filter: drop-shadow(0px 1px 2px rgba(0, 0, 0, 0.3));\n",
              "      fill: #FFFFFF;\n",
              "    }\n",
              "  </style>\n",
              "\n",
              "      <script>\n",
              "        const buttonEl =\n",
              "          document.querySelector('#df-4cb82e4d-45d5-4f9b-8d1e-5bd81007c39f button.colab-df-convert');\n",
              "        buttonEl.style.display =\n",
              "          google.colab.kernel.accessAllowed ? 'block' : 'none';\n",
              "\n",
              "        async function convertToInteractive(key) {\n",
              "          const element = document.querySelector('#df-4cb82e4d-45d5-4f9b-8d1e-5bd81007c39f');\n",
              "          const dataTable =\n",
              "            await google.colab.kernel.invokeFunction('convertToInteractive',\n",
              "                                                     [key], {});\n",
              "          if (!dataTable) return;\n",
              "\n",
              "          const docLinkHtml = 'Like what you see? Visit the ' +\n",
              "            '<a target=\"_blank\" href=https://colab.research.google.com/notebooks/data_table.ipynb>data table notebook</a>'\n",
              "            + ' to learn more about interactive tables.';\n",
              "          element.innerHTML = '';\n",
              "          dataTable['output_type'] = 'display_data';\n",
              "          await google.colab.output.renderOutput(dataTable, element);\n",
              "          const docLink = document.createElement('div');\n",
              "          docLink.innerHTML = docLinkHtml;\n",
              "          element.appendChild(docLink);\n",
              "        }\n",
              "      </script>\n",
              "    </div>\n",
              "  </div>\n",
              "  "
            ]
          },
          "metadata": {},
          "execution_count": 151
        }
      ]
    },
    {
      "cell_type": "markdown",
      "source": [
        "# **Exploring Dependent Variable**"
      ],
      "metadata": {
        "id": "QKFx92yLInkd"
      }
    },
    {
      "cell_type": "code",
      "metadata": {
        "id": "5Tm3bSFU0dyI",
        "colab": {
          "base_uri": "https://localhost:8080/"
        },
        "outputId": "f79f1e73-e8d9-4951-9e89-3b655cf299cf"
      },
      "source": [
        "dataset['TenYearCHD'].value_counts()"
      ],
      "execution_count": null,
      "outputs": [
        {
          "output_type": "execute_result",
          "data": {
            "text/plain": [
              "0    2879\n",
              "1     511\n",
              "Name: TenYearCHD, dtype: int64"
            ]
          },
          "metadata": {},
          "execution_count": 131
        }
      ]
    },
    {
      "cell_type": "markdown",
      "metadata": {
        "id": "kmZN8zJTXXgH"
      },
      "source": [
        "# **Exploratory Data Analysis**"
      ]
    },
    {
      "cell_type": "code",
      "source": [
        "sns.countplot(x=dataset['TenYearCHD'])"
      ],
      "metadata": {
        "colab": {
          "base_uri": "https://localhost:8080/",
          "height": 300
        },
        "id": "OA63wWLtJtiP",
        "outputId": "5b97cce1-156b-41d2-9e40-f5a457037bfe"
      },
      "execution_count": null,
      "outputs": [
        {
          "output_type": "execute_result",
          "data": {
            "text/plain": [
              "<matplotlib.axes._subplots.AxesSubplot at 0x7fd13feef250>"
            ]
          },
          "metadata": {},
          "execution_count": 132
        },
        {
          "output_type": "display_data",
          "data": {
            "text/plain": [
              "<Figure size 432x288 with 1 Axes>"
            ],
            "image/png": "[encoded data removed]"
          },
          "metadata": {
            "needs_background": "light"
          }
        }
      ]
    },
    {
      "cell_type": "code",
      "source": [
        "fig, axes = plt.subplots(figsize=(15,5))\n",
        "sns.countplot(x='age',hue='TenYearCHD',data=dataset,palette='colorblind',edgecolor=sns.color_palette('dark'))"
      ],
      "metadata": {
        "colab": {
          "base_uri": "https://localhost:8080/",
          "height": 352
        },
        "id": "zt28UPS6dZtc",
        "outputId": "68f1e97c-447a-4e26-edaa-4337e1e81c2c"
      },
      "execution_count": null,
      "outputs": [
        {
          "output_type": "execute_result",
          "data": {
            "text/plain": [
              "<matplotlib.axes._subplots.AxesSubplot at 0x7fd13d330d10>"
            ]
          },
          "metadata": {},
          "execution_count": 133
        },
        {
          "output_type": "display_data",
          "data": {
            "text/plain": [
              "<Figure size 1080x360 with 1 Axes>"
            ],
            "image/png": "[encoded data removed]"
          },
          "metadata": {
            "needs_background": "light"
          }
        }
      ]
    },
    {
      "cell_type": "code",
      "source": [
        "bins = [20,40,60, 80, np.nan]\n",
        "labels = ['Young','Adults', 'Senior', 'Super_Senior']\n",
        "\n",
        "dataset['age_group'] = pd.cut(dataset['age'], bins=bins, labels=labels)\n",
        "\n",
        "print('Percentage of Senior people lose their life :', dataset['TenYearCHD'][dataset['age_group']=='Senior'].value_counts(normalize=True)[1]*100)\n",
        "\n",
        "sns.barplot(x='age_group', y='TenYearCHD', data=dataset)\n",
        "plt.show()"
      ],
      "metadata": {
        "colab": {
          "base_uri": "https://localhost:8080/",
          "height": 301
        },
        "id": "UWbAQZSktj5A",
        "outputId": "630308af-8de3-4cbf-aedc-515bdb7d2ebc"
      },
      "execution_count": null,
      "outputs": [
        {
          "output_type": "stream",
          "name": "stdout",
          "text": [
            "Percentage of Senior people lose their life : 29.22077922077922\n"
          ]
        },
        {
          "output_type": "display_data",
          "data": {
            "text/plain": [
              "<Figure size 432x288 with 1 Axes>"
            ],
            "image/png": "[encoded data removed]"
          },
          "metadata": {
            "needs_background": "light"
          }
        }
      ]
    },
    {
      "cell_type": "code",
      "source": [
        "# understanding distribution of data before imputation\n",
        "fig = plt.figure(figsize = (15,20))\n",
        "ax = fig.gca()\n",
        "dataset.hist(ax = ax)\n",
        "plt.show()"
      ],
      "metadata": {
        "colab": {
          "base_uri": "https://localhost:8080/",
          "height": 1000
        },
        "id": "L1396J6YQGbR",
        "outputId": "0e5a67ed-a445-4417-e788-9a659f9054d7"
      },
      "execution_count": null,
      "outputs": [
        {
          "output_type": "stream",
          "name": "stderr",
          "text": [
            "/usr/local/lib/python3.7/dist-packages/ipykernel_launcher.py:4: UserWarning: To output multiple subplots, the figure containing the passed axes is being cleared\n",
            "  after removing the cwd from sys.path.\n"
          ]
        },
        {
          "output_type": "display_data",
          "data": {
            "text/plain": [
              "<Figure size 1080x1440 with 20 Axes>"
            ],
            "image/png": "[encoded data removed]"
          },
          "metadata": {
            "needs_background": "light"
          }
        }
      ]
    },
    {
      "cell_type": "code",
      "source": [
        "fig, axes = plt.subplots(1,2,figsize=(10,5))\n",
        "sns.distplot(dataset['cigsPerDay'], ax=axes[0])\n",
        "sns.boxplot(dataset['cigsPerDay'], ax=axes[1])"
      ],
      "metadata": {
        "colab": {
          "base_uri": "https://localhost:8080/",
          "height": 445
        },
        "id": "UafJwewlPj3M",
        "outputId": "1623b5e7-4c7a-4083-a892-250ee42744e3"
      },
      "execution_count": null,
      "outputs": [
        {
          "output_type": "stream",
          "name": "stderr",
          "text": [
            "/usr/local/lib/python3.7/dist-packages/seaborn/distributions.py:2619: FutureWarning: `distplot` is a deprecated function and will be removed in a future version. Please adapt your code to use either `displot` (a figure-level function with similar flexibility) or `histplot` (an axes-level function for histograms).\n",
            "  warnings.warn(msg, FutureWarning)\n",
            "/usr/local/lib/python3.7/dist-packages/seaborn/_decorators.py:43: FutureWarning: Pass the following variable as a keyword arg: x. From version 0.12, the only valid positional argument will be `data`, and passing other arguments without an explicit keyword will result in an error or misinterpretation.\n",
            "  FutureWarning\n"
          ]
        },
        {
          "output_type": "execute_result",
          "data": {
            "text/plain": [
              "<matplotlib.axes._subplots.AxesSubplot at 0x7fd13dd74a90>"
            ]
          },
          "metadata": {},
          "execution_count": 136
        },
        {
          "output_type": "display_data",
          "data": {
            "text/plain": [
              "<Figure size 720x360 with 2 Axes>"
            ],
            "image/png": "[encoded data removed]"
          },
          "metadata": {
            "needs_background": "light"
          }
        }
      ]
    },
    {
      "cell_type": "code",
      "source": [
        "fig, axes = plt.subplots(1,2,figsize=(10,5))\n",
        "sns.distplot(dataset['totChol'], ax=axes[0])\n",
        "sns.boxplot(dataset['totChol'], ax=axes[1])"
      ],
      "metadata": {
        "colab": {
          "base_uri": "https://localhost:8080/",
          "height": 445
        },
        "id": "TdIDLjtbhkTx",
        "outputId": "17c6021a-22af-41f2-c780-0cade82e467f"
      },
      "execution_count": null,
      "outputs": [
        {
          "output_type": "stream",
          "name": "stderr",
          "text": [
            "/usr/local/lib/python3.7/dist-packages/seaborn/distributions.py:2619: FutureWarning: `distplot` is a deprecated function and will be removed in a future version. Please adapt your code to use either `displot` (a figure-level function with similar flexibility) or `histplot` (an axes-level function for histograms).\n",
            "  warnings.warn(msg, FutureWarning)\n",
            "/usr/local/lib/python3.7/dist-packages/seaborn/_decorators.py:43: FutureWarning: Pass the following variable as a keyword arg: x. From version 0.12, the only valid positional argument will be `data`, and passing other arguments without an explicit keyword will result in an error or misinterpretation.\n",
            "  FutureWarning\n"
          ]
        },
        {
          "output_type": "execute_result",
          "data": {
            "text/plain": [
              "<matplotlib.axes._subplots.AxesSubplot at 0x7fd13db911d0>"
            ]
          },
          "metadata": {},
          "execution_count": 137
        },
        {
          "output_type": "display_data",
          "data": {
            "text/plain": [
              "<Figure size 720x360 with 2 Axes>"
            ],
            "image/png": "[encoded data removed]"
          },
          "metadata": {
            "needs_background": "light"
          }
        }
      ]
    },
    {
      "cell_type": "code",
      "source": [
        "fig, axes = plt.subplots(1,2,figsize=(10,5))\n",
        "sns.distplot(dataset['BMI'], ax=axes[0])\n",
        "sns.boxplot(dataset['BMI'], ax=axes[1])"
      ],
      "metadata": {
        "colab": {
          "base_uri": "https://localhost:8080/",
          "height": 445
        },
        "id": "cvqhGYiEhxS4",
        "outputId": "3f0c401f-00f9-49f0-ce8c-621b15d4488c"
      },
      "execution_count": null,
      "outputs": [
        {
          "output_type": "stream",
          "name": "stderr",
          "text": [
            "/usr/local/lib/python3.7/dist-packages/seaborn/distributions.py:2619: FutureWarning: `distplot` is a deprecated function and will be removed in a future version. Please adapt your code to use either `displot` (a figure-level function with similar flexibility) or `histplot` (an axes-level function for histograms).\n",
            "  warnings.warn(msg, FutureWarning)\n",
            "/usr/local/lib/python3.7/dist-packages/seaborn/_decorators.py:43: FutureWarning: Pass the following variable as a keyword arg: x. From version 0.12, the only valid positional argument will be `data`, and passing other arguments without an explicit keyword will result in an error or misinterpretation.\n",
            "  FutureWarning\n"
          ]
        },
        {
          "output_type": "execute_result",
          "data": {
            "text/plain": [
              "<matplotlib.axes._subplots.AxesSubplot at 0x7fd13dee0250>"
            ]
          },
          "metadata": {},
          "execution_count": 138
        },
        {
          "output_type": "display_data",
          "data": {
            "text/plain": [
              "<Figure size 720x360 with 2 Axes>"
            ],
            "image/png": "[encoded data removed]"
          },
          "metadata": {
            "needs_background": "light"
          }
        }
      ]
    },
    {
      "cell_type": "code",
      "source": [
        "fig, axes = plt.subplots(1,2,figsize=(10,5))\n",
        "sns.distplot(dataset['heartRate'], ax=axes[0])\n",
        "sns.boxplot(dataset['heartRate'], ax=axes[1])"
      ],
      "metadata": {
        "colab": {
          "base_uri": "https://localhost:8080/",
          "height": 445
        },
        "id": "0iW02dsXiB1w",
        "outputId": "4925ac95-9f57-4b2d-9dda-4c6208a7ecac"
      },
      "execution_count": null,
      "outputs": [
        {
          "output_type": "stream",
          "name": "stderr",
          "text": [
            "/usr/local/lib/python3.7/dist-packages/seaborn/distributions.py:2619: FutureWarning: `distplot` is a deprecated function and will be removed in a future version. Please adapt your code to use either `displot` (a figure-level function with similar flexibility) or `histplot` (an axes-level function for histograms).\n",
            "  warnings.warn(msg, FutureWarning)\n",
            "/usr/local/lib/python3.7/dist-packages/seaborn/_decorators.py:43: FutureWarning: Pass the following variable as a keyword arg: x. From version 0.12, the only valid positional argument will be `data`, and passing other arguments without an explicit keyword will result in an error or misinterpretation.\n",
            "  FutureWarning\n"
          ]
        },
        {
          "output_type": "execute_result",
          "data": {
            "text/plain": [
              "<matplotlib.axes._subplots.AxesSubplot at 0x7fd13cc7d690>"
            ]
          },
          "metadata": {},
          "execution_count": 139
        },
        {
          "output_type": "display_data",
          "data": {
            "text/plain": [
              "<Figure size 720x360 with 2 Axes>"
            ],
            "image/png": "[encoded data removed]"
          },
          "metadata": {
            "needs_background": "light"
          }
        }
      ]
    },
    {
      "cell_type": "code",
      "source": [
        "fig, axes = plt.subplots(1,2,figsize=(10,5))\n",
        "sns.distplot(dataset['glucose'], ax=axes[0])\n",
        "sns.boxplot(dataset['glucose'], ax=axes[1])"
      ],
      "metadata": {
        "colab": {
          "base_uri": "https://localhost:8080/",
          "height": 445
        },
        "id": "8GO4nyMliCcN",
        "outputId": "79d831ad-46b8-43f1-9087-73fd9dcbb1f5"
      },
      "execution_count": null,
      "outputs": [
        {
          "output_type": "stream",
          "name": "stderr",
          "text": [
            "/usr/local/lib/python3.7/dist-packages/seaborn/distributions.py:2619: FutureWarning: `distplot` is a deprecated function and will be removed in a future version. Please adapt your code to use either `displot` (a figure-level function with similar flexibility) or `histplot` (an axes-level function for histograms).\n",
            "  warnings.warn(msg, FutureWarning)\n",
            "/usr/local/lib/python3.7/dist-packages/seaborn/_decorators.py:43: FutureWarning: Pass the following variable as a keyword arg: x. From version 0.12, the only valid positional argument will be `data`, and passing other arguments without an explicit keyword will result in an error or misinterpretation.\n",
            "  FutureWarning\n"
          ]
        },
        {
          "output_type": "execute_result",
          "data": {
            "text/plain": [
              "<matplotlib.axes._subplots.AxesSubplot at 0x7fd13cadf290>"
            ]
          },
          "metadata": {},
          "execution_count": 140
        },
        {
          "output_type": "display_data",
          "data": {
            "text/plain": [
              "<Figure size 720x360 with 2 Axes>"
            ],
            "image/png": "[encoded data removed]"
          },
          "metadata": {
            "needs_background": "light"
          }
        }
      ]
    },
    {
      "cell_type": "code",
      "source": [
        "fig, axes = plt.subplots(1,2,figsize=(10,5))\n",
        "sns.distplot(dataset['sysBP'], ax=axes[0])\n",
        "sns.boxplot(dataset['sysBP'], ax=axes[1])"
      ],
      "metadata": {
        "colab": {
          "base_uri": "https://localhost:8080/",
          "height": 445
        },
        "id": "1kYsOTPUixOe",
        "outputId": "264b2760-8e2d-415e-f196-fbec2be464a4"
      },
      "execution_count": null,
      "outputs": [
        {
          "output_type": "stream",
          "name": "stderr",
          "text": [
            "/usr/local/lib/python3.7/dist-packages/seaborn/distributions.py:2619: FutureWarning: `distplot` is a deprecated function and will be removed in a future version. Please adapt your code to use either `displot` (a figure-level function with similar flexibility) or `histplot` (an axes-level function for histograms).\n",
            "  warnings.warn(msg, FutureWarning)\n",
            "/usr/local/lib/python3.7/dist-packages/seaborn/_decorators.py:43: FutureWarning: Pass the following variable as a keyword arg: x. From version 0.12, the only valid positional argument will be `data`, and passing other arguments without an explicit keyword will result in an error or misinterpretation.\n",
            "  FutureWarning\n"
          ]
        },
        {
          "output_type": "execute_result",
          "data": {
            "text/plain": [
              "<matplotlib.axes._subplots.AxesSubplot at 0x7fd13c9cf850>"
            ]
          },
          "metadata": {},
          "execution_count": 141
        },
        {
          "output_type": "display_data",
          "data": {
            "text/plain": [
              "<Figure size 720x360 with 2 Axes>"
            ],
            "image/png": "[encoded data removed]"
          },
          "metadata": {
            "needs_background": "light"
          }
        }
      ]
    },
    {
      "cell_type": "code",
      "source": [
        "fig, axes = plt.subplots(1,2,figsize=(10,5))\n",
        "sns.distplot(dataset['diaBP'], ax=axes[0])\n",
        "sns.boxplot(dataset['diaBP'], ax=axes[1])"
      ],
      "metadata": {
        "colab": {
          "base_uri": "https://localhost:8080/",
          "height": 445
        },
        "id": "nxFrAAgSjMNO",
        "outputId": "511042a9-e4b2-4236-9597-ef6e8de252d8"
      },
      "execution_count": null,
      "outputs": [
        {
          "output_type": "stream",
          "name": "stderr",
          "text": [
            "/usr/local/lib/python3.7/dist-packages/seaborn/distributions.py:2619: FutureWarning: `distplot` is a deprecated function and will be removed in a future version. Please adapt your code to use either `displot` (a figure-level function with similar flexibility) or `histplot` (an axes-level function for histograms).\n",
            "  warnings.warn(msg, FutureWarning)\n",
            "/usr/local/lib/python3.7/dist-packages/seaborn/_decorators.py:43: FutureWarning: Pass the following variable as a keyword arg: x. From version 0.12, the only valid positional argument will be `data`, and passing other arguments without an explicit keyword will result in an error or misinterpretation.\n",
            "  FutureWarning\n"
          ]
        },
        {
          "output_type": "execute_result",
          "data": {
            "text/plain": [
              "<matplotlib.axes._subplots.AxesSubplot at 0x7fd13c82b310>"
            ]
          },
          "metadata": {},
          "execution_count": 142
        },
        {
          "output_type": "display_data",
          "data": {
            "text/plain": [
              "<Figure size 720x360 with 2 Axes>"
            ],
            "image/png": "[encoded data removed]"
          },
          "metadata": {
            "needs_background": "light"
          }
        }
      ]
    },
    {
      "cell_type": "code",
      "source": [
        "sns.barplot(data=dataset,x='sex',y='age',hue='TenYearCHD',palette='husl')"
      ],
      "metadata": {
        "colab": {
          "base_uri": "https://localhost:8080/",
          "height": 297
        },
        "id": "kQ07W_eKSoJc",
        "outputId": "d59c3c9b-91a7-4cc3-ac62-9ec4501edc74"
      },
      "execution_count": null,
      "outputs": [
        {
          "output_type": "execute_result",
          "data": {
            "text/plain": [
              "<matplotlib.axes._subplots.AxesSubplot at 0x7fd13c7d2390>"
            ]
          },
          "metadata": {},
          "execution_count": 143
        },
        {
          "output_type": "display_data",
          "data": {
            "text/plain": [
              "<Figure size 432x288 with 1 Axes>"
            ],
            "image/png": "[encoded data removed]"
          },
          "metadata": {
            "needs_background": "light"
          }
        }
      ]
    },
    {
      "cell_type": "code",
      "source": [
        "sns.catplot(data=dataset,x='sex',y='age',hue='TenYearCHD',palette='husl')"
      ],
      "metadata": {
        "colab": {
          "base_uri": "https://localhost:8080/",
          "height": 387
        },
        "id": "oNcDRkZWd9GR",
        "outputId": "37787f00-97a9-4de6-d587-7fa672c17643"
      },
      "execution_count": null,
      "outputs": [
        {
          "output_type": "execute_result",
          "data": {
            "text/plain": [
              "<seaborn.axisgrid.FacetGrid at 0x7fd13dfaa450>"
            ]
          },
          "metadata": {},
          "execution_count": 144
        },
        {
          "output_type": "display_data",
          "data": {
            "text/plain": [
              "<Figure size 427.875x360 with 1 Axes>"
            ],
            "image/png": "[encoded data removed]"
          },
          "metadata": {
            "needs_background": "light"
          }
        }
      ]
    },
    {
      "cell_type": "code",
      "source": [
        "dataset.groupby(['TenYearCHD'])['age','sysBP','diaBP','heartRate','BMI','glucose','diabetes','Smoking','prevalentHyp'].count().sort_values(by='TenYearCHD',ascending=False).head(10)"
      ],
      "metadata": {
        "colab": {
          "base_uri": "https://localhost:8080/",
          "height": 200
        },
        "id": "tgeFTHB-0rv6",
        "outputId": "25770301-2a4a-461b-f8ea-26cb625d8e32"
      },
      "execution_count": null,
      "outputs": [
        {
          "output_type": "stream",
          "name": "stderr",
          "text": [
            "/usr/local/lib/python3.7/dist-packages/ipykernel_launcher.py:1: FutureWarning: Indexing with multiple keys (implicitly converted to a tuple of keys) will be deprecated, use a list instead.\n",
            "  \"\"\"Entry point for launching an IPython kernel.\n"
          ]
        },
        {
          "output_type": "execute_result",
          "data": {
            "text/plain": [
              "             age  sysBP  diaBP  heartRate   BMI  glucose  diabetes  Smoking  \\\n",
              "TenYearCHD                                                                    \n",
              "1            511    511    511        511   511      511       511      511   \n",
              "0           2879   2879   2879       2879  2879     2879      2879     2879   \n",
              "\n",
              "            prevalentHyp  \n",
              "TenYearCHD                \n",
              "1                    511  \n",
              "0                   2879  "
            ],
            "text/html": [
              "\n",
              "  <div id=\"df-5e17fb07-bb32-4dcc-85ce-c4f40e984d00\">\n",
              "    <div class=\"colab-df-container\">\n",
              "      <div>\n",
              "<style scoped>\n",
              "    .dataframe tbody tr th:only-of-type {\n",
              "        vertical-align: middle;\n",
              "    }\n",
              "\n",
              "    .dataframe tbody tr th {\n",
              "        vertical-align: top;\n",
              "    }\n",
              "\n",
              "    .dataframe thead th {\n",
              "        text-align: right;\n",
              "    }\n",
              "</style>\n",
              "<table border=\"1\" class=\"dataframe\">\n",
              "  <thead>\n",
              "    <tr style=\"text-align: right;\">\n",
              "      <th></th>\n",
              "      <th>age</th>\n",
              "      <th>sysBP</th>\n",
              "      <th>diaBP</th>\n",
              "      <th>heartRate</th>\n",
              "      <th>BMI</th>\n",
              "      <th>glucose</th>\n",
              "      <th>diabetes</th>\n",
              "      <th>Smoking</th>\n",
              "      <th>prevalentHyp</th>\n",
              "    </tr>\n",
              "    <tr>\n",
              "      <th>TenYearCHD</th>\n",
              "      <th></th>\n",
              "      <th></th>\n",
              "      <th></th>\n",
              "      <th></th>\n",
              "      <th></th>\n",
              "      <th></th>\n",
              "      <th></th>\n",
              "      <th></th>\n",
              "      <th></th>\n",
              "    </tr>\n",
              "  </thead>\n",
              "  <tbody>\n",
              "    <tr>\n",
              "      <th>1</th>\n",
              "      <td>511</td>\n",
              "      <td>511</td>\n",
              "      <td>511</td>\n",
              "      <td>511</td>\n",
              "      <td>511</td>\n",
              "      <td>511</td>\n",
              "      <td>511</td>\n",
              "      <td>511</td>\n",
              "      <td>511</td>\n",
              "    </tr>\n",
              "    <tr>\n",
              "      <th>0</th>\n",
              "      <td>2879</td>\n",
              "      <td>2879</td>\n",
              "      <td>2879</td>\n",
              "      <td>2879</td>\n",
              "      <td>2879</td>\n",
              "      <td>2879</td>\n",
              "      <td>2879</td>\n",
              "      <td>2879</td>\n",
              "      <td>2879</td>\n",
              "    </tr>\n",
              "  </tbody>\n",
              "</table>\n",
              "</div>\n",
              "      <button class=\"colab-df-convert\" onclick=\"convertToInteractive('df-5e17fb07-bb32-4dcc-85ce-c4f40e984d00')\"\n",
              "              title=\"Convert this dataframe to an interactive table.\"\n",
              "              style=\"display:none;\">\n",
              "        \n",
              "  <svg xmlns=\"http://www.w3.org/2000/svg\" height=\"24px\"viewBox=\"0 0 24 24\"\n",
              "       width=\"24px\">\n",
              "    <path d=\"M0 0h24v24H0V0z\" fill=\"none\"/>\n",
              "    <path d=\"M18.56 5.44l.94 2.06.94-2.06 2.06-.94-2.06-.94-.94-2.06-.94 2.06-2.06.94zm-11 1L8.5 8.5l.94-2.06 2.06-.94-2.06-.94L8.5 2.5l-.94 2.06-2.06.94zm10 10l.94 2.06.94-2.06 2.06-.94-2.06-.94-.94-2.06-.94 2.06-2.06.94z\"/><path d=\"M17.41 7.96l-1.37-1.37c-.4-.4-.92-.59-1.43-.59-.52 0-1.04.2-1.43.59L10.3 9.45l-7.72 7.72c-.78.78-.78 2.05 0 2.83L4 21.41c.39.39.9.59 1.41.59.51 0 1.02-.2 1.41-.59l7.78-7.78 2.81-2.81c.8-.78.8-2.07 0-2.86zM5.41 20L4 18.59l7.72-7.72 1.47 1.35L5.41 20z\"/>\n",
              "  </svg>\n",
              "      </button>\n",
              "      \n",
              "  <style>\n",
              "    .colab-df-container {\n",
              "      display:flex;\n",
              "      flex-wrap:wrap;\n",
              "      gap: 12px;\n",
              "    }\n",
              "\n",
              "    .colab-df-convert {\n",
              "      background-color: #E8F0FE;\n",
              "      border: none;\n",
              "      border-radius: 50%;\n",
              "      cursor: pointer;\n",
              "      display: none;\n",
              "      fill: #1967D2;\n",
              "      height: 32px;\n",
              "      padding: 0 0 0 0;\n",
              "      width: 32px;\n",
              "    }\n",
              "\n",
              "    .colab-df-convert:hover {\n",
              "      background-color: #E2EBFA;\n",
              "      box-shadow: 0px 1px 2px rgba(60, 64, 67, 0.3), 0px 1px 3px 1px rgba(60, 64, 67, 0.15);\n",
              "      fill: #174EA6;\n",
              "    }\n",
              "\n",
              "    [theme=dark] .colab-df-convert {\n",
              "      background-color: #3B4455;\n",
              "      fill: #D2E3FC;\n",
              "    }\n",
              "\n",
              "    [theme=dark] .colab-df-convert:hover {\n",
              "      background-color: #434B5C;\n",
              "      box-shadow: 0px 1px 3px 1px rgba(0, 0, 0, 0.15);\n",
              "      filter: drop-shadow(0px 1px 2px rgba(0, 0, 0, 0.3));\n",
              "      fill: #FFFFFF;\n",
              "    }\n",
              "  </style>\n",
              "\n",
              "      <script>\n",
              "        const buttonEl =\n",
              "          document.querySelector('#df-5e17fb07-bb32-4dcc-85ce-c4f40e984d00 button.colab-df-convert');\n",
              "        buttonEl.style.display =\n",
              "          google.colab.kernel.accessAllowed ? 'block' : 'none';\n",
              "\n",
              "        async function convertToInteractive(key) {\n",
              "          const element = document.querySelector('#df-5e17fb07-bb32-4dcc-85ce-c4f40e984d00');\n",
              "          const dataTable =\n",
              "            await google.colab.kernel.invokeFunction('convertToInteractive',\n",
              "                                                     [key], {});\n",
              "          if (!dataTable) return;\n",
              "\n",
              "          const docLinkHtml = 'Like what you see? Visit the ' +\n",
              "            '<a target=\"_blank\" href=https://colab.research.google.com/notebooks/data_table.ipynb>data table notebook</a>'\n",
              "            + ' to learn more about interactive tables.';\n",
              "          element.innerHTML = '';\n",
              "          dataTable['output_type'] = 'display_data';\n",
              "          await google.colab.output.renderOutput(dataTable, element);\n",
              "          const docLink = document.createElement('div');\n",
              "          docLink.innerHTML = docLinkHtml;\n",
              "          element.appendChild(docLink);\n",
              "        }\n",
              "      </script>\n",
              "    </div>\n",
              "  </div>\n",
              "  "
            ]
          },
          "metadata": {},
          "execution_count": 145
        }
      ]
    },
    {
      "cell_type": "code",
      "source": [
        "dataset.groupby(['TenYearCHD'])['age','sysBP','diaBP','heartRate','BMI','glucose'].count().sort_values(by='TenYearCHD',ascending=False).head(10).plot(kind='bar')"
      ],
      "metadata": {
        "colab": {
          "base_uri": "https://localhost:8080/",
          "height": 353
        },
        "id": "Owf9tIaQ2uL2",
        "outputId": "223da5ed-9cdd-4a1c-9428-1d38926cba82"
      },
      "execution_count": null,
      "outputs": [
        {
          "output_type": "stream",
          "name": "stderr",
          "text": [
            "/usr/local/lib/python3.7/dist-packages/ipykernel_launcher.py:1: FutureWarning: Indexing with multiple keys (implicitly converted to a tuple of keys) will be deprecated, use a list instead.\n",
            "  \"\"\"Entry point for launching an IPython kernel.\n"
          ]
        },
        {
          "output_type": "execute_result",
          "data": {
            "text/plain": [
              "<matplotlib.axes._subplots.AxesSubplot at 0x7fd13c7458d0>"
            ]
          },
          "metadata": {},
          "execution_count": 146
        },
        {
          "output_type": "display_data",
          "data": {
            "text/plain": [
              "<Figure size 432x288 with 1 Axes>"
            ],
            "image/png": "[encoded data removed]"
          },
          "metadata": {
            "needs_background": "light"
          }
        }
      ]
    },
    {
      "cell_type": "code",
      "source": [
        "dataset = dataset.drop(['age_group'],axis=1)"
      ],
      "metadata": {
        "id": "ImQ25d6silNQ"
      },
      "execution_count": null,
      "outputs": []
    },
    {
      "cell_type": "markdown",
      "source": [
        "# **Lets split the data into train and test data**"
      ],
      "metadata": {
        "id": "SGLntFlzR93C"
      }
    },
    {
      "cell_type": "code",
      "source": [
        "X, y = dataset.drop('TenYearCHD',axis=1), dataset['TenYearCHD']"
      ],
      "metadata": {
        "id": "TEO8s7tYSpNS"
      },
      "execution_count": null,
      "outputs": []
    },
    {
      "cell_type": "code",
      "source": [
        "X_train, X_test, y_train, y_test = train_test_split(X,y,test_size=0.25,random_state=1)"
      ],
      "metadata": {
        "id": "QRekruN2R81M"
      },
      "execution_count": null,
      "outputs": []
    },
    {
      "cell_type": "markdown",
      "source": [
        "# **Now Lets implement 5 models on our dataset:**\n",
        "\n",
        "Logistic Regression\n",
        "\n",
        "Random Forrest\n",
        "\n",
        "XGBoost\n",
        "\n",
        "K-NN\n",
        "\n",
        "Neural Networks\n"
      ],
      "metadata": {
        "id": "JpPtuN98VoQl"
      }
    },
    {
      "cell_type": "markdown",
      "source": [
        "# **We will be using three search algorithms for each :**\n",
        "\n",
        "GridSearchCV\n",
        "\n",
        "RandomSearchCV\n",
        "\n",
        "BayesianSearchCV"
      ],
      "metadata": {
        "id": "w-d1o5SmV6cm"
      }
    },
    {
      "cell_type": "code",
      "source": [
        "from sklearn.linear_model import LogisticRegression\n",
        "from sklearn.ensemble import RandomForestClassifier \n",
        "from xgboost import XGBClassifier\n",
        "from sklearn.neighbors import KNeighborsClassifier"
      ],
      "metadata": {
        "id": "M7DgYa9HR89q"
      },
      "execution_count": null,
      "outputs": []
    },
    {
      "cell_type": "code",
      "source": [
        "import numpy as np\n",
        "from skopt import gp_minimize"
      ],
      "metadata": {
        "id": "LXWqjpSMhgar"
      },
      "execution_count": null,
      "outputs": []
    },
    {
      "cell_type": "code",
      "source": [
        "\n",
        "import skopt\n",
        "from sklearn.model_selection import GridSearchCV\n",
        "from sklearn.model_selection import RandomizedSearchCV\n",
        "from skopt import BayesSearchCV\n",
        "from skopt.space import Real, Categorical, Integer\n",
        "from sklearn import ensemble\n"
      ],
      "metadata": {
        "id": "Japh8cwAXpGr"
      },
      "execution_count": null,
      "outputs": []
    },
    {
      "cell_type": "code",
      "source": [
        "from sklearn.metrics import accuracy_score,confusion_matrix\n",
        "from sklearn.metrics import precision_score\n",
        "from sklearn.metrics import recall_score\n",
        "from sklearn.metrics import f1_score\n",
        "from sklearn.metrics import roc_auc_score\n",
        "from sklearn.metrics import roc_curve\n",
        "from sklearn.metrics import auc"
      ],
      "metadata": {
        "id": "FKK7Avi3W0CP"
      },
      "execution_count": null,
      "outputs": []
    },
    {
      "cell_type": "code",
      "source": [
        "lr = LogisticRegression()\n",
        "rf = RandomForestClassifier()\n",
        "xgb = XGBClassifier(objective= 'binary:logistic', nthread=4, seed=42)"
      ],
      "metadata": {
        "id": "w7Vm_PflXJqb"
      },
      "execution_count": null,
      "outputs": []
    },
    {
      "cell_type": "markdown",
      "source": [
        "# **Logistic Regression**"
      ],
      "metadata": {
        "id": "Vq1PrUPCW_E8"
      }
    },
    {
      "cell_type": "code",
      "source": [
        "param_dict_lr = {\n",
        "    'C' : [1e-6,1e-5,1e-4,1e-3,1e-2,1e-1,1,10,100,1e-3,1e+4,1e+5,1e+6]\n",
        "}\n",
        "\n",
        "param_dict_rf = {\n",
        "    'max_depth': [4, 6, 8],\n",
        "    'min_samples_leaf': [40, 50],\n",
        "    'min_samples_split': [50, 100, 150],\n",
        "    'n_estimators': [50, 80, 100]\n",
        "  }\n",
        "\n",
        "param_dict_xgb = {\n",
        "    'max_depth': range (2, 10, 1),\n",
        "    'n_estimators': range(60, 220, 40),\n",
        "    'learning_rate': [0.1, 0.05, 0.01, 0.005]\n",
        "  }"
      ],
      "metadata": {
        "id": "dKjvCx4gXDk6"
      },
      "execution_count": null,
      "outputs": []
    },
    {
      "cell_type": "code",
      "source": [
        "lr_grid = GridSearchCV(estimator=lr,\n",
        "                       param_grid = param_dict_lr,\n",
        "                       cv = 5, verbose=2, scoring='roc_auc')\n",
        "\n",
        "lr_grid.fit(X_train,y_train)"
      ],
      "metadata": {
        "colab": {
          "base_uri": "https://localhost:8080/"
        },
        "id": "ekQXuNAtXDuE",
        "outputId": "cf11f203-49c6-4c6c-eab8-725943f51232"
      },
      "execution_count": null,
      "outputs": [
        {
          "output_type": "stream",
          "name": "stdout",
          "text": [
            "Fitting 5 folds for each of 13 candidates, totalling 65 fits\n",
            "[CV] END ............................................C=1e-06; total time=   0.0s\n",
            "[CV] END ............................................C=1e-06; total time=   0.0s\n",
            "[CV] END ............................................C=1e-06; total time=   0.0s\n",
            "[CV] END ............................................C=1e-06; total time=   0.0s\n",
            "[CV] END ............................................C=1e-06; total time=   0.0s\n",
            "[CV] END ............................................C=1e-05; total time=   0.0s\n",
            "[CV] END ............................................C=1e-05; total time=   0.0s\n",
            "[CV] END ............................................C=1e-05; total time=   0.1s\n",
            "[CV] END ............................................C=1e-05; total time=   0.0s\n",
            "[CV] END ............................................C=1e-05; total time=   0.0s\n"
          ]
        },
        {
          "output_type": "stream",
          "name": "stderr",
          "text": [
            "/usr/local/lib/python3.7/dist-packages/sklearn/linear_model/_logistic.py:818: ConvergenceWarning: lbfgs failed to converge (status=1):\n",
            "STOP: TOTAL NO. of ITERATIONS REACHED LIMIT.\n",
            "\n",
            "Increase the number of iterations (max_iter) or scale the data as shown in:\n",
            "    https://scikit-learn.org/stable/modules/preprocessing.html\n",
            "Please also refer to the documentation for alternative solver options:\n",
            "    https://scikit-learn.org/stable/modules/linear_model.html#logistic-regression\n",
            "  extra_warning_msg=_LOGISTIC_SOLVER_CONVERGENCE_MSG,\n",
            "/usr/local/lib/python3.7/dist-packages/sklearn/linear_model/_logistic.py:818: ConvergenceWarning: lbfgs failed to converge (status=1):\n",
            "STOP: TOTAL NO. of ITERATIONS REACHED LIMIT.\n",
            "\n",
            "Increase the number of iterations (max_iter) or scale the data as shown in:\n",
            "    https://scikit-learn.org/stable/modules/preprocessing.html\n",
            "Please also refer to the documentation for alternative solver options:\n",
            "    https://scikit-learn.org/stable/modules/linear_model.html#logistic-regression\n",
            "  extra_warning_msg=_LOGISTIC_SOLVER_CONVERGENCE_MSG,\n"
          ]
        },
        {
          "output_type": "stream",
          "name": "stdout",
          "text": [
            "[CV] END ...........................................C=0.0001; total time=   0.1s\n",
            "[CV] END ...........................................C=0.0001; total time=   0.1s\n",
            "[CV] END ...........................................C=0.0001; total time=   0.1s\n"
          ]
        },
        {
          "output_type": "stream",
          "name": "stderr",
          "text": [
            "/usr/local/lib/python3.7/dist-packages/sklearn/linear_model/_logistic.py:818: ConvergenceWarning: lbfgs failed to converge (status=1):\n",
            "STOP: TOTAL NO. of ITERATIONS REACHED LIMIT.\n",
            "\n",
            "Increase the number of iterations (max_iter) or scale the data as shown in:\n",
            "    https://scikit-learn.org/stable/modules/preprocessing.html\n",
            "Please also refer to the documentation for alternative solver options:\n",
            "    https://scikit-learn.org/stable/modules/linear_model.html#logistic-regression\n",
            "  extra_warning_msg=_LOGISTIC_SOLVER_CONVERGENCE_MSG,\n",
            "/usr/local/lib/python3.7/dist-packages/sklearn/linear_model/_logistic.py:818: ConvergenceWarning: lbfgs failed to converge (status=1):\n",
            "STOP: TOTAL NO. of ITERATIONS REACHED LIMIT.\n",
            "\n",
            "Increase the number of iterations (max_iter) or scale the data as shown in:\n",
            "    https://scikit-learn.org/stable/modules/preprocessing.html\n",
            "Please also refer to the documentation for alternative solver options:\n",
            "    https://scikit-learn.org/stable/modules/linear_model.html#logistic-regression\n",
            "  extra_warning_msg=_LOGISTIC_SOLVER_CONVERGENCE_MSG,\n",
            "/usr/local/lib/python3.7/dist-packages/sklearn/linear_model/_logistic.py:818: ConvergenceWarning: lbfgs failed to converge (status=1):\n",
            "STOP: TOTAL NO. of ITERATIONS REACHED LIMIT.\n",
            "\n",
            "Increase the number of iterations (max_iter) or scale the data as shown in:\n",
            "    https://scikit-learn.org/stable/modules/preprocessing.html\n",
            "Please also refer to the documentation for alternative solver options:\n",
            "    https://scikit-learn.org/stable/modules/linear_model.html#logistic-regression\n",
            "  extra_warning_msg=_LOGISTIC_SOLVER_CONVERGENCE_MSG,\n"
          ]
        },
        {
          "output_type": "stream",
          "name": "stdout",
          "text": [
            "[CV] END ...........................................C=0.0001; total time=   0.1s\n",
            "[CV] END ...........................................C=0.0001; total time=   0.1s\n",
            "[CV] END ............................................C=0.001; total time=   0.1s\n"
          ]
        },
        {
          "output_type": "stream",
          "name": "stderr",
          "text": [
            "/usr/local/lib/python3.7/dist-packages/sklearn/linear_model/_logistic.py:818: ConvergenceWarning: lbfgs failed to converge (status=1):\n",
            "STOP: TOTAL NO. of ITERATIONS REACHED LIMIT.\n",
            "\n",
            "Increase the number of iterations (max_iter) or scale the data as shown in:\n",
            "    https://scikit-learn.org/stable/modules/preprocessing.html\n",
            "Please also refer to the documentation for alternative solver options:\n",
            "    https://scikit-learn.org/stable/modules/linear_model.html#logistic-regression\n",
            "  extra_warning_msg=_LOGISTIC_SOLVER_CONVERGENCE_MSG,\n",
            "/usr/local/lib/python3.7/dist-packages/sklearn/linear_model/_logistic.py:818: ConvergenceWarning: lbfgs failed to converge (status=1):\n",
            "STOP: TOTAL NO. of ITERATIONS REACHED LIMIT.\n",
            "\n",
            "Increase the number of iterations (max_iter) or scale the data as shown in:\n",
            "    https://scikit-learn.org/stable/modules/preprocessing.html\n",
            "Please also refer to the documentation for alternative solver options:\n",
            "    https://scikit-learn.org/stable/modules/linear_model.html#logistic-regression\n",
            "  extra_warning_msg=_LOGISTIC_SOLVER_CONVERGENCE_MSG,\n",
            "/usr/local/lib/python3.7/dist-packages/sklearn/linear_model/_logistic.py:818: ConvergenceWarning: lbfgs failed to converge (status=1):\n",
            "STOP: TOTAL NO. of ITERATIONS REACHED LIMIT.\n",
            "\n",
            "Increase the number of iterations (max_iter) or scale the data as shown in:\n",
            "    https://scikit-learn.org/stable/modules/preprocessing.html\n",
            "Please also refer to the documentation for alternative solver options:\n",
            "    https://scikit-learn.org/stable/modules/linear_model.html#logistic-regression\n",
            "  extra_warning_msg=_LOGISTIC_SOLVER_CONVERGENCE_MSG,\n"
          ]
        },
        {
          "output_type": "stream",
          "name": "stdout",
          "text": [
            "[CV] END ............................................C=0.001; total time=   0.1s\n",
            "[CV] END ............................................C=0.001; total time=   0.1s\n",
            "[CV] END ............................................C=0.001; total time=   0.1s\n"
          ]
        },
        {
          "output_type": "stream",
          "name": "stderr",
          "text": [
            "/usr/local/lib/python3.7/dist-packages/sklearn/linear_model/_logistic.py:818: ConvergenceWarning: lbfgs failed to converge (status=1):\n",
            "STOP: TOTAL NO. of ITERATIONS REACHED LIMIT.\n",
            "\n",
            "Increase the number of iterations (max_iter) or scale the data as shown in:\n",
            "    https://scikit-learn.org/stable/modules/preprocessing.html\n",
            "Please also refer to the documentation for alternative solver options:\n",
            "    https://scikit-learn.org/stable/modules/linear_model.html#logistic-regression\n",
            "  extra_warning_msg=_LOGISTIC_SOLVER_CONVERGENCE_MSG,\n",
            "/usr/local/lib/python3.7/dist-packages/sklearn/linear_model/_logistic.py:818: ConvergenceWarning: lbfgs failed to converge (status=1):\n",
            "STOP: TOTAL NO. of ITERATIONS REACHED LIMIT.\n",
            "\n",
            "Increase the number of iterations (max_iter) or scale the data as shown in:\n",
            "    https://scikit-learn.org/stable/modules/preprocessing.html\n",
            "Please also refer to the documentation for alternative solver options:\n",
            "    https://scikit-learn.org/stable/modules/linear_model.html#logistic-regression\n",
            "  extra_warning_msg=_LOGISTIC_SOLVER_CONVERGENCE_MSG,\n",
            "/usr/local/lib/python3.7/dist-packages/sklearn/linear_model/_logistic.py:818: ConvergenceWarning: lbfgs failed to converge (status=1):\n",
            "STOP: TOTAL NO. of ITERATIONS REACHED LIMIT.\n",
            "\n",
            "Increase the number of iterations (max_iter) or scale the data as shown in:\n",
            "    https://scikit-learn.org/stable/modules/preprocessing.html\n",
            "Please also refer to the documentation for alternative solver options:\n",
            "    https://scikit-learn.org/stable/modules/linear_model.html#logistic-regression\n",
            "  extra_warning_msg=_LOGISTIC_SOLVER_CONVERGENCE_MSG,\n"
          ]
        },
        {
          "output_type": "stream",
          "name": "stdout",
          "text": [
            "[CV] END ............................................C=0.001; total time=   0.1s\n",
            "[CV] END .............................................C=0.01; total time=   0.1s\n",
            "[CV] END .............................................C=0.01; total time=   0.1s\n"
          ]
        },
        {
          "output_type": "stream",
          "name": "stderr",
          "text": [
            "/usr/local/lib/python3.7/dist-packages/sklearn/linear_model/_logistic.py:818: ConvergenceWarning: lbfgs failed to converge (status=1):\n",
            "STOP: TOTAL NO. of ITERATIONS REACHED LIMIT.\n",
            "\n",
            "Increase the number of iterations (max_iter) or scale the data as shown in:\n",
            "    https://scikit-learn.org/stable/modules/preprocessing.html\n",
            "Please also refer to the documentation for alternative solver options:\n",
            "    https://scikit-learn.org/stable/modules/linear_model.html#logistic-regression\n",
            "  extra_warning_msg=_LOGISTIC_SOLVER_CONVERGENCE_MSG,\n",
            "/usr/local/lib/python3.7/dist-packages/sklearn/linear_model/_logistic.py:818: ConvergenceWarning: lbfgs failed to converge (status=1):\n",
            "STOP: TOTAL NO. of ITERATIONS REACHED LIMIT.\n",
            "\n",
            "Increase the number of iterations (max_iter) or scale the data as shown in:\n",
            "    https://scikit-learn.org/stable/modules/preprocessing.html\n",
            "Please also refer to the documentation for alternative solver options:\n",
            "    https://scikit-learn.org/stable/modules/linear_model.html#logistic-regression\n",
            "  extra_warning_msg=_LOGISTIC_SOLVER_CONVERGENCE_MSG,\n",
            "/usr/local/lib/python3.7/dist-packages/sklearn/linear_model/_logistic.py:818: ConvergenceWarning: lbfgs failed to converge (status=1):\n",
            "STOP: TOTAL NO. of ITERATIONS REACHED LIMIT.\n",
            "\n",
            "Increase the number of iterations (max_iter) or scale the data as shown in:\n",
            "    https://scikit-learn.org/stable/modules/preprocessing.html\n",
            "Please also refer to the documentation for alternative solver options:\n",
            "    https://scikit-learn.org/stable/modules/linear_model.html#logistic-regression\n",
            "  extra_warning_msg=_LOGISTIC_SOLVER_CONVERGENCE_MSG,\n"
          ]
        },
        {
          "output_type": "stream",
          "name": "stdout",
          "text": [
            "[CV] END .............................................C=0.01; total time=   0.1s\n",
            "[CV] END .............................................C=0.01; total time=   0.1s\n",
            "[CV] END .............................................C=0.01; total time=   0.1s\n"
          ]
        },
        {
          "output_type": "stream",
          "name": "stderr",
          "text": [
            "/usr/local/lib/python3.7/dist-packages/sklearn/linear_model/_logistic.py:818: ConvergenceWarning: lbfgs failed to converge (status=1):\n",
            "STOP: TOTAL NO. of ITERATIONS REACHED LIMIT.\n",
            "\n",
            "Increase the number of iterations (max_iter) or scale the data as shown in:\n",
            "    https://scikit-learn.org/stable/modules/preprocessing.html\n",
            "Please also refer to the documentation for alternative solver options:\n",
            "    https://scikit-learn.org/stable/modules/linear_model.html#logistic-regression\n",
            "  extra_warning_msg=_LOGISTIC_SOLVER_CONVERGENCE_MSG,\n",
            "/usr/local/lib/python3.7/dist-packages/sklearn/linear_model/_logistic.py:818: ConvergenceWarning: lbfgs failed to converge (status=1):\n",
            "STOP: TOTAL NO. of ITERATIONS REACHED LIMIT.\n",
            "\n",
            "Increase the number of iterations (max_iter) or scale the data as shown in:\n",
            "    https://scikit-learn.org/stable/modules/preprocessing.html\n",
            "Please also refer to the documentation for alternative solver options:\n",
            "    https://scikit-learn.org/stable/modules/linear_model.html#logistic-regression\n",
            "  extra_warning_msg=_LOGISTIC_SOLVER_CONVERGENCE_MSG,\n",
            "/usr/local/lib/python3.7/dist-packages/sklearn/linear_model/_logistic.py:818: ConvergenceWarning: lbfgs failed to converge (status=1):\n",
            "STOP: TOTAL NO. of ITERATIONS REACHED LIMIT.\n",
            "\n",
            "Increase the number of iterations (max_iter) or scale the data as shown in:\n",
            "    https://scikit-learn.org/stable/modules/preprocessing.html\n",
            "Please also refer to the documentation for alternative solver options:\n",
            "    https://scikit-learn.org/stable/modules/linear_model.html#logistic-regression\n",
            "  extra_warning_msg=_LOGISTIC_SOLVER_CONVERGENCE_MSG,\n"
          ]
        },
        {
          "output_type": "stream",
          "name": "stdout",
          "text": [
            "[CV] END ..............................................C=0.1; total time=   0.1s\n",
            "[CV] END ..............................................C=0.1; total time=   0.1s\n",
            "[CV] END ..............................................C=0.1; total time=   0.1s\n"
          ]
        },
        {
          "output_type": "stream",
          "name": "stderr",
          "text": [
            "/usr/local/lib/python3.7/dist-packages/sklearn/linear_model/_logistic.py:818: ConvergenceWarning: lbfgs failed to converge (status=1):\n",
            "STOP: TOTAL NO. of ITERATIONS REACHED LIMIT.\n",
            "\n",
            "Increase the number of iterations (max_iter) or scale the data as shown in:\n",
            "    https://scikit-learn.org/stable/modules/preprocessing.html\n",
            "Please also refer to the documentation for alternative solver options:\n",
            "    https://scikit-learn.org/stable/modules/linear_model.html#logistic-regression\n",
            "  extra_warning_msg=_LOGISTIC_SOLVER_CONVERGENCE_MSG,\n",
            "/usr/local/lib/python3.7/dist-packages/sklearn/linear_model/_logistic.py:818: ConvergenceWarning: lbfgs failed to converge (status=1):\n",
            "STOP: TOTAL NO. of ITERATIONS REACHED LIMIT.\n",
            "\n",
            "Increase the number of iterations (max_iter) or scale the data as shown in:\n",
            "    https://scikit-learn.org/stable/modules/preprocessing.html\n",
            "Please also refer to the documentation for alternative solver options:\n",
            "    https://scikit-learn.org/stable/modules/linear_model.html#logistic-regression\n",
            "  extra_warning_msg=_LOGISTIC_SOLVER_CONVERGENCE_MSG,\n",
            "/usr/local/lib/python3.7/dist-packages/sklearn/linear_model/_logistic.py:818: ConvergenceWarning: lbfgs failed to converge (status=1):\n",
            "STOP: TOTAL NO. of ITERATIONS REACHED LIMIT.\n",
            "\n",
            "Increase the number of iterations (max_iter) or scale the data as shown in:\n",
            "    https://scikit-learn.org/stable/modules/preprocessing.html\n",
            "Please also refer to the documentation for alternative solver options:\n",
            "    https://scikit-learn.org/stable/modules/linear_model.html#logistic-regression\n",
            "  extra_warning_msg=_LOGISTIC_SOLVER_CONVERGENCE_MSG,\n"
          ]
        },
        {
          "output_type": "stream",
          "name": "stdout",
          "text": [
            "[CV] END ..............................................C=0.1; total time=   0.1s\n",
            "[CV] END ..............................................C=0.1; total time=   0.1s\n",
            "[CV] END ................................................C=1; total time=   0.1s\n"
          ]
        },
        {
          "output_type": "stream",
          "name": "stderr",
          "text": [
            "/usr/local/lib/python3.7/dist-packages/sklearn/linear_model/_logistic.py:818: ConvergenceWarning: lbfgs failed to converge (status=1):\n",
            "STOP: TOTAL NO. of ITERATIONS REACHED LIMIT.\n",
            "\n",
            "Increase the number of iterations (max_iter) or scale the data as shown in:\n",
            "    https://scikit-learn.org/stable/modules/preprocessing.html\n",
            "Please also refer to the documentation for alternative solver options:\n",
            "    https://scikit-learn.org/stable/modules/linear_model.html#logistic-regression\n",
            "  extra_warning_msg=_LOGISTIC_SOLVER_CONVERGENCE_MSG,\n",
            "/usr/local/lib/python3.7/dist-packages/sklearn/linear_model/_logistic.py:818: ConvergenceWarning: lbfgs failed to converge (status=1):\n",
            "STOP: TOTAL NO. of ITERATIONS REACHED LIMIT.\n",
            "\n",
            "Increase the number of iterations (max_iter) or scale the data as shown in:\n",
            "    https://scikit-learn.org/stable/modules/preprocessing.html\n",
            "Please also refer to the documentation for alternative solver options:\n",
            "    https://scikit-learn.org/stable/modules/linear_model.html#logistic-regression\n",
            "  extra_warning_msg=_LOGISTIC_SOLVER_CONVERGENCE_MSG,\n",
            "/usr/local/lib/python3.7/dist-packages/sklearn/linear_model/_logistic.py:818: ConvergenceWarning: lbfgs failed to converge (status=1):\n",
            "STOP: TOTAL NO. of ITERATIONS REACHED LIMIT.\n",
            "\n",
            "Increase the number of iterations (max_iter) or scale the data as shown in:\n",
            "    https://scikit-learn.org/stable/modules/preprocessing.html\n",
            "Please also refer to the documentation for alternative solver options:\n",
            "    https://scikit-learn.org/stable/modules/linear_model.html#logistic-regression\n",
            "  extra_warning_msg=_LOGISTIC_SOLVER_CONVERGENCE_MSG,\n"
          ]
        },
        {
          "output_type": "stream",
          "name": "stdout",
          "text": [
            "[CV] END ................................................C=1; total time=   0.1s\n",
            "[CV] END ................................................C=1; total time=   0.1s\n",
            "[CV] END ................................................C=1; total time=   0.1s\n"
          ]
        },
        {
          "output_type": "stream",
          "name": "stderr",
          "text": [
            "/usr/local/lib/python3.7/dist-packages/sklearn/linear_model/_logistic.py:818: ConvergenceWarning: lbfgs failed to converge (status=1):\n",
            "STOP: TOTAL NO. of ITERATIONS REACHED LIMIT.\n",
            "\n",
            "Increase the number of iterations (max_iter) or scale the data as shown in:\n",
            "    https://scikit-learn.org/stable/modules/preprocessing.html\n",
            "Please also refer to the documentation for alternative solver options:\n",
            "    https://scikit-learn.org/stable/modules/linear_model.html#logistic-regression\n",
            "  extra_warning_msg=_LOGISTIC_SOLVER_CONVERGENCE_MSG,\n",
            "/usr/local/lib/python3.7/dist-packages/sklearn/linear_model/_logistic.py:818: ConvergenceWarning: lbfgs failed to converge (status=1):\n",
            "STOP: TOTAL NO. of ITERATIONS REACHED LIMIT.\n",
            "\n",
            "Increase the number of iterations (max_iter) or scale the data as shown in:\n",
            "    https://scikit-learn.org/stable/modules/preprocessing.html\n",
            "Please also refer to the documentation for alternative solver options:\n",
            "    https://scikit-learn.org/stable/modules/linear_model.html#logistic-regression\n",
            "  extra_warning_msg=_LOGISTIC_SOLVER_CONVERGENCE_MSG,\n",
            "/usr/local/lib/python3.7/dist-packages/sklearn/linear_model/_logistic.py:818: ConvergenceWarning: lbfgs failed to converge (status=1):\n",
            "STOP: TOTAL NO. of ITERATIONS REACHED LIMIT.\n",
            "\n",
            "Increase the number of iterations (max_iter) or scale the data as shown in:\n",
            "    https://scikit-learn.org/stable/modules/preprocessing.html\n",
            "Please also refer to the documentation for alternative solver options:\n",
            "    https://scikit-learn.org/stable/modules/linear_model.html#logistic-regression\n",
            "  extra_warning_msg=_LOGISTIC_SOLVER_CONVERGENCE_MSG,\n"
          ]
        },
        {
          "output_type": "stream",
          "name": "stdout",
          "text": [
            "[CV] END ................................................C=1; total time=   0.1s\n",
            "[CV] END ...............................................C=10; total time=   0.1s\n",
            "[CV] END ...............................................C=10; total time=   0.1s\n"
          ]
        },
        {
          "output_type": "stream",
          "name": "stderr",
          "text": [
            "/usr/local/lib/python3.7/dist-packages/sklearn/linear_model/_logistic.py:818: ConvergenceWarning: lbfgs failed to converge (status=1):\n",
            "STOP: TOTAL NO. of ITERATIONS REACHED LIMIT.\n",
            "\n",
            "Increase the number of iterations (max_iter) or scale the data as shown in:\n",
            "    https://scikit-learn.org/stable/modules/preprocessing.html\n",
            "Please also refer to the documentation for alternative solver options:\n",
            "    https://scikit-learn.org/stable/modules/linear_model.html#logistic-regression\n",
            "  extra_warning_msg=_LOGISTIC_SOLVER_CONVERGENCE_MSG,\n",
            "/usr/local/lib/python3.7/dist-packages/sklearn/linear_model/_logistic.py:818: ConvergenceWarning: lbfgs failed to converge (status=1):\n",
            "STOP: TOTAL NO. of ITERATIONS REACHED LIMIT.\n",
            "\n",
            "Increase the number of iterations (max_iter) or scale the data as shown in:\n",
            "    https://scikit-learn.org/stable/modules/preprocessing.html\n",
            "Please also refer to the documentation for alternative solver options:\n",
            "    https://scikit-learn.org/stable/modules/linear_model.html#logistic-regression\n",
            "  extra_warning_msg=_LOGISTIC_SOLVER_CONVERGENCE_MSG,\n",
            "/usr/local/lib/python3.7/dist-packages/sklearn/linear_model/_logistic.py:818: ConvergenceWarning: lbfgs failed to converge (status=1):\n",
            "STOP: TOTAL NO. of ITERATIONS REACHED LIMIT.\n",
            "\n",
            "Increase the number of iterations (max_iter) or scale the data as shown in:\n",
            "    https://scikit-learn.org/stable/modules/preprocessing.html\n",
            "Please also refer to the documentation for alternative solver options:\n",
            "    https://scikit-learn.org/stable/modules/linear_model.html#logistic-regression\n",
            "  extra_warning_msg=_LOGISTIC_SOLVER_CONVERGENCE_MSG,\n"
          ]
        },
        {
          "output_type": "stream",
          "name": "stdout",
          "text": [
            "[CV] END ...............................................C=10; total time=   0.1s\n",
            "[CV] END ...............................................C=10; total time=   0.1s\n",
            "[CV] END ...............................................C=10; total time=   0.1s\n"
          ]
        },
        {
          "output_type": "stream",
          "name": "stderr",
          "text": [
            "/usr/local/lib/python3.7/dist-packages/sklearn/linear_model/_logistic.py:818: ConvergenceWarning: lbfgs failed to converge (status=1):\n",
            "STOP: TOTAL NO. of ITERATIONS REACHED LIMIT.\n",
            "\n",
            "Increase the number of iterations (max_iter) or scale the data as shown in:\n",
            "    https://scikit-learn.org/stable/modules/preprocessing.html\n",
            "Please also refer to the documentation for alternative solver options:\n",
            "    https://scikit-learn.org/stable/modules/linear_model.html#logistic-regression\n",
            "  extra_warning_msg=_LOGISTIC_SOLVER_CONVERGENCE_MSG,\n",
            "/usr/local/lib/python3.7/dist-packages/sklearn/linear_model/_logistic.py:818: ConvergenceWarning: lbfgs failed to converge (status=1):\n",
            "STOP: TOTAL NO. of ITERATIONS REACHED LIMIT.\n",
            "\n",
            "Increase the number of iterations (max_iter) or scale the data as shown in:\n",
            "    https://scikit-learn.org/stable/modules/preprocessing.html\n",
            "Please also refer to the documentation for alternative solver options:\n",
            "    https://scikit-learn.org/stable/modules/linear_model.html#logistic-regression\n",
            "  extra_warning_msg=_LOGISTIC_SOLVER_CONVERGENCE_MSG,\n",
            "/usr/local/lib/python3.7/dist-packages/sklearn/linear_model/_logistic.py:818: ConvergenceWarning: lbfgs failed to converge (status=1):\n",
            "STOP: TOTAL NO. of ITERATIONS REACHED LIMIT.\n",
            "\n",
            "Increase the number of iterations (max_iter) or scale the data as shown in:\n",
            "    https://scikit-learn.org/stable/modules/preprocessing.html\n",
            "Please also refer to the documentation for alternative solver options:\n",
            "    https://scikit-learn.org/stable/modules/linear_model.html#logistic-regression\n",
            "  extra_warning_msg=_LOGISTIC_SOLVER_CONVERGENCE_MSG,\n"
          ]
        },
        {
          "output_type": "stream",
          "name": "stdout",
          "text": [
            "[CV] END ..............................................C=100; total time=   0.1s\n",
            "[CV] END ..............................................C=100; total time=   0.1s\n",
            "[CV] END ..............................................C=100; total time=   0.1s\n"
          ]
        },
        {
          "output_type": "stream",
          "name": "stderr",
          "text": [
            "/usr/local/lib/python3.7/dist-packages/sklearn/linear_model/_logistic.py:818: ConvergenceWarning: lbfgs failed to converge (status=1):\n",
            "STOP: TOTAL NO. of ITERATIONS REACHED LIMIT.\n",
            "\n",
            "Increase the number of iterations (max_iter) or scale the data as shown in:\n",
            "    https://scikit-learn.org/stable/modules/preprocessing.html\n",
            "Please also refer to the documentation for alternative solver options:\n",
            "    https://scikit-learn.org/stable/modules/linear_model.html#logistic-regression\n",
            "  extra_warning_msg=_LOGISTIC_SOLVER_CONVERGENCE_MSG,\n",
            "/usr/local/lib/python3.7/dist-packages/sklearn/linear_model/_logistic.py:818: ConvergenceWarning: lbfgs failed to converge (status=1):\n",
            "STOP: TOTAL NO. of ITERATIONS REACHED LIMIT.\n",
            "\n",
            "Increase the number of iterations (max_iter) or scale the data as shown in:\n",
            "    https://scikit-learn.org/stable/modules/preprocessing.html\n",
            "Please also refer to the documentation for alternative solver options:\n",
            "    https://scikit-learn.org/stable/modules/linear_model.html#logistic-regression\n",
            "  extra_warning_msg=_LOGISTIC_SOLVER_CONVERGENCE_MSG,\n",
            "/usr/local/lib/python3.7/dist-packages/sklearn/linear_model/_logistic.py:818: ConvergenceWarning: lbfgs failed to converge (status=1):\n",
            "STOP: TOTAL NO. of ITERATIONS REACHED LIMIT.\n",
            "\n",
            "Increase the number of iterations (max_iter) or scale the data as shown in:\n",
            "    https://scikit-learn.org/stable/modules/preprocessing.html\n",
            "Please also refer to the documentation for alternative solver options:\n",
            "    https://scikit-learn.org/stable/modules/linear_model.html#logistic-regression\n",
            "  extra_warning_msg=_LOGISTIC_SOLVER_CONVERGENCE_MSG,\n"
          ]
        },
        {
          "output_type": "stream",
          "name": "stdout",
          "text": [
            "[CV] END ..............................................C=100; total time=   0.1s\n",
            "[CV] END ..............................................C=100; total time=   0.1s\n",
            "[CV] END ............................................C=0.001; total time=   0.1s\n"
          ]
        },
        {
          "output_type": "stream",
          "name": "stderr",
          "text": [
            "/usr/local/lib/python3.7/dist-packages/sklearn/linear_model/_logistic.py:818: ConvergenceWarning: lbfgs failed to converge (status=1):\n",
            "STOP: TOTAL NO. of ITERATIONS REACHED LIMIT.\n",
            "\n",
            "Increase the number of iterations (max_iter) or scale the data as shown in:\n",
            "    https://scikit-learn.org/stable/modules/preprocessing.html\n",
            "Please also refer to the documentation for alternative solver options:\n",
            "    https://scikit-learn.org/stable/modules/linear_model.html#logistic-regression\n",
            "  extra_warning_msg=_LOGISTIC_SOLVER_CONVERGENCE_MSG,\n",
            "/usr/local/lib/python3.7/dist-packages/sklearn/linear_model/_logistic.py:818: ConvergenceWarning: lbfgs failed to converge (status=1):\n",
            "STOP: TOTAL NO. of ITERATIONS REACHED LIMIT.\n",
            "\n",
            "Increase the number of iterations (max_iter) or scale the data as shown in:\n",
            "    https://scikit-learn.org/stable/modules/preprocessing.html\n",
            "Please also refer to the documentation for alternative solver options:\n",
            "    https://scikit-learn.org/stable/modules/linear_model.html#logistic-regression\n",
            "  extra_warning_msg=_LOGISTIC_SOLVER_CONVERGENCE_MSG,\n",
            "/usr/local/lib/python3.7/dist-packages/sklearn/linear_model/_logistic.py:818: ConvergenceWarning: lbfgs failed to converge (status=1):\n",
            "STOP: TOTAL NO. of ITERATIONS REACHED LIMIT.\n",
            "\n",
            "Increase the number of iterations (max_iter) or scale the data as shown in:\n",
            "    https://scikit-learn.org/stable/modules/preprocessing.html\n",
            "Please also refer to the documentation for alternative solver options:\n",
            "    https://scikit-learn.org/stable/modules/linear_model.html#logistic-regression\n",
            "  extra_warning_msg=_LOGISTIC_SOLVER_CONVERGENCE_MSG,\n"
          ]
        },
        {
          "output_type": "stream",
          "name": "stdout",
          "text": [
            "[CV] END ............................................C=0.001; total time=   0.1s\n",
            "[CV] END ............................................C=0.001; total time=   0.1s\n",
            "[CV] END ............................................C=0.001; total time=   0.1s\n"
          ]
        },
        {
          "output_type": "stream",
          "name": "stderr",
          "text": [
            "/usr/local/lib/python3.7/dist-packages/sklearn/linear_model/_logistic.py:818: ConvergenceWarning: lbfgs failed to converge (status=1):\n",
            "STOP: TOTAL NO. of ITERATIONS REACHED LIMIT.\n",
            "\n",
            "Increase the number of iterations (max_iter) or scale the data as shown in:\n",
            "    https://scikit-learn.org/stable/modules/preprocessing.html\n",
            "Please also refer to the documentation for alternative solver options:\n",
            "    https://scikit-learn.org/stable/modules/linear_model.html#logistic-regression\n",
            "  extra_warning_msg=_LOGISTIC_SOLVER_CONVERGENCE_MSG,\n",
            "/usr/local/lib/python3.7/dist-packages/sklearn/linear_model/_logistic.py:818: ConvergenceWarning: lbfgs failed to converge (status=1):\n",
            "STOP: TOTAL NO. of ITERATIONS REACHED LIMIT.\n",
            "\n",
            "Increase the number of iterations (max_iter) or scale the data as shown in:\n",
            "    https://scikit-learn.org/stable/modules/preprocessing.html\n",
            "Please also refer to the documentation for alternative solver options:\n",
            "    https://scikit-learn.org/stable/modules/linear_model.html#logistic-regression\n",
            "  extra_warning_msg=_LOGISTIC_SOLVER_CONVERGENCE_MSG,\n",
            "/usr/local/lib/python3.7/dist-packages/sklearn/linear_model/_logistic.py:818: ConvergenceWarning: lbfgs failed to converge (status=1):\n",
            "STOP: TOTAL NO. of ITERATIONS REACHED LIMIT.\n",
            "\n",
            "Increase the number of iterations (max_iter) or scale the data as shown in:\n",
            "    https://scikit-learn.org/stable/modules/preprocessing.html\n",
            "Please also refer to the documentation for alternative solver options:\n",
            "    https://scikit-learn.org/stable/modules/linear_model.html#logistic-regression\n",
            "  extra_warning_msg=_LOGISTIC_SOLVER_CONVERGENCE_MSG,\n"
          ]
        },
        {
          "output_type": "stream",
          "name": "stdout",
          "text": [
            "[CV] END ............................................C=0.001; total time=   0.1s\n",
            "[CV] END ..........................................C=10000.0; total time=   0.1s\n",
            "[CV] END ..........................................C=10000.0; total time=   0.1s\n"
          ]
        },
        {
          "output_type": "stream",
          "name": "stderr",
          "text": [
            "/usr/local/lib/python3.7/dist-packages/sklearn/linear_model/_logistic.py:818: ConvergenceWarning: lbfgs failed to converge (status=1):\n",
            "STOP: TOTAL NO. of ITERATIONS REACHED LIMIT.\n",
            "\n",
            "Increase the number of iterations (max_iter) or scale the data as shown in:\n",
            "    https://scikit-learn.org/stable/modules/preprocessing.html\n",
            "Please also refer to the documentation for alternative solver options:\n",
            "    https://scikit-learn.org/stable/modules/linear_model.html#logistic-regression\n",
            "  extra_warning_msg=_LOGISTIC_SOLVER_CONVERGENCE_MSG,\n",
            "/usr/local/lib/python3.7/dist-packages/sklearn/linear_model/_logistic.py:818: ConvergenceWarning: lbfgs failed to converge (status=1):\n",
            "STOP: TOTAL NO. of ITERATIONS REACHED LIMIT.\n",
            "\n",
            "Increase the number of iterations (max_iter) or scale the data as shown in:\n",
            "    https://scikit-learn.org/stable/modules/preprocessing.html\n",
            "Please also refer to the documentation for alternative solver options:\n",
            "    https://scikit-learn.org/stable/modules/linear_model.html#logistic-regression\n",
            "  extra_warning_msg=_LOGISTIC_SOLVER_CONVERGENCE_MSG,\n",
            "/usr/local/lib/python3.7/dist-packages/sklearn/linear_model/_logistic.py:818: ConvergenceWarning: lbfgs failed to converge (status=1):\n",
            "STOP: TOTAL NO. of ITERATIONS REACHED LIMIT.\n",
            "\n",
            "Increase the number of iterations (max_iter) or scale the data as shown in:\n",
            "    https://scikit-learn.org/stable/modules/preprocessing.html\n",
            "Please also refer to the documentation for alternative solver options:\n",
            "    https://scikit-learn.org/stable/modules/linear_model.html#logistic-regression\n",
            "  extra_warning_msg=_LOGISTIC_SOLVER_CONVERGENCE_MSG,\n"
          ]
        },
        {
          "output_type": "stream",
          "name": "stdout",
          "text": [
            "[CV] END ..........................................C=10000.0; total time=   0.1s\n",
            "[CV] END ..........................................C=10000.0; total time=   0.1s\n",
            "[CV] END ..........................................C=10000.0; total time=   0.1s\n"
          ]
        },
        {
          "output_type": "stream",
          "name": "stderr",
          "text": [
            "/usr/local/lib/python3.7/dist-packages/sklearn/linear_model/_logistic.py:818: ConvergenceWarning: lbfgs failed to converge (status=1):\n",
            "STOP: TOTAL NO. of ITERATIONS REACHED LIMIT.\n",
            "\n",
            "Increase the number of iterations (max_iter) or scale the data as shown in:\n",
            "    https://scikit-learn.org/stable/modules/preprocessing.html\n",
            "Please also refer to the documentation for alternative solver options:\n",
            "    https://scikit-learn.org/stable/modules/linear_model.html#logistic-regression\n",
            "  extra_warning_msg=_LOGISTIC_SOLVER_CONVERGENCE_MSG,\n",
            "/usr/local/lib/python3.7/dist-packages/sklearn/linear_model/_logistic.py:818: ConvergenceWarning: lbfgs failed to converge (status=1):\n",
            "STOP: TOTAL NO. of ITERATIONS REACHED LIMIT.\n",
            "\n",
            "Increase the number of iterations (max_iter) or scale the data as shown in:\n",
            "    https://scikit-learn.org/stable/modules/preprocessing.html\n",
            "Please also refer to the documentation for alternative solver options:\n",
            "    https://scikit-learn.org/stable/modules/linear_model.html#logistic-regression\n",
            "  extra_warning_msg=_LOGISTIC_SOLVER_CONVERGENCE_MSG,\n",
            "/usr/local/lib/python3.7/dist-packages/sklearn/linear_model/_logistic.py:818: ConvergenceWarning: lbfgs failed to converge (status=1):\n",
            "STOP: TOTAL NO. of ITERATIONS REACHED LIMIT.\n",
            "\n",
            "Increase the number of iterations (max_iter) or scale the data as shown in:\n",
            "    https://scikit-learn.org/stable/modules/preprocessing.html\n",
            "Please also refer to the documentation for alternative solver options:\n",
            "    https://scikit-learn.org/stable/modules/linear_model.html#logistic-regression\n",
            "  extra_warning_msg=_LOGISTIC_SOLVER_CONVERGENCE_MSG,\n"
          ]
        },
        {
          "output_type": "stream",
          "name": "stdout",
          "text": [
            "[CV] END .........................................C=100000.0; total time=   0.1s\n",
            "[CV] END .........................................C=100000.0; total time=   0.1s\n",
            "[CV] END .........................................C=100000.0; total time=   0.1s\n"
          ]
        },
        {
          "output_type": "stream",
          "name": "stderr",
          "text": [
            "/usr/local/lib/python3.7/dist-packages/sklearn/linear_model/_logistic.py:818: ConvergenceWarning: lbfgs failed to converge (status=1):\n",
            "STOP: TOTAL NO. of ITERATIONS REACHED LIMIT.\n",
            "\n",
            "Increase the number of iterations (max_iter) or scale the data as shown in:\n",
            "    https://scikit-learn.org/stable/modules/preprocessing.html\n",
            "Please also refer to the documentation for alternative solver options:\n",
            "    https://scikit-learn.org/stable/modules/linear_model.html#logistic-regression\n",
            "  extra_warning_msg=_LOGISTIC_SOLVER_CONVERGENCE_MSG,\n",
            "/usr/local/lib/python3.7/dist-packages/sklearn/linear_model/_logistic.py:818: ConvergenceWarning: lbfgs failed to converge (status=1):\n",
            "STOP: TOTAL NO. of ITERATIONS REACHED LIMIT.\n",
            "\n",
            "Increase the number of iterations (max_iter) or scale the data as shown in:\n",
            "    https://scikit-learn.org/stable/modules/preprocessing.html\n",
            "Please also refer to the documentation for alternative solver options:\n",
            "    https://scikit-learn.org/stable/modules/linear_model.html#logistic-regression\n",
            "  extra_warning_msg=_LOGISTIC_SOLVER_CONVERGENCE_MSG,\n",
            "/usr/local/lib/python3.7/dist-packages/sklearn/linear_model/_logistic.py:818: ConvergenceWarning: lbfgs failed to converge (status=1):\n",
            "STOP: TOTAL NO. of ITERATIONS REACHED LIMIT.\n",
            "\n",
            "Increase the number of iterations (max_iter) or scale the data as shown in:\n",
            "    https://scikit-learn.org/stable/modules/preprocessing.html\n",
            "Please also refer to the documentation for alternative solver options:\n",
            "    https://scikit-learn.org/stable/modules/linear_model.html#logistic-regression\n",
            "  extra_warning_msg=_LOGISTIC_SOLVER_CONVERGENCE_MSG,\n"
          ]
        },
        {
          "output_type": "stream",
          "name": "stdout",
          "text": [
            "[CV] END .........................................C=100000.0; total time=   0.1s\n",
            "[CV] END .........................................C=100000.0; total time=   0.1s\n",
            "[CV] END ........................................C=1000000.0; total time=   0.1s\n"
          ]
        },
        {
          "output_type": "stream",
          "name": "stderr",
          "text": [
            "/usr/local/lib/python3.7/dist-packages/sklearn/linear_model/_logistic.py:818: ConvergenceWarning: lbfgs failed to converge (status=1):\n",
            "STOP: TOTAL NO. of ITERATIONS REACHED LIMIT.\n",
            "\n",
            "Increase the number of iterations (max_iter) or scale the data as shown in:\n",
            "    https://scikit-learn.org/stable/modules/preprocessing.html\n",
            "Please also refer to the documentation for alternative solver options:\n",
            "    https://scikit-learn.org/stable/modules/linear_model.html#logistic-regression\n",
            "  extra_warning_msg=_LOGISTIC_SOLVER_CONVERGENCE_MSG,\n",
            "/usr/local/lib/python3.7/dist-packages/sklearn/linear_model/_logistic.py:818: ConvergenceWarning: lbfgs failed to converge (status=1):\n",
            "STOP: TOTAL NO. of ITERATIONS REACHED LIMIT.\n",
            "\n",
            "Increase the number of iterations (max_iter) or scale the data as shown in:\n",
            "    https://scikit-learn.org/stable/modules/preprocessing.html\n",
            "Please also refer to the documentation for alternative solver options:\n",
            "    https://scikit-learn.org/stable/modules/linear_model.html#logistic-regression\n",
            "  extra_warning_msg=_LOGISTIC_SOLVER_CONVERGENCE_MSG,\n",
            "/usr/local/lib/python3.7/dist-packages/sklearn/linear_model/_logistic.py:818: ConvergenceWarning: lbfgs failed to converge (status=1):\n",
            "STOP: TOTAL NO. of ITERATIONS REACHED LIMIT.\n",
            "\n",
            "Increase the number of iterations (max_iter) or scale the data as shown in:\n",
            "    https://scikit-learn.org/stable/modules/preprocessing.html\n",
            "Please also refer to the documentation for alternative solver options:\n",
            "    https://scikit-learn.org/stable/modules/linear_model.html#logistic-regression\n",
            "  extra_warning_msg=_LOGISTIC_SOLVER_CONVERGENCE_MSG,\n"
          ]
        },
        {
          "output_type": "stream",
          "name": "stdout",
          "text": [
            "[CV] END ........................................C=1000000.0; total time=   0.1s\n",
            "[CV] END ........................................C=1000000.0; total time=   0.1s\n",
            "[CV] END ........................................C=1000000.0; total time=   0.1s\n",
            "[CV] END ........................................C=1000000.0; total time=   0.1s\n"
          ]
        },
        {
          "output_type": "stream",
          "name": "stderr",
          "text": [
            "/usr/local/lib/python3.7/dist-packages/sklearn/linear_model/_logistic.py:818: ConvergenceWarning: lbfgs failed to converge (status=1):\n",
            "STOP: TOTAL NO. of ITERATIONS REACHED LIMIT.\n",
            "\n",
            "Increase the number of iterations (max_iter) or scale the data as shown in:\n",
            "    https://scikit-learn.org/stable/modules/preprocessing.html\n",
            "Please also refer to the documentation for alternative solver options:\n",
            "    https://scikit-learn.org/stable/modules/linear_model.html#logistic-regression\n",
            "  extra_warning_msg=_LOGISTIC_SOLVER_CONVERGENCE_MSG,\n",
            "/usr/local/lib/python3.7/dist-packages/sklearn/linear_model/_logistic.py:818: ConvergenceWarning: lbfgs failed to converge (status=1):\n",
            "STOP: TOTAL NO. of ITERATIONS REACHED LIMIT.\n",
            "\n",
            "Increase the number of iterations (max_iter) or scale the data as shown in:\n",
            "    https://scikit-learn.org/stable/modules/preprocessing.html\n",
            "Please also refer to the documentation for alternative solver options:\n",
            "    https://scikit-learn.org/stable/modules/linear_model.html#logistic-regression\n",
            "  extra_warning_msg=_LOGISTIC_SOLVER_CONVERGENCE_MSG,\n"
          ]
        },
        {
          "output_type": "execute_result",
          "data": {
            "text/plain": [
              "GridSearchCV(cv=5, estimator=LogisticRegression(),\n",
              "             param_grid={'C': [1e-06, 1e-05, 0.0001, 0.001, 0.01, 0.1, 1, 10,\n",
              "                               100, 0.001, 10000.0, 100000.0, 1000000.0]},\n",
              "             scoring='roc_auc', verbose=2)"
            ]
          },
          "metadata": {},
          "execution_count": 184
        }
      ]
    }
  ]
}