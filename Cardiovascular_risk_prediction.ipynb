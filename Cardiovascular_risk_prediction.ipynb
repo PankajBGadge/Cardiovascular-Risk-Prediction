{
  "nbformat": 4,
  "nbformat_minor": 0,
  "metadata": {
    "kernelspec": {
      "display_name": "Python 3",
      "language": "python",
      "name": "python3"
    },
    "language_info": {
      "codemirror_mode": {
        "name": "ipython",
        "version": 3
      },
      "file_extension": ".py",
      "mimetype": "text/x-python",
      "name": "python",
      "nbconvert_exporter": "python",
      "pygments_lexer": "ipython3",
      "version": "3.7.1"
    },
    "colab": {
      "provenance": [],
      "collapsed_sections": [],
      "include_colab_link": true
    }
  },
  "cells": [
    {
      "cell_type": "markdown",
      "metadata": {
        "id": "view-in-github",
        "colab_type": "text"
      },
      "source": [
        "<a href=\"https://colab.research.google.com/github/PankajBGadge/Cardiovascular-Risk-Prediction/blob/main/Cardiovascular_risk_prediction.ipynb\" target=\"_parent\"><img src=\"https://colab.research.google.com/assets/colab-badge.svg\" alt=\"Open In Colab\"/></a>"
      ]
    },
    {
      "cell_type": "markdown",
      "metadata": {
        "id": "JI1a1HXMjCxF"
      },
      "source": [
        "\n",
        "\n",
        "### <b>Problem Statement</b>\n",
        "The dataset is from an ongoing cardiovascular study on residents of the town of Framingham,\n",
        "Massachusetts. The classification goal is to predict whether the patient has a 10-year risk of\n",
        "future coronary heart disease (CHD). The dataset provides the patients’ information. It includes\n",
        "over 4,000 records and 15 attributes."
      ]
    },
    {
      "cell_type": "markdown",
      "source": [
        "# ![OIP (1).jpg](data:image/jpeg;base64,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)"
      ],
      "metadata": {
        "id": "WmWitRRtqBmI"
      }
    },
    {
      "cell_type": "markdown",
      "source": [
        "## **Variables**\n",
        "Each attribute is a potential risk factor. There are both demographic, behavioral, and medical risk\n",
        "factors.\n",
        "## **Data Description**\n",
        "**Demographic:**\n",
        "\n",
        "\n",
        "• **Sex:** male or female(\"M\" or \"F\")\n",
        "\n",
        "• **Age:** Age of the patient;(Continuous - Although the recorded ages have been truncated to whole numbers, the concept of age is continuous)\n",
        "\n",
        "\n",
        " **Behavioral**\n",
        "\n",
        "• **is_smoking:** whether or not the patient is a current smoker (\"YES\" or \"NO\")\n",
        "\n",
        "• **Cigs Per Day:** the number of cigarettes that the person smoked on average in one day.(can be considered continuous as one can have any number of cigarettes, even half a cigarette.)\n",
        "\n",
        "\n",
        "**Medical( history)**\n",
        "• **BP Meds:** whether or not the patient was on blood pressure medication (Nominal)\n",
        "\n",
        "• **Prevalent Stroke:** whether or not the patient had previously had a stroke (Nominal)\n",
        "\n",
        "• **Prevalent Hyp:** whether or not the patient was hypertensive (Nominal)\n",
        "\n",
        "• **Diabetes:** whether or not the patient had diabetes (Nominal)\n",
        "Medical(current)\n",
        "\n",
        "• **Tot Chol:** total cholesterol level (Continuous)\n",
        "\n",
        "• **Sys BP:** systolic blood pressure (Continuous)\n",
        "\n",
        "• **Dia BP:** diastolic blood pressure (Continuous)\n",
        "\n",
        "• **BMI:** Body Mass Index (Continuous)\n",
        "\n",
        "• **Heart Rate:** heart rate (Continuous - In medical research, variables such as heart rate though in fact discrete, yet are considered continuous because of large number of possible values).\n",
        "\n",
        "• **Glucose:** glucose level (Continuous)\n",
        "\n",
        "# **Predict variable (desired target)**\n",
        "\n",
        "• **10-year risk of coronary heart disease CHD**(binary: “1”, means “Yes”, “0” means “No”) -\n",
        "DV"
      ],
      "metadata": {
        "id": "-5M_M8ZTwAF8"
      }
    },
    {
      "cell_type": "markdown",
      "source": [
        "# **Now lets import required libraries**"
      ],
      "metadata": {
        "id": "b9uK1tpUHhBF"
      }
    },
    {
      "cell_type": "code",
      "metadata": {
        "id": "ZksP1cmJo5Sq"
      },
      "source": [
        "# Importing the libraries\n",
        "import numpy as np\n",
        "import pandas as pd\n",
        "import matplotlib.pyplot as plt\n",
        "import seaborn as sns\n",
        "from sklearn.model_selection import train_test_split\n"
      ],
      "execution_count": 1,
      "outputs": []
    },
    {
      "cell_type": "code",
      "metadata": {
        "id": "qwL50ZCPWVn2",
        "colab": {
          "base_uri": "https://localhost:8080/"
        },
        "outputId": "6acd60aa-5973-4aa3-ede7-8ef2eea75ee2"
      },
      "source": [
        "from google.colab import drive\n",
        "drive.mount('/content/drive')"
      ],
      "execution_count": 2,
      "outputs": [
        {
          "output_type": "stream",
          "name": "stdout",
          "text": [
            "Mounted at /content/drive\n"
          ]
        }
      ]
    },
    {
      "cell_type": "code",
      "metadata": {
        "id": "bAR4dHQWWwSM"
      },
      "source": [
        "# Importing the dataset\n",
        "dataset = pd.read_csv('/content/drive/MyDrive/Capstone Project 3/data_cardiovascular_risk.csv')"
      ],
      "execution_count": 3,
      "outputs": []
    },
    {
      "cell_type": "markdown",
      "metadata": {
        "id": "qanqVUsKXB6i"
      },
      "source": [
        "# **Data Inspection**"
      ]
    },
    {
      "cell_type": "code",
      "metadata": {
        "id": "nZuNe4yrW5EF",
        "colab": {
          "base_uri": "https://localhost:8080/",
          "height": 270
        },
        "outputId": "74f63baa-8082-4bad-a6e7-4545427c0622"
      },
      "source": [
        "# First look\n",
        "dataset.head()"
      ],
      "execution_count": 4,
      "outputs": [
        {
          "output_type": "execute_result",
          "data": {
            "text/plain": [
              "   id  age  education sex is_smoking  cigsPerDay  BPMeds  prevalentStroke  \\\n",
              "0   0   64        2.0   F        YES         3.0     0.0                0   \n",
              "1   1   36        4.0   M         NO         0.0     0.0                0   \n",
              "2   2   46        1.0   F        YES        10.0     0.0                0   \n",
              "3   3   50        1.0   M        YES        20.0     0.0                0   \n",
              "4   4   64        1.0   F        YES        30.0     0.0                0   \n",
              "\n",
              "   prevalentHyp  diabetes  totChol  sysBP  diaBP    BMI  heartRate  glucose  \\\n",
              "0             0         0    221.0  148.0   85.0    NaN       90.0     80.0   \n",
              "1             1         0    212.0  168.0   98.0  29.77       72.0     75.0   \n",
              "2             0         0    250.0  116.0   71.0  20.35       88.0     94.0   \n",
              "3             1         0    233.0  158.0   88.0  28.26       68.0     94.0   \n",
              "4             0         0    241.0  136.5   85.0  26.42       70.0     77.0   \n",
              "\n",
              "   TenYearCHD  \n",
              "0           1  \n",
              "1           0  \n",
              "2           0  \n",
              "3           1  \n",
              "4           0  "
            ],
            "text/html": [
              "\n",
              "  <div id=\"df-0110570f-c308-41ab-8db2-79423b943cde\">\n",
              "    <div class=\"colab-df-container\">\n",
              "      <div>\n",
              "<style scoped>\n",
              "    .dataframe tbody tr th:only-of-type {\n",
              "        vertical-align: middle;\n",
              "    }\n",
              "\n",
              "    .dataframe tbody tr th {\n",
              "        vertical-align: top;\n",
              "    }\n",
              "\n",
              "    .dataframe thead th {\n",
              "        text-align: right;\n",
              "    }\n",
              "</style>\n",
              "<table border=\"1\" class=\"dataframe\">\n",
              "  <thead>\n",
              "    <tr style=\"text-align: right;\">\n",
              "      <th></th>\n",
              "      <th>id</th>\n",
              "      <th>age</th>\n",
              "      <th>education</th>\n",
              "      <th>sex</th>\n",
              "      <th>is_smoking</th>\n",
              "      <th>cigsPerDay</th>\n",
              "      <th>BPMeds</th>\n",
              "      <th>prevalentStroke</th>\n",
              "      <th>prevalentHyp</th>\n",
              "      <th>diabetes</th>\n",
              "      <th>totChol</th>\n",
              "      <th>sysBP</th>\n",
              "      <th>diaBP</th>\n",
              "      <th>BMI</th>\n",
              "      <th>heartRate</th>\n",
              "      <th>glucose</th>\n",
              "      <th>TenYearCHD</th>\n",
              "    </tr>\n",
              "  </thead>\n",
              "  <tbody>\n",
              "    <tr>\n",
              "      <th>0</th>\n",
              "      <td>0</td>\n",
              "      <td>64</td>\n",
              "      <td>2.0</td>\n",
              "      <td>F</td>\n",
              "      <td>YES</td>\n",
              "      <td>3.0</td>\n",
              "      <td>0.0</td>\n",
              "      <td>0</td>\n",
              "      <td>0</td>\n",
              "      <td>0</td>\n",
              "      <td>221.0</td>\n",
              "      <td>148.0</td>\n",
              "      <td>85.0</td>\n",
              "      <td>NaN</td>\n",
              "      <td>90.0</td>\n",
              "      <td>80.0</td>\n",
              "      <td>1</td>\n",
              "    </tr>\n",
              "    <tr>\n",
              "      <th>1</th>\n",
              "      <td>1</td>\n",
              "      <td>36</td>\n",
              "      <td>4.0</td>\n",
              "      <td>M</td>\n",
              "      <td>NO</td>\n",
              "      <td>0.0</td>\n",
              "      <td>0.0</td>\n",
              "      <td>0</td>\n",
              "      <td>1</td>\n",
              "      <td>0</td>\n",
              "      <td>212.0</td>\n",
              "      <td>168.0</td>\n",
              "      <td>98.0</td>\n",
              "      <td>29.77</td>\n",
              "      <td>72.0</td>\n",
              "      <td>75.0</td>\n",
              "      <td>0</td>\n",
              "    </tr>\n",
              "    <tr>\n",
              "      <th>2</th>\n",
              "      <td>2</td>\n",
              "      <td>46</td>\n",
              "      <td>1.0</td>\n",
              "      <td>F</td>\n",
              "      <td>YES</td>\n",
              "      <td>10.0</td>\n",
              "      <td>0.0</td>\n",
              "      <td>0</td>\n",
              "      <td>0</td>\n",
              "      <td>0</td>\n",
              "      <td>250.0</td>\n",
              "      <td>116.0</td>\n",
              "      <td>71.0</td>\n",
              "      <td>20.35</td>\n",
              "      <td>88.0</td>\n",
              "      <td>94.0</td>\n",
              "      <td>0</td>\n",
              "    </tr>\n",
              "    <tr>\n",
              "      <th>3</th>\n",
              "      <td>3</td>\n",
              "      <td>50</td>\n",
              "      <td>1.0</td>\n",
              "      <td>M</td>\n",
              "      <td>YES</td>\n",
              "      <td>20.0</td>\n",
              "      <td>0.0</td>\n",
              "      <td>0</td>\n",
              "      <td>1</td>\n",
              "      <td>0</td>\n",
              "      <td>233.0</td>\n",
              "      <td>158.0</td>\n",
              "      <td>88.0</td>\n",
              "      <td>28.26</td>\n",
              "      <td>68.0</td>\n",
              "      <td>94.0</td>\n",
              "      <td>1</td>\n",
              "    </tr>\n",
              "    <tr>\n",
              "      <th>4</th>\n",
              "      <td>4</td>\n",
              "      <td>64</td>\n",
              "      <td>1.0</td>\n",
              "      <td>F</td>\n",
              "      <td>YES</td>\n",
              "      <td>30.0</td>\n",
              "      <td>0.0</td>\n",
              "      <td>0</td>\n",
              "      <td>0</td>\n",
              "      <td>0</td>\n",
              "      <td>241.0</td>\n",
              "      <td>136.5</td>\n",
              "      <td>85.0</td>\n",
              "      <td>26.42</td>\n",
              "      <td>70.0</td>\n",
              "      <td>77.0</td>\n",
              "      <td>0</td>\n",
              "    </tr>\n",
              "  </tbody>\n",
              "</table>\n",
              "</div>\n",
              "      <button class=\"colab-df-convert\" onclick=\"convertToInteractive('df-0110570f-c308-41ab-8db2-79423b943cde')\"\n",
              "              title=\"Convert this dataframe to an interactive table.\"\n",
              "              style=\"display:none;\">\n",
              "        \n",
              "  <svg xmlns=\"http://www.w3.org/2000/svg\" height=\"24px\"viewBox=\"0 0 24 24\"\n",
              "       width=\"24px\">\n",
              "    <path d=\"M0 0h24v24H0V0z\" fill=\"none\"/>\n",
              "    <path d=\"M18.56 5.44l.94 2.06.94-2.06 2.06-.94-2.06-.94-.94-2.06-.94 2.06-2.06.94zm-11 1L8.5 8.5l.94-2.06 2.06-.94-2.06-.94L8.5 2.5l-.94 2.06-2.06.94zm10 10l.94 2.06.94-2.06 2.06-.94-2.06-.94-.94-2.06-.94 2.06-2.06.94z\"/><path d=\"M17.41 7.96l-1.37-1.37c-.4-.4-.92-.59-1.43-.59-.52 0-1.04.2-1.43.59L10.3 9.45l-7.72 7.72c-.78.78-.78 2.05 0 2.83L4 21.41c.39.39.9.59 1.41.59.51 0 1.02-.2 1.41-.59l7.78-7.78 2.81-2.81c.8-.78.8-2.07 0-2.86zM5.41 20L4 18.59l7.72-7.72 1.47 1.35L5.41 20z\"/>\n",
              "  </svg>\n",
              "      </button>\n",
              "      \n",
              "  <style>\n",
              "    .colab-df-container {\n",
              "      display:flex;\n",
              "      flex-wrap:wrap;\n",
              "      gap: 12px;\n",
              "    }\n",
              "\n",
              "    .colab-df-convert {\n",
              "      background-color: #E8F0FE;\n",
              "      border: none;\n",
              "      border-radius: 50%;\n",
              "      cursor: pointer;\n",
              "      display: none;\n",
              "      fill: #1967D2;\n",
              "      height: 32px;\n",
              "      padding: 0 0 0 0;\n",
              "      width: 32px;\n",
              "    }\n",
              "\n",
              "    .colab-df-convert:hover {\n",
              "      background-color: #E2EBFA;\n",
              "      box-shadow: 0px 1px 2px rgba(60, 64, 67, 0.3), 0px 1px 3px 1px rgba(60, 64, 67, 0.15);\n",
              "      fill: #174EA6;\n",
              "    }\n",
              "\n",
              "    [theme=dark] .colab-df-convert {\n",
              "      background-color: #3B4455;\n",
              "      fill: #D2E3FC;\n",
              "    }\n",
              "\n",
              "    [theme=dark] .colab-df-convert:hover {\n",
              "      background-color: #434B5C;\n",
              "      box-shadow: 0px 1px 3px 1px rgba(0, 0, 0, 0.15);\n",
              "      filter: drop-shadow(0px 1px 2px rgba(0, 0, 0, 0.3));\n",
              "      fill: #FFFFFF;\n",
              "    }\n",
              "  </style>\n",
              "\n",
              "      <script>\n",
              "        const buttonEl =\n",
              "          document.querySelector('#df-0110570f-c308-41ab-8db2-79423b943cde button.colab-df-convert');\n",
              "        buttonEl.style.display =\n",
              "          google.colab.kernel.accessAllowed ? 'block' : 'none';\n",
              "\n",
              "        async function convertToInteractive(key) {\n",
              "          const element = document.querySelector('#df-0110570f-c308-41ab-8db2-79423b943cde');\n",
              "          const dataTable =\n",
              "            await google.colab.kernel.invokeFunction('convertToInteractive',\n",
              "                                                     [key], {});\n",
              "          if (!dataTable) return;\n",
              "\n",
              "          const docLinkHtml = 'Like what you see? Visit the ' +\n",
              "            '<a target=\"_blank\" href=https://colab.research.google.com/notebooks/data_table.ipynb>data table notebook</a>'\n",
              "            + ' to learn more about interactive tables.';\n",
              "          element.innerHTML = '';\n",
              "          dataTable['output_type'] = 'display_data';\n",
              "          await google.colab.output.renderOutput(dataTable, element);\n",
              "          const docLink = document.createElement('div');\n",
              "          docLink.innerHTML = docLinkHtml;\n",
              "          element.appendChild(docLink);\n",
              "        }\n",
              "      </script>\n",
              "    </div>\n",
              "  </div>\n",
              "  "
            ]
          },
          "metadata": {},
          "execution_count": 4
        }
      ]
    },
    {
      "cell_type": "code",
      "metadata": {
        "id": "KtPFkHyJW53J",
        "colab": {
          "base_uri": "https://localhost:8080/"
        },
        "outputId": "f43e6746-2827-4588-900d-13a8d9158adb"
      },
      "source": [
        "dataset.info()"
      ],
      "execution_count": 5,
      "outputs": [
        {
          "output_type": "stream",
          "name": "stdout",
          "text": [
            "<class 'pandas.core.frame.DataFrame'>\n",
            "RangeIndex: 3390 entries, 0 to 3389\n",
            "Data columns (total 17 columns):\n",
            " #   Column           Non-Null Count  Dtype  \n",
            "---  ------           --------------  -----  \n",
            " 0   id               3390 non-null   int64  \n",
            " 1   age              3390 non-null   int64  \n",
            " 2   education        3303 non-null   float64\n",
            " 3   sex              3390 non-null   object \n",
            " 4   is_smoking       3390 non-null   object \n",
            " 5   cigsPerDay       3368 non-null   float64\n",
            " 6   BPMeds           3346 non-null   float64\n",
            " 7   prevalentStroke  3390 non-null   int64  \n",
            " 8   prevalentHyp     3390 non-null   int64  \n",
            " 9   diabetes         3390 non-null   int64  \n",
            " 10  totChol          3352 non-null   float64\n",
            " 11  sysBP            3390 non-null   float64\n",
            " 12  diaBP            3390 non-null   float64\n",
            " 13  BMI              3376 non-null   float64\n",
            " 14  heartRate        3389 non-null   float64\n",
            " 15  glucose          3086 non-null   float64\n",
            " 16  TenYearCHD       3390 non-null   int64  \n",
            "dtypes: float64(9), int64(6), object(2)\n",
            "memory usage: 450.4+ KB\n"
          ]
        }
      ]
    },
    {
      "cell_type": "code",
      "source": [
        "dataset.shape"
      ],
      "metadata": {
        "colab": {
          "base_uri": "https://localhost:8080/"
        },
        "id": "xXtxMhKXVDiw",
        "outputId": "c7172a41-733e-4a0c-b16b-4209d9eac5e7"
      },
      "execution_count": 6,
      "outputs": [
        {
          "output_type": "execute_result",
          "data": {
            "text/plain": [
              "(3390, 17)"
            ]
          },
          "metadata": {},
          "execution_count": 6
        }
      ]
    },
    {
      "cell_type": "markdown",
      "source": [
        "There are 17 columns and 3390 rows in our dataset\n",
        "\n",
        "\n",
        "\n"
      ],
      "metadata": {
        "id": "QkhWTXEYN43U"
      }
    },
    {
      "cell_type": "markdown",
      "source": [
        "# **Convert NaN values**"
      ],
      "metadata": {
        "id": "-4Rbl-07OI5u"
      }
    },
    {
      "cell_type": "code",
      "source": [
        "dataset.isnull().sum()"
      ],
      "metadata": {
        "colab": {
          "base_uri": "https://localhost:8080/"
        },
        "id": "vYuV0U8vLvhw",
        "outputId": "72a6f802-f159-4160-9ff4-4085fc8ecfb0"
      },
      "execution_count": 7,
      "outputs": [
        {
          "output_type": "execute_result",
          "data": {
            "text/plain": [
              "id                   0\n",
              "age                  0\n",
              "education           87\n",
              "sex                  0\n",
              "is_smoking           0\n",
              "cigsPerDay          22\n",
              "BPMeds              44\n",
              "prevalentStroke      0\n",
              "prevalentHyp         0\n",
              "diabetes             0\n",
              "totChol             38\n",
              "sysBP                0\n",
              "diaBP                0\n",
              "BMI                 14\n",
              "heartRate            1\n",
              "glucose            304\n",
              "TenYearCHD           0\n",
              "dtype: int64"
            ]
          },
          "metadata": {},
          "execution_count": 7
        }
      ]
    },
    {
      "cell_type": "code",
      "source": [
        "dataset['education'].fillna(dataset.education.mean(), inplace=True)\n",
        "dataset['cigsPerDay'].fillna(dataset.cigsPerDay.mean(), inplace=True)\n",
        "dataset['BPMeds'].fillna(dataset.BPMeds.mean(), inplace=True)\n",
        "dataset['totChol'].fillna(dataset.totChol.mean(), inplace=True)\n",
        "dataset['BMI'].fillna(dataset.BMI.mean(), inplace=True)\n",
        "dataset['heartRate'].fillna(dataset.heartRate.mean(), inplace=True)\n",
        "dataset['glucose'].fillna(dataset.glucose.mean(), inplace=True)"
      ],
      "metadata": {
        "id": "a7n1uTZBA5e8"
      },
      "execution_count": 8,
      "outputs": []
    },
    {
      "cell_type": "code",
      "source": [
        "dataset.isnull().sum()"
      ],
      "metadata": {
        "colab": {
          "base_uri": "https://localhost:8080/"
        },
        "id": "ksN1NVBTDKD5",
        "outputId": "c7141b7a-f4d2-4d55-86d0-281f32a254c6"
      },
      "execution_count": 9,
      "outputs": [
        {
          "output_type": "execute_result",
          "data": {
            "text/plain": [
              "id                 0\n",
              "age                0\n",
              "education          0\n",
              "sex                0\n",
              "is_smoking         0\n",
              "cigsPerDay         0\n",
              "BPMeds             0\n",
              "prevalentStroke    0\n",
              "prevalentHyp       0\n",
              "diabetes           0\n",
              "totChol            0\n",
              "sysBP              0\n",
              "diaBP              0\n",
              "BMI                0\n",
              "heartRate          0\n",
              "glucose            0\n",
              "TenYearCHD         0\n",
              "dtype: int64"
            ]
          },
          "metadata": {},
          "execution_count": 9
        }
      ]
    },
    {
      "cell_type": "markdown",
      "source": [
        "**NaN values we replace by mean values**"
      ],
      "metadata": {
        "id": "6Dkh6jerOVe4"
      }
    },
    {
      "cell_type": "code",
      "metadata": {
        "colab": {
          "base_uri": "https://localhost:8080/",
          "height": 458
        },
        "id": "a9cfJf4KR-mb",
        "outputId": "9e30f16b-0cd0-471f-9075-928e25632769"
      },
      "source": [
        "dataset.describe(include='all')"
      ],
      "execution_count": 10,
      "outputs": [
        {
          "output_type": "execute_result",
          "data": {
            "text/plain": [
              "                 id          age    education   sex is_smoking   cigsPerDay  \\\n",
              "count   3390.000000  3390.000000  3390.000000  3390       3390  3390.000000   \n",
              "unique          NaN          NaN          NaN     2          2          NaN   \n",
              "top             NaN          NaN          NaN     F         NO          NaN   \n",
              "freq            NaN          NaN          NaN  1923       1703          NaN   \n",
              "mean    1694.500000    49.542183     1.970936   NaN        NaN     9.069477   \n",
              "std      978.753033     8.592878     1.005915   NaN        NaN    11.840458   \n",
              "min        0.000000    32.000000     1.000000   NaN        NaN     0.000000   \n",
              "25%      847.250000    42.000000     1.000000   NaN        NaN     0.000000   \n",
              "50%     1694.500000    49.000000     2.000000   NaN        NaN     0.000000   \n",
              "75%     2541.750000    56.000000     3.000000   NaN        NaN    20.000000   \n",
              "max     3389.000000    70.000000     4.000000   NaN        NaN    70.000000   \n",
              "\n",
              "             BPMeds  prevalentStroke  prevalentHyp     diabetes      totChol  \\\n",
              "count   3390.000000      3390.000000   3390.000000  3390.000000  3390.000000   \n",
              "unique          NaN              NaN           NaN          NaN          NaN   \n",
              "top             NaN              NaN           NaN          NaN          NaN   \n",
              "freq            NaN              NaN           NaN          NaN          NaN   \n",
              "mean       0.029886         0.006490      0.315339     0.025664   237.074284   \n",
              "std        0.169190         0.080309      0.464719     0.158153    44.993041   \n",
              "min        0.000000         0.000000      0.000000     0.000000   107.000000   \n",
              "25%        0.000000         0.000000      0.000000     0.000000   206.000000   \n",
              "50%        0.000000         0.000000      0.000000     0.000000   235.000000   \n",
              "75%        0.000000         0.000000      1.000000     0.000000   264.000000   \n",
              "max        1.000000         1.000000      1.000000     1.000000   696.000000   \n",
              "\n",
              "             sysBP        diaBP          BMI    heartRate      glucose  \\\n",
              "count   3390.00000  3390.000000  3390.000000  3390.000000  3390.000000   \n",
              "unique         NaN          NaN          NaN          NaN          NaN   \n",
              "top            NaN          NaN          NaN          NaN          NaN   \n",
              "freq           NaN          NaN          NaN          NaN          NaN   \n",
              "mean     132.60118    82.883038    25.794964    75.977279    82.086520   \n",
              "std       22.29203    12.023581     4.106939    11.970102    23.131808   \n",
              "min       83.50000    48.000000    15.960000    45.000000    40.000000   \n",
              "25%      117.00000    74.500000    23.030000    68.000000    72.000000   \n",
              "50%      128.50000    82.000000    25.400000    75.000000    80.000000   \n",
              "75%      144.00000    90.000000    27.997500    83.000000    85.000000   \n",
              "max      295.00000   142.500000    56.800000   143.000000   394.000000   \n",
              "\n",
              "         TenYearCHD  \n",
              "count   3390.000000  \n",
              "unique          NaN  \n",
              "top             NaN  \n",
              "freq            NaN  \n",
              "mean       0.150737  \n",
              "std        0.357846  \n",
              "min        0.000000  \n",
              "25%        0.000000  \n",
              "50%        0.000000  \n",
              "75%        0.000000  \n",
              "max        1.000000  "
            ],
            "text/html": [
              "\n",
              "  <div id=\"df-5fa5285b-133b-4fec-907c-79d7aad2537f\">\n",
              "    <div class=\"colab-df-container\">\n",
              "      <div>\n",
              "<style scoped>\n",
              "    .dataframe tbody tr th:only-of-type {\n",
              "        vertical-align: middle;\n",
              "    }\n",
              "\n",
              "    .dataframe tbody tr th {\n",
              "        vertical-align: top;\n",
              "    }\n",
              "\n",
              "    .dataframe thead th {\n",
              "        text-align: right;\n",
              "    }\n",
              "</style>\n",
              "<table border=\"1\" class=\"dataframe\">\n",
              "  <thead>\n",
              "    <tr style=\"text-align: right;\">\n",
              "      <th></th>\n",
              "      <th>id</th>\n",
              "      <th>age</th>\n",
              "      <th>education</th>\n",
              "      <th>sex</th>\n",
              "      <th>is_smoking</th>\n",
              "      <th>cigsPerDay</th>\n",
              "      <th>BPMeds</th>\n",
              "      <th>prevalentStroke</th>\n",
              "      <th>prevalentHyp</th>\n",
              "      <th>diabetes</th>\n",
              "      <th>totChol</th>\n",
              "      <th>sysBP</th>\n",
              "      <th>diaBP</th>\n",
              "      <th>BMI</th>\n",
              "      <th>heartRate</th>\n",
              "      <th>glucose</th>\n",
              "      <th>TenYearCHD</th>\n",
              "    </tr>\n",
              "  </thead>\n",
              "  <tbody>\n",
              "    <tr>\n",
              "      <th>count</th>\n",
              "      <td>3390.000000</td>\n",
              "      <td>3390.000000</td>\n",
              "      <td>3390.000000</td>\n",
              "      <td>3390</td>\n",
              "      <td>3390</td>\n",
              "      <td>3390.000000</td>\n",
              "      <td>3390.000000</td>\n",
              "      <td>3390.000000</td>\n",
              "      <td>3390.000000</td>\n",
              "      <td>3390.000000</td>\n",
              "      <td>3390.000000</td>\n",
              "      <td>3390.00000</td>\n",
              "      <td>3390.000000</td>\n",
              "      <td>3390.000000</td>\n",
              "      <td>3390.000000</td>\n",
              "      <td>3390.000000</td>\n",
              "      <td>3390.000000</td>\n",
              "    </tr>\n",
              "    <tr>\n",
              "      <th>unique</th>\n",
              "      <td>NaN</td>\n",
              "      <td>NaN</td>\n",
              "      <td>NaN</td>\n",
              "      <td>2</td>\n",
              "      <td>2</td>\n",
              "      <td>NaN</td>\n",
              "      <td>NaN</td>\n",
              "      <td>NaN</td>\n",
              "      <td>NaN</td>\n",
              "      <td>NaN</td>\n",
              "      <td>NaN</td>\n",
              "      <td>NaN</td>\n",
              "      <td>NaN</td>\n",
              "      <td>NaN</td>\n",
              "      <td>NaN</td>\n",
              "      <td>NaN</td>\n",
              "      <td>NaN</td>\n",
              "    </tr>\n",
              "    <tr>\n",
              "      <th>top</th>\n",
              "      <td>NaN</td>\n",
              "      <td>NaN</td>\n",
              "      <td>NaN</td>\n",
              "      <td>F</td>\n",
              "      <td>NO</td>\n",
              "      <td>NaN</td>\n",
              "      <td>NaN</td>\n",
              "      <td>NaN</td>\n",
              "      <td>NaN</td>\n",
              "      <td>NaN</td>\n",
              "      <td>NaN</td>\n",
              "      <td>NaN</td>\n",
              "      <td>NaN</td>\n",
              "      <td>NaN</td>\n",
              "      <td>NaN</td>\n",
              "      <td>NaN</td>\n",
              "      <td>NaN</td>\n",
              "    </tr>\n",
              "    <tr>\n",
              "      <th>freq</th>\n",
              "      <td>NaN</td>\n",
              "      <td>NaN</td>\n",
              "      <td>NaN</td>\n",
              "      <td>1923</td>\n",
              "      <td>1703</td>\n",
              "      <td>NaN</td>\n",
              "      <td>NaN</td>\n",
              "      <td>NaN</td>\n",
              "      <td>NaN</td>\n",
              "      <td>NaN</td>\n",
              "      <td>NaN</td>\n",
              "      <td>NaN</td>\n",
              "      <td>NaN</td>\n",
              "      <td>NaN</td>\n",
              "      <td>NaN</td>\n",
              "      <td>NaN</td>\n",
              "      <td>NaN</td>\n",
              "    </tr>\n",
              "    <tr>\n",
              "      <th>mean</th>\n",
              "      <td>1694.500000</td>\n",
              "      <td>49.542183</td>\n",
              "      <td>1.970936</td>\n",
              "      <td>NaN</td>\n",
              "      <td>NaN</td>\n",
              "      <td>9.069477</td>\n",
              "      <td>0.029886</td>\n",
              "      <td>0.006490</td>\n",
              "      <td>0.315339</td>\n",
              "      <td>0.025664</td>\n",
              "      <td>237.074284</td>\n",
              "      <td>132.60118</td>\n",
              "      <td>82.883038</td>\n",
              "      <td>25.794964</td>\n",
              "      <td>75.977279</td>\n",
              "      <td>82.086520</td>\n",
              "      <td>0.150737</td>\n",
              "    </tr>\n",
              "    <tr>\n",
              "      <th>std</th>\n",
              "      <td>978.753033</td>\n",
              "      <td>8.592878</td>\n",
              "      <td>1.005915</td>\n",
              "      <td>NaN</td>\n",
              "      <td>NaN</td>\n",
              "      <td>11.840458</td>\n",
              "      <td>0.169190</td>\n",
              "      <td>0.080309</td>\n",
              "      <td>0.464719</td>\n",
              "      <td>0.158153</td>\n",
              "      <td>44.993041</td>\n",
              "      <td>22.29203</td>\n",
              "      <td>12.023581</td>\n",
              "      <td>4.106939</td>\n",
              "      <td>11.970102</td>\n",
              "      <td>23.131808</td>\n",
              "      <td>0.357846</td>\n",
              "    </tr>\n",
              "    <tr>\n",
              "      <th>min</th>\n",
              "      <td>0.000000</td>\n",
              "      <td>32.000000</td>\n",
              "      <td>1.000000</td>\n",
              "      <td>NaN</td>\n",
              "      <td>NaN</td>\n",
              "      <td>0.000000</td>\n",
              "      <td>0.000000</td>\n",
              "      <td>0.000000</td>\n",
              "      <td>0.000000</td>\n",
              "      <td>0.000000</td>\n",
              "      <td>107.000000</td>\n",
              "      <td>83.50000</td>\n",
              "      <td>48.000000</td>\n",
              "      <td>15.960000</td>\n",
              "      <td>45.000000</td>\n",
              "      <td>40.000000</td>\n",
              "      <td>0.000000</td>\n",
              "    </tr>\n",
              "    <tr>\n",
              "      <th>25%</th>\n",
              "      <td>847.250000</td>\n",
              "      <td>42.000000</td>\n",
              "      <td>1.000000</td>\n",
              "      <td>NaN</td>\n",
              "      <td>NaN</td>\n",
              "      <td>0.000000</td>\n",
              "      <td>0.000000</td>\n",
              "      <td>0.000000</td>\n",
              "      <td>0.000000</td>\n",
              "      <td>0.000000</td>\n",
              "      <td>206.000000</td>\n",
              "      <td>117.00000</td>\n",
              "      <td>74.500000</td>\n",
              "      <td>23.030000</td>\n",
              "      <td>68.000000</td>\n",
              "      <td>72.000000</td>\n",
              "      <td>0.000000</td>\n",
              "    </tr>\n",
              "    <tr>\n",
              "      <th>50%</th>\n",
              "      <td>1694.500000</td>\n",
              "      <td>49.000000</td>\n",
              "      <td>2.000000</td>\n",
              "      <td>NaN</td>\n",
              "      <td>NaN</td>\n",
              "      <td>0.000000</td>\n",
              "      <td>0.000000</td>\n",
              "      <td>0.000000</td>\n",
              "      <td>0.000000</td>\n",
              "      <td>0.000000</td>\n",
              "      <td>235.000000</td>\n",
              "      <td>128.50000</td>\n",
              "      <td>82.000000</td>\n",
              "      <td>25.400000</td>\n",
              "      <td>75.000000</td>\n",
              "      <td>80.000000</td>\n",
              "      <td>0.000000</td>\n",
              "    </tr>\n",
              "    <tr>\n",
              "      <th>75%</th>\n",
              "      <td>2541.750000</td>\n",
              "      <td>56.000000</td>\n",
              "      <td>3.000000</td>\n",
              "      <td>NaN</td>\n",
              "      <td>NaN</td>\n",
              "      <td>20.000000</td>\n",
              "      <td>0.000000</td>\n",
              "      <td>0.000000</td>\n",
              "      <td>1.000000</td>\n",
              "      <td>0.000000</td>\n",
              "      <td>264.000000</td>\n",
              "      <td>144.00000</td>\n",
              "      <td>90.000000</td>\n",
              "      <td>27.997500</td>\n",
              "      <td>83.000000</td>\n",
              "      <td>85.000000</td>\n",
              "      <td>0.000000</td>\n",
              "    </tr>\n",
              "    <tr>\n",
              "      <th>max</th>\n",
              "      <td>3389.000000</td>\n",
              "      <td>70.000000</td>\n",
              "      <td>4.000000</td>\n",
              "      <td>NaN</td>\n",
              "      <td>NaN</td>\n",
              "      <td>70.000000</td>\n",
              "      <td>1.000000</td>\n",
              "      <td>1.000000</td>\n",
              "      <td>1.000000</td>\n",
              "      <td>1.000000</td>\n",
              "      <td>696.000000</td>\n",
              "      <td>295.00000</td>\n",
              "      <td>142.500000</td>\n",
              "      <td>56.800000</td>\n",
              "      <td>143.000000</td>\n",
              "      <td>394.000000</td>\n",
              "      <td>1.000000</td>\n",
              "    </tr>\n",
              "  </tbody>\n",
              "</table>\n",
              "</div>\n",
              "      <button class=\"colab-df-convert\" onclick=\"convertToInteractive('df-5fa5285b-133b-4fec-907c-79d7aad2537f')\"\n",
              "              title=\"Convert this dataframe to an interactive table.\"\n",
              "              style=\"display:none;\">\n",
              "        \n",
              "  <svg xmlns=\"http://www.w3.org/2000/svg\" height=\"24px\"viewBox=\"0 0 24 24\"\n",
              "       width=\"24px\">\n",
              "    <path d=\"M0 0h24v24H0V0z\" fill=\"none\"/>\n",
              "    <path d=\"M18.56 5.44l.94 2.06.94-2.06 2.06-.94-2.06-.94-.94-2.06-.94 2.06-2.06.94zm-11 1L8.5 8.5l.94-2.06 2.06-.94-2.06-.94L8.5 2.5l-.94 2.06-2.06.94zm10 10l.94 2.06.94-2.06 2.06-.94-2.06-.94-.94-2.06-.94 2.06-2.06.94z\"/><path d=\"M17.41 7.96l-1.37-1.37c-.4-.4-.92-.59-1.43-.59-.52 0-1.04.2-1.43.59L10.3 9.45l-7.72 7.72c-.78.78-.78 2.05 0 2.83L4 21.41c.39.39.9.59 1.41.59.51 0 1.02-.2 1.41-.59l7.78-7.78 2.81-2.81c.8-.78.8-2.07 0-2.86zM5.41 20L4 18.59l7.72-7.72 1.47 1.35L5.41 20z\"/>\n",
              "  </svg>\n",
              "      </button>\n",
              "      \n",
              "  <style>\n",
              "    .colab-df-container {\n",
              "      display:flex;\n",
              "      flex-wrap:wrap;\n",
              "      gap: 12px;\n",
              "    }\n",
              "\n",
              "    .colab-df-convert {\n",
              "      background-color: #E8F0FE;\n",
              "      border: none;\n",
              "      border-radius: 50%;\n",
              "      cursor: pointer;\n",
              "      display: none;\n",
              "      fill: #1967D2;\n",
              "      height: 32px;\n",
              "      padding: 0 0 0 0;\n",
              "      width: 32px;\n",
              "    }\n",
              "\n",
              "    .colab-df-convert:hover {\n",
              "      background-color: #E2EBFA;\n",
              "      box-shadow: 0px 1px 2px rgba(60, 64, 67, 0.3), 0px 1px 3px 1px rgba(60, 64, 67, 0.15);\n",
              "      fill: #174EA6;\n",
              "    }\n",
              "\n",
              "    [theme=dark] .colab-df-convert {\n",
              "      background-color: #3B4455;\n",
              "      fill: #D2E3FC;\n",
              "    }\n",
              "\n",
              "    [theme=dark] .colab-df-convert:hover {\n",
              "      background-color: #434B5C;\n",
              "      box-shadow: 0px 1px 3px 1px rgba(0, 0, 0, 0.15);\n",
              "      filter: drop-shadow(0px 1px 2px rgba(0, 0, 0, 0.3));\n",
              "      fill: #FFFFFF;\n",
              "    }\n",
              "  </style>\n",
              "\n",
              "      <script>\n",
              "        const buttonEl =\n",
              "          document.querySelector('#df-5fa5285b-133b-4fec-907c-79d7aad2537f button.colab-df-convert');\n",
              "        buttonEl.style.display =\n",
              "          google.colab.kernel.accessAllowed ? 'block' : 'none';\n",
              "\n",
              "        async function convertToInteractive(key) {\n",
              "          const element = document.querySelector('#df-5fa5285b-133b-4fec-907c-79d7aad2537f');\n",
              "          const dataTable =\n",
              "            await google.colab.kernel.invokeFunction('convertToInteractive',\n",
              "                                                     [key], {});\n",
              "          if (!dataTable) return;\n",
              "\n",
              "          const docLinkHtml = 'Like what you see? Visit the ' +\n",
              "            '<a target=\"_blank\" href=https://colab.research.google.com/notebooks/data_table.ipynb>data table notebook</a>'\n",
              "            + ' to learn more about interactive tables.';\n",
              "          element.innerHTML = '';\n",
              "          dataTable['output_type'] = 'display_data';\n",
              "          await google.colab.output.renderOutput(dataTable, element);\n",
              "          const docLink = document.createElement('div');\n",
              "          docLink.innerHTML = docLinkHtml;\n",
              "          element.appendChild(docLink);\n",
              "        }\n",
              "      </script>\n",
              "    </div>\n",
              "  </div>\n",
              "  "
            ]
          },
          "metadata": {},
          "execution_count": 10
        }
      ]
    },
    {
      "cell_type": "code",
      "metadata": {
        "id": "PdAaZDJx6mdC",
        "colab": {
          "base_uri": "https://localhost:8080/"
        },
        "outputId": "635ba2ba-3da9-4be2-e4c4-abf64b77308b"
      },
      "source": [
        "# duplicate\n",
        "len(dataset[dataset.duplicated()])"
      ],
      "execution_count": 11,
      "outputs": [
        {
          "output_type": "execute_result",
          "data": {
            "text/plain": [
              "0"
            ]
          },
          "metadata": {},
          "execution_count": 11
        }
      ]
    },
    {
      "cell_type": "markdown",
      "source": [
        "**There are no duplicate in our datasets**"
      ],
      "metadata": {
        "id": "sP0pssFSOfHz"
      }
    },
    {
      "cell_type": "code",
      "metadata": {
        "colab": {
          "base_uri": "https://localhost:8080/"
        },
        "id": "Zahlh_VfRvF-",
        "outputId": "6a3a5533-85f1-45a3-d06c-11529f5691c6"
      },
      "source": [
        "dataset.columns"
      ],
      "execution_count": 12,
      "outputs": [
        {
          "output_type": "execute_result",
          "data": {
            "text/plain": [
              "Index(['id', 'age', 'education', 'sex', 'is_smoking', 'cigsPerDay', 'BPMeds',\n",
              "       'prevalentStroke', 'prevalentHyp', 'diabetes', 'totChol', 'sysBP',\n",
              "       'diaBP', 'BMI', 'heartRate', 'glucose', 'TenYearCHD'],\n",
              "      dtype='object')"
            ]
          },
          "metadata": {},
          "execution_count": 12
        }
      ]
    },
    {
      "cell_type": "markdown",
      "source": [
        "# **Data encoding**"
      ],
      "metadata": {
        "id": "v9iM88-HRZPO"
      }
    },
    {
      "cell_type": "markdown",
      "source": [
        "Before we start predicting, an important step to do is to convert our sex and is_smoking feature, which is a string, into integer. M will be converted to 1 and F will be converted to 0. Same for YES will be converted to 1 and NO will be converted to 0.We will name this new columns a \"Sex\" and \"Smoking\"."
      ],
      "metadata": {
        "id": "hMYYerR7KKse"
      }
    },
    {
      "cell_type": "code",
      "source": [
        "dataset['Sex'] = dataset['sex'].apply(lambda x : 1 if x == \"M\" else 0)\n",
        "\n"
      ],
      "metadata": {
        "id": "XoSMszzDKNnn"
      },
      "execution_count": 13,
      "outputs": []
    },
    {
      "cell_type": "code",
      "source": [
        "dataset['Smoking'] = dataset['is_smoking'].apply(lambda x : 1 if x == \"YES\" else 0)"
      ],
      "metadata": {
        "id": "4B0ovoRoLd4K"
      },
      "execution_count": 14,
      "outputs": []
    },
    {
      "cell_type": "code",
      "source": [
        "dataset = dataset.drop(['id','sex','is_smoking'],axis=1)"
      ],
      "metadata": {
        "id": "mrsKr-XGQf44"
      },
      "execution_count": 15,
      "outputs": []
    },
    {
      "cell_type": "code",
      "source": [
        "dataset.head()"
      ],
      "metadata": {
        "colab": {
          "base_uri": "https://localhost:8080/",
          "height": 270
        },
        "id": "fGv4AgRbKNxw",
        "outputId": "2dad9b06-d186-4018-c6fa-ed0ef8c10eb6"
      },
      "execution_count": 16,
      "outputs": [
        {
          "output_type": "execute_result",
          "data": {
            "text/plain": [
              "   age  education  cigsPerDay  BPMeds  prevalentStroke  prevalentHyp  \\\n",
              "0   64        2.0         3.0     0.0                0             0   \n",
              "1   36        4.0         0.0     0.0                0             1   \n",
              "2   46        1.0        10.0     0.0                0             0   \n",
              "3   50        1.0        20.0     0.0                0             1   \n",
              "4   64        1.0        30.0     0.0                0             0   \n",
              "\n",
              "   diabetes  totChol  sysBP  diaBP        BMI  heartRate  glucose  TenYearCHD  \\\n",
              "0         0    221.0  148.0   85.0  25.794964       90.0     80.0           1   \n",
              "1         0    212.0  168.0   98.0  29.770000       72.0     75.0           0   \n",
              "2         0    250.0  116.0   71.0  20.350000       88.0     94.0           0   \n",
              "3         0    233.0  158.0   88.0  28.260000       68.0     94.0           1   \n",
              "4         0    241.0  136.5   85.0  26.420000       70.0     77.0           0   \n",
              "\n",
              "   Sex  Smoking  \n",
              "0    0        1  \n",
              "1    1        0  \n",
              "2    0        1  \n",
              "3    1        1  \n",
              "4    0        1  "
            ],
            "text/html": [
              "\n",
              "  <div id=\"df-02109639-0bdd-4840-bb26-149d34366392\">\n",
              "    <div class=\"colab-df-container\">\n",
              "      <div>\n",
              "<style scoped>\n",
              "    .dataframe tbody tr th:only-of-type {\n",
              "        vertical-align: middle;\n",
              "    }\n",
              "\n",
              "    .dataframe tbody tr th {\n",
              "        vertical-align: top;\n",
              "    }\n",
              "\n",
              "    .dataframe thead th {\n",
              "        text-align: right;\n",
              "    }\n",
              "</style>\n",
              "<table border=\"1\" class=\"dataframe\">\n",
              "  <thead>\n",
              "    <tr style=\"text-align: right;\">\n",
              "      <th></th>\n",
              "      <th>age</th>\n",
              "      <th>education</th>\n",
              "      <th>cigsPerDay</th>\n",
              "      <th>BPMeds</th>\n",
              "      <th>prevalentStroke</th>\n",
              "      <th>prevalentHyp</th>\n",
              "      <th>diabetes</th>\n",
              "      <th>totChol</th>\n",
              "      <th>sysBP</th>\n",
              "      <th>diaBP</th>\n",
              "      <th>BMI</th>\n",
              "      <th>heartRate</th>\n",
              "      <th>glucose</th>\n",
              "      <th>TenYearCHD</th>\n",
              "      <th>Sex</th>\n",
              "      <th>Smoking</th>\n",
              "    </tr>\n",
              "  </thead>\n",
              "  <tbody>\n",
              "    <tr>\n",
              "      <th>0</th>\n",
              "      <td>64</td>\n",
              "      <td>2.0</td>\n",
              "      <td>3.0</td>\n",
              "      <td>0.0</td>\n",
              "      <td>0</td>\n",
              "      <td>0</td>\n",
              "      <td>0</td>\n",
              "      <td>221.0</td>\n",
              "      <td>148.0</td>\n",
              "      <td>85.0</td>\n",
              "      <td>25.794964</td>\n",
              "      <td>90.0</td>\n",
              "      <td>80.0</td>\n",
              "      <td>1</td>\n",
              "      <td>0</td>\n",
              "      <td>1</td>\n",
              "    </tr>\n",
              "    <tr>\n",
              "      <th>1</th>\n",
              "      <td>36</td>\n",
              "      <td>4.0</td>\n",
              "      <td>0.0</td>\n",
              "      <td>0.0</td>\n",
              "      <td>0</td>\n",
              "      <td>1</td>\n",
              "      <td>0</td>\n",
              "      <td>212.0</td>\n",
              "      <td>168.0</td>\n",
              "      <td>98.0</td>\n",
              "      <td>29.770000</td>\n",
              "      <td>72.0</td>\n",
              "      <td>75.0</td>\n",
              "      <td>0</td>\n",
              "      <td>1</td>\n",
              "      <td>0</td>\n",
              "    </tr>\n",
              "    <tr>\n",
              "      <th>2</th>\n",
              "      <td>46</td>\n",
              "      <td>1.0</td>\n",
              "      <td>10.0</td>\n",
              "      <td>0.0</td>\n",
              "      <td>0</td>\n",
              "      <td>0</td>\n",
              "      <td>0</td>\n",
              "      <td>250.0</td>\n",
              "      <td>116.0</td>\n",
              "      <td>71.0</td>\n",
              "      <td>20.350000</td>\n",
              "      <td>88.0</td>\n",
              "      <td>94.0</td>\n",
              "      <td>0</td>\n",
              "      <td>0</td>\n",
              "      <td>1</td>\n",
              "    </tr>\n",
              "    <tr>\n",
              "      <th>3</th>\n",
              "      <td>50</td>\n",
              "      <td>1.0</td>\n",
              "      <td>20.0</td>\n",
              "      <td>0.0</td>\n",
              "      <td>0</td>\n",
              "      <td>1</td>\n",
              "      <td>0</td>\n",
              "      <td>233.0</td>\n",
              "      <td>158.0</td>\n",
              "      <td>88.0</td>\n",
              "      <td>28.260000</td>\n",
              "      <td>68.0</td>\n",
              "      <td>94.0</td>\n",
              "      <td>1</td>\n",
              "      <td>1</td>\n",
              "      <td>1</td>\n",
              "    </tr>\n",
              "    <tr>\n",
              "      <th>4</th>\n",
              "      <td>64</td>\n",
              "      <td>1.0</td>\n",
              "      <td>30.0</td>\n",
              "      <td>0.0</td>\n",
              "      <td>0</td>\n",
              "      <td>0</td>\n",
              "      <td>0</td>\n",
              "      <td>241.0</td>\n",
              "      <td>136.5</td>\n",
              "      <td>85.0</td>\n",
              "      <td>26.420000</td>\n",
              "      <td>70.0</td>\n",
              "      <td>77.0</td>\n",
              "      <td>0</td>\n",
              "      <td>0</td>\n",
              "      <td>1</td>\n",
              "    </tr>\n",
              "  </tbody>\n",
              "</table>\n",
              "</div>\n",
              "      <button class=\"colab-df-convert\" onclick=\"convertToInteractive('df-02109639-0bdd-4840-bb26-149d34366392')\"\n",
              "              title=\"Convert this dataframe to an interactive table.\"\n",
              "              style=\"display:none;\">\n",
              "        \n",
              "  <svg xmlns=\"http://www.w3.org/2000/svg\" height=\"24px\"viewBox=\"0 0 24 24\"\n",
              "       width=\"24px\">\n",
              "    <path d=\"M0 0h24v24H0V0z\" fill=\"none\"/>\n",
              "    <path d=\"M18.56 5.44l.94 2.06.94-2.06 2.06-.94-2.06-.94-.94-2.06-.94 2.06-2.06.94zm-11 1L8.5 8.5l.94-2.06 2.06-.94-2.06-.94L8.5 2.5l-.94 2.06-2.06.94zm10 10l.94 2.06.94-2.06 2.06-.94-2.06-.94-.94-2.06-.94 2.06-2.06.94z\"/><path d=\"M17.41 7.96l-1.37-1.37c-.4-.4-.92-.59-1.43-.59-.52 0-1.04.2-1.43.59L10.3 9.45l-7.72 7.72c-.78.78-.78 2.05 0 2.83L4 21.41c.39.39.9.59 1.41.59.51 0 1.02-.2 1.41-.59l7.78-7.78 2.81-2.81c.8-.78.8-2.07 0-2.86zM5.41 20L4 18.59l7.72-7.72 1.47 1.35L5.41 20z\"/>\n",
              "  </svg>\n",
              "      </button>\n",
              "      \n",
              "  <style>\n",
              "    .colab-df-container {\n",
              "      display:flex;\n",
              "      flex-wrap:wrap;\n",
              "      gap: 12px;\n",
              "    }\n",
              "\n",
              "    .colab-df-convert {\n",
              "      background-color: #E8F0FE;\n",
              "      border: none;\n",
              "      border-radius: 50%;\n",
              "      cursor: pointer;\n",
              "      display: none;\n",
              "      fill: #1967D2;\n",
              "      height: 32px;\n",
              "      padding: 0 0 0 0;\n",
              "      width: 32px;\n",
              "    }\n",
              "\n",
              "    .colab-df-convert:hover {\n",
              "      background-color: #E2EBFA;\n",
              "      box-shadow: 0px 1px 2px rgba(60, 64, 67, 0.3), 0px 1px 3px 1px rgba(60, 64, 67, 0.15);\n",
              "      fill: #174EA6;\n",
              "    }\n",
              "\n",
              "    [theme=dark] .colab-df-convert {\n",
              "      background-color: #3B4455;\n",
              "      fill: #D2E3FC;\n",
              "    }\n",
              "\n",
              "    [theme=dark] .colab-df-convert:hover {\n",
              "      background-color: #434B5C;\n",
              "      box-shadow: 0px 1px 3px 1px rgba(0, 0, 0, 0.15);\n",
              "      filter: drop-shadow(0px 1px 2px rgba(0, 0, 0, 0.3));\n",
              "      fill: #FFFFFF;\n",
              "    }\n",
              "  </style>\n",
              "\n",
              "      <script>\n",
              "        const buttonEl =\n",
              "          document.querySelector('#df-02109639-0bdd-4840-bb26-149d34366392 button.colab-df-convert');\n",
              "        buttonEl.style.display =\n",
              "          google.colab.kernel.accessAllowed ? 'block' : 'none';\n",
              "\n",
              "        async function convertToInteractive(key) {\n",
              "          const element = document.querySelector('#df-02109639-0bdd-4840-bb26-149d34366392');\n",
              "          const dataTable =\n",
              "            await google.colab.kernel.invokeFunction('convertToInteractive',\n",
              "                                                     [key], {});\n",
              "          if (!dataTable) return;\n",
              "\n",
              "          const docLinkHtml = 'Like what you see? Visit the ' +\n",
              "            '<a target=\"_blank\" href=https://colab.research.google.com/notebooks/data_table.ipynb>data table notebook</a>'\n",
              "            + ' to learn more about interactive tables.';\n",
              "          element.innerHTML = '';\n",
              "          dataTable['output_type'] = 'display_data';\n",
              "          await google.colab.output.renderOutput(dataTable, element);\n",
              "          const docLink = document.createElement('div');\n",
              "          docLink.innerHTML = docLinkHtml;\n",
              "          element.appendChild(docLink);\n",
              "        }\n",
              "      </script>\n",
              "    </div>\n",
              "  </div>\n",
              "  "
            ]
          },
          "metadata": {},
          "execution_count": 16
        }
      ]
    },
    {
      "cell_type": "markdown",
      "source": [
        "# **Exploring Dependent Variable**"
      ],
      "metadata": {
        "id": "QKFx92yLInkd"
      }
    },
    {
      "cell_type": "code",
      "metadata": {
        "id": "5Tm3bSFU0dyI",
        "colab": {
          "base_uri": "https://localhost:8080/"
        },
        "outputId": "d9f3065c-b924-4688-9b39-817974f09c5b"
      },
      "source": [
        "dataset['TenYearCHD'].value_counts()"
      ],
      "execution_count": 17,
      "outputs": [
        {
          "output_type": "execute_result",
          "data": {
            "text/plain": [
              "0    2879\n",
              "1     511\n",
              "Name: TenYearCHD, dtype: int64"
            ]
          },
          "metadata": {},
          "execution_count": 17
        }
      ]
    },
    {
      "cell_type": "markdown",
      "metadata": {
        "id": "kmZN8zJTXXgH"
      },
      "source": [
        "# **Exploratory Data Analysis**"
      ]
    },
    {
      "cell_type": "code",
      "source": [
        "sns.countplot(x=dataset['TenYearCHD'])"
      ],
      "metadata": {
        "colab": {
          "base_uri": "https://localhost:8080/",
          "height": 299
        },
        "id": "OA63wWLtJtiP",
        "outputId": "afd2cbf1-0e10-48fb-96f3-72732b5c13f9"
      },
      "execution_count": 18,
      "outputs": [
        {
          "output_type": "execute_result",
          "data": {
            "text/plain": [
              "<matplotlib.axes._subplots.AxesSubplot at 0x7fd11848fb50>"
            ]
          },
          "metadata": {},
          "execution_count": 18
        },
        {
          "output_type": "display_data",
          "data": {
            "text/plain": [
              "<Figure size 432x288 with 1 Axes>"
            ],
            "image/png": "[encoded data removed]"
          },
          "metadata": {
            "needs_background": "light"
          }
        }
      ]
    },
    {
      "cell_type": "code",
      "source": [
        "fig, axes = plt.subplots(figsize=(15,5))\n",
        "sns.countplot(x='age',hue='TenYearCHD',data=dataset,palette='colorblind',edgecolor=sns.color_palette('dark'))"
      ],
      "metadata": {
        "colab": {
          "base_uri": "https://localhost:8080/",
          "height": 351
        },
        "id": "zt28UPS6dZtc",
        "outputId": "8a1f1c9a-b97f-4e08-cb78-55b8d8f81c0f"
      },
      "execution_count": 19,
      "outputs": [
        {
          "output_type": "execute_result",
          "data": {
            "text/plain": [
              "<matplotlib.axes._subplots.AxesSubplot at 0x7fd1184d0ad0>"
            ]
          },
          "metadata": {},
          "execution_count": 19
        },
        {
          "output_type": "display_data",
          "data": {
            "text/plain": [
              "<Figure size 1080x360 with 1 Axes>"
            ],
            "image/png": "[encoded data removed]"
          },
          "metadata": {
            "needs_background": "light"
          }
        }
      ]
    },
    {
      "cell_type": "code",
      "source": [
        "bins = [20,40,60, 80, np.nan]\n",
        "labels = ['Young','Adults', 'Senior', 'Super_Senior']\n",
        "\n",
        "dataset['age_group'] = pd.cut(dataset['age'], bins=bins, labels=labels)\n",
        "\n",
        "print('Percentage of Senior people lose their life :', dataset['TenYearCHD'][dataset['age_group']=='Senior'].value_counts(normalize=True)[1]*100)\n",
        "\n",
        "sns.barplot(x='age_group', y='TenYearCHD', data=dataset)\n",
        "plt.show()"
      ],
      "metadata": {
        "colab": {
          "base_uri": "https://localhost:8080/",
          "height": 297
        },
        "id": "UWbAQZSktj5A",
        "outputId": "abc66e30-5169-494c-a86b-8fd9bf149d79"
      },
      "execution_count": 20,
      "outputs": [
        {
          "output_type": "stream",
          "name": "stdout",
          "text": [
            "Percentage of Senior people lose their life : 29.22077922077922\n"
          ]
        },
        {
          "output_type": "display_data",
          "data": {
            "text/plain": [
              "<Figure size 432x288 with 1 Axes>"
            ],
            "image/png": "[encoded data removed]"
          },
          "metadata": {
            "needs_background": "light"
          }
        }
      ]
    },
    {
      "cell_type": "code",
      "source": [
        "# understanding distribution of data before imputation\n",
        "fig = plt.figure(figsize = (15,20))\n",
        "ax = fig.gca()\n",
        "dataset.hist(ax = ax)\n",
        "plt.show()"
      ],
      "metadata": {
        "colab": {
          "base_uri": "https://localhost:8080/",
          "height": 1000
        },
        "id": "L1396J6YQGbR",
        "outputId": "86fe9213-df8d-42f2-a1e1-174d6019c6b0"
      },
      "execution_count": 21,
      "outputs": [
        {
          "output_type": "stream",
          "name": "stderr",
          "text": [
            "/usr/local/lib/python3.7/dist-packages/ipykernel_launcher.py:4: UserWarning: To output multiple subplots, the figure containing the passed axes is being cleared\n",
            "  after removing the cwd from sys.path.\n"
          ]
        },
        {
          "output_type": "display_data",
          "data": {
            "text/plain": [
              "<Figure size 1080x1440 with 16 Axes>"
            ],
            "image/png": "[encoded data removed]"
          },
          "metadata": {
            "needs_background": "light"
          }
        }
      ]
    },
    {
      "cell_type": "code",
      "source": [
        "fig, axes = plt.subplots(1,2,figsize=(10,5))\n",
        "sns.distplot(dataset['cigsPerDay'], ax=axes[0])\n",
        "sns.boxplot(dataset['cigsPerDay'], ax=axes[1])"
      ],
      "metadata": {
        "colab": {
          "base_uri": "https://localhost:8080/",
          "height": 441
        },
        "id": "UafJwewlPj3M",
        "outputId": "d5b04af3-91bd-4fc3-add7-40c64171486b"
      },
      "execution_count": 22,
      "outputs": [
        {
          "output_type": "stream",
          "name": "stderr",
          "text": [
            "/usr/local/lib/python3.7/dist-packages/seaborn/distributions.py:2619: FutureWarning: `distplot` is a deprecated function and will be removed in a future version. Please adapt your code to use either `displot` (a figure-level function with similar flexibility) or `histplot` (an axes-level function for histograms).\n",
            "  warnings.warn(msg, FutureWarning)\n",
            "/usr/local/lib/python3.7/dist-packages/seaborn/_decorators.py:43: FutureWarning: Pass the following variable as a keyword arg: x. From version 0.12, the only valid positional argument will be `data`, and passing other arguments without an explicit keyword will result in an error or misinterpretation.\n",
            "  FutureWarning\n"
          ]
        },
        {
          "output_type": "execute_result",
          "data": {
            "text/plain": [
              "<matplotlib.axes._subplots.AxesSubplot at 0x7fd11741f390>"
            ]
          },
          "metadata": {},
          "execution_count": 22
        },
        {
          "output_type": "display_data",
          "data": {
            "text/plain": [
              "<Figure size 720x360 with 2 Axes>"
            ],
            "image/png": "[encoded data removed]"
          },
          "metadata": {
            "needs_background": "light"
          }
        }
      ]
    },
    {
      "cell_type": "code",
      "source": [
        "fig, axes = plt.subplots(1,2,figsize=(10,5))\n",
        "sns.distplot(dataset['totChol'], ax=axes[0])\n",
        "sns.boxplot(dataset['totChol'], ax=axes[1])"
      ],
      "metadata": {
        "colab": {
          "base_uri": "https://localhost:8080/",
          "height": 441
        },
        "id": "TdIDLjtbhkTx",
        "outputId": "94b565c3-2186-41c9-8db1-f74f651f85c4"
      },
      "execution_count": 23,
      "outputs": [
        {
          "output_type": "stream",
          "name": "stderr",
          "text": [
            "/usr/local/lib/python3.7/dist-packages/seaborn/distributions.py:2619: FutureWarning: `distplot` is a deprecated function and will be removed in a future version. Please adapt your code to use either `displot` (a figure-level function with similar flexibility) or `histplot` (an axes-level function for histograms).\n",
            "  warnings.warn(msg, FutureWarning)\n",
            "/usr/local/lib/python3.7/dist-packages/seaborn/_decorators.py:43: FutureWarning: Pass the following variable as a keyword arg: x. From version 0.12, the only valid positional argument will be `data`, and passing other arguments without an explicit keyword will result in an error or misinterpretation.\n",
            "  FutureWarning\n"
          ]
        },
        {
          "output_type": "execute_result",
          "data": {
            "text/plain": [
              "<matplotlib.axes._subplots.AxesSubplot at 0x7fd115a86290>"
            ]
          },
          "metadata": {},
          "execution_count": 23
        },
        {
          "output_type": "display_data",
          "data": {
            "text/plain": [
              "<Figure size 720x360 with 2 Axes>"
            ],
            "image/png": "[encoded data removed]"
          },
          "metadata": {
            "needs_background": "light"
          }
        }
      ]
    },
    {
      "cell_type": "code",
      "source": [
        "fig, axes = plt.subplots(1,2,figsize=(10,5))\n",
        "sns.distplot(dataset['BMI'], ax=axes[0])\n",
        "sns.boxplot(dataset['BMI'], ax=axes[1])"
      ],
      "metadata": {
        "colab": {
          "base_uri": "https://localhost:8080/",
          "height": 441
        },
        "id": "cvqhGYiEhxS4",
        "outputId": "49479f64-c062-4c0d-f8f5-9137cb704295"
      },
      "execution_count": 24,
      "outputs": [
        {
          "output_type": "stream",
          "name": "stderr",
          "text": [
            "/usr/local/lib/python3.7/dist-packages/seaborn/distributions.py:2619: FutureWarning: `distplot` is a deprecated function and will be removed in a future version. Please adapt your code to use either `displot` (a figure-level function with similar flexibility) or `histplot` (an axes-level function for histograms).\n",
            "  warnings.warn(msg, FutureWarning)\n",
            "/usr/local/lib/python3.7/dist-packages/seaborn/_decorators.py:43: FutureWarning: Pass the following variable as a keyword arg: x. From version 0.12, the only valid positional argument will be `data`, and passing other arguments without an explicit keyword will result in an error or misinterpretation.\n",
            "  FutureWarning\n"
          ]
        },
        {
          "output_type": "execute_result",
          "data": {
            "text/plain": [
              "<matplotlib.axes._subplots.AxesSubplot at 0x7fd115978950>"
            ]
          },
          "metadata": {},
          "execution_count": 24
        },
        {
          "output_type": "display_data",
          "data": {
            "text/plain": [
              "<Figure size 720x360 with 2 Axes>"
            ],
            "image/png": "[encoded data removed]"
          },
          "metadata": {
            "needs_background": "light"
          }
        }
      ]
    },
    {
      "cell_type": "code",
      "source": [
        "fig, axes = plt.subplots(1,2,figsize=(10,5))\n",
        "sns.distplot(dataset['heartRate'], ax=axes[0])\n",
        "sns.boxplot(dataset['heartRate'], ax=axes[1])"
      ],
      "metadata": {
        "colab": {
          "base_uri": "https://localhost:8080/",
          "height": 441
        },
        "id": "0iW02dsXiB1w",
        "outputId": "62cdb103-16e0-4da0-d03e-e9d21625fd2a"
      },
      "execution_count": 25,
      "outputs": [
        {
          "output_type": "stream",
          "name": "stderr",
          "text": [
            "/usr/local/lib/python3.7/dist-packages/seaborn/distributions.py:2619: FutureWarning: `distplot` is a deprecated function and will be removed in a future version. Please adapt your code to use either `displot` (a figure-level function with similar flexibility) or `histplot` (an axes-level function for histograms).\n",
            "  warnings.warn(msg, FutureWarning)\n",
            "/usr/local/lib/python3.7/dist-packages/seaborn/_decorators.py:43: FutureWarning: Pass the following variable as a keyword arg: x. From version 0.12, the only valid positional argument will be `data`, and passing other arguments without an explicit keyword will result in an error or misinterpretation.\n",
            "  FutureWarning\n"
          ]
        },
        {
          "output_type": "execute_result",
          "data": {
            "text/plain": [
              "<matplotlib.axes._subplots.AxesSubplot at 0x7fd1157cec10>"
            ]
          },
          "metadata": {},
          "execution_count": 25
        },
        {
          "output_type": "display_data",
          "data": {
            "text/plain": [
              "<Figure size 720x360 with 2 Axes>"
            ],
            "image/png": "[encoded data removed]"
          },
          "metadata": {
            "needs_background": "light"
          }
        }
      ]
    },
    {
      "cell_type": "code",
      "source": [
        "fig, axes = plt.subplots(1,2,figsize=(10,5))\n",
        "sns.distplot(dataset['glucose'], ax=axes[0])\n",
        "sns.boxplot(dataset['glucose'], ax=axes[1])"
      ],
      "metadata": {
        "colab": {
          "base_uri": "https://localhost:8080/",
          "height": 441
        },
        "id": "8GO4nyMliCcN",
        "outputId": "08990fc7-a497-498f-8e6a-40e7cb52240d"
      },
      "execution_count": 26,
      "outputs": [
        {
          "output_type": "stream",
          "name": "stderr",
          "text": [
            "/usr/local/lib/python3.7/dist-packages/seaborn/distributions.py:2619: FutureWarning: `distplot` is a deprecated function and will be removed in a future version. Please adapt your code to use either `displot` (a figure-level function with similar flexibility) or `histplot` (an axes-level function for histograms).\n",
            "  warnings.warn(msg, FutureWarning)\n",
            "/usr/local/lib/python3.7/dist-packages/seaborn/_decorators.py:43: FutureWarning: Pass the following variable as a keyword arg: x. From version 0.12, the only valid positional argument will be `data`, and passing other arguments without an explicit keyword will result in an error or misinterpretation.\n",
            "  FutureWarning\n"
          ]
        },
        {
          "output_type": "execute_result",
          "data": {
            "text/plain": [
              "<matplotlib.axes._subplots.AxesSubplot at 0x7fd1156b87d0>"
            ]
          },
          "metadata": {},
          "execution_count": 26
        },
        {
          "output_type": "display_data",
          "data": {
            "text/plain": [
              "<Figure size 720x360 with 2 Axes>"
            ],
            "image/png": "[encoded data removed]"
          },
          "metadata": {
            "needs_background": "light"
          }
        }
      ]
    },
    {
      "cell_type": "code",
      "source": [
        "fig, axes = plt.subplots(1,2,figsize=(10,5))\n",
        "sns.distplot(dataset['sysBP'], ax=axes[0])\n",
        "sns.boxplot(dataset['sysBP'], ax=axes[1])"
      ],
      "metadata": {
        "colab": {
          "base_uri": "https://localhost:8080/",
          "height": 441
        },
        "id": "1kYsOTPUixOe",
        "outputId": "654f7c92-dc91-490b-d436-0f460b1be369"
      },
      "execution_count": 27,
      "outputs": [
        {
          "output_type": "stream",
          "name": "stderr",
          "text": [
            "/usr/local/lib/python3.7/dist-packages/seaborn/distributions.py:2619: FutureWarning: `distplot` is a deprecated function and will be removed in a future version. Please adapt your code to use either `displot` (a figure-level function with similar flexibility) or `histplot` (an axes-level function for histograms).\n",
            "  warnings.warn(msg, FutureWarning)\n",
            "/usr/local/lib/python3.7/dist-packages/seaborn/_decorators.py:43: FutureWarning: Pass the following variable as a keyword arg: x. From version 0.12, the only valid positional argument will be `data`, and passing other arguments without an explicit keyword will result in an error or misinterpretation.\n",
            "  FutureWarning\n"
          ]
        },
        {
          "output_type": "execute_result",
          "data": {
            "text/plain": [
              "<matplotlib.axes._subplots.AxesSubplot at 0x7fd117c86110>"
            ]
          },
          "metadata": {},
          "execution_count": 27
        },
        {
          "output_type": "display_data",
          "data": {
            "text/plain": [
              "<Figure size 720x360 with 2 Axes>"
            ],
            "image/png": "[encoded data removed]"
          },
          "metadata": {
            "needs_background": "light"
          }
        }
      ]
    },
    {
      "cell_type": "code",
      "source": [
        "fig, axes = plt.subplots(1,2,figsize=(10,5))\n",
        "sns.distplot(dataset['diaBP'], ax=axes[0])\n",
        "sns.boxplot(dataset['diaBP'], ax=axes[1])"
      ],
      "metadata": {
        "colab": {
          "base_uri": "https://localhost:8080/",
          "height": 441
        },
        "id": "nxFrAAgSjMNO",
        "outputId": "4765f28b-1f16-45ac-cb91-ba0f3654c063"
      },
      "execution_count": 28,
      "outputs": [
        {
          "output_type": "stream",
          "name": "stderr",
          "text": [
            "/usr/local/lib/python3.7/dist-packages/seaborn/distributions.py:2619: FutureWarning: `distplot` is a deprecated function and will be removed in a future version. Please adapt your code to use either `displot` (a figure-level function with similar flexibility) or `histplot` (an axes-level function for histograms).\n",
            "  warnings.warn(msg, FutureWarning)\n",
            "/usr/local/lib/python3.7/dist-packages/seaborn/_decorators.py:43: FutureWarning: Pass the following variable as a keyword arg: x. From version 0.12, the only valid positional argument will be `data`, and passing other arguments without an explicit keyword will result in an error or misinterpretation.\n",
            "  FutureWarning\n"
          ]
        },
        {
          "output_type": "execute_result",
          "data": {
            "text/plain": [
              "<matplotlib.axes._subplots.AxesSubplot at 0x7fd1153d7bd0>"
            ]
          },
          "metadata": {},
          "execution_count": 28
        },
        {
          "output_type": "display_data",
          "data": {
            "text/plain": [
              "<Figure size 720x360 with 2 Axes>"
            ],
            "image/png": "[encoded data removed]"
          },
          "metadata": {
            "needs_background": "light"
          }
        }
      ]
    },
    {
      "cell_type": "code",
      "source": [
        "sns.barplot(data=dataset,x='Sex',y='age',hue='TenYearCHD',palette='husl')"
      ],
      "metadata": {
        "colab": {
          "base_uri": "https://localhost:8080/",
          "height": 296
        },
        "id": "kQ07W_eKSoJc",
        "outputId": "cf303139-cef0-4721-b365-8c7460002a9d"
      },
      "execution_count": 29,
      "outputs": [
        {
          "output_type": "execute_result",
          "data": {
            "text/plain": [
              "<matplotlib.axes._subplots.AxesSubplot at 0x7fd115298ed0>"
            ]
          },
          "metadata": {},
          "execution_count": 29
        },
        {
          "output_type": "display_data",
          "data": {
            "text/plain": [
              "<Figure size 432x288 with 1 Axes>"
            ],
            "image/png": "[encoded data removed]"
          },
          "metadata": {
            "needs_background": "light"
          }
        }
      ]
    },
    {
      "cell_type": "code",
      "source": [
        "sns.catplot(data=dataset,x='Sex',y='age',hue='TenYearCHD',palette='husl')"
      ],
      "metadata": {
        "colab": {
          "base_uri": "https://localhost:8080/",
          "height": 386
        },
        "id": "oNcDRkZWd9GR",
        "outputId": "764aa98b-b999-44ca-b08f-078b9bafe75c"
      },
      "execution_count": 30,
      "outputs": [
        {
          "output_type": "execute_result",
          "data": {
            "text/plain": [
              "<seaborn.axisgrid.FacetGrid at 0x7fd115265110>"
            ]
          },
          "metadata": {},
          "execution_count": 30
        },
        {
          "output_type": "display_data",
          "data": {
            "text/plain": [
              "<Figure size 427.875x360 with 1 Axes>"
            ],
            "image/png": "[encoded data removed]"
          },
          "metadata": {
            "needs_background": "light"
          }
        }
      ]
    },
    {
      "cell_type": "code",
      "source": [
        "dataset.groupby(['TenYearCHD'])['age','sysBP','diaBP','heartRate','BMI','glucose','diabetes','Smoking','prevalentHyp'].count().sort_values(by='TenYearCHD',ascending=False).head(10)"
      ],
      "metadata": {
        "colab": {
          "base_uri": "https://localhost:8080/",
          "height": 198
        },
        "id": "tgeFTHB-0rv6",
        "outputId": "e426da58-2bc4-4b95-a5f0-2f403bc06a63"
      },
      "execution_count": 31,
      "outputs": [
        {
          "output_type": "stream",
          "name": "stderr",
          "text": [
            "/usr/local/lib/python3.7/dist-packages/ipykernel_launcher.py:1: FutureWarning: Indexing with multiple keys (implicitly converted to a tuple of keys) will be deprecated, use a list instead.\n",
            "  \"\"\"Entry point for launching an IPython kernel.\n"
          ]
        },
        {
          "output_type": "execute_result",
          "data": {
            "text/plain": [
              "             age  sysBP  diaBP  heartRate   BMI  glucose  diabetes  Smoking  \\\n",
              "TenYearCHD                                                                    \n",
              "1            511    511    511        511   511      511       511      511   \n",
              "0           2879   2879   2879       2879  2879     2879      2879     2879   \n",
              "\n",
              "            prevalentHyp  \n",
              "TenYearCHD                \n",
              "1                    511  \n",
              "0                   2879  "
            ],
            "text/html": [
              "\n",
              "  <div id=\"df-bb150e96-5f51-4980-b592-d47c8fddd8c6\">\n",
              "    <div class=\"colab-df-container\">\n",
              "      <div>\n",
              "<style scoped>\n",
              "    .dataframe tbody tr th:only-of-type {\n",
              "        vertical-align: middle;\n",
              "    }\n",
              "\n",
              "    .dataframe tbody tr th {\n",
              "        vertical-align: top;\n",
              "    }\n",
              "\n",
              "    .dataframe thead th {\n",
              "        text-align: right;\n",
              "    }\n",
              "</style>\n",
              "<table border=\"1\" class=\"dataframe\">\n",
              "  <thead>\n",
              "    <tr style=\"text-align: right;\">\n",
              "      <th></th>\n",
              "      <th>age</th>\n",
              "      <th>sysBP</th>\n",
              "      <th>diaBP</th>\n",
              "      <th>heartRate</th>\n",
              "      <th>BMI</th>\n",
              "      <th>glucose</th>\n",
              "      <th>diabetes</th>\n",
              "      <th>Smoking</th>\n",
              "      <th>prevalentHyp</th>\n",
              "    </tr>\n",
              "    <tr>\n",
              "      <th>TenYearCHD</th>\n",
              "      <th></th>\n",
              "      <th></th>\n",
              "      <th></th>\n",
              "      <th></th>\n",
              "      <th></th>\n",
              "      <th></th>\n",
              "      <th></th>\n",
              "      <th></th>\n",
              "      <th></th>\n",
              "    </tr>\n",
              "  </thead>\n",
              "  <tbody>\n",
              "    <tr>\n",
              "      <th>1</th>\n",
              "      <td>511</td>\n",
              "      <td>511</td>\n",
              "      <td>511</td>\n",
              "      <td>511</td>\n",
              "      <td>511</td>\n",
              "      <td>511</td>\n",
              "      <td>511</td>\n",
              "      <td>511</td>\n",
              "      <td>511</td>\n",
              "    </tr>\n",
              "    <tr>\n",
              "      <th>0</th>\n",
              "      <td>2879</td>\n",
              "      <td>2879</td>\n",
              "      <td>2879</td>\n",
              "      <td>2879</td>\n",
              "      <td>2879</td>\n",
              "      <td>2879</td>\n",
              "      <td>2879</td>\n",
              "      <td>2879</td>\n",
              "      <td>2879</td>\n",
              "    </tr>\n",
              "  </tbody>\n",
              "</table>\n",
              "</div>\n",
              "      <button class=\"colab-df-convert\" onclick=\"convertToInteractive('df-bb150e96-5f51-4980-b592-d47c8fddd8c6')\"\n",
              "              title=\"Convert this dataframe to an interactive table.\"\n",
              "              style=\"display:none;\">\n",
              "        \n",
              "  <svg xmlns=\"http://www.w3.org/2000/svg\" height=\"24px\"viewBox=\"0 0 24 24\"\n",
              "       width=\"24px\">\n",
              "    <path d=\"M0 0h24v24H0V0z\" fill=\"none\"/>\n",
              "    <path d=\"M18.56 5.44l.94 2.06.94-2.06 2.06-.94-2.06-.94-.94-2.06-.94 2.06-2.06.94zm-11 1L8.5 8.5l.94-2.06 2.06-.94-2.06-.94L8.5 2.5l-.94 2.06-2.06.94zm10 10l.94 2.06.94-2.06 2.06-.94-2.06-.94-.94-2.06-.94 2.06-2.06.94z\"/><path d=\"M17.41 7.96l-1.37-1.37c-.4-.4-.92-.59-1.43-.59-.52 0-1.04.2-1.43.59L10.3 9.45l-7.72 7.72c-.78.78-.78 2.05 0 2.83L4 21.41c.39.39.9.59 1.41.59.51 0 1.02-.2 1.41-.59l7.78-7.78 2.81-2.81c.8-.78.8-2.07 0-2.86zM5.41 20L4 18.59l7.72-7.72 1.47 1.35L5.41 20z\"/>\n",
              "  </svg>\n",
              "      </button>\n",
              "      \n",
              "  <style>\n",
              "    .colab-df-container {\n",
              "      display:flex;\n",
              "      flex-wrap:wrap;\n",
              "      gap: 12px;\n",
              "    }\n",
              "\n",
              "    .colab-df-convert {\n",
              "      background-color: #E8F0FE;\n",
              "      border: none;\n",
              "      border-radius: 50%;\n",
              "      cursor: pointer;\n",
              "      display: none;\n",
              "      fill: #1967D2;\n",
              "      height: 32px;\n",
              "      padding: 0 0 0 0;\n",
              "      width: 32px;\n",
              "    }\n",
              "\n",
              "    .colab-df-convert:hover {\n",
              "      background-color: #E2EBFA;\n",
              "      box-shadow: 0px 1px 2px rgba(60, 64, 67, 0.3), 0px 1px 3px 1px rgba(60, 64, 67, 0.15);\n",
              "      fill: #174EA6;\n",
              "    }\n",
              "\n",
              "    [theme=dark] .colab-df-convert {\n",
              "      background-color: #3B4455;\n",
              "      fill: #D2E3FC;\n",
              "    }\n",
              "\n",
              "    [theme=dark] .colab-df-convert:hover {\n",
              "      background-color: #434B5C;\n",
              "      box-shadow: 0px 1px 3px 1px rgba(0, 0, 0, 0.15);\n",
              "      filter: drop-shadow(0px 1px 2px rgba(0, 0, 0, 0.3));\n",
              "      fill: #FFFFFF;\n",
              "    }\n",
              "  </style>\n",
              "\n",
              "      <script>\n",
              "        const buttonEl =\n",
              "          document.querySelector('#df-bb150e96-5f51-4980-b592-d47c8fddd8c6 button.colab-df-convert');\n",
              "        buttonEl.style.display =\n",
              "          google.colab.kernel.accessAllowed ? 'block' : 'none';\n",
              "\n",
              "        async function convertToInteractive(key) {\n",
              "          const element = document.querySelector('#df-bb150e96-5f51-4980-b592-d47c8fddd8c6');\n",
              "          const dataTable =\n",
              "            await google.colab.kernel.invokeFunction('convertToInteractive',\n",
              "                                                     [key], {});\n",
              "          if (!dataTable) return;\n",
              "\n",
              "          const docLinkHtml = 'Like what you see? Visit the ' +\n",
              "            '<a target=\"_blank\" href=https://colab.research.google.com/notebooks/data_table.ipynb>data table notebook</a>'\n",
              "            + ' to learn more about interactive tables.';\n",
              "          element.innerHTML = '';\n",
              "          dataTable['output_type'] = 'display_data';\n",
              "          await google.colab.output.renderOutput(dataTable, element);\n",
              "          const docLink = document.createElement('div');\n",
              "          docLink.innerHTML = docLinkHtml;\n",
              "          element.appendChild(docLink);\n",
              "        }\n",
              "      </script>\n",
              "    </div>\n",
              "  </div>\n",
              "  "
            ]
          },
          "metadata": {},
          "execution_count": 31
        }
      ]
    },
    {
      "cell_type": "code",
      "source": [
        "dataset.groupby(['TenYearCHD'])['age','sysBP','diaBP','heartRate','BMI','glucose'].count().sort_values(by='TenYearCHD',ascending=False).head(10).plot(kind='bar')"
      ],
      "metadata": {
        "colab": {
          "base_uri": "https://localhost:8080/",
          "height": 350
        },
        "id": "Owf9tIaQ2uL2",
        "outputId": "56705eac-52d6-4e10-fa78-53111ad89aad"
      },
      "execution_count": 32,
      "outputs": [
        {
          "output_type": "stream",
          "name": "stderr",
          "text": [
            "/usr/local/lib/python3.7/dist-packages/ipykernel_launcher.py:1: FutureWarning: Indexing with multiple keys (implicitly converted to a tuple of keys) will be deprecated, use a list instead.\n",
            "  \"\"\"Entry point for launching an IPython kernel.\n"
          ]
        },
        {
          "output_type": "execute_result",
          "data": {
            "text/plain": [
              "<matplotlib.axes._subplots.AxesSubplot at 0x7fd115a75590>"
            ]
          },
          "metadata": {},
          "execution_count": 32
        },
        {
          "output_type": "display_data",
          "data": {
            "text/plain": [
              "<Figure size 432x288 with 1 Axes>"
            ],
            "image/png": "[encoded data removed]"
          },
          "metadata": {
            "needs_background": "light"
          }
        }
      ]
    },
    {
      "cell_type": "code",
      "source": [
        "dataset = dataset.drop(['age_group'],axis=1)"
      ],
      "metadata": {
        "id": "ImQ25d6silNQ"
      },
      "execution_count": 33,
      "outputs": []
    },
    {
      "cell_type": "markdown",
      "source": [
        "# **Lets split the data into train and test data**"
      ],
      "metadata": {
        "id": "SGLntFlzR93C"
      }
    },
    {
      "cell_type": "code",
      "source": [
        "X, y = dataset.drop('TenYearCHD',axis=1), dataset['TenYearCHD']"
      ],
      "metadata": {
        "id": "TEO8s7tYSpNS"
      },
      "execution_count": 34,
      "outputs": []
    },
    {
      "cell_type": "code",
      "source": [
        "X_train, X_test, y_train, y_test = train_test_split(X,y,test_size=0.30,random_state=1)"
      ],
      "metadata": {
        "id": "QRekruN2R81M"
      },
      "execution_count": 35,
      "outputs": []
    },
    {
      "cell_type": "code",
      "source": [
        "# Transforming data\n",
        "from sklearn.preprocessing import MinMaxScaler\n",
        "scaler = MinMaxScaler()\n",
        "X_train = scaler.fit_transform(X_train)\n",
        "X_test = scaler.transform(X_test)\n"
      ],
      "metadata": {
        "id": "1b8_X_P-mCK8"
      },
      "execution_count": 36,
      "outputs": []
    },
    {
      "cell_type": "markdown",
      "source": [
        "# **Now Lets implement 5 models on our dataset:**\n",
        "\n",
        "Logistic Regression\n",
        "\n",
        "Random Forrest\n",
        "\n",
        "XGBoost\n",
        "\n",
        "K-NN\n",
        "\n",
        "Neural Networks\n"
      ],
      "metadata": {
        "id": "JpPtuN98VoQl"
      }
    },
    {
      "cell_type": "markdown",
      "source": [
        "# **We will be using three search algorithms for each :**\n",
        "\n",
        "GridSearchCV\n",
        "\n",
        "RandomSearchCV\n",
        "\n",
        "BayesianSearchCV"
      ],
      "metadata": {
        "id": "w-d1o5SmV6cm"
      }
    },
    {
      "cell_type": "code",
      "source": [
        "from sklearn.linear_model import LogisticRegression\n",
        "from sklearn.ensemble import RandomForestClassifier \n",
        "from xgboost import XGBClassifier\n",
        "from sklearn.neighbors import KNeighborsClassifier"
      ],
      "metadata": {
        "id": "M7DgYa9HR89q"
      },
      "execution_count": 37,
      "outputs": []
    },
    {
      "cell_type": "code",
      "source": [
        "pip install scikit_optimize"
      ],
      "metadata": {
        "colab": {
          "base_uri": "https://localhost:8080/"
        },
        "id": "CqhbXGwBaB1I",
        "outputId": "bc97729c-b59b-4385-b6e0-50c468d384fb"
      },
      "execution_count": 38,
      "outputs": [
        {
          "output_type": "stream",
          "name": "stdout",
          "text": [
            "Looking in indexes: https://pypi.org/simple, https://us-python.pkg.dev/colab-wheels/public/simple/\n",
            "Collecting scikit_optimize\n",
            "  Downloading scikit_optimize-0.9.0-py2.py3-none-any.whl (100 kB)\n",
            "\u001b[K     |████████████████████████████████| 100 kB 5.0 MB/s \n",
            "\u001b[?25hRequirement already satisfied: numpy>=1.13.3 in /usr/local/lib/python3.7/dist-packages (from scikit_optimize) (1.21.6)\n",
            "Requirement already satisfied: scipy>=0.19.1 in /usr/local/lib/python3.7/dist-packages (from scikit_optimize) (1.7.3)\n",
            "Requirement already satisfied: joblib>=0.11 in /usr/local/lib/python3.7/dist-packages (from scikit_optimize) (1.1.0)\n",
            "Collecting pyaml>=16.9\n",
            "  Downloading pyaml-21.10.1-py2.py3-none-any.whl (24 kB)\n",
            "Requirement already satisfied: scikit-learn>=0.20.0 in /usr/local/lib/python3.7/dist-packages (from scikit_optimize) (1.0.2)\n",
            "Requirement already satisfied: PyYAML in /usr/local/lib/python3.7/dist-packages (from pyaml>=16.9->scikit_optimize) (6.0)\n",
            "Requirement already satisfied: threadpoolctl>=2.0.0 in /usr/local/lib/python3.7/dist-packages (from scikit-learn>=0.20.0->scikit_optimize) (3.1.0)\n",
            "Installing collected packages: pyaml, scikit-optimize\n",
            "Successfully installed pyaml-21.10.1 scikit-optimize-0.9.0\n"
          ]
        }
      ]
    },
    {
      "cell_type": "code",
      "source": [
        "import numpy as np\n",
        "from skopt import gp_minimize"
      ],
      "metadata": {
        "id": "LXWqjpSMhgar"
      },
      "execution_count": 39,
      "outputs": []
    },
    {
      "cell_type": "code",
      "source": [
        "\n",
        "import skopt\n",
        "from sklearn.model_selection import GridSearchCV\n",
        "from sklearn.model_selection import RandomizedSearchCV\n",
        "from skopt import BayesSearchCV\n",
        "from skopt.space import Real, Categorical, Integer\n",
        "from sklearn import ensemble\n"
      ],
      "metadata": {
        "id": "Japh8cwAXpGr"
      },
      "execution_count": 40,
      "outputs": []
    },
    {
      "cell_type": "code",
      "source": [
        "from sklearn.metrics import accuracy_score,confusion_matrix\n",
        "from sklearn.metrics import precision_score\n",
        "from sklearn.metrics import recall_score\n",
        "from sklearn.metrics import f1_score\n",
        "from sklearn.metrics import roc_auc_score\n",
        "from sklearn.metrics import roc_curve\n",
        "from sklearn.metrics import auc"
      ],
      "metadata": {
        "id": "FKK7Avi3W0CP"
      },
      "execution_count": 41,
      "outputs": []
    },
    {
      "cell_type": "code",
      "source": [
        "lr = LogisticRegression()\n",
        "rf = RandomForestClassifier()\n",
        "xgb = XGBClassifier(objective= 'binary:logistic', nthread=4, seed=42)\n",
        "knn = KNeighborsClassifier(n_neighbors=7)"
      ],
      "metadata": {
        "id": "w7Vm_PflXJqb"
      },
      "execution_count": 42,
      "outputs": []
    },
    {
      "cell_type": "markdown",
      "source": [
        "# **Logistic Regression**"
      ],
      "metadata": {
        "id": "Vq1PrUPCW_E8"
      }
    },
    {
      "cell_type": "code",
      "source": [
        "param_dict_lr = {\n",
        "    'C' : [1e-6,1e-5,1e-4,1e-3,1e-2,1e-1,1,10,100,1e-3,1e+4,1e+5,1e+6]\n",
        "}\n",
        "\n",
        "param_dict_rf = {\n",
        "    'max_depth': [4, 6, 8],\n",
        "    'min_samples_leaf': [40, 50],\n",
        "    'min_samples_split': [50, 100, 150],\n",
        "    'n_estimators': [50, 80, 100]\n",
        "  }\n",
        "\n",
        "param_dict_xgb = {\n",
        "    'max_depth': range (2, 10, 1),\n",
        "    'n_estimators': range(60, 220, 40),\n",
        "    'learning_rate': [0.1, 0.05, 0.01, 0.005]\n",
        "  }\n",
        "\n",
        "\n",
        "    \n",
        "  "
      ],
      "metadata": {
        "id": "dKjvCx4gXDk6"
      },
      "execution_count": 43,
      "outputs": []
    },
    {
      "cell_type": "code",
      "source": [
        "lr_grid = GridSearchCV(estimator=lr,\n",
        "                       param_grid = param_dict_lr,\n",
        "                       cv = 5, verbose=2, scoring='roc_auc')\n",
        "\n",
        "lr_grid.fit(X_train,y_train)"
      ],
      "metadata": {
        "colab": {
          "base_uri": "https://localhost:8080/"
        },
        "id": "ekQXuNAtXDuE",
        "outputId": "d1b40523-6ce7-4e13-f27e-56be30721aa1"
      },
      "execution_count": 44,
      "outputs": [
        {
          "output_type": "stream",
          "name": "stdout",
          "text": [
            "Fitting 5 folds for each of 13 candidates, totalling 65 fits\n",
            "[CV] END ............................................C=1e-06; total time=   0.0s\n",
            "[CV] END ............................................C=1e-06; total time=   0.0s\n",
            "[CV] END ............................................C=1e-06; total time=   0.0s\n",
            "[CV] END ............................................C=1e-06; total time=   0.0s\n",
            "[CV] END ............................................C=1e-06; total time=   0.0s\n",
            "[CV] END ............................................C=1e-05; total time=   0.0s\n",
            "[CV] END ............................................C=1e-05; total time=   0.0s\n",
            "[CV] END ............................................C=1e-05; total time=   0.0s\n",
            "[CV] END ............................................C=1e-05; total time=   0.0s\n",
            "[CV] END ............................................C=1e-05; total time=   0.0s\n",
            "[CV] END ...........................................C=0.0001; total time=   0.0s\n",
            "[CV] END ...........................................C=0.0001; total time=   0.0s\n",
            "[CV] END ...........................................C=0.0001; total time=   0.0s\n",
            "[CV] END ...........................................C=0.0001; total time=   0.0s\n",
            "[CV] END ...........................................C=0.0001; total time=   0.0s\n",
            "[CV] END ............................................C=0.001; total time=   0.0s\n",
            "[CV] END ............................................C=0.001; total time=   0.0s\n",
            "[CV] END ............................................C=0.001; total time=   0.0s\n",
            "[CV] END ............................................C=0.001; total time=   0.0s\n",
            "[CV] END ............................................C=0.001; total time=   0.0s\n",
            "[CV] END .............................................C=0.01; total time=   0.0s\n",
            "[CV] END .............................................C=0.01; total time=   0.0s\n",
            "[CV] END .............................................C=0.01; total time=   0.0s\n",
            "[CV] END .............................................C=0.01; total time=   0.0s\n",
            "[CV] END .............................................C=0.01; total time=   0.0s\n",
            "[CV] END ..............................................C=0.1; total time=   0.0s\n",
            "[CV] END ..............................................C=0.1; total time=   0.0s\n",
            "[CV] END ..............................................C=0.1; total time=   0.0s\n",
            "[CV] END ..............................................C=0.1; total time=   0.0s\n",
            "[CV] END ..............................................C=0.1; total time=   0.0s\n",
            "[CV] END ................................................C=1; total time=   0.0s\n",
            "[CV] END ................................................C=1; total time=   0.0s\n",
            "[CV] END ................................................C=1; total time=   0.0s\n",
            "[CV] END ................................................C=1; total time=   0.0s\n",
            "[CV] END ................................................C=1; total time=   0.0s\n",
            "[CV] END ...............................................C=10; total time=   0.1s\n",
            "[CV] END ...............................................C=10; total time=   0.0s\n",
            "[CV] END ...............................................C=10; total time=   0.0s\n",
            "[CV] END ...............................................C=10; total time=   0.0s\n",
            "[CV] END ...............................................C=10; total time=   0.0s\n",
            "[CV] END ..............................................C=100; total time=   0.1s\n",
            "[CV] END ..............................................C=100; total time=   0.1s\n",
            "[CV] END ..............................................C=100; total time=   0.0s\n",
            "[CV] END ..............................................C=100; total time=   0.0s\n",
            "[CV] END ..............................................C=100; total time=   0.0s\n",
            "[CV] END ............................................C=0.001; total time=   0.0s\n",
            "[CV] END ............................................C=0.001; total time=   0.0s\n",
            "[CV] END ............................................C=0.001; total time=   0.0s\n",
            "[CV] END ............................................C=0.001; total time=   0.0s\n",
            "[CV] END ............................................C=0.001; total time=   0.0s\n",
            "[CV] END ..........................................C=10000.0; total time=   0.0s\n",
            "[CV] END ..........................................C=10000.0; total time=   0.0s\n",
            "[CV] END ..........................................C=10000.0; total time=   0.0s\n",
            "[CV] END ..........................................C=10000.0; total time=   0.0s\n",
            "[CV] END ..........................................C=10000.0; total time=   0.0s\n",
            "[CV] END .........................................C=100000.0; total time=   0.0s\n",
            "[CV] END .........................................C=100000.0; total time=   0.0s\n",
            "[CV] END .........................................C=100000.0; total time=   0.0s\n",
            "[CV] END .........................................C=100000.0; total time=   0.0s\n",
            "[CV] END .........................................C=100000.0; total time=   0.0s\n",
            "[CV] END ........................................C=1000000.0; total time=   0.0s\n",
            "[CV] END ........................................C=1000000.0; total time=   0.1s\n",
            "[CV] END ........................................C=1000000.0; total time=   0.0s\n",
            "[CV] END ........................................C=1000000.0; total time=   0.0s\n",
            "[CV] END ........................................C=1000000.0; total time=   0.0s\n"
          ]
        },
        {
          "output_type": "execute_result",
          "data": {
            "text/plain": [
              "GridSearchCV(cv=5, estimator=LogisticRegression(),\n",
              "             param_grid={'C': [1e-06, 1e-05, 0.0001, 0.001, 0.01, 0.1, 1, 10,\n",
              "                               100, 0.001, 10000.0, 100000.0, 1000000.0]},\n",
              "             scoring='roc_auc', verbose=2)"
            ]
          },
          "metadata": {},
          "execution_count": 44
        }
      ]
    },
    {
      "cell_type": "code",
      "source": [
        "print('Train ROC-AUC score : ', lr_grid.best_estimator_.score(X_train,y_train))\n",
        "print('Test ROC-AUC score : ', lr_grid.best_estimator_.score(X_test,y_test))"
      ],
      "metadata": {
        "colab": {
          "base_uri": "https://localhost:8080/"
        },
        "id": "GMoSC0VHbP37",
        "outputId": "e2b9f363-dc70-4b55-d1d8-b9f168dd1bc9"
      },
      "execution_count": 45,
      "outputs": [
        {
          "output_type": "stream",
          "name": "stdout",
          "text": [
            "Train ROC-AUC score :  0.8529287821323219\n",
            "Test ROC-AUC score :  0.8623402163225172\n"
          ]
        }
      ]
    },
    {
      "cell_type": "code",
      "source": [
        "lr_random = RandomizedSearchCV(estimator=lr,\n",
        "                       param_distributions = param_dict_lr,\n",
        "                       cv = 5, verbose=2, scoring='roc_auc')\n",
        "\n",
        "lr_random.fit(X_train,y_train)"
      ],
      "metadata": {
        "colab": {
          "base_uri": "https://localhost:8080/"
        },
        "id": "dgrMfZN5bP7o",
        "outputId": "bd4dcf3a-adb0-4c5a-ab59-131f3064e65c"
      },
      "execution_count": 46,
      "outputs": [
        {
          "output_type": "stream",
          "name": "stdout",
          "text": [
            "Fitting 5 folds for each of 10 candidates, totalling 50 fits\n",
            "[CV] END ..............................................C=100; total time=   0.0s\n",
            "[CV] END ..............................................C=100; total time=   0.0s\n",
            "[CV] END ..............................................C=100; total time=   0.0s\n",
            "[CV] END ..............................................C=100; total time=   0.2s\n",
            "[CV] END ..............................................C=100; total time=   0.1s\n",
            "[CV] END ............................................C=1e-05; total time=   0.0s\n",
            "[CV] END ............................................C=1e-05; total time=   0.0s\n",
            "[CV] END ............................................C=1e-05; total time=   0.0s\n",
            "[CV] END ............................................C=1e-05; total time=   0.0s\n",
            "[CV] END ............................................C=1e-05; total time=   0.0s\n",
            "[CV] END ............................................C=1e-06; total time=   0.0s\n",
            "[CV] END ............................................C=1e-06; total time=   0.0s\n",
            "[CV] END ............................................C=1e-06; total time=   0.0s\n",
            "[CV] END ............................................C=1e-06; total time=   0.0s\n",
            "[CV] END ............................................C=1e-06; total time=   0.0s\n",
            "[CV] END ...........................................C=0.0001; total time=   0.0s\n",
            "[CV] END ...........................................C=0.0001; total time=   0.0s\n",
            "[CV] END ...........................................C=0.0001; total time=   0.0s\n",
            "[CV] END ...........................................C=0.0001; total time=   0.0s\n",
            "[CV] END ...........................................C=0.0001; total time=   0.0s\n",
            "[CV] END ................................................C=1; total time=   0.0s\n",
            "[CV] END ................................................C=1; total time=   0.0s\n",
            "[CV] END ................................................C=1; total time=   0.0s\n",
            "[CV] END ................................................C=1; total time=   0.0s\n",
            "[CV] END ................................................C=1; total time=   0.0s\n",
            "[CV] END ..............................................C=0.1; total time=   0.0s\n",
            "[CV] END ..............................................C=0.1; total time=   0.0s\n",
            "[CV] END ..............................................C=0.1; total time=   0.0s\n",
            "[CV] END ..............................................C=0.1; total time=   0.0s\n",
            "[CV] END ..............................................C=0.1; total time=   0.0s\n",
            "[CV] END ..........................................C=10000.0; total time=   0.0s\n",
            "[CV] END ..........................................C=10000.0; total time=   0.1s\n",
            "[CV] END ..........................................C=10000.0; total time=   0.1s\n",
            "[CV] END ..........................................C=10000.0; total time=   0.0s\n",
            "[CV] END ..........................................C=10000.0; total time=   0.0s\n",
            "[CV] END .........................................C=100000.0; total time=   0.0s\n",
            "[CV] END .........................................C=100000.0; total time=   0.0s\n",
            "[CV] END .........................................C=100000.0; total time=   0.1s\n",
            "[CV] END .........................................C=100000.0; total time=   0.0s\n",
            "[CV] END .........................................C=100000.0; total time=   0.0s\n",
            "[CV] END ........................................C=1000000.0; total time=   0.0s\n",
            "[CV] END ........................................C=1000000.0; total time=   0.0s\n",
            "[CV] END ........................................C=1000000.0; total time=   0.0s\n",
            "[CV] END ........................................C=1000000.0; total time=   0.0s\n",
            "[CV] END ........................................C=1000000.0; total time=   0.0s\n",
            "[CV] END ...............................................C=10; total time=   0.1s\n",
            "[CV] END ...............................................C=10; total time=   0.0s\n",
            "[CV] END ...............................................C=10; total time=   0.0s\n",
            "[CV] END ...............................................C=10; total time=   0.0s\n",
            "[CV] END ...............................................C=10; total time=   0.0s\n"
          ]
        },
        {
          "output_type": "execute_result",
          "data": {
            "text/plain": [
              "RandomizedSearchCV(cv=5, estimator=LogisticRegression(),\n",
              "                   param_distributions={'C': [1e-06, 1e-05, 0.0001, 0.001, 0.01,\n",
              "                                              0.1, 1, 10, 100, 0.001, 10000.0,\n",
              "                                              100000.0, 1000000.0]},\n",
              "                   scoring='roc_auc', verbose=2)"
            ]
          },
          "metadata": {},
          "execution_count": 46
        }
      ]
    },
    {
      "cell_type": "code",
      "source": [
        "print('Train ROC-AUC score : ', lr_random.best_estimator_.score(X_train,y_train))\n",
        "print('Test ROC-AUC score : ', lr_random.best_estimator_.score(X_test,y_test))"
      ],
      "metadata": {
        "colab": {
          "base_uri": "https://localhost:8080/"
        },
        "id": "A065_dWfbQAG",
        "outputId": "d9a57918-33dc-442c-8742-04d25ee12cb1"
      },
      "execution_count": 47,
      "outputs": [
        {
          "output_type": "stream",
          "name": "stdout",
          "text": [
            "Train ROC-AUC score :  0.8529287821323219\n",
            "Test ROC-AUC score :  0.8623402163225172\n"
          ]
        }
      ]
    },
    {
      "cell_type": "code",
      "source": [
        "lr_bayes = BayesSearchCV(estimator=lr,\n",
        "                       search_spaces = {'C' : Real(1e-6, 1e+6, prior='log-uniform') },\n",
        "                       cv = 5, verbose=2, scoring='roc_auc', n_iter=32)\n",
        "\n",
        "lr_bayes.fit(X_train,y_train)"
      ],
      "metadata": {
        "colab": {
          "base_uri": "https://localhost:8080/"
        },
        "id": "Oyy84f_hcDRE",
        "outputId": "98d5efcd-fcd7-4d92-9503-17f7acbe1a89"
      },
      "execution_count": 48,
      "outputs": [
        {
          "output_type": "stream",
          "name": "stdout",
          "text": [
            "Fitting 5 folds for each of 1 candidates, totalling 5 fits\n",
            "[CV] END ................................C=47.48857021740191; total time=   0.1s\n",
            "[CV] END ................................C=47.48857021740191; total time=   0.0s\n",
            "[CV] END ................................C=47.48857021740191; total time=   0.0s\n",
            "[CV] END ................................C=47.48857021740191; total time=   0.1s\n",
            "[CV] END ................................C=47.48857021740191; total time=   0.0s\n",
            "Fitting 5 folds for each of 1 candidates, totalling 5 fits\n",
            "[CV] END .............................C=0.039552076807891974; total time=   0.0s\n",
            "[CV] END .............................C=0.039552076807891974; total time=   0.0s\n",
            "[CV] END .............................C=0.039552076807891974; total time=   0.0s\n",
            "[CV] END .............................C=0.039552076807891974; total time=   0.0s\n",
            "[CV] END .............................C=0.039552076807891974; total time=   0.0s\n",
            "Fitting 5 folds for each of 1 candidates, totalling 5 fits\n",
            "[CV] END ................................C=8520.592255810961; total time=   0.0s\n",
            "[CV] END ................................C=8520.592255810961; total time=   0.0s\n",
            "[CV] END ................................C=8520.592255810961; total time=   0.0s\n",
            "[CV] END ................................C=8520.592255810961; total time=   0.0s\n",
            "[CV] END ................................C=8520.592255810961; total time=   0.1s\n",
            "Fitting 5 folds for each of 1 candidates, totalling 5 fits\n",
            "[CV] END .............................C=0.023006888952959586; total time=   0.0s\n",
            "[CV] END .............................C=0.023006888952959586; total time=   0.1s\n",
            "[CV] END .............................C=0.023006888952959586; total time=   0.0s\n",
            "[CV] END .............................C=0.023006888952959586; total time=   0.0s\n",
            "[CV] END .............................C=0.023006888952959586; total time=   0.0s\n",
            "Fitting 5 folds for each of 1 candidates, totalling 5 fits\n",
            "[CV] END ..............................C=0.29903204385425086; total time=   0.1s\n",
            "[CV] END ..............................C=0.29903204385425086; total time=   0.1s\n",
            "[CV] END ..............................C=0.29903204385425086; total time=   0.1s\n",
            "[CV] END ..............................C=0.29903204385425086; total time=   0.1s\n",
            "[CV] END ..............................C=0.29903204385425086; total time=   0.1s\n",
            "Fitting 5 folds for each of 1 candidates, totalling 5 fits\n",
            "[CV] END .............................C=0.010971075787114285; total time=   0.0s\n",
            "[CV] END .............................C=0.010971075787114285; total time=   0.0s\n",
            "[CV] END .............................C=0.010971075787114285; total time=   0.0s\n",
            "[CV] END .............................C=0.010971075787114285; total time=   0.0s\n",
            "[CV] END .............................C=0.010971075787114285; total time=   0.0s\n",
            "Fitting 5 folds for each of 1 candidates, totalling 5 fits\n",
            "[CV] END ...............................C=403.52504365671723; total time=   0.1s\n",
            "[CV] END ...............................C=403.52504365671723; total time=   0.0s\n",
            "[CV] END ...............................C=403.52504365671723; total time=   0.0s\n",
            "[CV] END ...............................C=403.52504365671723; total time=   0.0s\n",
            "[CV] END ...............................C=403.52504365671723; total time=   0.0s\n",
            "Fitting 5 folds for each of 1 candidates, totalling 5 fits\n",
            "[CV] END ................................C=2006.924690904412; total time=   0.0s\n",
            "[CV] END ................................C=2006.924690904412; total time=   0.0s\n",
            "[CV] END ................................C=2006.924690904412; total time=   0.0s\n",
            "[CV] END ................................C=2006.924690904412; total time=   0.0s\n",
            "[CV] END ................................C=2006.924690904412; total time=   0.0s\n",
            "Fitting 5 folds for each of 1 candidates, totalling 5 fits\n",
            "[CV] END ............................C=0.0001999365889832928; total time=   0.0s\n",
            "[CV] END ............................C=0.0001999365889832928; total time=   0.0s\n",
            "[CV] END ............................C=0.0001999365889832928; total time=   0.0s\n",
            "[CV] END ............................C=0.0001999365889832928; total time=   0.0s\n",
            "[CV] END ............................C=0.0001999365889832928; total time=   0.0s\n",
            "Fitting 5 folds for each of 1 candidates, totalling 5 fits\n",
            "[CV] END ...........................C=1.2671086303153951e-06; total time=   0.0s\n",
            "[CV] END ...........................C=1.2671086303153951e-06; total time=   0.0s\n",
            "[CV] END ...........................C=1.2671086303153951e-06; total time=   0.0s\n",
            "[CV] END ...........................C=1.2671086303153951e-06; total time=   0.0s\n",
            "[CV] END ...........................C=1.2671086303153951e-06; total time=   0.0s\n",
            "Fitting 5 folds for each of 1 candidates, totalling 5 fits\n",
            "[CV] END ........................................C=1000000.0; total time=   0.0s\n",
            "[CV] END ........................................C=1000000.0; total time=   0.0s\n",
            "[CV] END ........................................C=1000000.0; total time=   0.0s\n",
            "[CV] END ........................................C=1000000.0; total time=   0.0s\n",
            "[CV] END ........................................C=1000000.0; total time=   0.0s\n",
            "Fitting 5 folds for each of 1 candidates, totalling 5 fits\n",
            "[CV] END ...............................C=2.7315696871063193; total time=   0.0s\n",
            "[CV] END ...............................C=2.7315696871063193; total time=   0.0s\n",
            "[CV] END ...............................C=2.7315696871063193; total time=   0.0s\n",
            "[CV] END ...............................C=2.7315696871063193; total time=   0.0s\n",
            "[CV] END ...............................C=2.7315696871063193; total time=   0.0s\n",
            "Fitting 5 folds for each of 1 candidates, totalling 5 fits\n",
            "[CV] END ...............................C=127634.26937872884; total time=   0.0s\n",
            "[CV] END ...............................C=127634.26937872884; total time=   0.0s\n",
            "[CV] END ...............................C=127634.26937872884; total time=   0.0s\n",
            "[CV] END ...............................C=127634.26937872884; total time=   0.0s\n",
            "[CV] END ...............................C=127634.26937872884; total time=   0.1s\n",
            "Fitting 5 folds for each of 1 candidates, totalling 5 fits\n",
            "[CV] END ...............................C=10.911947929810944; total time=   0.0s\n",
            "[CV] END ...............................C=10.911947929810944; total time=   0.0s\n",
            "[CV] END ...............................C=10.911947929810944; total time=   0.0s\n",
            "[CV] END ...............................C=10.911947929810944; total time=   0.0s\n",
            "[CV] END ...............................C=10.911947929810944; total time=   0.0s\n",
            "Fitting 5 folds for each of 1 candidates, totalling 5 fits\n",
            "[CV] END ...........................C=1.3627854666421812e-05; total time=   0.0s\n",
            "[CV] END ...........................C=1.3627854666421812e-05; total time=   0.0s\n",
            "[CV] END ...........................C=1.3627854666421812e-05; total time=   0.0s\n",
            "[CV] END ...........................C=1.3627854666421812e-05; total time=   0.0s\n",
            "[CV] END ...........................C=1.3627854666421812e-05; total time=   0.0s\n",
            "Fitting 5 folds for each of 1 candidates, totalling 5 fits\n",
            "[CV] END ................................C=34319.48519894759; total time=   0.1s\n",
            "[CV] END ................................C=34319.48519894759; total time=   0.1s\n",
            "[CV] END ................................C=34319.48519894759; total time=   0.1s\n",
            "[CV] END ................................C=34319.48519894759; total time=   0.1s\n",
            "[CV] END ................................C=34319.48519894759; total time=   0.1s\n",
            "Fitting 5 folds for each of 1 candidates, totalling 5 fits\n",
            "[CV] END ...............................C=0.9142735118914773; total time=   0.1s\n",
            "[CV] END ...............................C=0.9142735118914773; total time=   0.1s\n",
            "[CV] END ...............................C=0.9142735118914773; total time=   0.1s\n",
            "[CV] END ...............................C=0.9142735118914773; total time=   0.1s\n",
            "[CV] END ...............................C=0.9142735118914773; total time=   0.1s\n",
            "Fitting 5 folds for each of 1 candidates, totalling 5 fits\n",
            "[CV] END ...............................C=1.3762192077358788; total time=   0.1s\n",
            "[CV] END ...............................C=1.3762192077358788; total time=   0.1s\n",
            "[CV] END ...............................C=1.3762192077358788; total time=   0.1s\n",
            "[CV] END ...............................C=1.3762192077358788; total time=   0.1s\n",
            "[CV] END ...............................C=1.3762192077358788; total time=   0.1s\n",
            "Fitting 5 folds for each of 1 candidates, totalling 5 fits\n",
            "[CV] END ................................C=413055.7388072367; total time=   0.1s\n",
            "[CV] END ................................C=413055.7388072367; total time=   0.1s\n",
            "[CV] END ................................C=413055.7388072367; total time=   0.1s\n",
            "[CV] END ................................C=413055.7388072367; total time=   0.1s\n",
            "[CV] END ................................C=413055.7388072367; total time=   0.1s\n",
            "Fitting 5 folds for each of 1 candidates, totalling 5 fits\n",
            "[CV] END ...............................C=139.42593494770387; total time=   0.1s\n",
            "[CV] END ...............................C=139.42593494770387; total time=   0.1s\n",
            "[CV] END ...............................C=139.42593494770387; total time=   0.1s\n",
            "[CV] END ...............................C=139.42593494770387; total time=   0.1s\n",
            "[CV] END ...............................C=139.42593494770387; total time=   0.1s\n",
            "Fitting 5 folds for each of 1 candidates, totalling 5 fits\n",
            "[CV] END ................................C=2.025979440059329; total time=   0.1s\n",
            "[CV] END ................................C=2.025979440059329; total time=   0.1s\n",
            "[CV] END ................................C=2.025979440059329; total time=   0.1s\n",
            "[CV] END ................................C=2.025979440059329; total time=   0.1s\n",
            "[CV] END ................................C=2.025979440059329; total time=   0.1s\n",
            "Fitting 5 folds for each of 1 candidates, totalling 5 fits\n",
            "[CV] END ...............................C=2.1076395794623157; total time=   0.1s\n",
            "[CV] END ...............................C=2.1076395794623157; total time=   0.1s\n",
            "[CV] END ...............................C=2.1076395794623157; total time=   0.1s\n",
            "[CV] END ...............................C=2.1076395794623157; total time=   0.1s\n",
            "[CV] END ...............................C=2.1076395794623157; total time=   0.1s\n",
            "Fitting 5 folds for each of 1 candidates, totalling 5 fits\n",
            "[CV] END ...............................C=2.0125618793945153; total time=   0.1s\n",
            "[CV] END ...............................C=2.0125618793945153; total time=   0.1s\n",
            "[CV] END ...............................C=2.0125618793945153; total time=   0.1s\n",
            "[CV] END ...............................C=2.0125618793945153; total time=   0.1s\n",
            "[CV] END ...............................C=2.0125618793945153; total time=   0.2s\n",
            "Fitting 5 folds for each of 1 candidates, totalling 5 fits\n",
            "[CV] END ............................C=0.0012157647989644543; total time=   0.0s\n",
            "[CV] END ............................C=0.0012157647989644543; total time=   0.0s\n",
            "[CV] END ............................C=0.0012157647989644543; total time=   0.0s\n",
            "[CV] END ............................C=0.0012157647989644543; total time=   0.0s\n",
            "[CV] END ............................C=0.0012157647989644543; total time=   0.0s\n",
            "Fitting 5 folds for each of 1 candidates, totalling 5 fits\n",
            "[CV] END ...............................C=0.7536849771843133; total time=   0.1s\n",
            "[CV] END ...............................C=0.7536849771843133; total time=   0.1s\n",
            "[CV] END ...............................C=0.7536849771843133; total time=   0.1s\n",
            "[CV] END ...............................C=0.7536849771843133; total time=   0.1s\n",
            "[CV] END ...............................C=0.7536849771843133; total time=   0.1s\n",
            "Fitting 5 folds for each of 1 candidates, totalling 5 fits\n",
            "[CV] END ...........................C=4.0424163475435865e-06; total time=   0.0s\n",
            "[CV] END ...........................C=4.0424163475435865e-06; total time=   0.0s\n",
            "[CV] END ...........................C=4.0424163475435865e-06; total time=   0.0s\n",
            "[CV] END ...........................C=4.0424163475435865e-06; total time=   0.0s\n",
            "[CV] END ...........................C=4.0424163475435865e-06; total time=   0.1s\n",
            "Fitting 5 folds for each of 1 candidates, totalling 5 fits\n",
            "[CV] END ...............................C=1.9760932771864756; total time=   0.1s\n",
            "[CV] END ...............................C=1.9760932771864756; total time=   0.1s\n",
            "[CV] END ...............................C=1.9760932771864756; total time=   0.1s\n",
            "[CV] END ...............................C=1.9760932771864756; total time=   0.1s\n",
            "[CV] END ...............................C=1.9760932771864756; total time=   0.1s\n",
            "Fitting 5 folds for each of 1 candidates, totalling 5 fits\n",
            "[CV] END ...............................C=119828.91203804033; total time=   0.0s\n",
            "[CV] END ...............................C=119828.91203804033; total time=   0.0s\n",
            "[CV] END ...............................C=119828.91203804033; total time=   0.1s\n",
            "[CV] END ...............................C=119828.91203804033; total time=   0.1s\n",
            "[CV] END ...............................C=119828.91203804033; total time=   0.0s\n",
            "Fitting 5 folds for each of 1 candidates, totalling 5 fits\n",
            "[CV] END ................................C=591915.4303794882; total time=   0.0s\n",
            "[CV] END ................................C=591915.4303794882; total time=   0.0s\n",
            "[CV] END ................................C=591915.4303794882; total time=   0.0s\n",
            "[CV] END ................................C=591915.4303794882; total time=   0.0s\n",
            "[CV] END ................................C=591915.4303794882; total time=   0.1s\n",
            "Fitting 5 folds for each of 1 candidates, totalling 5 fits\n",
            "[CV] END ...............................C=1.9849784204419862; total time=   0.0s\n",
            "[CV] END ...............................C=1.9849784204419862; total time=   0.0s\n",
            "[CV] END ...............................C=1.9849784204419862; total time=   0.0s\n",
            "[CV] END ...............................C=1.9849784204419862; total time=   0.0s\n",
            "[CV] END ...............................C=1.9849784204419862; total time=   0.0s\n",
            "Fitting 5 folds for each of 1 candidates, totalling 5 fits\n",
            "[CV] END ................................C=309556.9001696007; total time=   0.0s\n",
            "[CV] END ................................C=309556.9001696007; total time=   0.0s\n",
            "[CV] END ................................C=309556.9001696007; total time=   0.0s\n",
            "[CV] END ................................C=309556.9001696007; total time=   0.0s\n",
            "[CV] END ................................C=309556.9001696007; total time=   0.1s\n",
            "Fitting 5 folds for each of 1 candidates, totalling 5 fits\n",
            "[CV] END ................................C=60.85021556473477; total time=   0.0s\n",
            "[CV] END ................................C=60.85021556473477; total time=   0.0s\n",
            "[CV] END ................................C=60.85021556473477; total time=   0.0s\n",
            "[CV] END ................................C=60.85021556473477; total time=   0.0s\n",
            "[CV] END ................................C=60.85021556473477; total time=   0.1s\n"
          ]
        },
        {
          "output_type": "execute_result",
          "data": {
            "text/plain": [
              "BayesSearchCV(cv=5, estimator=LogisticRegression(), n_iter=32,\n",
              "              scoring='roc_auc',\n",
              "              search_spaces={'C': Real(low=1e-06, high=1000000.0, prior='log-uniform', transform='normalize')},\n",
              "              verbose=2)"
            ]
          },
          "metadata": {},
          "execution_count": 48
        }
      ]
    },
    {
      "cell_type": "code",
      "source": [
        "lr_bayes.best_estimator_"
      ],
      "metadata": {
        "colab": {
          "base_uri": "https://localhost:8080/"
        },
        "id": "YM-KZLYzcDT4",
        "outputId": "366052ec-52be-4a8b-d2cb-89332c541629"
      },
      "execution_count": 49,
      "outputs": [
        {
          "output_type": "execute_result",
          "data": {
            "text/plain": [
              "LogisticRegression(C=2.025979440059329)"
            ]
          },
          "metadata": {},
          "execution_count": 49
        }
      ]
    },
    {
      "cell_type": "code",
      "source": [
        "print('Train ROC-AUC score : ', lr_bayes.best_estimator_.score(X_train,y_train))\n",
        "print('Test ROC-AUC score : ', lr_bayes.best_estimator_.score(X_test,y_test))"
      ],
      "metadata": {
        "colab": {
          "base_uri": "https://localhost:8080/"
        },
        "id": "JhjwALe5cDXd",
        "outputId": "bee84dc2-21af-49a6-c8a0-518c4090cc10"
      },
      "execution_count": 50,
      "outputs": [
        {
          "output_type": "stream",
          "name": "stdout",
          "text": [
            "Train ROC-AUC score :  0.8550358196375896\n",
            "Test ROC-AUC score :  0.8672566371681416\n"
          ]
        }
      ]
    },
    {
      "cell_type": "markdown",
      "source": [
        "**Out of three search algorithms we conclude that all the three search algorithm doing well.But when we compare GridSearchCV slightly better as compared to RandomSearchCV and BayesianSearchCV**"
      ],
      "metadata": {
        "id": "IMWYVoktdj9i"
      }
    },
    {
      "cell_type": "code",
      "source": [
        "lr_model =lr_grid.best_estimator_"
      ],
      "metadata": {
        "id": "ZBLK-eV1iQ37"
      },
      "execution_count": 51,
      "outputs": []
    },
    {
      "cell_type": "markdown",
      "source": [
        "# **Random Forest Classifier**"
      ],
      "metadata": {
        "id": "3OanNJXEgKPD"
      }
    },
    {
      "cell_type": "code",
      "source": [
        "rf_grid = GridSearchCV(estimator=rf,\n",
        "                       param_grid = param_dict_rf,\n",
        "                       cv = 5, verbose=2, scoring='roc_auc')\n",
        "\n",
        "rf_grid.fit(X_train,y_train)"
      ],
      "metadata": {
        "colab": {
          "base_uri": "https://localhost:8080/"
        },
        "id": "ymXrwhqKgFJd",
        "outputId": "4840ac83-b9d7-416b-ddb0-7fd8a9b5da26"
      },
      "execution_count": 52,
      "outputs": [
        {
          "output_type": "stream",
          "name": "stdout",
          "text": [
            "Fitting 5 folds for each of 54 candidates, totalling 270 fits\n",
            "[CV] END max_depth=4, min_samples_leaf=40, min_samples_split=50, n_estimators=50; total time=   0.1s\n",
            "[CV] END max_depth=4, min_samples_leaf=40, min_samples_split=50, n_estimators=50; total time=   0.1s\n",
            "[CV] END max_depth=4, min_samples_leaf=40, min_samples_split=50, n_estimators=50; total time=   0.1s\n",
            "[CV] END max_depth=4, min_samples_leaf=40, min_samples_split=50, n_estimators=50; total time=   0.1s\n",
            "[CV] END max_depth=4, min_samples_leaf=40, min_samples_split=50, n_estimators=50; total time=   0.1s\n",
            "[CV] END max_depth=4, min_samples_leaf=40, min_samples_split=50, n_estimators=80; total time=   0.2s\n",
            "[CV] END max_depth=4, min_samples_leaf=40, min_samples_split=50, n_estimators=80; total time=   0.2s\n",
            "[CV] END max_depth=4, min_samples_leaf=40, min_samples_split=50, n_estimators=80; total time=   0.2s\n",
            "[CV] END max_depth=4, min_samples_leaf=40, min_samples_split=50, n_estimators=80; total time=   0.2s\n",
            "[CV] END max_depth=4, min_samples_leaf=40, min_samples_split=50, n_estimators=80; total time=   0.2s\n",
            "[CV] END max_depth=4, min_samples_leaf=40, min_samples_split=50, n_estimators=100; total time=   0.2s\n",
            "[CV] END max_depth=4, min_samples_leaf=40, min_samples_split=50, n_estimators=100; total time=   0.2s\n",
            "[CV] END max_depth=4, min_samples_leaf=40, min_samples_split=50, n_estimators=100; total time=   0.2s\n",
            "[CV] END max_depth=4, min_samples_leaf=40, min_samples_split=50, n_estimators=100; total time=   0.2s\n",
            "[CV] END max_depth=4, min_samples_leaf=40, min_samples_split=50, n_estimators=100; total time=   0.2s\n",
            "[CV] END max_depth=4, min_samples_leaf=40, min_samples_split=100, n_estimators=50; total time=   0.1s\n",
            "[CV] END max_depth=4, min_samples_leaf=40, min_samples_split=100, n_estimators=50; total time=   0.1s\n",
            "[CV] END max_depth=4, min_samples_leaf=40, min_samples_split=100, n_estimators=50; total time=   0.1s\n",
            "[CV] END max_depth=4, min_samples_leaf=40, min_samples_split=100, n_estimators=50; total time=   0.1s\n",
            "[CV] END max_depth=4, min_samples_leaf=40, min_samples_split=100, n_estimators=50; total time=   0.1s\n",
            "[CV] END max_depth=4, min_samples_leaf=40, min_samples_split=100, n_estimators=80; total time=   0.2s\n",
            "[CV] END max_depth=4, min_samples_leaf=40, min_samples_split=100, n_estimators=80; total time=   0.2s\n",
            "[CV] END max_depth=4, min_samples_leaf=40, min_samples_split=100, n_estimators=80; total time=   0.2s\n",
            "[CV] END max_depth=4, min_samples_leaf=40, min_samples_split=100, n_estimators=80; total time=   0.2s\n",
            "[CV] END max_depth=4, min_samples_leaf=40, min_samples_split=100, n_estimators=80; total time=   0.2s\n",
            "[CV] END max_depth=4, min_samples_leaf=40, min_samples_split=100, n_estimators=100; total time=   0.2s\n",
            "[CV] END max_depth=4, min_samples_leaf=40, min_samples_split=100, n_estimators=100; total time=   0.2s\n",
            "[CV] END max_depth=4, min_samples_leaf=40, min_samples_split=100, n_estimators=100; total time=   0.2s\n",
            "[CV] END max_depth=4, min_samples_leaf=40, min_samples_split=100, n_estimators=100; total time=   0.2s\n",
            "[CV] END max_depth=4, min_samples_leaf=40, min_samples_split=100, n_estimators=100; total time=   0.2s\n",
            "[CV] END max_depth=4, min_samples_leaf=40, min_samples_split=150, n_estimators=50; total time=   0.1s\n",
            "[CV] END max_depth=4, min_samples_leaf=40, min_samples_split=150, n_estimators=50; total time=   0.1s\n",
            "[CV] END max_depth=4, min_samples_leaf=40, min_samples_split=150, n_estimators=50; total time=   0.1s\n",
            "[CV] END max_depth=4, min_samples_leaf=40, min_samples_split=150, n_estimators=50; total time=   0.1s\n",
            "[CV] END max_depth=4, min_samples_leaf=40, min_samples_split=150, n_estimators=50; total time=   0.1s\n",
            "[CV] END max_depth=4, min_samples_leaf=40, min_samples_split=150, n_estimators=80; total time=   0.2s\n",
            "[CV] END max_depth=4, min_samples_leaf=40, min_samples_split=150, n_estimators=80; total time=   0.2s\n",
            "[CV] END max_depth=4, min_samples_leaf=40, min_samples_split=150, n_estimators=80; total time=   0.2s\n",
            "[CV] END max_depth=4, min_samples_leaf=40, min_samples_split=150, n_estimators=80; total time=   0.2s\n",
            "[CV] END max_depth=4, min_samples_leaf=40, min_samples_split=150, n_estimators=80; total time=   0.2s\n",
            "[CV] END max_depth=4, min_samples_leaf=40, min_samples_split=150, n_estimators=100; total time=   0.2s\n",
            "[CV] END max_depth=4, min_samples_leaf=40, min_samples_split=150, n_estimators=100; total time=   0.2s\n",
            "[CV] END max_depth=4, min_samples_leaf=40, min_samples_split=150, n_estimators=100; total time=   0.2s\n",
            "[CV] END max_depth=4, min_samples_leaf=40, min_samples_split=150, n_estimators=100; total time=   0.2s\n",
            "[CV] END max_depth=4, min_samples_leaf=40, min_samples_split=150, n_estimators=100; total time=   0.2s\n",
            "[CV] END max_depth=4, min_samples_leaf=50, min_samples_split=50, n_estimators=50; total time=   0.1s\n",
            "[CV] END max_depth=4, min_samples_leaf=50, min_samples_split=50, n_estimators=50; total time=   0.1s\n",
            "[CV] END max_depth=4, min_samples_leaf=50, min_samples_split=50, n_estimators=50; total time=   0.1s\n",
            "[CV] END max_depth=4, min_samples_leaf=50, min_samples_split=50, n_estimators=50; total time=   0.1s\n",
            "[CV] END max_depth=4, min_samples_leaf=50, min_samples_split=50, n_estimators=50; total time=   0.1s\n",
            "[CV] END max_depth=4, min_samples_leaf=50, min_samples_split=50, n_estimators=80; total time=   0.2s\n",
            "[CV] END max_depth=4, min_samples_leaf=50, min_samples_split=50, n_estimators=80; total time=   0.2s\n",
            "[CV] END max_depth=4, min_samples_leaf=50, min_samples_split=50, n_estimators=80; total time=   0.2s\n",
            "[CV] END max_depth=4, min_samples_leaf=50, min_samples_split=50, n_estimators=80; total time=   0.2s\n",
            "[CV] END max_depth=4, min_samples_leaf=50, min_samples_split=50, n_estimators=80; total time=   0.2s\n",
            "[CV] END max_depth=4, min_samples_leaf=50, min_samples_split=50, n_estimators=100; total time=   0.2s\n",
            "[CV] END max_depth=4, min_samples_leaf=50, min_samples_split=50, n_estimators=100; total time=   0.2s\n",
            "[CV] END max_depth=4, min_samples_leaf=50, min_samples_split=50, n_estimators=100; total time=   0.2s\n",
            "[CV] END max_depth=4, min_samples_leaf=50, min_samples_split=50, n_estimators=100; total time=   0.2s\n",
            "[CV] END max_depth=4, min_samples_leaf=50, min_samples_split=50, n_estimators=100; total time=   0.2s\n",
            "[CV] END max_depth=4, min_samples_leaf=50, min_samples_split=100, n_estimators=50; total time=   0.1s\n",
            "[CV] END max_depth=4, min_samples_leaf=50, min_samples_split=100, n_estimators=50; total time=   0.1s\n",
            "[CV] END max_depth=4, min_samples_leaf=50, min_samples_split=100, n_estimators=50; total time=   0.1s\n",
            "[CV] END max_depth=4, min_samples_leaf=50, min_samples_split=100, n_estimators=50; total time=   0.1s\n",
            "[CV] END max_depth=4, min_samples_leaf=50, min_samples_split=100, n_estimators=50; total time=   0.1s\n",
            "[CV] END max_depth=4, min_samples_leaf=50, min_samples_split=100, n_estimators=80; total time=   0.2s\n",
            "[CV] END max_depth=4, min_samples_leaf=50, min_samples_split=100, n_estimators=80; total time=   0.2s\n",
            "[CV] END max_depth=4, min_samples_leaf=50, min_samples_split=100, n_estimators=80; total time=   0.2s\n",
            "[CV] END max_depth=4, min_samples_leaf=50, min_samples_split=100, n_estimators=80; total time=   0.2s\n",
            "[CV] END max_depth=4, min_samples_leaf=50, min_samples_split=100, n_estimators=80; total time=   0.2s\n",
            "[CV] END max_depth=4, min_samples_leaf=50, min_samples_split=100, n_estimators=100; total time=   0.2s\n",
            "[CV] END max_depth=4, min_samples_leaf=50, min_samples_split=100, n_estimators=100; total time=   0.2s\n",
            "[CV] END max_depth=4, min_samples_leaf=50, min_samples_split=100, n_estimators=100; total time=   0.2s\n",
            "[CV] END max_depth=4, min_samples_leaf=50, min_samples_split=100, n_estimators=100; total time=   0.2s\n",
            "[CV] END max_depth=4, min_samples_leaf=50, min_samples_split=100, n_estimators=100; total time=   0.2s\n",
            "[CV] END max_depth=4, min_samples_leaf=50, min_samples_split=150, n_estimators=50; total time=   0.1s\n",
            "[CV] END max_depth=4, min_samples_leaf=50, min_samples_split=150, n_estimators=50; total time=   0.1s\n",
            "[CV] END max_depth=4, min_samples_leaf=50, min_samples_split=150, n_estimators=50; total time=   0.1s\n",
            "[CV] END max_depth=4, min_samples_leaf=50, min_samples_split=150, n_estimators=50; total time=   0.1s\n",
            "[CV] END max_depth=4, min_samples_leaf=50, min_samples_split=150, n_estimators=50; total time=   0.1s\n",
            "[CV] END max_depth=4, min_samples_leaf=50, min_samples_split=150, n_estimators=80; total time=   0.2s\n",
            "[CV] END max_depth=4, min_samples_leaf=50, min_samples_split=150, n_estimators=80; total time=   0.2s\n",
            "[CV] END max_depth=4, min_samples_leaf=50, min_samples_split=150, n_estimators=80; total time=   0.2s\n",
            "[CV] END max_depth=4, min_samples_leaf=50, min_samples_split=150, n_estimators=80; total time=   0.2s\n",
            "[CV] END max_depth=4, min_samples_leaf=50, min_samples_split=150, n_estimators=80; total time=   0.2s\n",
            "[CV] END max_depth=4, min_samples_leaf=50, min_samples_split=150, n_estimators=100; total time=   0.2s\n",
            "[CV] END max_depth=4, min_samples_leaf=50, min_samples_split=150, n_estimators=100; total time=   0.2s\n",
            "[CV] END max_depth=4, min_samples_leaf=50, min_samples_split=150, n_estimators=100; total time=   0.2s\n",
            "[CV] END max_depth=4, min_samples_leaf=50, min_samples_split=150, n_estimators=100; total time=   0.2s\n",
            "[CV] END max_depth=4, min_samples_leaf=50, min_samples_split=150, n_estimators=100; total time=   0.2s\n",
            "[CV] END max_depth=6, min_samples_leaf=40, min_samples_split=50, n_estimators=50; total time=   0.1s\n",
            "[CV] END max_depth=6, min_samples_leaf=40, min_samples_split=50, n_estimators=50; total time=   0.1s\n",
            "[CV] END max_depth=6, min_samples_leaf=40, min_samples_split=50, n_estimators=50; total time=   0.1s\n",
            "[CV] END max_depth=6, min_samples_leaf=40, min_samples_split=50, n_estimators=50; total time=   0.1s\n",
            "[CV] END max_depth=6, min_samples_leaf=40, min_samples_split=50, n_estimators=50; total time=   0.1s\n",
            "[CV] END max_depth=6, min_samples_leaf=40, min_samples_split=50, n_estimators=80; total time=   0.2s\n",
            "[CV] END max_depth=6, min_samples_leaf=40, min_samples_split=50, n_estimators=80; total time=   0.2s\n",
            "[CV] END max_depth=6, min_samples_leaf=40, min_samples_split=50, n_estimators=80; total time=   0.2s\n",
            "[CV] END max_depth=6, min_samples_leaf=40, min_samples_split=50, n_estimators=80; total time=   0.2s\n",
            "[CV] END max_depth=6, min_samples_leaf=40, min_samples_split=50, n_estimators=80; total time=   0.2s\n",
            "[CV] END max_depth=6, min_samples_leaf=40, min_samples_split=50, n_estimators=100; total time=   0.2s\n",
            "[CV] END max_depth=6, min_samples_leaf=40, min_samples_split=50, n_estimators=100; total time=   0.2s\n",
            "[CV] END max_depth=6, min_samples_leaf=40, min_samples_split=50, n_estimators=100; total time=   0.2s\n",
            "[CV] END max_depth=6, min_samples_leaf=40, min_samples_split=50, n_estimators=100; total time=   0.2s\n",
            "[CV] END max_depth=6, min_samples_leaf=40, min_samples_split=50, n_estimators=100; total time=   0.2s\n",
            "[CV] END max_depth=6, min_samples_leaf=40, min_samples_split=100, n_estimators=50; total time=   0.1s\n",
            "[CV] END max_depth=6, min_samples_leaf=40, min_samples_split=100, n_estimators=50; total time=   0.1s\n",
            "[CV] END max_depth=6, min_samples_leaf=40, min_samples_split=100, n_estimators=50; total time=   0.1s\n",
            "[CV] END max_depth=6, min_samples_leaf=40, min_samples_split=100, n_estimators=50; total time=   0.1s\n",
            "[CV] END max_depth=6, min_samples_leaf=40, min_samples_split=100, n_estimators=50; total time=   0.1s\n",
            "[CV] END max_depth=6, min_samples_leaf=40, min_samples_split=100, n_estimators=80; total time=   0.2s\n",
            "[CV] END max_depth=6, min_samples_leaf=40, min_samples_split=100, n_estimators=80; total time=   0.2s\n",
            "[CV] END max_depth=6, min_samples_leaf=40, min_samples_split=100, n_estimators=80; total time=   0.2s\n",
            "[CV] END max_depth=6, min_samples_leaf=40, min_samples_split=100, n_estimators=80; total time=   0.2s\n",
            "[CV] END max_depth=6, min_samples_leaf=40, min_samples_split=100, n_estimators=80; total time=   0.2s\n",
            "[CV] END max_depth=6, min_samples_leaf=40, min_samples_split=100, n_estimators=100; total time=   0.2s\n",
            "[CV] END max_depth=6, min_samples_leaf=40, min_samples_split=100, n_estimators=100; total time=   0.2s\n",
            "[CV] END max_depth=6, min_samples_leaf=40, min_samples_split=100, n_estimators=100; total time=   0.2s\n",
            "[CV] END max_depth=6, min_samples_leaf=40, min_samples_split=100, n_estimators=100; total time=   0.2s\n",
            "[CV] END max_depth=6, min_samples_leaf=40, min_samples_split=100, n_estimators=100; total time=   0.2s\n",
            "[CV] END max_depth=6, min_samples_leaf=40, min_samples_split=150, n_estimators=50; total time=   0.1s\n",
            "[CV] END max_depth=6, min_samples_leaf=40, min_samples_split=150, n_estimators=50; total time=   0.1s\n",
            "[CV] END max_depth=6, min_samples_leaf=40, min_samples_split=150, n_estimators=50; total time=   0.1s\n",
            "[CV] END max_depth=6, min_samples_leaf=40, min_samples_split=150, n_estimators=50; total time=   0.1s\n",
            "[CV] END max_depth=6, min_samples_leaf=40, min_samples_split=150, n_estimators=50; total time=   0.1s\n",
            "[CV] END max_depth=6, min_samples_leaf=40, min_samples_split=150, n_estimators=80; total time=   0.2s\n",
            "[CV] END max_depth=6, min_samples_leaf=40, min_samples_split=150, n_estimators=80; total time=   0.2s\n",
            "[CV] END max_depth=6, min_samples_leaf=40, min_samples_split=150, n_estimators=80; total time=   0.2s\n",
            "[CV] END max_depth=6, min_samples_leaf=40, min_samples_split=150, n_estimators=80; total time=   0.2s\n",
            "[CV] END max_depth=6, min_samples_leaf=40, min_samples_split=150, n_estimators=80; total time=   0.2s\n",
            "[CV] END max_depth=6, min_samples_leaf=40, min_samples_split=150, n_estimators=100; total time=   0.2s\n",
            "[CV] END max_depth=6, min_samples_leaf=40, min_samples_split=150, n_estimators=100; total time=   0.2s\n",
            "[CV] END max_depth=6, min_samples_leaf=40, min_samples_split=150, n_estimators=100; total time=   0.2s\n",
            "[CV] END max_depth=6, min_samples_leaf=40, min_samples_split=150, n_estimators=100; total time=   0.2s\n",
            "[CV] END max_depth=6, min_samples_leaf=40, min_samples_split=150, n_estimators=100; total time=   0.2s\n",
            "[CV] END max_depth=6, min_samples_leaf=50, min_samples_split=50, n_estimators=50; total time=   0.1s\n",
            "[CV] END max_depth=6, min_samples_leaf=50, min_samples_split=50, n_estimators=50; total time=   0.1s\n",
            "[CV] END max_depth=6, min_samples_leaf=50, min_samples_split=50, n_estimators=50; total time=   0.1s\n",
            "[CV] END max_depth=6, min_samples_leaf=50, min_samples_split=50, n_estimators=50; total time=   0.1s\n",
            "[CV] END max_depth=6, min_samples_leaf=50, min_samples_split=50, n_estimators=50; total time=   0.1s\n",
            "[CV] END max_depth=6, min_samples_leaf=50, min_samples_split=50, n_estimators=80; total time=   0.2s\n",
            "[CV] END max_depth=6, min_samples_leaf=50, min_samples_split=50, n_estimators=80; total time=   0.2s\n",
            "[CV] END max_depth=6, min_samples_leaf=50, min_samples_split=50, n_estimators=80; total time=   0.2s\n",
            "[CV] END max_depth=6, min_samples_leaf=50, min_samples_split=50, n_estimators=80; total time=   0.2s\n",
            "[CV] END max_depth=6, min_samples_leaf=50, min_samples_split=50, n_estimators=80; total time=   0.2s\n",
            "[CV] END max_depth=6, min_samples_leaf=50, min_samples_split=50, n_estimators=100; total time=   0.2s\n",
            "[CV] END max_depth=6, min_samples_leaf=50, min_samples_split=50, n_estimators=100; total time=   0.2s\n",
            "[CV] END max_depth=6, min_samples_leaf=50, min_samples_split=50, n_estimators=100; total time=   0.2s\n",
            "[CV] END max_depth=6, min_samples_leaf=50, min_samples_split=50, n_estimators=100; total time=   0.2s\n",
            "[CV] END max_depth=6, min_samples_leaf=50, min_samples_split=50, n_estimators=100; total time=   0.2s\n",
            "[CV] END max_depth=6, min_samples_leaf=50, min_samples_split=100, n_estimators=50; total time=   0.1s\n",
            "[CV] END max_depth=6, min_samples_leaf=50, min_samples_split=100, n_estimators=50; total time=   0.1s\n",
            "[CV] END max_depth=6, min_samples_leaf=50, min_samples_split=100, n_estimators=50; total time=   0.1s\n",
            "[CV] END max_depth=6, min_samples_leaf=50, min_samples_split=100, n_estimators=50; total time=   0.1s\n",
            "[CV] END max_depth=6, min_samples_leaf=50, min_samples_split=100, n_estimators=50; total time=   0.1s\n",
            "[CV] END max_depth=6, min_samples_leaf=50, min_samples_split=100, n_estimators=80; total time=   0.2s\n",
            "[CV] END max_depth=6, min_samples_leaf=50, min_samples_split=100, n_estimators=80; total time=   0.2s\n",
            "[CV] END max_depth=6, min_samples_leaf=50, min_samples_split=100, n_estimators=80; total time=   0.2s\n",
            "[CV] END max_depth=6, min_samples_leaf=50, min_samples_split=100, n_estimators=80; total time=   0.2s\n",
            "[CV] END max_depth=6, min_samples_leaf=50, min_samples_split=100, n_estimators=80; total time=   0.2s\n",
            "[CV] END max_depth=6, min_samples_leaf=50, min_samples_split=100, n_estimators=100; total time=   0.2s\n",
            "[CV] END max_depth=6, min_samples_leaf=50, min_samples_split=100, n_estimators=100; total time=   0.2s\n",
            "[CV] END max_depth=6, min_samples_leaf=50, min_samples_split=100, n_estimators=100; total time=   0.2s\n",
            "[CV] END max_depth=6, min_samples_leaf=50, min_samples_split=100, n_estimators=100; total time=   0.2s\n",
            "[CV] END max_depth=6, min_samples_leaf=50, min_samples_split=100, n_estimators=100; total time=   0.2s\n",
            "[CV] END max_depth=6, min_samples_leaf=50, min_samples_split=150, n_estimators=50; total time=   0.1s\n",
            "[CV] END max_depth=6, min_samples_leaf=50, min_samples_split=150, n_estimators=50; total time=   0.1s\n",
            "[CV] END max_depth=6, min_samples_leaf=50, min_samples_split=150, n_estimators=50; total time=   0.1s\n",
            "[CV] END max_depth=6, min_samples_leaf=50, min_samples_split=150, n_estimators=50; total time=   0.1s\n",
            "[CV] END max_depth=6, min_samples_leaf=50, min_samples_split=150, n_estimators=50; total time=   0.1s\n",
            "[CV] END max_depth=6, min_samples_leaf=50, min_samples_split=150, n_estimators=80; total time=   0.2s\n",
            "[CV] END max_depth=6, min_samples_leaf=50, min_samples_split=150, n_estimators=80; total time=   0.2s\n",
            "[CV] END max_depth=6, min_samples_leaf=50, min_samples_split=150, n_estimators=80; total time=   0.2s\n",
            "[CV] END max_depth=6, min_samples_leaf=50, min_samples_split=150, n_estimators=80; total time=   0.2s\n",
            "[CV] END max_depth=6, min_samples_leaf=50, min_samples_split=150, n_estimators=80; total time=   0.2s\n",
            "[CV] END max_depth=6, min_samples_leaf=50, min_samples_split=150, n_estimators=100; total time=   0.2s\n",
            "[CV] END max_depth=6, min_samples_leaf=50, min_samples_split=150, n_estimators=100; total time=   0.2s\n",
            "[CV] END max_depth=6, min_samples_leaf=50, min_samples_split=150, n_estimators=100; total time=   0.2s\n",
            "[CV] END max_depth=6, min_samples_leaf=50, min_samples_split=150, n_estimators=100; total time=   0.2s\n",
            "[CV] END max_depth=6, min_samples_leaf=50, min_samples_split=150, n_estimators=100; total time=   0.2s\n",
            "[CV] END max_depth=8, min_samples_leaf=40, min_samples_split=50, n_estimators=50; total time=   0.1s\n",
            "[CV] END max_depth=8, min_samples_leaf=40, min_samples_split=50, n_estimators=50; total time=   0.1s\n",
            "[CV] END max_depth=8, min_samples_leaf=40, min_samples_split=50, n_estimators=50; total time=   0.1s\n",
            "[CV] END max_depth=8, min_samples_leaf=40, min_samples_split=50, n_estimators=50; total time=   0.1s\n",
            "[CV] END max_depth=8, min_samples_leaf=40, min_samples_split=50, n_estimators=50; total time=   0.1s\n",
            "[CV] END max_depth=8, min_samples_leaf=40, min_samples_split=50, n_estimators=80; total time=   0.2s\n",
            "[CV] END max_depth=8, min_samples_leaf=40, min_samples_split=50, n_estimators=80; total time=   0.2s\n",
            "[CV] END max_depth=8, min_samples_leaf=40, min_samples_split=50, n_estimators=80; total time=   0.2s\n",
            "[CV] END max_depth=8, min_samples_leaf=40, min_samples_split=50, n_estimators=80; total time=   0.2s\n",
            "[CV] END max_depth=8, min_samples_leaf=40, min_samples_split=50, n_estimators=80; total time=   0.2s\n",
            "[CV] END max_depth=8, min_samples_leaf=40, min_samples_split=50, n_estimators=100; total time=   0.2s\n",
            "[CV] END max_depth=8, min_samples_leaf=40, min_samples_split=50, n_estimators=100; total time=   0.2s\n",
            "[CV] END max_depth=8, min_samples_leaf=40, min_samples_split=50, n_estimators=100; total time=   0.2s\n",
            "[CV] END max_depth=8, min_samples_leaf=40, min_samples_split=50, n_estimators=100; total time=   0.2s\n",
            "[CV] END max_depth=8, min_samples_leaf=40, min_samples_split=50, n_estimators=100; total time=   0.2s\n",
            "[CV] END max_depth=8, min_samples_leaf=40, min_samples_split=100, n_estimators=50; total time=   0.1s\n",
            "[CV] END max_depth=8, min_samples_leaf=40, min_samples_split=100, n_estimators=50; total time=   0.1s\n",
            "[CV] END max_depth=8, min_samples_leaf=40, min_samples_split=100, n_estimators=50; total time=   0.1s\n",
            "[CV] END max_depth=8, min_samples_leaf=40, min_samples_split=100, n_estimators=50; total time=   0.1s\n",
            "[CV] END max_depth=8, min_samples_leaf=40, min_samples_split=100, n_estimators=50; total time=   0.1s\n",
            "[CV] END max_depth=8, min_samples_leaf=40, min_samples_split=100, n_estimators=80; total time=   0.2s\n",
            "[CV] END max_depth=8, min_samples_leaf=40, min_samples_split=100, n_estimators=80; total time=   0.2s\n",
            "[CV] END max_depth=8, min_samples_leaf=40, min_samples_split=100, n_estimators=80; total time=   0.2s\n",
            "[CV] END max_depth=8, min_samples_leaf=40, min_samples_split=100, n_estimators=80; total time=   0.2s\n",
            "[CV] END max_depth=8, min_samples_leaf=40, min_samples_split=100, n_estimators=80; total time=   0.2s\n",
            "[CV] END max_depth=8, min_samples_leaf=40, min_samples_split=100, n_estimators=100; total time=   0.2s\n",
            "[CV] END max_depth=8, min_samples_leaf=40, min_samples_split=100, n_estimators=100; total time=   0.2s\n",
            "[CV] END max_depth=8, min_samples_leaf=40, min_samples_split=100, n_estimators=100; total time=   0.2s\n",
            "[CV] END max_depth=8, min_samples_leaf=40, min_samples_split=100, n_estimators=100; total time=   0.2s\n",
            "[CV] END max_depth=8, min_samples_leaf=40, min_samples_split=100, n_estimators=100; total time=   0.2s\n",
            "[CV] END max_depth=8, min_samples_leaf=40, min_samples_split=150, n_estimators=50; total time=   0.1s\n",
            "[CV] END max_depth=8, min_samples_leaf=40, min_samples_split=150, n_estimators=50; total time=   0.1s\n",
            "[CV] END max_depth=8, min_samples_leaf=40, min_samples_split=150, n_estimators=50; total time=   0.1s\n",
            "[CV] END max_depth=8, min_samples_leaf=40, min_samples_split=150, n_estimators=50; total time=   0.1s\n",
            "[CV] END max_depth=8, min_samples_leaf=40, min_samples_split=150, n_estimators=50; total time=   0.1s\n",
            "[CV] END max_depth=8, min_samples_leaf=40, min_samples_split=150, n_estimators=80; total time=   0.2s\n",
            "[CV] END max_depth=8, min_samples_leaf=40, min_samples_split=150, n_estimators=80; total time=   0.2s\n",
            "[CV] END max_depth=8, min_samples_leaf=40, min_samples_split=150, n_estimators=80; total time=   0.2s\n",
            "[CV] END max_depth=8, min_samples_leaf=40, min_samples_split=150, n_estimators=80; total time=   0.2s\n",
            "[CV] END max_depth=8, min_samples_leaf=40, min_samples_split=150, n_estimators=80; total time=   0.2s\n",
            "[CV] END max_depth=8, min_samples_leaf=40, min_samples_split=150, n_estimators=100; total time=   0.2s\n",
            "[CV] END max_depth=8, min_samples_leaf=40, min_samples_split=150, n_estimators=100; total time=   0.2s\n",
            "[CV] END max_depth=8, min_samples_leaf=40, min_samples_split=150, n_estimators=100; total time=   0.2s\n",
            "[CV] END max_depth=8, min_samples_leaf=40, min_samples_split=150, n_estimators=100; total time=   0.2s\n",
            "[CV] END max_depth=8, min_samples_leaf=40, min_samples_split=150, n_estimators=100; total time=   0.2s\n",
            "[CV] END max_depth=8, min_samples_leaf=50, min_samples_split=50, n_estimators=50; total time=   0.1s\n",
            "[CV] END max_depth=8, min_samples_leaf=50, min_samples_split=50, n_estimators=50; total time=   0.1s\n",
            "[CV] END max_depth=8, min_samples_leaf=50, min_samples_split=50, n_estimators=50; total time=   0.1s\n",
            "[CV] END max_depth=8, min_samples_leaf=50, min_samples_split=50, n_estimators=50; total time=   0.1s\n",
            "[CV] END max_depth=8, min_samples_leaf=50, min_samples_split=50, n_estimators=50; total time=   0.1s\n",
            "[CV] END max_depth=8, min_samples_leaf=50, min_samples_split=50, n_estimators=80; total time=   0.2s\n",
            "[CV] END max_depth=8, min_samples_leaf=50, min_samples_split=50, n_estimators=80; total time=   0.2s\n",
            "[CV] END max_depth=8, min_samples_leaf=50, min_samples_split=50, n_estimators=80; total time=   0.2s\n",
            "[CV] END max_depth=8, min_samples_leaf=50, min_samples_split=50, n_estimators=80; total time=   0.2s\n",
            "[CV] END max_depth=8, min_samples_leaf=50, min_samples_split=50, n_estimators=80; total time=   0.2s\n",
            "[CV] END max_depth=8, min_samples_leaf=50, min_samples_split=50, n_estimators=100; total time=   0.2s\n",
            "[CV] END max_depth=8, min_samples_leaf=50, min_samples_split=50, n_estimators=100; total time=   0.2s\n",
            "[CV] END max_depth=8, min_samples_leaf=50, min_samples_split=50, n_estimators=100; total time=   0.2s\n",
            "[CV] END max_depth=8, min_samples_leaf=50, min_samples_split=50, n_estimators=100; total time=   0.2s\n",
            "[CV] END max_depth=8, min_samples_leaf=50, min_samples_split=50, n_estimators=100; total time=   0.2s\n",
            "[CV] END max_depth=8, min_samples_leaf=50, min_samples_split=100, n_estimators=50; total time=   0.1s\n",
            "[CV] END max_depth=8, min_samples_leaf=50, min_samples_split=100, n_estimators=50; total time=   0.1s\n",
            "[CV] END max_depth=8, min_samples_leaf=50, min_samples_split=100, n_estimators=50; total time=   0.1s\n",
            "[CV] END max_depth=8, min_samples_leaf=50, min_samples_split=100, n_estimators=50; total time=   0.1s\n",
            "[CV] END max_depth=8, min_samples_leaf=50, min_samples_split=100, n_estimators=50; total time=   0.1s\n",
            "[CV] END max_depth=8, min_samples_leaf=50, min_samples_split=100, n_estimators=80; total time=   0.2s\n",
            "[CV] END max_depth=8, min_samples_leaf=50, min_samples_split=100, n_estimators=80; total time=   0.2s\n",
            "[CV] END max_depth=8, min_samples_leaf=50, min_samples_split=100, n_estimators=80; total time=   0.2s\n",
            "[CV] END max_depth=8, min_samples_leaf=50, min_samples_split=100, n_estimators=80; total time=   0.2s\n",
            "[CV] END max_depth=8, min_samples_leaf=50, min_samples_split=100, n_estimators=80; total time=   0.2s\n",
            "[CV] END max_depth=8, min_samples_leaf=50, min_samples_split=100, n_estimators=100; total time=   0.2s\n",
            "[CV] END max_depth=8, min_samples_leaf=50, min_samples_split=100, n_estimators=100; total time=   0.2s\n",
            "[CV] END max_depth=8, min_samples_leaf=50, min_samples_split=100, n_estimators=100; total time=   0.2s\n",
            "[CV] END max_depth=8, min_samples_leaf=50, min_samples_split=100, n_estimators=100; total time=   0.2s\n",
            "[CV] END max_depth=8, min_samples_leaf=50, min_samples_split=100, n_estimators=100; total time=   0.2s\n",
            "[CV] END max_depth=8, min_samples_leaf=50, min_samples_split=150, n_estimators=50; total time=   0.1s\n",
            "[CV] END max_depth=8, min_samples_leaf=50, min_samples_split=150, n_estimators=50; total time=   0.1s\n",
            "[CV] END max_depth=8, min_samples_leaf=50, min_samples_split=150, n_estimators=50; total time=   0.1s\n",
            "[CV] END max_depth=8, min_samples_leaf=50, min_samples_split=150, n_estimators=50; total time=   0.1s\n",
            "[CV] END max_depth=8, min_samples_leaf=50, min_samples_split=150, n_estimators=50; total time=   0.1s\n",
            "[CV] END max_depth=8, min_samples_leaf=50, min_samples_split=150, n_estimators=80; total time=   0.2s\n",
            "[CV] END max_depth=8, min_samples_leaf=50, min_samples_split=150, n_estimators=80; total time=   0.2s\n",
            "[CV] END max_depth=8, min_samples_leaf=50, min_samples_split=150, n_estimators=80; total time=   0.2s\n",
            "[CV] END max_depth=8, min_samples_leaf=50, min_samples_split=150, n_estimators=80; total time=   0.2s\n",
            "[CV] END max_depth=8, min_samples_leaf=50, min_samples_split=150, n_estimators=80; total time=   0.2s\n",
            "[CV] END max_depth=8, min_samples_leaf=50, min_samples_split=150, n_estimators=100; total time=   0.2s\n",
            "[CV] END max_depth=8, min_samples_leaf=50, min_samples_split=150, n_estimators=100; total time=   0.2s\n",
            "[CV] END max_depth=8, min_samples_leaf=50, min_samples_split=150, n_estimators=100; total time=   0.2s\n",
            "[CV] END max_depth=8, min_samples_leaf=50, min_samples_split=150, n_estimators=100; total time=   0.2s\n",
            "[CV] END max_depth=8, min_samples_leaf=50, min_samples_split=150, n_estimators=100; total time=   0.2s\n"
          ]
        },
        {
          "output_type": "execute_result",
          "data": {
            "text/plain": [
              "GridSearchCV(cv=5, estimator=RandomForestClassifier(),\n",
              "             param_grid={'max_depth': [4, 6, 8], 'min_samples_leaf': [40, 50],\n",
              "                         'min_samples_split': [50, 100, 150],\n",
              "                         'n_estimators': [50, 80, 100]},\n",
              "             scoring='roc_auc', verbose=2)"
            ]
          },
          "metadata": {},
          "execution_count": 52
        }
      ]
    },
    {
      "cell_type": "code",
      "source": [
        "rf_grid.best_params_"
      ],
      "metadata": {
        "colab": {
          "base_uri": "https://localhost:8080/"
        },
        "id": "8k6hklaugFMa",
        "outputId": "9ebfa2d0-e17e-4615-a78a-f4c82bb78504"
      },
      "execution_count": 53,
      "outputs": [
        {
          "output_type": "execute_result",
          "data": {
            "text/plain": [
              "{'max_depth': 6,\n",
              " 'min_samples_leaf': 40,\n",
              " 'min_samples_split': 150,\n",
              " 'n_estimators': 50}"
            ]
          },
          "metadata": {},
          "execution_count": 53
        }
      ]
    },
    {
      "cell_type": "code",
      "source": [
        "print('Train ROC-AUC score : ', rf_grid.best_estimator_.score(X_train,y_train))\n",
        "print('Test ROC-AUC score : ', rf_grid.best_estimator_.score(X_test,y_test))"
      ],
      "metadata": {
        "colab": {
          "base_uri": "https://localhost:8080/"
        },
        "id": "G6niahkGgFPh",
        "outputId": "0500a10b-9e44-4612-a2aa-ec966f6ee065"
      },
      "execution_count": 54,
      "outputs": [
        {
          "output_type": "stream",
          "name": "stdout",
          "text": [
            "Train ROC-AUC score :  0.8478718921196797\n",
            "Test ROC-AUC score :  0.8525073746312685\n"
          ]
        }
      ]
    },
    {
      "cell_type": "code",
      "source": [
        "rf_random = RandomizedSearchCV(estimator=rf,\n",
        "                       param_distributions = param_dict_rf,\n",
        "                       cv = 5, verbose=2, scoring='roc_auc')\n",
        "\n",
        "rf_random.fit(X_train,y_train)"
      ],
      "metadata": {
        "colab": {
          "base_uri": "https://localhost:8080/"
        },
        "id": "Fq_EzUrPgmoK",
        "outputId": "4e9eb30a-8d70-4c2f-9bd4-8c4e88283d5b"
      },
      "execution_count": 55,
      "outputs": [
        {
          "output_type": "stream",
          "name": "stdout",
          "text": [
            "Fitting 5 folds for each of 10 candidates, totalling 50 fits\n",
            "[CV] END max_depth=8, min_samples_leaf=40, min_samples_split=150, n_estimators=100; total time=   0.2s\n",
            "[CV] END max_depth=8, min_samples_leaf=40, min_samples_split=150, n_estimators=100; total time=   0.2s\n",
            "[CV] END max_depth=8, min_samples_leaf=40, min_samples_split=150, n_estimators=100; total time=   0.2s\n",
            "[CV] END max_depth=8, min_samples_leaf=40, min_samples_split=150, n_estimators=100; total time=   0.2s\n",
            "[CV] END max_depth=8, min_samples_leaf=40, min_samples_split=150, n_estimators=100; total time=   0.2s\n",
            "[CV] END max_depth=6, min_samples_leaf=50, min_samples_split=150, n_estimators=100; total time=   0.2s\n",
            "[CV] END max_depth=6, min_samples_leaf=50, min_samples_split=150, n_estimators=100; total time=   0.2s\n",
            "[CV] END max_depth=6, min_samples_leaf=50, min_samples_split=150, n_estimators=100; total time=   0.2s\n",
            "[CV] END max_depth=6, min_samples_leaf=50, min_samples_split=150, n_estimators=100; total time=   0.2s\n",
            "[CV] END max_depth=6, min_samples_leaf=50, min_samples_split=150, n_estimators=100; total time=   0.2s\n",
            "[CV] END max_depth=8, min_samples_leaf=50, min_samples_split=100, n_estimators=100; total time=   0.2s\n",
            "[CV] END max_depth=8, min_samples_leaf=50, min_samples_split=100, n_estimators=100; total time=   0.2s\n",
            "[CV] END max_depth=8, min_samples_leaf=50, min_samples_split=100, n_estimators=100; total time=   0.2s\n",
            "[CV] END max_depth=8, min_samples_leaf=50, min_samples_split=100, n_estimators=100; total time=   0.2s\n",
            "[CV] END max_depth=8, min_samples_leaf=50, min_samples_split=100, n_estimators=100; total time=   0.2s\n",
            "[CV] END max_depth=4, min_samples_leaf=50, min_samples_split=150, n_estimators=50; total time=   0.1s\n",
            "[CV] END max_depth=4, min_samples_leaf=50, min_samples_split=150, n_estimators=50; total time=   0.1s\n",
            "[CV] END max_depth=4, min_samples_leaf=50, min_samples_split=150, n_estimators=50; total time=   0.1s\n",
            "[CV] END max_depth=4, min_samples_leaf=50, min_samples_split=150, n_estimators=50; total time=   0.1s\n",
            "[CV] END max_depth=4, min_samples_leaf=50, min_samples_split=150, n_estimators=50; total time=   0.1s\n",
            "[CV] END max_depth=6, min_samples_leaf=40, min_samples_split=50, n_estimators=80; total time=   0.2s\n",
            "[CV] END max_depth=6, min_samples_leaf=40, min_samples_split=50, n_estimators=80; total time=   0.2s\n",
            "[CV] END max_depth=6, min_samples_leaf=40, min_samples_split=50, n_estimators=80; total time=   0.2s\n",
            "[CV] END max_depth=6, min_samples_leaf=40, min_samples_split=50, n_estimators=80; total time=   0.2s\n",
            "[CV] END max_depth=6, min_samples_leaf=40, min_samples_split=50, n_estimators=80; total time=   0.2s\n",
            "[CV] END max_depth=4, min_samples_leaf=50, min_samples_split=150, n_estimators=100; total time=   0.2s\n",
            "[CV] END max_depth=4, min_samples_leaf=50, min_samples_split=150, n_estimators=100; total time=   0.2s\n",
            "[CV] END max_depth=4, min_samples_leaf=50, min_samples_split=150, n_estimators=100; total time=   0.2s\n",
            "[CV] END max_depth=4, min_samples_leaf=50, min_samples_split=150, n_estimators=100; total time=   0.2s\n",
            "[CV] END max_depth=4, min_samples_leaf=50, min_samples_split=150, n_estimators=100; total time=   0.2s\n",
            "[CV] END max_depth=4, min_samples_leaf=40, min_samples_split=150, n_estimators=100; total time=   0.2s\n",
            "[CV] END max_depth=4, min_samples_leaf=40, min_samples_split=150, n_estimators=100; total time=   0.2s\n",
            "[CV] END max_depth=4, min_samples_leaf=40, min_samples_split=150, n_estimators=100; total time=   0.2s\n",
            "[CV] END max_depth=4, min_samples_leaf=40, min_samples_split=150, n_estimators=100; total time=   0.2s\n",
            "[CV] END max_depth=4, min_samples_leaf=40, min_samples_split=150, n_estimators=100; total time=   0.2s\n",
            "[CV] END max_depth=4, min_samples_leaf=50, min_samples_split=100, n_estimators=80; total time=   0.2s\n",
            "[CV] END max_depth=4, min_samples_leaf=50, min_samples_split=100, n_estimators=80; total time=   0.2s\n",
            "[CV] END max_depth=4, min_samples_leaf=50, min_samples_split=100, n_estimators=80; total time=   0.2s\n",
            "[CV] END max_depth=4, min_samples_leaf=50, min_samples_split=100, n_estimators=80; total time=   0.2s\n",
            "[CV] END max_depth=4, min_samples_leaf=50, min_samples_split=100, n_estimators=80; total time=   0.2s\n",
            "[CV] END max_depth=4, min_samples_leaf=40, min_samples_split=150, n_estimators=80; total time=   0.2s\n",
            "[CV] END max_depth=4, min_samples_leaf=40, min_samples_split=150, n_estimators=80; total time=   0.2s\n",
            "[CV] END max_depth=4, min_samples_leaf=40, min_samples_split=150, n_estimators=80; total time=   0.2s\n",
            "[CV] END max_depth=4, min_samples_leaf=40, min_samples_split=150, n_estimators=80; total time=   0.2s\n",
            "[CV] END max_depth=4, min_samples_leaf=40, min_samples_split=150, n_estimators=80; total time=   0.2s\n",
            "[CV] END max_depth=8, min_samples_leaf=50, min_samples_split=100, n_estimators=80; total time=   0.2s\n",
            "[CV] END max_depth=8, min_samples_leaf=50, min_samples_split=100, n_estimators=80; total time=   0.2s\n",
            "[CV] END max_depth=8, min_samples_leaf=50, min_samples_split=100, n_estimators=80; total time=   0.2s\n",
            "[CV] END max_depth=8, min_samples_leaf=50, min_samples_split=100, n_estimators=80; total time=   0.2s\n",
            "[CV] END max_depth=8, min_samples_leaf=50, min_samples_split=100, n_estimators=80; total time=   0.2s\n"
          ]
        },
        {
          "output_type": "execute_result",
          "data": {
            "text/plain": [
              "RandomizedSearchCV(cv=5, estimator=RandomForestClassifier(),\n",
              "                   param_distributions={'max_depth': [4, 6, 8],\n",
              "                                        'min_samples_leaf': [40, 50],\n",
              "                                        'min_samples_split': [50, 100, 150],\n",
              "                                        'n_estimators': [50, 80, 100]},\n",
              "                   scoring='roc_auc', verbose=2)"
            ]
          },
          "metadata": {},
          "execution_count": 55
        }
      ]
    },
    {
      "cell_type": "code",
      "source": [
        "rf_random.best_params_"
      ],
      "metadata": {
        "colab": {
          "base_uri": "https://localhost:8080/"
        },
        "id": "440xP-ksgmrM",
        "outputId": "e948fa3c-5fc8-4748-dd97-050691da63b3"
      },
      "execution_count": 56,
      "outputs": [
        {
          "output_type": "execute_result",
          "data": {
            "text/plain": [
              "{'n_estimators': 100,\n",
              " 'min_samples_split': 150,\n",
              " 'min_samples_leaf': 50,\n",
              " 'max_depth': 4}"
            ]
          },
          "metadata": {},
          "execution_count": 56
        }
      ]
    },
    {
      "cell_type": "code",
      "source": [
        "print('Train ROC-AUC score : ', rf_random.best_estimator_.score(X_train,y_train))\n",
        "print('Test ROC-AUC score : ', rf_random.best_estimator_.score(X_test,y_test))"
      ],
      "metadata": {
        "colab": {
          "base_uri": "https://localhost:8080/"
        },
        "id": "S_7Lpwvng5zI",
        "outputId": "8d20423c-9b36-4e71-97d8-74b012abf54c"
      },
      "execution_count": 57,
      "outputs": [
        {
          "output_type": "stream",
          "name": "stdout",
          "text": [
            "Train ROC-AUC score :  0.8478718921196797\n",
            "Test ROC-AUC score :  0.8525073746312685\n"
          ]
        }
      ]
    },
    {
      "cell_type": "code",
      "source": [
        "rf_bayes = BayesSearchCV(estimator=rf,\n",
        "                       search_spaces = {\n",
        "                          'max_depth': Integer(4,8),\n",
        "                          'min_samples_leaf': Integer(10,100),\n",
        "                          'min_samples_split': Integer(50,150),\n",
        "                          'n_estimators': Integer(10,100)\n",
        "                        },\n",
        "                       cv = 5, verbose=2, scoring='roc_auc')\n",
        "\n",
        "rf_bayes.fit(X_train,y_train)"
      ],
      "metadata": {
        "colab": {
          "base_uri": "https://localhost:8080/"
        },
        "id": "aMSFZ5Kfg52X",
        "outputId": "f59ea979-8323-4756-f74a-c707b787e9bc"
      },
      "execution_count": 58,
      "outputs": [
        {
          "output_type": "stream",
          "name": "stdout",
          "text": [
            "Fitting 5 folds for each of 1 candidates, totalling 5 fits\n",
            "[CV] END max_depth=5, min_samples_leaf=89, min_samples_split=66, n_estimators=33; total time=   0.1s\n",
            "[CV] END max_depth=5, min_samples_leaf=89, min_samples_split=66, n_estimators=33; total time=   0.1s\n",
            "[CV] END max_depth=5, min_samples_leaf=89, min_samples_split=66, n_estimators=33; total time=   0.1s\n",
            "[CV] END max_depth=5, min_samples_leaf=89, min_samples_split=66, n_estimators=33; total time=   0.1s\n",
            "[CV] END max_depth=5, min_samples_leaf=89, min_samples_split=66, n_estimators=33; total time=   0.1s\n",
            "Fitting 5 folds for each of 1 candidates, totalling 5 fits\n",
            "[CV] END max_depth=8, min_samples_leaf=90, min_samples_split=61, n_estimators=47; total time=   0.1s\n",
            "[CV] END max_depth=8, min_samples_leaf=90, min_samples_split=61, n_estimators=47; total time=   0.1s\n",
            "[CV] END max_depth=8, min_samples_leaf=90, min_samples_split=61, n_estimators=47; total time=   0.1s\n",
            "[CV] END max_depth=8, min_samples_leaf=90, min_samples_split=61, n_estimators=47; total time=   0.1s\n",
            "[CV] END max_depth=8, min_samples_leaf=90, min_samples_split=61, n_estimators=47; total time=   0.1s\n",
            "Fitting 5 folds for each of 1 candidates, totalling 5 fits\n",
            "[CV] END max_depth=6, min_samples_leaf=96, min_samples_split=70, n_estimators=94; total time=   0.2s\n",
            "[CV] END max_depth=6, min_samples_leaf=96, min_samples_split=70, n_estimators=94; total time=   0.2s\n",
            "[CV] END max_depth=6, min_samples_leaf=96, min_samples_split=70, n_estimators=94; total time=   0.2s\n",
            "[CV] END max_depth=6, min_samples_leaf=96, min_samples_split=70, n_estimators=94; total time=   0.2s\n",
            "[CV] END max_depth=6, min_samples_leaf=96, min_samples_split=70, n_estimators=94; total time=   0.2s\n",
            "Fitting 5 folds for each of 1 candidates, totalling 5 fits\n",
            "[CV] END max_depth=5, min_samples_leaf=63, min_samples_split=122, n_estimators=41; total time=   0.1s\n",
            "[CV] END max_depth=5, min_samples_leaf=63, min_samples_split=122, n_estimators=41; total time=   0.1s\n",
            "[CV] END max_depth=5, min_samples_leaf=63, min_samples_split=122, n_estimators=41; total time=   0.1s\n",
            "[CV] END max_depth=5, min_samples_leaf=63, min_samples_split=122, n_estimators=41; total time=   0.1s\n",
            "[CV] END max_depth=5, min_samples_leaf=63, min_samples_split=122, n_estimators=41; total time=   0.1s\n",
            "Fitting 5 folds for each of 1 candidates, totalling 5 fits\n",
            "[CV] END max_depth=4, min_samples_leaf=50, min_samples_split=145, n_estimators=92; total time=   0.2s\n",
            "[CV] END max_depth=4, min_samples_leaf=50, min_samples_split=145, n_estimators=92; total time=   0.2s\n",
            "[CV] END max_depth=4, min_samples_leaf=50, min_samples_split=145, n_estimators=92; total time=   0.2s\n",
            "[CV] END max_depth=4, min_samples_leaf=50, min_samples_split=145, n_estimators=92; total time=   0.2s\n",
            "[CV] END max_depth=4, min_samples_leaf=50, min_samples_split=145, n_estimators=92; total time=   0.2s\n",
            "Fitting 5 folds for each of 1 candidates, totalling 5 fits\n",
            "[CV] END max_depth=8, min_samples_leaf=69, min_samples_split=52, n_estimators=30; total time=   0.1s\n",
            "[CV] END max_depth=8, min_samples_leaf=69, min_samples_split=52, n_estimators=30; total time=   0.1s\n",
            "[CV] END max_depth=8, min_samples_leaf=69, min_samples_split=52, n_estimators=30; total time=   0.1s\n",
            "[CV] END max_depth=8, min_samples_leaf=69, min_samples_split=52, n_estimators=30; total time=   0.1s\n",
            "[CV] END max_depth=8, min_samples_leaf=69, min_samples_split=52, n_estimators=30; total time=   0.1s\n",
            "Fitting 5 folds for each of 1 candidates, totalling 5 fits\n",
            "[CV] END max_depth=6, min_samples_leaf=41, min_samples_split=139, n_estimators=47; total time=   0.1s\n",
            "[CV] END max_depth=6, min_samples_leaf=41, min_samples_split=139, n_estimators=47; total time=   0.1s\n",
            "[CV] END max_depth=6, min_samples_leaf=41, min_samples_split=139, n_estimators=47; total time=   0.1s\n",
            "[CV] END max_depth=6, min_samples_leaf=41, min_samples_split=139, n_estimators=47; total time=   0.1s\n",
            "[CV] END max_depth=6, min_samples_leaf=41, min_samples_split=139, n_estimators=47; total time=   0.1s\n",
            "Fitting 5 folds for each of 1 candidates, totalling 5 fits\n",
            "[CV] END max_depth=5, min_samples_leaf=62, min_samples_split=142, n_estimators=13; total time=   0.0s\n",
            "[CV] END max_depth=5, min_samples_leaf=62, min_samples_split=142, n_estimators=13; total time=   0.0s\n",
            "[CV] END max_depth=5, min_samples_leaf=62, min_samples_split=142, n_estimators=13; total time=   0.0s\n",
            "[CV] END max_depth=5, min_samples_leaf=62, min_samples_split=142, n_estimators=13; total time=   0.0s\n",
            "[CV] END max_depth=5, min_samples_leaf=62, min_samples_split=142, n_estimators=13; total time=   0.0s\n",
            "Fitting 5 folds for each of 1 candidates, totalling 5 fits\n",
            "[CV] END max_depth=7, min_samples_leaf=55, min_samples_split=118, n_estimators=76; total time=   0.2s\n",
            "[CV] END max_depth=7, min_samples_leaf=55, min_samples_split=118, n_estimators=76; total time=   0.2s\n",
            "[CV] END max_depth=7, min_samples_leaf=55, min_samples_split=118, n_estimators=76; total time=   0.2s\n",
            "[CV] END max_depth=7, min_samples_leaf=55, min_samples_split=118, n_estimators=76; total time=   0.2s\n",
            "[CV] END max_depth=7, min_samples_leaf=55, min_samples_split=118, n_estimators=76; total time=   0.2s\n",
            "Fitting 5 folds for each of 1 candidates, totalling 5 fits\n",
            "[CV] END max_depth=7, min_samples_leaf=27, min_samples_split=135, n_estimators=82; total time=   0.2s\n",
            "[CV] END max_depth=7, min_samples_leaf=27, min_samples_split=135, n_estimators=82; total time=   0.2s\n",
            "[CV] END max_depth=7, min_samples_leaf=27, min_samples_split=135, n_estimators=82; total time=   0.2s\n",
            "[CV] END max_depth=7, min_samples_leaf=27, min_samples_split=135, n_estimators=82; total time=   0.2s\n",
            "[CV] END max_depth=7, min_samples_leaf=27, min_samples_split=135, n_estimators=82; total time=   0.2s\n",
            "Fitting 5 folds for each of 1 candidates, totalling 5 fits\n",
            "[CV] END max_depth=6, min_samples_leaf=10, min_samples_split=53, n_estimators=100; total time=   0.3s\n",
            "[CV] END max_depth=6, min_samples_leaf=10, min_samples_split=53, n_estimators=100; total time=   0.2s\n",
            "[CV] END max_depth=6, min_samples_leaf=10, min_samples_split=53, n_estimators=100; total time=   0.2s\n",
            "[CV] END max_depth=6, min_samples_leaf=10, min_samples_split=53, n_estimators=100; total time=   0.2s\n",
            "[CV] END max_depth=6, min_samples_leaf=10, min_samples_split=53, n_estimators=100; total time=   0.2s\n",
            "Fitting 5 folds for each of 1 candidates, totalling 5 fits\n",
            "[CV] END max_depth=7, min_samples_leaf=32, min_samples_split=50, n_estimators=100; total time=   0.3s\n",
            "[CV] END max_depth=7, min_samples_leaf=32, min_samples_split=50, n_estimators=100; total time=   0.2s\n",
            "[CV] END max_depth=7, min_samples_leaf=32, min_samples_split=50, n_estimators=100; total time=   0.3s\n",
            "[CV] END max_depth=7, min_samples_leaf=32, min_samples_split=50, n_estimators=100; total time=   0.2s\n",
            "[CV] END max_depth=7, min_samples_leaf=32, min_samples_split=50, n_estimators=100; total time=   0.2s\n",
            "Fitting 5 folds for each of 1 candidates, totalling 5 fits\n",
            "[CV] END max_depth=5, min_samples_leaf=10, min_samples_split=94, n_estimators=65; total time=   0.2s\n",
            "[CV] END max_depth=5, min_samples_leaf=10, min_samples_split=94, n_estimators=65; total time=   0.1s\n",
            "[CV] END max_depth=5, min_samples_leaf=10, min_samples_split=94, n_estimators=65; total time=   0.2s\n",
            "[CV] END max_depth=5, min_samples_leaf=10, min_samples_split=94, n_estimators=65; total time=   0.1s\n",
            "[CV] END max_depth=5, min_samples_leaf=10, min_samples_split=94, n_estimators=65; total time=   0.1s\n",
            "Fitting 5 folds for each of 1 candidates, totalling 5 fits\n",
            "[CV] END max_depth=7, min_samples_leaf=11, min_samples_split=61, n_estimators=12; total time=   0.0s\n",
            "[CV] END max_depth=7, min_samples_leaf=11, min_samples_split=61, n_estimators=12; total time=   0.0s\n",
            "[CV] END max_depth=7, min_samples_leaf=11, min_samples_split=61, n_estimators=12; total time=   0.0s\n",
            "[CV] END max_depth=7, min_samples_leaf=11, min_samples_split=61, n_estimators=12; total time=   0.0s\n",
            "[CV] END max_depth=7, min_samples_leaf=11, min_samples_split=61, n_estimators=12; total time=   0.0s\n",
            "Fitting 5 folds for each of 1 candidates, totalling 5 fits\n",
            "[CV] END max_depth=4, min_samples_leaf=10, min_samples_split=150, n_estimators=91; total time=   0.2s\n",
            "[CV] END max_depth=4, min_samples_leaf=10, min_samples_split=150, n_estimators=91; total time=   0.2s\n",
            "[CV] END max_depth=4, min_samples_leaf=10, min_samples_split=150, n_estimators=91; total time=   0.2s\n",
            "[CV] END max_depth=4, min_samples_leaf=10, min_samples_split=150, n_estimators=91; total time=   0.2s\n",
            "[CV] END max_depth=4, min_samples_leaf=10, min_samples_split=150, n_estimators=91; total time=   0.2s\n",
            "Fitting 5 folds for each of 1 candidates, totalling 5 fits\n",
            "[CV] END max_depth=4, min_samples_leaf=99, min_samples_split=77, n_estimators=10; total time=   0.0s\n",
            "[CV] END max_depth=4, min_samples_leaf=99, min_samples_split=77, n_estimators=10; total time=   0.0s\n",
            "[CV] END max_depth=4, min_samples_leaf=99, min_samples_split=77, n_estimators=10; total time=   0.0s\n",
            "[CV] END max_depth=4, min_samples_leaf=99, min_samples_split=77, n_estimators=10; total time=   0.0s\n",
            "[CV] END max_depth=4, min_samples_leaf=99, min_samples_split=77, n_estimators=10; total time=   0.0s\n",
            "Fitting 5 folds for each of 1 candidates, totalling 5 fits\n",
            "[CV] END max_depth=8, min_samples_leaf=60, min_samples_split=57, n_estimators=100; total time=   0.3s\n",
            "[CV] END max_depth=8, min_samples_leaf=60, min_samples_split=57, n_estimators=100; total time=   0.2s\n",
            "[CV] END max_depth=8, min_samples_leaf=60, min_samples_split=57, n_estimators=100; total time=   0.2s\n",
            "[CV] END max_depth=8, min_samples_leaf=60, min_samples_split=57, n_estimators=100; total time=   0.2s\n",
            "[CV] END max_depth=8, min_samples_leaf=60, min_samples_split=57, n_estimators=100; total time=   0.2s\n",
            "Fitting 5 folds for each of 1 candidates, totalling 5 fits\n",
            "[CV] END max_depth=8, min_samples_leaf=100, min_samples_split=82, n_estimators=71; total time=   0.2s\n",
            "[CV] END max_depth=8, min_samples_leaf=100, min_samples_split=82, n_estimators=71; total time=   0.1s\n",
            "[CV] END max_depth=8, min_samples_leaf=100, min_samples_split=82, n_estimators=71; total time=   0.2s\n",
            "[CV] END max_depth=8, min_samples_leaf=100, min_samples_split=82, n_estimators=71; total time=   0.1s\n",
            "[CV] END max_depth=8, min_samples_leaf=100, min_samples_split=82, n_estimators=71; total time=   0.1s\n",
            "Fitting 5 folds for each of 1 candidates, totalling 5 fits\n",
            "[CV] END max_depth=6, min_samples_leaf=99, min_samples_split=133, n_estimators=100; total time=   0.3s\n",
            "[CV] END max_depth=6, min_samples_leaf=99, min_samples_split=133, n_estimators=100; total time=   0.2s\n",
            "[CV] END max_depth=6, min_samples_leaf=99, min_samples_split=133, n_estimators=100; total time=   0.2s\n",
            "[CV] END max_depth=6, min_samples_leaf=99, min_samples_split=133, n_estimators=100; total time=   0.2s\n",
            "[CV] END max_depth=6, min_samples_leaf=99, min_samples_split=133, n_estimators=100; total time=   0.2s\n",
            "Fitting 5 folds for each of 1 candidates, totalling 5 fits\n",
            "[CV] END max_depth=5, min_samples_leaf=43, min_samples_split=50, n_estimators=65; total time=   0.3s\n",
            "[CV] END max_depth=5, min_samples_leaf=43, min_samples_split=50, n_estimators=65; total time=   0.1s\n",
            "[CV] END max_depth=5, min_samples_leaf=43, min_samples_split=50, n_estimators=65; total time=   0.1s\n",
            "[CV] END max_depth=5, min_samples_leaf=43, min_samples_split=50, n_estimators=65; total time=   0.3s\n",
            "[CV] END max_depth=5, min_samples_leaf=43, min_samples_split=50, n_estimators=65; total time=   0.6s\n",
            "Fitting 5 folds for each of 1 candidates, totalling 5 fits\n",
            "[CV] END max_depth=7, min_samples_leaf=12, min_samples_split=148, n_estimators=15; total time=   0.1s\n",
            "[CV] END max_depth=7, min_samples_leaf=12, min_samples_split=148, n_estimators=15; total time=   0.0s\n",
            "[CV] END max_depth=7, min_samples_leaf=12, min_samples_split=148, n_estimators=15; total time=   0.0s\n",
            "[CV] END max_depth=7, min_samples_leaf=12, min_samples_split=148, n_estimators=15; total time=   0.0s\n",
            "[CV] END max_depth=7, min_samples_leaf=12, min_samples_split=148, n_estimators=15; total time=   0.0s\n",
            "Fitting 5 folds for each of 1 candidates, totalling 5 fits\n",
            "[CV] END max_depth=6, min_samples_leaf=26, min_samples_split=103, n_estimators=100; total time=   0.3s\n",
            "[CV] END max_depth=6, min_samples_leaf=26, min_samples_split=103, n_estimators=100; total time=   0.2s\n",
            "[CV] END max_depth=6, min_samples_leaf=26, min_samples_split=103, n_estimators=100; total time=   0.2s\n",
            "[CV] END max_depth=6, min_samples_leaf=26, min_samples_split=103, n_estimators=100; total time=   0.2s\n",
            "[CV] END max_depth=6, min_samples_leaf=26, min_samples_split=103, n_estimators=100; total time=   0.2s\n",
            "Fitting 5 folds for each of 1 candidates, totalling 5 fits\n",
            "[CV] END max_depth=7, min_samples_leaf=10, min_samples_split=90, n_estimators=100; total time=   0.3s\n",
            "[CV] END max_depth=7, min_samples_leaf=10, min_samples_split=90, n_estimators=100; total time=   0.3s\n",
            "[CV] END max_depth=7, min_samples_leaf=10, min_samples_split=90, n_estimators=100; total time=   0.2s\n",
            "[CV] END max_depth=7, min_samples_leaf=10, min_samples_split=90, n_estimators=100; total time=   0.2s\n",
            "[CV] END max_depth=7, min_samples_leaf=10, min_samples_split=90, n_estimators=100; total time=   0.2s\n",
            "Fitting 5 folds for each of 1 candidates, totalling 5 fits\n",
            "[CV] END max_depth=8, min_samples_leaf=100, min_samples_split=147, n_estimators=30; total time=   0.1s\n",
            "[CV] END max_depth=8, min_samples_leaf=100, min_samples_split=147, n_estimators=30; total time=   0.1s\n",
            "[CV] END max_depth=8, min_samples_leaf=100, min_samples_split=147, n_estimators=30; total time=   0.1s\n",
            "[CV] END max_depth=8, min_samples_leaf=100, min_samples_split=147, n_estimators=30; total time=   0.1s\n",
            "[CV] END max_depth=8, min_samples_leaf=100, min_samples_split=147, n_estimators=30; total time=   0.1s\n",
            "Fitting 5 folds for each of 1 candidates, totalling 5 fits\n",
            "[CV] END max_depth=6, min_samples_leaf=75, min_samples_split=149, n_estimators=64; total time=   0.1s\n",
            "[CV] END max_depth=6, min_samples_leaf=75, min_samples_split=149, n_estimators=64; total time=   0.1s\n",
            "[CV] END max_depth=6, min_samples_leaf=75, min_samples_split=149, n_estimators=64; total time=   0.1s\n",
            "[CV] END max_depth=6, min_samples_leaf=75, min_samples_split=149, n_estimators=64; total time=   0.1s\n",
            "[CV] END max_depth=6, min_samples_leaf=75, min_samples_split=149, n_estimators=64; total time=   0.1s\n",
            "Fitting 5 folds for each of 1 candidates, totalling 5 fits\n",
            "[CV] END max_depth=6, min_samples_leaf=11, min_samples_split=149, n_estimators=56; total time=   0.2s\n",
            "[CV] END max_depth=6, min_samples_leaf=11, min_samples_split=149, n_estimators=56; total time=   0.1s\n",
            "[CV] END max_depth=6, min_samples_leaf=11, min_samples_split=149, n_estimators=56; total time=   0.1s\n",
            "[CV] END max_depth=6, min_samples_leaf=11, min_samples_split=149, n_estimators=56; total time=   0.1s\n",
            "[CV] END max_depth=6, min_samples_leaf=11, min_samples_split=149, n_estimators=56; total time=   0.1s\n",
            "Fitting 5 folds for each of 1 candidates, totalling 5 fits\n",
            "[CV] END max_depth=5, min_samples_leaf=69, min_samples_split=113, n_estimators=100; total time=   0.2s\n",
            "[CV] END max_depth=5, min_samples_leaf=69, min_samples_split=113, n_estimators=100; total time=   0.2s\n",
            "[CV] END max_depth=5, min_samples_leaf=69, min_samples_split=113, n_estimators=100; total time=   0.2s\n",
            "[CV] END max_depth=5, min_samples_leaf=69, min_samples_split=113, n_estimators=100; total time=   0.2s\n",
            "[CV] END max_depth=5, min_samples_leaf=69, min_samples_split=113, n_estimators=100; total time=   0.2s\n",
            "Fitting 5 folds for each of 1 candidates, totalling 5 fits\n",
            "[CV] END max_depth=5, min_samples_leaf=36, min_samples_split=107, n_estimators=100; total time=   0.3s\n",
            "[CV] END max_depth=5, min_samples_leaf=36, min_samples_split=107, n_estimators=100; total time=   0.2s\n",
            "[CV] END max_depth=5, min_samples_leaf=36, min_samples_split=107, n_estimators=100; total time=   0.2s\n",
            "[CV] END max_depth=5, min_samples_leaf=36, min_samples_split=107, n_estimators=100; total time=   0.2s\n",
            "[CV] END max_depth=5, min_samples_leaf=36, min_samples_split=107, n_estimators=100; total time=   0.2s\n",
            "Fitting 5 folds for each of 1 candidates, totalling 5 fits\n",
            "[CV] END max_depth=7, min_samples_leaf=39, min_samples_split=150, n_estimators=72; total time=   0.2s\n",
            "[CV] END max_depth=7, min_samples_leaf=39, min_samples_split=150, n_estimators=72; total time=   0.2s\n",
            "[CV] END max_depth=7, min_samples_leaf=39, min_samples_split=150, n_estimators=72; total time=   0.2s\n",
            "[CV] END max_depth=7, min_samples_leaf=39, min_samples_split=150, n_estimators=72; total time=   0.2s\n",
            "[CV] END max_depth=7, min_samples_leaf=39, min_samples_split=150, n_estimators=72; total time=   0.2s\n",
            "Fitting 5 folds for each of 1 candidates, totalling 5 fits\n",
            "[CV] END max_depth=6, min_samples_leaf=10, min_samples_split=50, n_estimators=84; total time=   0.2s\n",
            "[CV] END max_depth=6, min_samples_leaf=10, min_samples_split=50, n_estimators=84; total time=   0.2s\n",
            "[CV] END max_depth=6, min_samples_leaf=10, min_samples_split=50, n_estimators=84; total time=   0.2s\n",
            "[CV] END max_depth=6, min_samples_leaf=10, min_samples_split=50, n_estimators=84; total time=   0.2s\n",
            "[CV] END max_depth=6, min_samples_leaf=10, min_samples_split=50, n_estimators=84; total time=   0.2s\n",
            "Fitting 5 folds for each of 1 candidates, totalling 5 fits\n",
            "[CV] END max_depth=5, min_samples_leaf=95, min_samples_split=52, n_estimators=99; total time=   0.2s\n",
            "[CV] END max_depth=5, min_samples_leaf=95, min_samples_split=52, n_estimators=99; total time=   0.2s\n",
            "[CV] END max_depth=5, min_samples_leaf=95, min_samples_split=52, n_estimators=99; total time=   0.2s\n",
            "[CV] END max_depth=5, min_samples_leaf=95, min_samples_split=52, n_estimators=99; total time=   0.2s\n",
            "[CV] END max_depth=5, min_samples_leaf=95, min_samples_split=52, n_estimators=99; total time=   0.2s\n",
            "Fitting 5 folds for each of 1 candidates, totalling 5 fits\n",
            "[CV] END max_depth=5, min_samples_leaf=11, min_samples_split=149, n_estimators=100; total time=   0.2s\n",
            "[CV] END max_depth=5, min_samples_leaf=11, min_samples_split=149, n_estimators=100; total time=   0.2s\n",
            "[CV] END max_depth=5, min_samples_leaf=11, min_samples_split=149, n_estimators=100; total time=   0.2s\n",
            "[CV] END max_depth=5, min_samples_leaf=11, min_samples_split=149, n_estimators=100; total time=   0.2s\n",
            "[CV] END max_depth=5, min_samples_leaf=11, min_samples_split=149, n_estimators=100; total time=   0.2s\n",
            "Fitting 5 folds for each of 1 candidates, totalling 5 fits\n",
            "[CV] END max_depth=8, min_samples_leaf=47, min_samples_split=150, n_estimators=100; total time=   0.3s\n",
            "[CV] END max_depth=8, min_samples_leaf=47, min_samples_split=150, n_estimators=100; total time=   0.2s\n",
            "[CV] END max_depth=8, min_samples_leaf=47, min_samples_split=150, n_estimators=100; total time=   0.2s\n",
            "[CV] END max_depth=8, min_samples_leaf=47, min_samples_split=150, n_estimators=100; total time=   0.2s\n",
            "[CV] END max_depth=8, min_samples_leaf=47, min_samples_split=150, n_estimators=100; total time=   0.2s\n",
            "Fitting 5 folds for each of 1 candidates, totalling 5 fits\n",
            "[CV] END max_depth=7, min_samples_leaf=34, min_samples_split=91, n_estimators=100; total time=   0.3s\n",
            "[CV] END max_depth=7, min_samples_leaf=34, min_samples_split=91, n_estimators=100; total time=   0.2s\n",
            "[CV] END max_depth=7, min_samples_leaf=34, min_samples_split=91, n_estimators=100; total time=   0.2s\n",
            "[CV] END max_depth=7, min_samples_leaf=34, min_samples_split=91, n_estimators=100; total time=   0.2s\n",
            "[CV] END max_depth=7, min_samples_leaf=34, min_samples_split=91, n_estimators=100; total time=   0.2s\n",
            "Fitting 5 folds for each of 1 candidates, totalling 5 fits\n",
            "[CV] END max_depth=7, min_samples_leaf=56, min_samples_split=55, n_estimators=11; total time=   0.0s\n",
            "[CV] END max_depth=7, min_samples_leaf=56, min_samples_split=55, n_estimators=11; total time=   0.0s\n",
            "[CV] END max_depth=7, min_samples_leaf=56, min_samples_split=55, n_estimators=11; total time=   0.0s\n",
            "[CV] END max_depth=7, min_samples_leaf=56, min_samples_split=55, n_estimators=11; total time=   0.0s\n",
            "[CV] END max_depth=7, min_samples_leaf=56, min_samples_split=55, n_estimators=11; total time=   0.0s\n",
            "Fitting 5 folds for each of 1 candidates, totalling 5 fits\n",
            "[CV] END max_depth=4, min_samples_leaf=10, min_samples_split=50, n_estimators=42; total time=   0.1s\n",
            "[CV] END max_depth=4, min_samples_leaf=10, min_samples_split=50, n_estimators=42; total time=   0.1s\n",
            "[CV] END max_depth=4, min_samples_leaf=10, min_samples_split=50, n_estimators=42; total time=   0.1s\n",
            "[CV] END max_depth=4, min_samples_leaf=10, min_samples_split=50, n_estimators=42; total time=   0.1s\n",
            "[CV] END max_depth=4, min_samples_leaf=10, min_samples_split=50, n_estimators=42; total time=   0.1s\n",
            "Fitting 5 folds for each of 1 candidates, totalling 5 fits\n",
            "[CV] END max_depth=8, min_samples_leaf=49, min_samples_split=114, n_estimators=89; total time=   0.2s\n",
            "[CV] END max_depth=8, min_samples_leaf=49, min_samples_split=114, n_estimators=89; total time=   0.2s\n",
            "[CV] END max_depth=8, min_samples_leaf=49, min_samples_split=114, n_estimators=89; total time=   0.2s\n",
            "[CV] END max_depth=8, min_samples_leaf=49, min_samples_split=114, n_estimators=89; total time=   0.2s\n",
            "[CV] END max_depth=8, min_samples_leaf=49, min_samples_split=114, n_estimators=89; total time=   0.2s\n",
            "Fitting 5 folds for each of 1 candidates, totalling 5 fits\n",
            "[CV] END max_depth=8, min_samples_leaf=25, min_samples_split=150, n_estimators=97; total time=   0.2s\n",
            "[CV] END max_depth=8, min_samples_leaf=25, min_samples_split=150, n_estimators=97; total time=   0.2s\n",
            "[CV] END max_depth=8, min_samples_leaf=25, min_samples_split=150, n_estimators=97; total time=   0.2s\n",
            "[CV] END max_depth=8, min_samples_leaf=25, min_samples_split=150, n_estimators=97; total time=   0.2s\n",
            "[CV] END max_depth=8, min_samples_leaf=25, min_samples_split=150, n_estimators=97; total time=   0.2s\n",
            "Fitting 5 folds for each of 1 candidates, totalling 5 fits\n",
            "[CV] END max_depth=5, min_samples_leaf=97, min_samples_split=136, n_estimators=81; total time=   0.3s\n",
            "[CV] END max_depth=5, min_samples_leaf=97, min_samples_split=136, n_estimators=81; total time=   0.2s\n",
            "[CV] END max_depth=5, min_samples_leaf=97, min_samples_split=136, n_estimators=81; total time=   0.2s\n",
            "[CV] END max_depth=5, min_samples_leaf=97, min_samples_split=136, n_estimators=81; total time=   0.2s\n",
            "[CV] END max_depth=5, min_samples_leaf=97, min_samples_split=136, n_estimators=81; total time=   0.2s\n",
            "Fitting 5 folds for each of 1 candidates, totalling 5 fits\n",
            "[CV] END max_depth=4, min_samples_leaf=10, min_samples_split=150, n_estimators=51; total time=   0.1s\n",
            "[CV] END max_depth=4, min_samples_leaf=10, min_samples_split=150, n_estimators=51; total time=   0.1s\n",
            "[CV] END max_depth=4, min_samples_leaf=10, min_samples_split=150, n_estimators=51; total time=   0.1s\n",
            "[CV] END max_depth=4, min_samples_leaf=10, min_samples_split=150, n_estimators=51; total time=   0.1s\n",
            "[CV] END max_depth=4, min_samples_leaf=10, min_samples_split=150, n_estimators=51; total time=   0.1s\n",
            "Fitting 5 folds for each of 1 candidates, totalling 5 fits\n",
            "[CV] END max_depth=4, min_samples_leaf=100, min_samples_split=50, n_estimators=51; total time=   0.1s\n",
            "[CV] END max_depth=4, min_samples_leaf=100, min_samples_split=50, n_estimators=51; total time=   0.1s\n",
            "[CV] END max_depth=4, min_samples_leaf=100, min_samples_split=50, n_estimators=51; total time=   0.1s\n",
            "[CV] END max_depth=4, min_samples_leaf=100, min_samples_split=50, n_estimators=51; total time=   0.1s\n",
            "[CV] END max_depth=4, min_samples_leaf=100, min_samples_split=50, n_estimators=51; total time=   0.1s\n",
            "Fitting 5 folds for each of 1 candidates, totalling 5 fits\n",
            "[CV] END max_depth=8, min_samples_leaf=10, min_samples_split=141, n_estimators=38; total time=   0.1s\n",
            "[CV] END max_depth=8, min_samples_leaf=10, min_samples_split=141, n_estimators=38; total time=   0.1s\n",
            "[CV] END max_depth=8, min_samples_leaf=10, min_samples_split=141, n_estimators=38; total time=   0.1s\n",
            "[CV] END max_depth=8, min_samples_leaf=10, min_samples_split=141, n_estimators=38; total time=   0.1s\n",
            "[CV] END max_depth=8, min_samples_leaf=10, min_samples_split=141, n_estimators=38; total time=   0.1s\n",
            "Fitting 5 folds for each of 1 candidates, totalling 5 fits\n",
            "[CV] END max_depth=6, min_samples_leaf=12, min_samples_split=146, n_estimators=30; total time=   0.1s\n",
            "[CV] END max_depth=6, min_samples_leaf=12, min_samples_split=146, n_estimators=30; total time=   0.1s\n",
            "[CV] END max_depth=6, min_samples_leaf=12, min_samples_split=146, n_estimators=30; total time=   0.1s\n",
            "[CV] END max_depth=6, min_samples_leaf=12, min_samples_split=146, n_estimators=30; total time=   0.1s\n",
            "[CV] END max_depth=6, min_samples_leaf=12, min_samples_split=146, n_estimators=30; total time=   0.1s\n",
            "Fitting 5 folds for each of 1 candidates, totalling 5 fits\n",
            "[CV] END max_depth=7, min_samples_leaf=12, min_samples_split=53, n_estimators=54; total time=   0.1s\n",
            "[CV] END max_depth=7, min_samples_leaf=12, min_samples_split=53, n_estimators=54; total time=   0.1s\n",
            "[CV] END max_depth=7, min_samples_leaf=12, min_samples_split=53, n_estimators=54; total time=   0.1s\n",
            "[CV] END max_depth=7, min_samples_leaf=12, min_samples_split=53, n_estimators=54; total time=   0.1s\n",
            "[CV] END max_depth=7, min_samples_leaf=12, min_samples_split=53, n_estimators=54; total time=   0.1s\n",
            "Fitting 5 folds for each of 1 candidates, totalling 5 fits\n",
            "[CV] END max_depth=8, min_samples_leaf=10, min_samples_split=150, n_estimators=41; total time=   0.1s\n",
            "[CV] END max_depth=8, min_samples_leaf=10, min_samples_split=150, n_estimators=41; total time=   0.1s\n",
            "[CV] END max_depth=8, min_samples_leaf=10, min_samples_split=150, n_estimators=41; total time=   0.1s\n",
            "[CV] END max_depth=8, min_samples_leaf=10, min_samples_split=150, n_estimators=41; total time=   0.1s\n",
            "[CV] END max_depth=8, min_samples_leaf=10, min_samples_split=150, n_estimators=41; total time=   0.1s\n",
            "Fitting 5 folds for each of 1 candidates, totalling 5 fits\n",
            "[CV] END max_depth=8, min_samples_leaf=10, min_samples_split=61, n_estimators=35; total time=   0.1s\n",
            "[CV] END max_depth=8, min_samples_leaf=10, min_samples_split=61, n_estimators=35; total time=   0.1s\n",
            "[CV] END max_depth=8, min_samples_leaf=10, min_samples_split=61, n_estimators=35; total time=   0.1s\n",
            "[CV] END max_depth=8, min_samples_leaf=10, min_samples_split=61, n_estimators=35; total time=   0.1s\n",
            "[CV] END max_depth=8, min_samples_leaf=10, min_samples_split=61, n_estimators=35; total time=   0.1s\n",
            "Fitting 5 folds for each of 1 candidates, totalling 5 fits\n",
            "[CV] END max_depth=7, min_samples_leaf=10, min_samples_split=50, n_estimators=100; total time=   0.3s\n",
            "[CV] END max_depth=7, min_samples_leaf=10, min_samples_split=50, n_estimators=100; total time=   0.2s\n",
            "[CV] END max_depth=7, min_samples_leaf=10, min_samples_split=50, n_estimators=100; total time=   0.2s\n",
            "[CV] END max_depth=7, min_samples_leaf=10, min_samples_split=50, n_estimators=100; total time=   0.3s\n",
            "[CV] END max_depth=7, min_samples_leaf=10, min_samples_split=50, n_estimators=100; total time=   0.2s\n",
            "Fitting 5 folds for each of 1 candidates, totalling 5 fits\n",
            "[CV] END max_depth=7, min_samples_leaf=10, min_samples_split=53, n_estimators=74; total time=   0.2s\n",
            "[CV] END max_depth=7, min_samples_leaf=10, min_samples_split=53, n_estimators=74; total time=   0.2s\n",
            "[CV] END max_depth=7, min_samples_leaf=10, min_samples_split=53, n_estimators=74; total time=   0.2s\n",
            "[CV] END max_depth=7, min_samples_leaf=10, min_samples_split=53, n_estimators=74; total time=   0.2s\n",
            "[CV] END max_depth=7, min_samples_leaf=10, min_samples_split=53, n_estimators=74; total time=   0.2s\n",
            "Fitting 5 folds for each of 1 candidates, totalling 5 fits\n",
            "[CV] END max_depth=7, min_samples_leaf=99, min_samples_split=147, n_estimators=58; total time=   0.1s\n",
            "[CV] END max_depth=7, min_samples_leaf=99, min_samples_split=147, n_estimators=58; total time=   0.1s\n",
            "[CV] END max_depth=7, min_samples_leaf=99, min_samples_split=147, n_estimators=58; total time=   0.1s\n",
            "[CV] END max_depth=7, min_samples_leaf=99, min_samples_split=147, n_estimators=58; total time=   0.1s\n",
            "[CV] END max_depth=7, min_samples_leaf=99, min_samples_split=147, n_estimators=58; total time=   0.1s\n",
            "Fitting 5 folds for each of 1 candidates, totalling 5 fits\n",
            "[CV] END max_depth=4, min_samples_leaf=10, min_samples_split=77, n_estimators=45; total time=   0.1s\n",
            "[CV] END max_depth=4, min_samples_leaf=10, min_samples_split=77, n_estimators=45; total time=   0.1s\n",
            "[CV] END max_depth=4, min_samples_leaf=10, min_samples_split=77, n_estimators=45; total time=   0.1s\n",
            "[CV] END max_depth=4, min_samples_leaf=10, min_samples_split=77, n_estimators=45; total time=   0.1s\n",
            "[CV] END max_depth=4, min_samples_leaf=10, min_samples_split=77, n_estimators=45; total time=   0.1s\n"
          ]
        },
        {
          "output_type": "execute_result",
          "data": {
            "text/plain": [
              "BayesSearchCV(cv=5, estimator=RandomForestClassifier(), scoring='roc_auc',\n",
              "              search_spaces={'max_depth': Integer(low=4, high=8, prior='uniform', transform='normalize'),\n",
              "                             'min_samples_leaf': Integer(low=10, high=100, prior='uniform', transform='normalize'),\n",
              "                             'min_samples_split': Integer(low=50, high=150, prior='uniform', transform='normalize'),\n",
              "                             'n_estimators': Integer(low=10, high=100, prior='uniform', transform='normalize')},\n",
              "              verbose=2)"
            ]
          },
          "metadata": {},
          "execution_count": 58
        }
      ]
    },
    {
      "cell_type": "code",
      "source": [
        "rf_bayes.best_params_"
      ],
      "metadata": {
        "colab": {
          "base_uri": "https://localhost:8080/"
        },
        "id": "6Nt8wrZKhIof",
        "outputId": "d8db2220-e1e1-415a-dfb1-2c36c77810b1"
      },
      "execution_count": 59,
      "outputs": [
        {
          "output_type": "execute_result",
          "data": {
            "text/plain": [
              "OrderedDict([('max_depth', 8),\n",
              "             ('min_samples_leaf', 10),\n",
              "             ('min_samples_split', 141),\n",
              "             ('n_estimators', 38)])"
            ]
          },
          "metadata": {},
          "execution_count": 59
        }
      ]
    },
    {
      "cell_type": "code",
      "source": [
        "print('Train ROC-AUC score : ', rf_bayes.best_estimator_.score(X_train,y_train))\n",
        "print('Test ROC-AUC score : ', rf_bayes.best_estimator_.score(X_test,y_test))"
      ],
      "metadata": {
        "colab": {
          "base_uri": "https://localhost:8080/"
        },
        "id": "WTWKXpuYhIra",
        "outputId": "f4ca5356-9d91-4346-e01a-c0a991a9cebb"
      },
      "execution_count": 60,
      "outputs": [
        {
          "output_type": "stream",
          "name": "stdout",
          "text": [
            "Train ROC-AUC score :  0.8478718921196797\n",
            "Test ROC-AUC score :  0.8525073746312685\n"
          ]
        }
      ]
    },
    {
      "cell_type": "markdown",
      "source": [
        "**Out of three search algorithms we conclude that all the three search algorithm doing well.**"
      ],
      "metadata": {
        "id": "l4VvXbZbhcQU"
      }
    },
    {
      "cell_type": "code",
      "source": [
        "rf_model =rf_grid.best_estimator_"
      ],
      "metadata": {
        "id": "tr3sswFGjTxA"
      },
      "execution_count": 61,
      "outputs": []
    },
    {
      "cell_type": "markdown",
      "source": [
        "# **XG Boost Classifier**"
      ],
      "metadata": {
        "id": "OkDBhIyJiUsJ"
      }
    },
    {
      "cell_type": "code",
      "source": [
        "xgb_grid = GridSearchCV(estimator=xgb,\n",
        "                       param_grid = param_dict_xgb,\n",
        "                       cv = 5, verbose=2, scoring='roc_auc')\n",
        "\n",
        "xgb_grid.fit(X_train,y_train)"
      ],
      "metadata": {
        "colab": {
          "base_uri": "https://localhost:8080/"
        },
        "id": "fdXpw5BFhIwj",
        "outputId": "b709adb7-a1cf-40ff-feec-a6fa82ab4302"
      },
      "execution_count": 62,
      "outputs": [
        {
          "output_type": "stream",
          "name": "stdout",
          "text": [
            "Fitting 5 folds for each of 128 candidates, totalling 640 fits\n",
            "[CV] END ....learning_rate=0.1, max_depth=2, n_estimators=60; total time=   0.2s\n",
            "[CV] END ....learning_rate=0.1, max_depth=2, n_estimators=60; total time=   0.1s\n",
            "[CV] END ....learning_rate=0.1, max_depth=2, n_estimators=60; total time=   0.1s\n",
            "[CV] END ....learning_rate=0.1, max_depth=2, n_estimators=60; total time=   0.1s\n",
            "[CV] END ....learning_rate=0.1, max_depth=2, n_estimators=60; total time=   0.1s\n",
            "[CV] END ...learning_rate=0.1, max_depth=2, n_estimators=100; total time=   0.1s\n",
            "[CV] END ...learning_rate=0.1, max_depth=2, n_estimators=100; total time=   0.1s\n",
            "[CV] END ...learning_rate=0.1, max_depth=2, n_estimators=100; total time=   0.1s\n",
            "[CV] END ...learning_rate=0.1, max_depth=2, n_estimators=100; total time=   0.1s\n",
            "[CV] END ...learning_rate=0.1, max_depth=2, n_estimators=100; total time=   0.1s\n",
            "[CV] END ...learning_rate=0.1, max_depth=2, n_estimators=140; total time=   0.2s\n",
            "[CV] END ...learning_rate=0.1, max_depth=2, n_estimators=140; total time=   0.2s\n",
            "[CV] END ...learning_rate=0.1, max_depth=2, n_estimators=140; total time=   0.2s\n",
            "[CV] END ...learning_rate=0.1, max_depth=2, n_estimators=140; total time=   0.1s\n",
            "[CV] END ...learning_rate=0.1, max_depth=2, n_estimators=140; total time=   0.2s\n",
            "[CV] END ...learning_rate=0.1, max_depth=2, n_estimators=180; total time=   0.2s\n",
            "[CV] END ...learning_rate=0.1, max_depth=2, n_estimators=180; total time=   0.2s\n",
            "[CV] END ...learning_rate=0.1, max_depth=2, n_estimators=180; total time=   0.2s\n",
            "[CV] END ...learning_rate=0.1, max_depth=2, n_estimators=180; total time=   0.2s\n",
            "[CV] END ...learning_rate=0.1, max_depth=2, n_estimators=180; total time=   0.2s\n",
            "[CV] END ....learning_rate=0.1, max_depth=3, n_estimators=60; total time=   0.1s\n",
            "[CV] END ....learning_rate=0.1, max_depth=3, n_estimators=60; total time=   0.1s\n",
            "[CV] END ....learning_rate=0.1, max_depth=3, n_estimators=60; total time=   0.1s\n",
            "[CV] END ....learning_rate=0.1, max_depth=3, n_estimators=60; total time=   0.1s\n",
            "[CV] END ....learning_rate=0.1, max_depth=3, n_estimators=60; total time=   0.1s\n",
            "[CV] END ...learning_rate=0.1, max_depth=3, n_estimators=100; total time=   0.2s\n",
            "[CV] END ...learning_rate=0.1, max_depth=3, n_estimators=100; total time=   0.2s\n",
            "[CV] END ...learning_rate=0.1, max_depth=3, n_estimators=100; total time=   0.2s\n",
            "[CV] END ...learning_rate=0.1, max_depth=3, n_estimators=100; total time=   0.2s\n",
            "[CV] END ...learning_rate=0.1, max_depth=3, n_estimators=100; total time=   0.1s\n",
            "[CV] END ...learning_rate=0.1, max_depth=3, n_estimators=140; total time=   0.2s\n",
            "[CV] END ...learning_rate=0.1, max_depth=3, n_estimators=140; total time=   0.2s\n",
            "[CV] END ...learning_rate=0.1, max_depth=3, n_estimators=140; total time=   0.2s\n",
            "[CV] END ...learning_rate=0.1, max_depth=3, n_estimators=140; total time=   0.2s\n",
            "[CV] END ...learning_rate=0.1, max_depth=3, n_estimators=140; total time=   0.2s\n",
            "[CV] END ...learning_rate=0.1, max_depth=3, n_estimators=180; total time=   0.3s\n",
            "[CV] END ...learning_rate=0.1, max_depth=3, n_estimators=180; total time=   0.3s\n",
            "[CV] END ...learning_rate=0.1, max_depth=3, n_estimators=180; total time=   0.3s\n",
            "[CV] END ...learning_rate=0.1, max_depth=3, n_estimators=180; total time=   0.3s\n",
            "[CV] END ...learning_rate=0.1, max_depth=3, n_estimators=180; total time=   0.3s\n",
            "[CV] END ....learning_rate=0.1, max_depth=4, n_estimators=60; total time=   0.1s\n",
            "[CV] END ....learning_rate=0.1, max_depth=4, n_estimators=60; total time=   0.1s\n",
            "[CV] END ....learning_rate=0.1, max_depth=4, n_estimators=60; total time=   0.1s\n",
            "[CV] END ....learning_rate=0.1, max_depth=4, n_estimators=60; total time=   0.1s\n",
            "[CV] END ....learning_rate=0.1, max_depth=4, n_estimators=60; total time=   0.1s\n",
            "[CV] END ...learning_rate=0.1, max_depth=4, n_estimators=100; total time=   0.2s\n",
            "[CV] END ...learning_rate=0.1, max_depth=4, n_estimators=100; total time=   0.2s\n",
            "[CV] END ...learning_rate=0.1, max_depth=4, n_estimators=100; total time=   0.2s\n",
            "[CV] END ...learning_rate=0.1, max_depth=4, n_estimators=100; total time=   0.2s\n",
            "[CV] END ...learning_rate=0.1, max_depth=4, n_estimators=100; total time=   0.2s\n",
            "[CV] END ...learning_rate=0.1, max_depth=4, n_estimators=140; total time=   0.3s\n",
            "[CV] END ...learning_rate=0.1, max_depth=4, n_estimators=140; total time=   0.3s\n",
            "[CV] END ...learning_rate=0.1, max_depth=4, n_estimators=140; total time=   0.3s\n",
            "[CV] END ...learning_rate=0.1, max_depth=4, n_estimators=140; total time=   0.3s\n",
            "[CV] END ...learning_rate=0.1, max_depth=4, n_estimators=140; total time=   0.3s\n",
            "[CV] END ...learning_rate=0.1, max_depth=4, n_estimators=180; total time=   0.3s\n",
            "[CV] END ...learning_rate=0.1, max_depth=4, n_estimators=180; total time=   0.4s\n",
            "[CV] END ...learning_rate=0.1, max_depth=4, n_estimators=180; total time=   0.4s\n",
            "[CV] END ...learning_rate=0.1, max_depth=4, n_estimators=180; total time=   0.3s\n",
            "[CV] END ...learning_rate=0.1, max_depth=4, n_estimators=180; total time=   0.4s\n",
            "[CV] END ....learning_rate=0.1, max_depth=5, n_estimators=60; total time=   0.2s\n",
            "[CV] END ....learning_rate=0.1, max_depth=5, n_estimators=60; total time=   0.2s\n",
            "[CV] END ....learning_rate=0.1, max_depth=5, n_estimators=60; total time=   0.1s\n",
            "[CV] END ....learning_rate=0.1, max_depth=5, n_estimators=60; total time=   0.2s\n",
            "[CV] END ....learning_rate=0.1, max_depth=5, n_estimators=60; total time=   0.2s\n",
            "[CV] END ...learning_rate=0.1, max_depth=5, n_estimators=100; total time=   0.3s\n",
            "[CV] END ...learning_rate=0.1, max_depth=5, n_estimators=100; total time=   0.3s\n",
            "[CV] END ...learning_rate=0.1, max_depth=5, n_estimators=100; total time=   0.2s\n",
            "[CV] END ...learning_rate=0.1, max_depth=5, n_estimators=100; total time=   0.3s\n",
            "[CV] END ...learning_rate=0.1, max_depth=5, n_estimators=100; total time=   0.3s\n",
            "[CV] END ...learning_rate=0.1, max_depth=5, n_estimators=140; total time=   0.4s\n",
            "[CV] END ...learning_rate=0.1, max_depth=5, n_estimators=140; total time=   0.4s\n",
            "[CV] END ...learning_rate=0.1, max_depth=5, n_estimators=140; total time=   0.4s\n",
            "[CV] END ...learning_rate=0.1, max_depth=5, n_estimators=140; total time=   0.3s\n",
            "[CV] END ...learning_rate=0.1, max_depth=5, n_estimators=140; total time=   0.4s\n",
            "[CV] END ...learning_rate=0.1, max_depth=5, n_estimators=180; total time=   0.5s\n",
            "[CV] END ...learning_rate=0.1, max_depth=5, n_estimators=180; total time=   0.4s\n",
            "[CV] END ...learning_rate=0.1, max_depth=5, n_estimators=180; total time=   0.5s\n",
            "[CV] END ...learning_rate=0.1, max_depth=5, n_estimators=180; total time=   0.4s\n",
            "[CV] END ...learning_rate=0.1, max_depth=5, n_estimators=180; total time=   0.5s\n",
            "[CV] END ....learning_rate=0.1, max_depth=6, n_estimators=60; total time=   0.2s\n",
            "[CV] END ....learning_rate=0.1, max_depth=6, n_estimators=60; total time=   0.2s\n",
            "[CV] END ....learning_rate=0.1, max_depth=6, n_estimators=60; total time=   0.2s\n",
            "[CV] END ....learning_rate=0.1, max_depth=6, n_estimators=60; total time=   0.2s\n",
            "[CV] END ....learning_rate=0.1, max_depth=6, n_estimators=60; total time=   0.2s\n",
            "[CV] END ...learning_rate=0.1, max_depth=6, n_estimators=100; total time=   0.3s\n",
            "[CV] END ...learning_rate=0.1, max_depth=6, n_estimators=100; total time=   0.3s\n",
            "[CV] END ...learning_rate=0.1, max_depth=6, n_estimators=100; total time=   0.3s\n",
            "[CV] END ...learning_rate=0.1, max_depth=6, n_estimators=100; total time=   0.3s\n",
            "[CV] END ...learning_rate=0.1, max_depth=6, n_estimators=100; total time=   0.3s\n",
            "[CV] END ...learning_rate=0.1, max_depth=6, n_estimators=140; total time=   0.5s\n",
            "[CV] END ...learning_rate=0.1, max_depth=6, n_estimators=140; total time=   0.4s\n",
            "[CV] END ...learning_rate=0.1, max_depth=6, n_estimators=140; total time=   0.4s\n",
            "[CV] END ...learning_rate=0.1, max_depth=6, n_estimators=140; total time=   0.4s\n",
            "[CV] END ...learning_rate=0.1, max_depth=6, n_estimators=140; total time=   0.4s\n",
            "[CV] END ...learning_rate=0.1, max_depth=6, n_estimators=180; total time=   0.6s\n",
            "[CV] END ...learning_rate=0.1, max_depth=6, n_estimators=180; total time=   0.5s\n",
            "[CV] END ...learning_rate=0.1, max_depth=6, n_estimators=180; total time=   0.5s\n",
            "[CV] END ...learning_rate=0.1, max_depth=6, n_estimators=180; total time=   0.5s\n",
            "[CV] END ...learning_rate=0.1, max_depth=6, n_estimators=180; total time=   0.5s\n",
            "[CV] END ....learning_rate=0.1, max_depth=7, n_estimators=60; total time=   0.2s\n",
            "[CV] END ....learning_rate=0.1, max_depth=7, n_estimators=60; total time=   0.2s\n",
            "[CV] END ....learning_rate=0.1, max_depth=7, n_estimators=60; total time=   0.3s\n",
            "[CV] END ....learning_rate=0.1, max_depth=7, n_estimators=60; total time=   0.2s\n",
            "[CV] END ....learning_rate=0.1, max_depth=7, n_estimators=60; total time=   0.2s\n",
            "[CV] END ...learning_rate=0.1, max_depth=7, n_estimators=100; total time=   0.4s\n",
            "[CV] END ...learning_rate=0.1, max_depth=7, n_estimators=100; total time=   0.3s\n",
            "[CV] END ...learning_rate=0.1, max_depth=7, n_estimators=100; total time=   0.3s\n",
            "[CV] END ...learning_rate=0.1, max_depth=7, n_estimators=100; total time=   0.4s\n",
            "[CV] END ...learning_rate=0.1, max_depth=7, n_estimators=100; total time=   0.4s\n",
            "[CV] END ...learning_rate=0.1, max_depth=7, n_estimators=140; total time=   0.5s\n",
            "[CV] END ...learning_rate=0.1, max_depth=7, n_estimators=140; total time=   0.5s\n",
            "[CV] END ...learning_rate=0.1, max_depth=7, n_estimators=140; total time=   0.4s\n",
            "[CV] END ...learning_rate=0.1, max_depth=7, n_estimators=140; total time=   0.5s\n",
            "[CV] END ...learning_rate=0.1, max_depth=7, n_estimators=140; total time=   0.5s\n",
            "[CV] END ...learning_rate=0.1, max_depth=7, n_estimators=180; total time=   0.6s\n",
            "[CV] END ...learning_rate=0.1, max_depth=7, n_estimators=180; total time=   0.6s\n",
            "[CV] END ...learning_rate=0.1, max_depth=7, n_estimators=180; total time=   0.6s\n",
            "[CV] END ...learning_rate=0.1, max_depth=7, n_estimators=180; total time=   0.6s\n",
            "[CV] END ...learning_rate=0.1, max_depth=7, n_estimators=180; total time=   0.6s\n",
            "[CV] END ....learning_rate=0.1, max_depth=8, n_estimators=60; total time=   0.3s\n",
            "[CV] END ....learning_rate=0.1, max_depth=8, n_estimators=60; total time=   0.3s\n",
            "[CV] END ....learning_rate=0.1, max_depth=8, n_estimators=60; total time=   0.3s\n",
            "[CV] END ....learning_rate=0.1, max_depth=8, n_estimators=60; total time=   0.2s\n",
            "[CV] END ....learning_rate=0.1, max_depth=8, n_estimators=60; total time=   0.3s\n",
            "[CV] END ...learning_rate=0.1, max_depth=8, n_estimators=100; total time=   0.4s\n",
            "[CV] END ...learning_rate=0.1, max_depth=8, n_estimators=100; total time=   0.4s\n",
            "[CV] END ...learning_rate=0.1, max_depth=8, n_estimators=100; total time=   0.4s\n",
            "[CV] END ...learning_rate=0.1, max_depth=8, n_estimators=100; total time=   0.4s\n",
            "[CV] END ...learning_rate=0.1, max_depth=8, n_estimators=100; total time=   0.4s\n",
            "[CV] END ...learning_rate=0.1, max_depth=8, n_estimators=140; total time=   0.6s\n",
            "[CV] END ...learning_rate=0.1, max_depth=8, n_estimators=140; total time=   0.6s\n",
            "[CV] END ...learning_rate=0.1, max_depth=8, n_estimators=140; total time=   0.6s\n",
            "[CV] END ...learning_rate=0.1, max_depth=8, n_estimators=140; total time=   0.6s\n",
            "[CV] END ...learning_rate=0.1, max_depth=8, n_estimators=140; total time=   0.6s\n",
            "[CV] END ...learning_rate=0.1, max_depth=8, n_estimators=180; total time=   0.7s\n",
            "[CV] END ...learning_rate=0.1, max_depth=8, n_estimators=180; total time=   0.8s\n",
            "[CV] END ...learning_rate=0.1, max_depth=8, n_estimators=180; total time=   0.7s\n",
            "[CV] END ...learning_rate=0.1, max_depth=8, n_estimators=180; total time=   0.7s\n",
            "[CV] END ...learning_rate=0.1, max_depth=8, n_estimators=180; total time=   0.7s\n",
            "[CV] END ....learning_rate=0.1, max_depth=9, n_estimators=60; total time=   0.3s\n",
            "[CV] END ....learning_rate=0.1, max_depth=9, n_estimators=60; total time=   0.3s\n",
            "[CV] END ....learning_rate=0.1, max_depth=9, n_estimators=60; total time=   0.3s\n",
            "[CV] END ....learning_rate=0.1, max_depth=9, n_estimators=60; total time=   0.3s\n",
            "[CV] END ....learning_rate=0.1, max_depth=9, n_estimators=60; total time=   0.3s\n",
            "[CV] END ...learning_rate=0.1, max_depth=9, n_estimators=100; total time=   0.5s\n",
            "[CV] END ...learning_rate=0.1, max_depth=9, n_estimators=100; total time=   0.5s\n",
            "[CV] END ...learning_rate=0.1, max_depth=9, n_estimators=100; total time=   0.4s\n",
            "[CV] END ...learning_rate=0.1, max_depth=9, n_estimators=100; total time=   0.5s\n",
            "[CV] END ...learning_rate=0.1, max_depth=9, n_estimators=100; total time=   0.5s\n",
            "[CV] END ...learning_rate=0.1, max_depth=9, n_estimators=140; total time=   0.7s\n",
            "[CV] END ...learning_rate=0.1, max_depth=9, n_estimators=140; total time=   0.7s\n",
            "[CV] END ...learning_rate=0.1, max_depth=9, n_estimators=140; total time=   0.6s\n",
            "[CV] END ...learning_rate=0.1, max_depth=9, n_estimators=140; total time=   0.7s\n",
            "[CV] END ...learning_rate=0.1, max_depth=9, n_estimators=140; total time=   0.6s\n",
            "[CV] END ...learning_rate=0.1, max_depth=9, n_estimators=180; total time=   0.8s\n",
            "[CV] END ...learning_rate=0.1, max_depth=9, n_estimators=180; total time=   0.8s\n",
            "[CV] END ...learning_rate=0.1, max_depth=9, n_estimators=180; total time=   0.8s\n",
            "[CV] END ...learning_rate=0.1, max_depth=9, n_estimators=180; total time=   0.8s\n",
            "[CV] END ...learning_rate=0.1, max_depth=9, n_estimators=180; total time=   0.8s\n",
            "[CV] END ...learning_rate=0.05, max_depth=2, n_estimators=60; total time=   0.1s\n",
            "[CV] END ...learning_rate=0.05, max_depth=2, n_estimators=60; total time=   0.1s\n",
            "[CV] END ...learning_rate=0.05, max_depth=2, n_estimators=60; total time=   0.1s\n",
            "[CV] END ...learning_rate=0.05, max_depth=2, n_estimators=60; total time=   0.1s\n",
            "[CV] END ...learning_rate=0.05, max_depth=2, n_estimators=60; total time=   0.1s\n",
            "[CV] END ..learning_rate=0.05, max_depth=2, n_estimators=100; total time=   0.1s\n",
            "[CV] END ..learning_rate=0.05, max_depth=2, n_estimators=100; total time=   0.1s\n",
            "[CV] END ..learning_rate=0.05, max_depth=2, n_estimators=100; total time=   0.1s\n",
            "[CV] END ..learning_rate=0.05, max_depth=2, n_estimators=100; total time=   0.1s\n",
            "[CV] END ..learning_rate=0.05, max_depth=2, n_estimators=100; total time=   0.1s\n",
            "[CV] END ..learning_rate=0.05, max_depth=2, n_estimators=140; total time=   0.2s\n",
            "[CV] END ..learning_rate=0.05, max_depth=2, n_estimators=140; total time=   0.2s\n",
            "[CV] END ..learning_rate=0.05, max_depth=2, n_estimators=140; total time=   0.2s\n",
            "[CV] END ..learning_rate=0.05, max_depth=2, n_estimators=140; total time=   0.2s\n",
            "[CV] END ..learning_rate=0.05, max_depth=2, n_estimators=140; total time=   0.2s\n",
            "[CV] END ..learning_rate=0.05, max_depth=2, n_estimators=180; total time=   0.2s\n",
            "[CV] END ..learning_rate=0.05, max_depth=2, n_estimators=180; total time=   0.2s\n",
            "[CV] END ..learning_rate=0.05, max_depth=2, n_estimators=180; total time=   0.2s\n",
            "[CV] END ..learning_rate=0.05, max_depth=2, n_estimators=180; total time=   0.2s\n",
            "[CV] END ..learning_rate=0.05, max_depth=2, n_estimators=180; total time=   0.2s\n",
            "[CV] END ...learning_rate=0.05, max_depth=3, n_estimators=60; total time=   0.1s\n",
            "[CV] END ...learning_rate=0.05, max_depth=3, n_estimators=60; total time=   0.1s\n",
            "[CV] END ...learning_rate=0.05, max_depth=3, n_estimators=60; total time=   0.1s\n",
            "[CV] END ...learning_rate=0.05, max_depth=3, n_estimators=60; total time=   0.1s\n",
            "[CV] END ...learning_rate=0.05, max_depth=3, n_estimators=60; total time=   0.1s\n",
            "[CV] END ..learning_rate=0.05, max_depth=3, n_estimators=100; total time=   0.2s\n",
            "[CV] END ..learning_rate=0.05, max_depth=3, n_estimators=100; total time=   0.2s\n",
            "[CV] END ..learning_rate=0.05, max_depth=3, n_estimators=100; total time=   0.1s\n",
            "[CV] END ..learning_rate=0.05, max_depth=3, n_estimators=100; total time=   0.2s\n",
            "[CV] END ..learning_rate=0.05, max_depth=3, n_estimators=100; total time=   0.2s\n",
            "[CV] END ..learning_rate=0.05, max_depth=3, n_estimators=140; total time=   0.2s\n",
            "[CV] END ..learning_rate=0.05, max_depth=3, n_estimators=140; total time=   0.2s\n",
            "[CV] END ..learning_rate=0.05, max_depth=3, n_estimators=140; total time=   0.2s\n",
            "[CV] END ..learning_rate=0.05, max_depth=3, n_estimators=140; total time=   0.2s\n",
            "[CV] END ..learning_rate=0.05, max_depth=3, n_estimators=140; total time=   0.2s\n",
            "[CV] END ..learning_rate=0.05, max_depth=3, n_estimators=180; total time=   0.3s\n",
            "[CV] END ..learning_rate=0.05, max_depth=3, n_estimators=180; total time=   0.3s\n",
            "[CV] END ..learning_rate=0.05, max_depth=3, n_estimators=180; total time=   0.3s\n",
            "[CV] END ..learning_rate=0.05, max_depth=3, n_estimators=180; total time=   0.3s\n",
            "[CV] END ..learning_rate=0.05, max_depth=3, n_estimators=180; total time=   0.3s\n",
            "[CV] END ...learning_rate=0.05, max_depth=4, n_estimators=60; total time=   0.1s\n",
            "[CV] END ...learning_rate=0.05, max_depth=4, n_estimators=60; total time=   0.1s\n",
            "[CV] END ...learning_rate=0.05, max_depth=4, n_estimators=60; total time=   0.1s\n",
            "[CV] END ...learning_rate=0.05, max_depth=4, n_estimators=60; total time=   0.1s\n",
            "[CV] END ...learning_rate=0.05, max_depth=4, n_estimators=60; total time=   0.1s\n",
            "[CV] END ..learning_rate=0.05, max_depth=4, n_estimators=100; total time=   0.2s\n",
            "[CV] END ..learning_rate=0.05, max_depth=4, n_estimators=100; total time=   0.2s\n",
            "[CV] END ..learning_rate=0.05, max_depth=4, n_estimators=100; total time=   0.2s\n",
            "[CV] END ..learning_rate=0.05, max_depth=4, n_estimators=100; total time=   0.2s\n",
            "[CV] END ..learning_rate=0.05, max_depth=4, n_estimators=100; total time=   0.2s\n",
            "[CV] END ..learning_rate=0.05, max_depth=4, n_estimators=140; total time=   0.3s\n",
            "[CV] END ..learning_rate=0.05, max_depth=4, n_estimators=140; total time=   0.3s\n",
            "[CV] END ..learning_rate=0.05, max_depth=4, n_estimators=140; total time=   0.3s\n",
            "[CV] END ..learning_rate=0.05, max_depth=4, n_estimators=140; total time=   0.3s\n",
            "[CV] END ..learning_rate=0.05, max_depth=4, n_estimators=140; total time=   0.3s\n",
            "[CV] END ..learning_rate=0.05, max_depth=4, n_estimators=180; total time=   0.3s\n",
            "[CV] END ..learning_rate=0.05, max_depth=4, n_estimators=180; total time=   0.4s\n",
            "[CV] END ..learning_rate=0.05, max_depth=4, n_estimators=180; total time=   0.4s\n",
            "[CV] END ..learning_rate=0.05, max_depth=4, n_estimators=180; total time=   0.3s\n",
            "[CV] END ..learning_rate=0.05, max_depth=4, n_estimators=180; total time=   0.4s\n",
            "[CV] END ...learning_rate=0.05, max_depth=5, n_estimators=60; total time=   0.2s\n",
            "[CV] END ...learning_rate=0.05, max_depth=5, n_estimators=60; total time=   0.2s\n",
            "[CV] END ...learning_rate=0.05, max_depth=5, n_estimators=60; total time=   0.1s\n",
            "[CV] END ...learning_rate=0.05, max_depth=5, n_estimators=60; total time=   0.2s\n",
            "[CV] END ...learning_rate=0.05, max_depth=5, n_estimators=60; total time=   0.2s\n",
            "[CV] END ..learning_rate=0.05, max_depth=5, n_estimators=100; total time=   0.3s\n",
            "[CV] END ..learning_rate=0.05, max_depth=5, n_estimators=100; total time=   0.3s\n",
            "[CV] END ..learning_rate=0.05, max_depth=5, n_estimators=100; total time=   0.2s\n",
            "[CV] END ..learning_rate=0.05, max_depth=5, n_estimators=100; total time=   0.3s\n",
            "[CV] END ..learning_rate=0.05, max_depth=5, n_estimators=100; total time=   0.3s\n",
            "[CV] END ..learning_rate=0.05, max_depth=5, n_estimators=140; total time=   0.3s\n",
            "[CV] END ..learning_rate=0.05, max_depth=5, n_estimators=140; total time=   0.4s\n",
            "[CV] END ..learning_rate=0.05, max_depth=5, n_estimators=140; total time=   0.4s\n",
            "[CV] END ..learning_rate=0.05, max_depth=5, n_estimators=140; total time=   0.3s\n",
            "[CV] END ..learning_rate=0.05, max_depth=5, n_estimators=140; total time=   0.4s\n",
            "[CV] END ..learning_rate=0.05, max_depth=5, n_estimators=180; total time=   0.5s\n",
            "[CV] END ..learning_rate=0.05, max_depth=5, n_estimators=180; total time=   0.5s\n",
            "[CV] END ..learning_rate=0.05, max_depth=5, n_estimators=180; total time=   0.4s\n",
            "[CV] END ..learning_rate=0.05, max_depth=5, n_estimators=180; total time=   0.4s\n",
            "[CV] END ..learning_rate=0.05, max_depth=5, n_estimators=180; total time=   0.5s\n",
            "[CV] END ...learning_rate=0.05, max_depth=6, n_estimators=60; total time=   0.2s\n",
            "[CV] END ...learning_rate=0.05, max_depth=6, n_estimators=60; total time=   0.2s\n",
            "[CV] END ...learning_rate=0.05, max_depth=6, n_estimators=60; total time=   0.2s\n",
            "[CV] END ...learning_rate=0.05, max_depth=6, n_estimators=60; total time=   0.2s\n",
            "[CV] END ...learning_rate=0.05, max_depth=6, n_estimators=60; total time=   0.2s\n",
            "[CV] END ..learning_rate=0.05, max_depth=6, n_estimators=100; total time=   0.3s\n",
            "[CV] END ..learning_rate=0.05, max_depth=6, n_estimators=100; total time=   0.3s\n",
            "[CV] END ..learning_rate=0.05, max_depth=6, n_estimators=100; total time=   0.3s\n",
            "[CV] END ..learning_rate=0.05, max_depth=6, n_estimators=100; total time=   0.3s\n",
            "[CV] END ..learning_rate=0.05, max_depth=6, n_estimators=100; total time=   0.3s\n",
            "[CV] END ..learning_rate=0.05, max_depth=6, n_estimators=140; total time=   0.5s\n",
            "[CV] END ..learning_rate=0.05, max_depth=6, n_estimators=140; total time=   0.4s\n",
            "[CV] END ..learning_rate=0.05, max_depth=6, n_estimators=140; total time=   0.5s\n",
            "[CV] END ..learning_rate=0.05, max_depth=6, n_estimators=140; total time=   0.4s\n",
            "[CV] END ..learning_rate=0.05, max_depth=6, n_estimators=140; total time=   0.5s\n",
            "[CV] END ..learning_rate=0.05, max_depth=6, n_estimators=180; total time=   0.5s\n",
            "[CV] END ..learning_rate=0.05, max_depth=6, n_estimators=180; total time=   0.6s\n",
            "[CV] END ..learning_rate=0.05, max_depth=6, n_estimators=180; total time=   0.5s\n",
            "[CV] END ..learning_rate=0.05, max_depth=6, n_estimators=180; total time=   0.5s\n",
            "[CV] END ..learning_rate=0.05, max_depth=6, n_estimators=180; total time=   0.5s\n",
            "[CV] END ...learning_rate=0.05, max_depth=7, n_estimators=60; total time=   0.3s\n",
            "[CV] END ...learning_rate=0.05, max_depth=7, n_estimators=60; total time=   0.2s\n",
            "[CV] END ...learning_rate=0.05, max_depth=7, n_estimators=60; total time=   0.2s\n",
            "[CV] END ...learning_rate=0.05, max_depth=7, n_estimators=60; total time=   0.2s\n",
            "[CV] END ...learning_rate=0.05, max_depth=7, n_estimators=60; total time=   0.2s\n",
            "[CV] END ..learning_rate=0.05, max_depth=7, n_estimators=100; total time=   0.4s\n",
            "[CV] END ..learning_rate=0.05, max_depth=7, n_estimators=100; total time=   0.4s\n",
            "[CV] END ..learning_rate=0.05, max_depth=7, n_estimators=100; total time=   0.4s\n",
            "[CV] END ..learning_rate=0.05, max_depth=7, n_estimators=100; total time=   0.4s\n",
            "[CV] END ..learning_rate=0.05, max_depth=7, n_estimators=100; total time=   0.4s\n",
            "[CV] END ..learning_rate=0.05, max_depth=7, n_estimators=140; total time=   0.6s\n",
            "[CV] END ..learning_rate=0.05, max_depth=7, n_estimators=140; total time=   0.5s\n",
            "[CV] END ..learning_rate=0.05, max_depth=7, n_estimators=140; total time=   0.5s\n",
            "[CV] END ..learning_rate=0.05, max_depth=7, n_estimators=140; total time=   0.5s\n",
            "[CV] END ..learning_rate=0.05, max_depth=7, n_estimators=140; total time=   0.5s\n",
            "[CV] END ..learning_rate=0.05, max_depth=7, n_estimators=180; total time=   0.6s\n",
            "[CV] END ..learning_rate=0.05, max_depth=7, n_estimators=180; total time=   0.6s\n",
            "[CV] END ..learning_rate=0.05, max_depth=7, n_estimators=180; total time=   0.7s\n",
            "[CV] END ..learning_rate=0.05, max_depth=7, n_estimators=180; total time=   0.6s\n",
            "[CV] END ..learning_rate=0.05, max_depth=7, n_estimators=180; total time=   0.7s\n",
            "[CV] END ...learning_rate=0.05, max_depth=8, n_estimators=60; total time=   0.3s\n",
            "[CV] END ...learning_rate=0.05, max_depth=8, n_estimators=60; total time=   0.3s\n",
            "[CV] END ...learning_rate=0.05, max_depth=8, n_estimators=60; total time=   0.3s\n",
            "[CV] END ...learning_rate=0.05, max_depth=8, n_estimators=60; total time=   0.3s\n",
            "[CV] END ...learning_rate=0.05, max_depth=8, n_estimators=60; total time=   0.3s\n",
            "[CV] END ..learning_rate=0.05, max_depth=8, n_estimators=100; total time=   0.5s\n",
            "[CV] END ..learning_rate=0.05, max_depth=8, n_estimators=100; total time=   0.4s\n",
            "[CV] END ..learning_rate=0.05, max_depth=8, n_estimators=100; total time=   0.5s\n",
            "[CV] END ..learning_rate=0.05, max_depth=8, n_estimators=100; total time=   0.4s\n",
            "[CV] END ..learning_rate=0.05, max_depth=8, n_estimators=100; total time=   0.5s\n",
            "[CV] END ..learning_rate=0.05, max_depth=8, n_estimators=140; total time=   0.6s\n",
            "[CV] END ..learning_rate=0.05, max_depth=8, n_estimators=140; total time=   0.6s\n",
            "[CV] END ..learning_rate=0.05, max_depth=8, n_estimators=140; total time=   0.6s\n",
            "[CV] END ..learning_rate=0.05, max_depth=8, n_estimators=140; total time=   0.6s\n",
            "[CV] END ..learning_rate=0.05, max_depth=8, n_estimators=140; total time=   0.6s\n",
            "[CV] END ..learning_rate=0.05, max_depth=8, n_estimators=180; total time=   0.7s\n",
            "[CV] END ..learning_rate=0.05, max_depth=8, n_estimators=180; total time=   0.7s\n",
            "[CV] END ..learning_rate=0.05, max_depth=8, n_estimators=180; total time=   0.8s\n",
            "[CV] END ..learning_rate=0.05, max_depth=8, n_estimators=180; total time=   0.7s\n",
            "[CV] END ..learning_rate=0.05, max_depth=8, n_estimators=180; total time=   0.7s\n",
            "[CV] END ...learning_rate=0.05, max_depth=9, n_estimators=60; total time=   0.4s\n",
            "[CV] END ...learning_rate=0.05, max_depth=9, n_estimators=60; total time=   0.3s\n",
            "[CV] END ...learning_rate=0.05, max_depth=9, n_estimators=60; total time=   0.3s\n",
            "[CV] END ...learning_rate=0.05, max_depth=9, n_estimators=60; total time=   0.3s\n",
            "[CV] END ...learning_rate=0.05, max_depth=9, n_estimators=60; total time=   0.3s\n",
            "[CV] END ..learning_rate=0.05, max_depth=9, n_estimators=100; total time=   0.5s\n",
            "[CV] END ..learning_rate=0.05, max_depth=9, n_estimators=100; total time=   0.5s\n",
            "[CV] END ..learning_rate=0.05, max_depth=9, n_estimators=100; total time=   0.5s\n",
            "[CV] END ..learning_rate=0.05, max_depth=9, n_estimators=100; total time=   0.5s\n",
            "[CV] END ..learning_rate=0.05, max_depth=9, n_estimators=100; total time=   0.5s\n",
            "[CV] END ..learning_rate=0.05, max_depth=9, n_estimators=140; total time=   0.7s\n",
            "[CV] END ..learning_rate=0.05, max_depth=9, n_estimators=140; total time=   0.7s\n",
            "[CV] END ..learning_rate=0.05, max_depth=9, n_estimators=140; total time=   0.7s\n",
            "[CV] END ..learning_rate=0.05, max_depth=9, n_estimators=140; total time=   0.7s\n",
            "[CV] END ..learning_rate=0.05, max_depth=9, n_estimators=140; total time=   0.7s\n",
            "[CV] END ..learning_rate=0.05, max_depth=9, n_estimators=180; total time=   0.9s\n",
            "[CV] END ..learning_rate=0.05, max_depth=9, n_estimators=180; total time=   0.9s\n",
            "[CV] END ..learning_rate=0.05, max_depth=9, n_estimators=180; total time=   0.9s\n",
            "[CV] END ..learning_rate=0.05, max_depth=9, n_estimators=180; total time=   0.8s\n",
            "[CV] END ..learning_rate=0.05, max_depth=9, n_estimators=180; total time=   0.8s\n",
            "[CV] END ...learning_rate=0.01, max_depth=2, n_estimators=60; total time=   0.1s\n",
            "[CV] END ...learning_rate=0.01, max_depth=2, n_estimators=60; total time=   0.1s\n",
            "[CV] END ...learning_rate=0.01, max_depth=2, n_estimators=60; total time=   0.1s\n",
            "[CV] END ...learning_rate=0.01, max_depth=2, n_estimators=60; total time=   0.1s\n",
            "[CV] END ...learning_rate=0.01, max_depth=2, n_estimators=60; total time=   0.1s\n",
            "[CV] END ..learning_rate=0.01, max_depth=2, n_estimators=100; total time=   0.1s\n",
            "[CV] END ..learning_rate=0.01, max_depth=2, n_estimators=100; total time=   0.1s\n",
            "[CV] END ..learning_rate=0.01, max_depth=2, n_estimators=100; total time=   0.1s\n",
            "[CV] END ..learning_rate=0.01, max_depth=2, n_estimators=100; total time=   0.1s\n",
            "[CV] END ..learning_rate=0.01, max_depth=2, n_estimators=100; total time=   0.1s\n",
            "[CV] END ..learning_rate=0.01, max_depth=2, n_estimators=140; total time=   0.2s\n",
            "[CV] END ..learning_rate=0.01, max_depth=2, n_estimators=140; total time=   0.2s\n",
            "[CV] END ..learning_rate=0.01, max_depth=2, n_estimators=140; total time=   0.1s\n",
            "[CV] END ..learning_rate=0.01, max_depth=2, n_estimators=140; total time=   0.2s\n",
            "[CV] END ..learning_rate=0.01, max_depth=2, n_estimators=140; total time=   0.2s\n",
            "[CV] END ..learning_rate=0.01, max_depth=2, n_estimators=180; total time=   0.2s\n",
            "[CV] END ..learning_rate=0.01, max_depth=2, n_estimators=180; total time=   0.2s\n",
            "[CV] END ..learning_rate=0.01, max_depth=2, n_estimators=180; total time=   0.2s\n",
            "[CV] END ..learning_rate=0.01, max_depth=2, n_estimators=180; total time=   0.2s\n",
            "[CV] END ..learning_rate=0.01, max_depth=2, n_estimators=180; total time=   0.2s\n",
            "[CV] END ...learning_rate=0.01, max_depth=3, n_estimators=60; total time=   0.1s\n",
            "[CV] END ...learning_rate=0.01, max_depth=3, n_estimators=60; total time=   0.1s\n",
            "[CV] END ...learning_rate=0.01, max_depth=3, n_estimators=60; total time=   0.1s\n",
            "[CV] END ...learning_rate=0.01, max_depth=3, n_estimators=60; total time=   0.1s\n",
            "[CV] END ...learning_rate=0.01, max_depth=3, n_estimators=60; total time=   0.1s\n",
            "[CV] END ..learning_rate=0.01, max_depth=3, n_estimators=100; total time=   0.2s\n",
            "[CV] END ..learning_rate=0.01, max_depth=3, n_estimators=100; total time=   0.2s\n",
            "[CV] END ..learning_rate=0.01, max_depth=3, n_estimators=100; total time=   0.2s\n",
            "[CV] END ..learning_rate=0.01, max_depth=3, n_estimators=100; total time=   0.2s\n",
            "[CV] END ..learning_rate=0.01, max_depth=3, n_estimators=100; total time=   0.2s\n",
            "[CV] END ..learning_rate=0.01, max_depth=3, n_estimators=140; total time=   0.2s\n",
            "[CV] END ..learning_rate=0.01, max_depth=3, n_estimators=140; total time=   0.2s\n",
            "[CV] END ..learning_rate=0.01, max_depth=3, n_estimators=140; total time=   0.2s\n",
            "[CV] END ..learning_rate=0.01, max_depth=3, n_estimators=140; total time=   0.2s\n",
            "[CV] END ..learning_rate=0.01, max_depth=3, n_estimators=140; total time=   0.2s\n",
            "[CV] END ..learning_rate=0.01, max_depth=3, n_estimators=180; total time=   0.3s\n",
            "[CV] END ..learning_rate=0.01, max_depth=3, n_estimators=180; total time=   0.3s\n",
            "[CV] END ..learning_rate=0.01, max_depth=3, n_estimators=180; total time=   0.3s\n",
            "[CV] END ..learning_rate=0.01, max_depth=3, n_estimators=180; total time=   0.3s\n",
            "[CV] END ..learning_rate=0.01, max_depth=3, n_estimators=180; total time=   0.3s\n",
            "[CV] END ...learning_rate=0.01, max_depth=4, n_estimators=60; total time=   0.1s\n",
            "[CV] END ...learning_rate=0.01, max_depth=4, n_estimators=60; total time=   0.1s\n",
            "[CV] END ...learning_rate=0.01, max_depth=4, n_estimators=60; total time=   0.1s\n",
            "[CV] END ...learning_rate=0.01, max_depth=4, n_estimators=60; total time=   0.1s\n",
            "[CV] END ...learning_rate=0.01, max_depth=4, n_estimators=60; total time=   0.1s\n",
            "[CV] END ..learning_rate=0.01, max_depth=4, n_estimators=100; total time=   0.2s\n",
            "[CV] END ..learning_rate=0.01, max_depth=4, n_estimators=100; total time=   0.2s\n",
            "[CV] END ..learning_rate=0.01, max_depth=4, n_estimators=100; total time=   0.2s\n",
            "[CV] END ..learning_rate=0.01, max_depth=4, n_estimators=100; total time=   0.2s\n",
            "[CV] END ..learning_rate=0.01, max_depth=4, n_estimators=100; total time=   0.2s\n",
            "[CV] END ..learning_rate=0.01, max_depth=4, n_estimators=140; total time=   0.3s\n",
            "[CV] END ..learning_rate=0.01, max_depth=4, n_estimators=140; total time=   0.3s\n",
            "[CV] END ..learning_rate=0.01, max_depth=4, n_estimators=140; total time=   0.3s\n",
            "[CV] END ..learning_rate=0.01, max_depth=4, n_estimators=140; total time=   0.3s\n",
            "[CV] END ..learning_rate=0.01, max_depth=4, n_estimators=140; total time=   0.3s\n",
            "[CV] END ..learning_rate=0.01, max_depth=4, n_estimators=180; total time=   0.4s\n",
            "[CV] END ..learning_rate=0.01, max_depth=4, n_estimators=180; total time=   0.4s\n",
            "[CV] END ..learning_rate=0.01, max_depth=4, n_estimators=180; total time=   0.4s\n",
            "[CV] END ..learning_rate=0.01, max_depth=4, n_estimators=180; total time=   0.4s\n",
            "[CV] END ..learning_rate=0.01, max_depth=4, n_estimators=180; total time=   0.4s\n",
            "[CV] END ...learning_rate=0.01, max_depth=5, n_estimators=60; total time=   0.2s\n",
            "[CV] END ...learning_rate=0.01, max_depth=5, n_estimators=60; total time=   0.2s\n",
            "[CV] END ...learning_rate=0.01, max_depth=5, n_estimators=60; total time=   0.2s\n",
            "[CV] END ...learning_rate=0.01, max_depth=5, n_estimators=60; total time=   0.1s\n",
            "[CV] END ...learning_rate=0.01, max_depth=5, n_estimators=60; total time=   0.2s\n",
            "[CV] END ..learning_rate=0.01, max_depth=5, n_estimators=100; total time=   0.3s\n",
            "[CV] END ..learning_rate=0.01, max_depth=5, n_estimators=100; total time=   0.3s\n",
            "[CV] END ..learning_rate=0.01, max_depth=5, n_estimators=100; total time=   0.2s\n",
            "[CV] END ..learning_rate=0.01, max_depth=5, n_estimators=100; total time=   0.2s\n",
            "[CV] END ..learning_rate=0.01, max_depth=5, n_estimators=100; total time=   0.3s\n",
            "[CV] END ..learning_rate=0.01, max_depth=5, n_estimators=140; total time=   0.4s\n",
            "[CV] END ..learning_rate=0.01, max_depth=5, n_estimators=140; total time=   0.4s\n",
            "[CV] END ..learning_rate=0.01, max_depth=5, n_estimators=140; total time=   0.4s\n",
            "[CV] END ..learning_rate=0.01, max_depth=5, n_estimators=140; total time=   0.3s\n",
            "[CV] END ..learning_rate=0.01, max_depth=5, n_estimators=140; total time=   0.4s\n",
            "[CV] END ..learning_rate=0.01, max_depth=5, n_estimators=180; total time=   0.5s\n",
            "[CV] END ..learning_rate=0.01, max_depth=5, n_estimators=180; total time=   0.5s\n",
            "[CV] END ..learning_rate=0.01, max_depth=5, n_estimators=180; total time=   0.5s\n",
            "[CV] END ..learning_rate=0.01, max_depth=5, n_estimators=180; total time=   0.4s\n",
            "[CV] END ..learning_rate=0.01, max_depth=5, n_estimators=180; total time=   0.5s\n",
            "[CV] END ...learning_rate=0.01, max_depth=6, n_estimators=60; total time=   0.2s\n",
            "[CV] END ...learning_rate=0.01, max_depth=6, n_estimators=60; total time=   0.2s\n",
            "[CV] END ...learning_rate=0.01, max_depth=6, n_estimators=60; total time=   0.2s\n",
            "[CV] END ...learning_rate=0.01, max_depth=6, n_estimators=60; total time=   0.2s\n",
            "[CV] END ...learning_rate=0.01, max_depth=6, n_estimators=60; total time=   0.2s\n",
            "[CV] END ..learning_rate=0.01, max_depth=6, n_estimators=100; total time=   0.3s\n",
            "[CV] END ..learning_rate=0.01, max_depth=6, n_estimators=100; total time=   0.3s\n",
            "[CV] END ..learning_rate=0.01, max_depth=6, n_estimators=100; total time=   0.4s\n",
            "[CV] END ..learning_rate=0.01, max_depth=6, n_estimators=100; total time=   0.3s\n",
            "[CV] END ..learning_rate=0.01, max_depth=6, n_estimators=100; total time=   0.3s\n",
            "[CV] END ..learning_rate=0.01, max_depth=6, n_estimators=140; total time=   0.5s\n",
            "[CV] END ..learning_rate=0.01, max_depth=6, n_estimators=140; total time=   0.4s\n",
            "[CV] END ..learning_rate=0.01, max_depth=6, n_estimators=140; total time=   0.5s\n",
            "[CV] END ..learning_rate=0.01, max_depth=6, n_estimators=140; total time=   0.4s\n",
            "[CV] END ..learning_rate=0.01, max_depth=6, n_estimators=140; total time=   0.5s\n",
            "[CV] END ..learning_rate=0.01, max_depth=6, n_estimators=180; total time=   0.6s\n",
            "[CV] END ..learning_rate=0.01, max_depth=6, n_estimators=180; total time=   0.6s\n",
            "[CV] END ..learning_rate=0.01, max_depth=6, n_estimators=180; total time=   0.5s\n",
            "[CV] END ..learning_rate=0.01, max_depth=6, n_estimators=180; total time=   0.6s\n",
            "[CV] END ..learning_rate=0.01, max_depth=6, n_estimators=180; total time=   0.6s\n",
            "[CV] END ...learning_rate=0.01, max_depth=7, n_estimators=60; total time=   0.3s\n",
            "[CV] END ...learning_rate=0.01, max_depth=7, n_estimators=60; total time=   0.2s\n",
            "[CV] END ...learning_rate=0.01, max_depth=7, n_estimators=60; total time=   0.2s\n",
            "[CV] END ...learning_rate=0.01, max_depth=7, n_estimators=60; total time=   0.2s\n",
            "[CV] END ...learning_rate=0.01, max_depth=7, n_estimators=60; total time=   0.3s\n",
            "[CV] END ..learning_rate=0.01, max_depth=7, n_estimators=100; total time=   0.4s\n",
            "[CV] END ..learning_rate=0.01, max_depth=7, n_estimators=100; total time=   0.4s\n",
            "[CV] END ..learning_rate=0.01, max_depth=7, n_estimators=100; total time=   0.4s\n",
            "[CV] END ..learning_rate=0.01, max_depth=7, n_estimators=100; total time=   0.3s\n",
            "[CV] END ..learning_rate=0.01, max_depth=7, n_estimators=100; total time=   0.4s\n",
            "[CV] END ..learning_rate=0.01, max_depth=7, n_estimators=140; total time=   0.5s\n",
            "[CV] END ..learning_rate=0.01, max_depth=7, n_estimators=140; total time=   0.5s\n",
            "[CV] END ..learning_rate=0.01, max_depth=7, n_estimators=140; total time=   0.5s\n",
            "[CV] END ..learning_rate=0.01, max_depth=7, n_estimators=140; total time=   0.5s\n",
            "[CV] END ..learning_rate=0.01, max_depth=7, n_estimators=140; total time=   0.5s\n",
            "[CV] END ..learning_rate=0.01, max_depth=7, n_estimators=180; total time=   0.7s\n",
            "[CV] END ..learning_rate=0.01, max_depth=7, n_estimators=180; total time=   0.7s\n",
            "[CV] END ..learning_rate=0.01, max_depth=7, n_estimators=180; total time=   0.7s\n",
            "[CV] END ..learning_rate=0.01, max_depth=7, n_estimators=180; total time=   0.7s\n",
            "[CV] END ..learning_rate=0.01, max_depth=7, n_estimators=180; total time=   0.7s\n",
            "[CV] END ...learning_rate=0.01, max_depth=8, n_estimators=60; total time=   0.3s\n",
            "[CV] END ...learning_rate=0.01, max_depth=8, n_estimators=60; total time=   0.3s\n",
            "[CV] END ...learning_rate=0.01, max_depth=8, n_estimators=60; total time=   0.3s\n",
            "[CV] END ...learning_rate=0.01, max_depth=8, n_estimators=60; total time=   0.3s\n",
            "[CV] END ...learning_rate=0.01, max_depth=8, n_estimators=60; total time=   0.3s\n",
            "[CV] END ..learning_rate=0.01, max_depth=8, n_estimators=100; total time=   0.4s\n",
            "[CV] END ..learning_rate=0.01, max_depth=8, n_estimators=100; total time=   0.5s\n",
            "[CV] END ..learning_rate=0.01, max_depth=8, n_estimators=100; total time=   0.4s\n",
            "[CV] END ..learning_rate=0.01, max_depth=8, n_estimators=100; total time=   0.4s\n",
            "[CV] END ..learning_rate=0.01, max_depth=8, n_estimators=100; total time=   0.4s\n",
            "[CV] END ..learning_rate=0.01, max_depth=8, n_estimators=140; total time=   0.7s\n",
            "[CV] END ..learning_rate=0.01, max_depth=8, n_estimators=140; total time=   0.6s\n",
            "[CV] END ..learning_rate=0.01, max_depth=8, n_estimators=140; total time=   0.6s\n",
            "[CV] END ..learning_rate=0.01, max_depth=8, n_estimators=140; total time=   0.6s\n",
            "[CV] END ..learning_rate=0.01, max_depth=8, n_estimators=140; total time=   0.6s\n",
            "[CV] END ..learning_rate=0.01, max_depth=8, n_estimators=180; total time=   0.9s\n",
            "[CV] END ..learning_rate=0.01, max_depth=8, n_estimators=180; total time=   0.9s\n",
            "[CV] END ..learning_rate=0.01, max_depth=8, n_estimators=180; total time=   0.8s\n",
            "[CV] END ..learning_rate=0.01, max_depth=8, n_estimators=180; total time=   0.8s\n",
            "[CV] END ..learning_rate=0.01, max_depth=8, n_estimators=180; total time=   0.8s\n",
            "[CV] END ...learning_rate=0.01, max_depth=9, n_estimators=60; total time=   0.3s\n",
            "[CV] END ...learning_rate=0.01, max_depth=9, n_estimators=60; total time=   0.3s\n",
            "[CV] END ...learning_rate=0.01, max_depth=9, n_estimators=60; total time=   0.3s\n",
            "[CV] END ...learning_rate=0.01, max_depth=9, n_estimators=60; total time=   0.3s\n",
            "[CV] END ...learning_rate=0.01, max_depth=9, n_estimators=60; total time=   0.3s\n",
            "[CV] END ..learning_rate=0.01, max_depth=9, n_estimators=100; total time=   0.5s\n",
            "[CV] END ..learning_rate=0.01, max_depth=9, n_estimators=100; total time=   0.5s\n",
            "[CV] END ..learning_rate=0.01, max_depth=9, n_estimators=100; total time=   0.5s\n",
            "[CV] END ..learning_rate=0.01, max_depth=9, n_estimators=100; total time=   0.5s\n",
            "[CV] END ..learning_rate=0.01, max_depth=9, n_estimators=100; total time=   0.5s\n",
            "[CV] END ..learning_rate=0.01, max_depth=9, n_estimators=140; total time=   0.7s\n",
            "[CV] END ..learning_rate=0.01, max_depth=9, n_estimators=140; total time=   0.8s\n",
            "[CV] END ..learning_rate=0.01, max_depth=9, n_estimators=140; total time=   0.7s\n",
            "[CV] END ..learning_rate=0.01, max_depth=9, n_estimators=140; total time=   0.7s\n",
            "[CV] END ..learning_rate=0.01, max_depth=9, n_estimators=140; total time=   0.7s\n",
            "[CV] END ..learning_rate=0.01, max_depth=9, n_estimators=180; total time=   1.0s\n",
            "[CV] END ..learning_rate=0.01, max_depth=9, n_estimators=180; total time=   1.0s\n",
            "[CV] END ..learning_rate=0.01, max_depth=9, n_estimators=180; total time=   0.9s\n",
            "[CV] END ..learning_rate=0.01, max_depth=9, n_estimators=180; total time=   0.9s\n",
            "[CV] END ..learning_rate=0.01, max_depth=9, n_estimators=180; total time=   1.0s\n",
            "[CV] END ..learning_rate=0.005, max_depth=2, n_estimators=60; total time=   0.1s\n",
            "[CV] END ..learning_rate=0.005, max_depth=2, n_estimators=60; total time=   0.1s\n",
            "[CV] END ..learning_rate=0.005, max_depth=2, n_estimators=60; total time=   0.1s\n",
            "[CV] END ..learning_rate=0.005, max_depth=2, n_estimators=60; total time=   0.1s\n",
            "[CV] END ..learning_rate=0.005, max_depth=2, n_estimators=60; total time=   0.1s\n",
            "[CV] END .learning_rate=0.005, max_depth=2, n_estimators=100; total time=   0.1s\n",
            "[CV] END .learning_rate=0.005, max_depth=2, n_estimators=100; total time=   0.1s\n",
            "[CV] END .learning_rate=0.005, max_depth=2, n_estimators=100; total time=   0.1s\n",
            "[CV] END .learning_rate=0.005, max_depth=2, n_estimators=100; total time=   0.1s\n",
            "[CV] END .learning_rate=0.005, max_depth=2, n_estimators=100; total time=   0.1s\n",
            "[CV] END .learning_rate=0.005, max_depth=2, n_estimators=140; total time=   0.2s\n",
            "[CV] END .learning_rate=0.005, max_depth=2, n_estimators=140; total time=   0.2s\n",
            "[CV] END .learning_rate=0.005, max_depth=2, n_estimators=140; total time=   0.2s\n",
            "[CV] END .learning_rate=0.005, max_depth=2, n_estimators=140; total time=   0.2s\n",
            "[CV] END .learning_rate=0.005, max_depth=2, n_estimators=140; total time=   0.2s\n",
            "[CV] END .learning_rate=0.005, max_depth=2, n_estimators=180; total time=   0.2s\n",
            "[CV] END .learning_rate=0.005, max_depth=2, n_estimators=180; total time=   0.2s\n",
            "[CV] END .learning_rate=0.005, max_depth=2, n_estimators=180; total time=   0.2s\n",
            "[CV] END .learning_rate=0.005, max_depth=2, n_estimators=180; total time=   0.2s\n",
            "[CV] END .learning_rate=0.005, max_depth=2, n_estimators=180; total time=   0.2s\n",
            "[CV] END ..learning_rate=0.005, max_depth=3, n_estimators=60; total time=   0.1s\n",
            "[CV] END ..learning_rate=0.005, max_depth=3, n_estimators=60; total time=   0.1s\n",
            "[CV] END ..learning_rate=0.005, max_depth=3, n_estimators=60; total time=   0.1s\n",
            "[CV] END ..learning_rate=0.005, max_depth=3, n_estimators=60; total time=   0.1s\n",
            "[CV] END ..learning_rate=0.005, max_depth=3, n_estimators=60; total time=   0.1s\n",
            "[CV] END .learning_rate=0.005, max_depth=3, n_estimators=100; total time=   0.2s\n",
            "[CV] END .learning_rate=0.005, max_depth=3, n_estimators=100; total time=   0.1s\n",
            "[CV] END .learning_rate=0.005, max_depth=3, n_estimators=100; total time=   0.1s\n",
            "[CV] END .learning_rate=0.005, max_depth=3, n_estimators=100; total time=   0.2s\n",
            "[CV] END .learning_rate=0.005, max_depth=3, n_estimators=100; total time=   0.2s\n",
            "[CV] END .learning_rate=0.005, max_depth=3, n_estimators=140; total time=   0.2s\n",
            "[CV] END .learning_rate=0.005, max_depth=3, n_estimators=140; total time=   0.2s\n",
            "[CV] END .learning_rate=0.005, max_depth=3, n_estimators=140; total time=   0.2s\n",
            "[CV] END .learning_rate=0.005, max_depth=3, n_estimators=140; total time=   0.2s\n",
            "[CV] END .learning_rate=0.005, max_depth=3, n_estimators=140; total time=   0.2s\n",
            "[CV] END .learning_rate=0.005, max_depth=3, n_estimators=180; total time=   0.3s\n",
            "[CV] END .learning_rate=0.005, max_depth=3, n_estimators=180; total time=   0.3s\n",
            "[CV] END .learning_rate=0.005, max_depth=3, n_estimators=180; total time=   0.3s\n",
            "[CV] END .learning_rate=0.005, max_depth=3, n_estimators=180; total time=   0.3s\n",
            "[CV] END .learning_rate=0.005, max_depth=3, n_estimators=180; total time=   0.3s\n",
            "[CV] END ..learning_rate=0.005, max_depth=4, n_estimators=60; total time=   0.1s\n",
            "[CV] END ..learning_rate=0.005, max_depth=4, n_estimators=60; total time=   0.1s\n",
            "[CV] END ..learning_rate=0.005, max_depth=4, n_estimators=60; total time=   0.1s\n",
            "[CV] END ..learning_rate=0.005, max_depth=4, n_estimators=60; total time=   0.1s\n",
            "[CV] END ..learning_rate=0.005, max_depth=4, n_estimators=60; total time=   0.1s\n",
            "[CV] END .learning_rate=0.005, max_depth=4, n_estimators=100; total time=   0.2s\n",
            "[CV] END .learning_rate=0.005, max_depth=4, n_estimators=100; total time=   0.2s\n",
            "[CV] END .learning_rate=0.005, max_depth=4, n_estimators=100; total time=   0.2s\n",
            "[CV] END .learning_rate=0.005, max_depth=4, n_estimators=100; total time=   0.2s\n",
            "[CV] END .learning_rate=0.005, max_depth=4, n_estimators=100; total time=   0.2s\n",
            "[CV] END .learning_rate=0.005, max_depth=4, n_estimators=140; total time=   0.3s\n",
            "[CV] END .learning_rate=0.005, max_depth=4, n_estimators=140; total time=   0.3s\n",
            "[CV] END .learning_rate=0.005, max_depth=4, n_estimators=140; total time=   0.3s\n",
            "[CV] END .learning_rate=0.005, max_depth=4, n_estimators=140; total time=   0.3s\n",
            "[CV] END .learning_rate=0.005, max_depth=4, n_estimators=140; total time=   0.3s\n",
            "[CV] END .learning_rate=0.005, max_depth=4, n_estimators=180; total time=   0.4s\n",
            "[CV] END .learning_rate=0.005, max_depth=4, n_estimators=180; total time=   0.4s\n",
            "[CV] END .learning_rate=0.005, max_depth=4, n_estimators=180; total time=   0.3s\n",
            "[CV] END .learning_rate=0.005, max_depth=4, n_estimators=180; total time=   0.4s\n",
            "[CV] END .learning_rate=0.005, max_depth=4, n_estimators=180; total time=   0.4s\n",
            "[CV] END ..learning_rate=0.005, max_depth=5, n_estimators=60; total time=   0.2s\n",
            "[CV] END ..learning_rate=0.005, max_depth=5, n_estimators=60; total time=   0.2s\n",
            "[CV] END ..learning_rate=0.005, max_depth=5, n_estimators=60; total time=   0.2s\n",
            "[CV] END ..learning_rate=0.005, max_depth=5, n_estimators=60; total time=   0.2s\n",
            "[CV] END ..learning_rate=0.005, max_depth=5, n_estimators=60; total time=   0.2s\n",
            "[CV] END .learning_rate=0.005, max_depth=5, n_estimators=100; total time=   0.3s\n",
            "[CV] END .learning_rate=0.005, max_depth=5, n_estimators=100; total time=   0.2s\n",
            "[CV] END .learning_rate=0.005, max_depth=5, n_estimators=100; total time=   0.3s\n",
            "[CV] END .learning_rate=0.005, max_depth=5, n_estimators=100; total time=   0.3s\n",
            "[CV] END .learning_rate=0.005, max_depth=5, n_estimators=100; total time=   0.2s\n",
            "[CV] END .learning_rate=0.005, max_depth=5, n_estimators=140; total time=   0.4s\n",
            "[CV] END .learning_rate=0.005, max_depth=5, n_estimators=140; total time=   0.4s\n",
            "[CV] END .learning_rate=0.005, max_depth=5, n_estimators=140; total time=   0.3s\n",
            "[CV] END .learning_rate=0.005, max_depth=5, n_estimators=140; total time=   0.4s\n",
            "[CV] END .learning_rate=0.005, max_depth=5, n_estimators=140; total time=   0.3s\n",
            "[CV] END .learning_rate=0.005, max_depth=5, n_estimators=180; total time=   0.4s\n",
            "[CV] END .learning_rate=0.005, max_depth=5, n_estimators=180; total time=   0.5s\n",
            "[CV] END .learning_rate=0.005, max_depth=5, n_estimators=180; total time=   0.4s\n",
            "[CV] END .learning_rate=0.005, max_depth=5, n_estimators=180; total time=   0.5s\n",
            "[CV] END .learning_rate=0.005, max_depth=5, n_estimators=180; total time=   0.5s\n",
            "[CV] END ..learning_rate=0.005, max_depth=6, n_estimators=60; total time=   0.2s\n",
            "[CV] END ..learning_rate=0.005, max_depth=6, n_estimators=60; total time=   0.2s\n",
            "[CV] END ..learning_rate=0.005, max_depth=6, n_estimators=60; total time=   0.2s\n",
            "[CV] END ..learning_rate=0.005, max_depth=6, n_estimators=60; total time=   0.2s\n",
            "[CV] END ..learning_rate=0.005, max_depth=6, n_estimators=60; total time=   0.2s\n",
            "[CV] END .learning_rate=0.005, max_depth=6, n_estimators=100; total time=   0.3s\n",
            "[CV] END .learning_rate=0.005, max_depth=6, n_estimators=100; total time=   0.3s\n",
            "[CV] END .learning_rate=0.005, max_depth=6, n_estimators=100; total time=   0.3s\n",
            "[CV] END .learning_rate=0.005, max_depth=6, n_estimators=100; total time=   0.3s\n",
            "[CV] END .learning_rate=0.005, max_depth=6, n_estimators=100; total time=   0.4s\n",
            "[CV] END .learning_rate=0.005, max_depth=6, n_estimators=140; total time=   0.4s\n",
            "[CV] END .learning_rate=0.005, max_depth=6, n_estimators=140; total time=   0.5s\n",
            "[CV] END .learning_rate=0.005, max_depth=6, n_estimators=140; total time=   0.4s\n",
            "[CV] END .learning_rate=0.005, max_depth=6, n_estimators=140; total time=   0.4s\n",
            "[CV] END .learning_rate=0.005, max_depth=6, n_estimators=140; total time=   0.5s\n",
            "[CV] END .learning_rate=0.005, max_depth=6, n_estimators=180; total time=   0.6s\n",
            "[CV] END .learning_rate=0.005, max_depth=6, n_estimators=180; total time=   0.6s\n",
            "[CV] END .learning_rate=0.005, max_depth=6, n_estimators=180; total time=   0.6s\n",
            "[CV] END .learning_rate=0.005, max_depth=6, n_estimators=180; total time=   0.5s\n",
            "[CV] END .learning_rate=0.005, max_depth=6, n_estimators=180; total time=   0.6s\n",
            "[CV] END ..learning_rate=0.005, max_depth=7, n_estimators=60; total time=   0.2s\n",
            "[CV] END ..learning_rate=0.005, max_depth=7, n_estimators=60; total time=   0.2s\n",
            "[CV] END ..learning_rate=0.005, max_depth=7, n_estimators=60; total time=   0.2s\n",
            "[CV] END ..learning_rate=0.005, max_depth=7, n_estimators=60; total time=   0.2s\n",
            "[CV] END ..learning_rate=0.005, max_depth=7, n_estimators=60; total time=   0.2s\n",
            "[CV] END .learning_rate=0.005, max_depth=7, n_estimators=100; total time=   0.4s\n",
            "[CV] END .learning_rate=0.005, max_depth=7, n_estimators=100; total time=   0.4s\n",
            "[CV] END .learning_rate=0.005, max_depth=7, n_estimators=100; total time=   0.4s\n",
            "[CV] END .learning_rate=0.005, max_depth=7, n_estimators=100; total time=   0.3s\n",
            "[CV] END .learning_rate=0.005, max_depth=7, n_estimators=100; total time=   0.4s\n",
            "[CV] END .learning_rate=0.005, max_depth=7, n_estimators=140; total time=   0.5s\n",
            "[CV] END .learning_rate=0.005, max_depth=7, n_estimators=140; total time=   0.6s\n",
            "[CV] END .learning_rate=0.005, max_depth=7, n_estimators=140; total time=   0.5s\n",
            "[CV] END .learning_rate=0.005, max_depth=7, n_estimators=140; total time=   0.5s\n",
            "[CV] END .learning_rate=0.005, max_depth=7, n_estimators=140; total time=   0.5s\n",
            "[CV] END .learning_rate=0.005, max_depth=7, n_estimators=180; total time=   0.7s\n",
            "[CV] END .learning_rate=0.005, max_depth=7, n_estimators=180; total time=   0.7s\n",
            "[CV] END .learning_rate=0.005, max_depth=7, n_estimators=180; total time=   0.6s\n",
            "[CV] END .learning_rate=0.005, max_depth=7, n_estimators=180; total time=   0.7s\n",
            "[CV] END .learning_rate=0.005, max_depth=7, n_estimators=180; total time=   0.7s\n",
            "[CV] END ..learning_rate=0.005, max_depth=8, n_estimators=60; total time=   0.3s\n",
            "[CV] END ..learning_rate=0.005, max_depth=8, n_estimators=60; total time=   0.3s\n",
            "[CV] END ..learning_rate=0.005, max_depth=8, n_estimators=60; total time=   0.2s\n",
            "[CV] END ..learning_rate=0.005, max_depth=8, n_estimators=60; total time=   0.3s\n",
            "[CV] END ..learning_rate=0.005, max_depth=8, n_estimators=60; total time=   0.3s\n",
            "[CV] END .learning_rate=0.005, max_depth=8, n_estimators=100; total time=   0.4s\n",
            "[CV] END .learning_rate=0.005, max_depth=8, n_estimators=100; total time=   0.5s\n",
            "[CV] END .learning_rate=0.005, max_depth=8, n_estimators=100; total time=   0.4s\n",
            "[CV] END .learning_rate=0.005, max_depth=8, n_estimators=100; total time=   0.5s\n",
            "[CV] END .learning_rate=0.005, max_depth=8, n_estimators=100; total time=   0.4s\n",
            "[CV] END .learning_rate=0.005, max_depth=8, n_estimators=140; total time=   0.6s\n",
            "[CV] END .learning_rate=0.005, max_depth=8, n_estimators=140; total time=   0.6s\n",
            "[CV] END .learning_rate=0.005, max_depth=8, n_estimators=140; total time=   0.7s\n",
            "[CV] END .learning_rate=0.005, max_depth=8, n_estimators=140; total time=   0.6s\n",
            "[CV] END .learning_rate=0.005, max_depth=8, n_estimators=140; total time=   0.6s\n",
            "[CV] END .learning_rate=0.005, max_depth=8, n_estimators=180; total time=   0.8s\n",
            "[CV] END .learning_rate=0.005, max_depth=8, n_estimators=180; total time=   0.8s\n",
            "[CV] END .learning_rate=0.005, max_depth=8, n_estimators=180; total time=   0.8s\n",
            "[CV] END .learning_rate=0.005, max_depth=8, n_estimators=180; total time=   0.8s\n",
            "[CV] END .learning_rate=0.005, max_depth=8, n_estimators=180; total time=   0.8s\n",
            "[CV] END ..learning_rate=0.005, max_depth=9, n_estimators=60; total time=   0.3s\n",
            "[CV] END ..learning_rate=0.005, max_depth=9, n_estimators=60; total time=   0.3s\n",
            "[CV] END ..learning_rate=0.005, max_depth=9, n_estimators=60; total time=   0.3s\n",
            "[CV] END ..learning_rate=0.005, max_depth=9, n_estimators=60; total time=   0.3s\n",
            "[CV] END ..learning_rate=0.005, max_depth=9, n_estimators=60; total time=   0.3s\n",
            "[CV] END .learning_rate=0.005, max_depth=9, n_estimators=100; total time=   0.5s\n",
            "[CV] END .learning_rate=0.005, max_depth=9, n_estimators=100; total time=   0.5s\n",
            "[CV] END .learning_rate=0.005, max_depth=9, n_estimators=100; total time=   0.5s\n",
            "[CV] END .learning_rate=0.005, max_depth=9, n_estimators=100; total time=   0.5s\n",
            "[CV] END .learning_rate=0.005, max_depth=9, n_estimators=100; total time=   0.5s\n",
            "[CV] END .learning_rate=0.005, max_depth=9, n_estimators=140; total time=   0.8s\n",
            "[CV] END .learning_rate=0.005, max_depth=9, n_estimators=140; total time=   0.7s\n",
            "[CV] END .learning_rate=0.005, max_depth=9, n_estimators=140; total time=   0.7s\n",
            "[CV] END .learning_rate=0.005, max_depth=9, n_estimators=140; total time=   0.7s\n",
            "[CV] END .learning_rate=0.005, max_depth=9, n_estimators=140; total time=   0.7s\n",
            "[CV] END .learning_rate=0.005, max_depth=9, n_estimators=180; total time=   0.9s\n",
            "[CV] END .learning_rate=0.005, max_depth=9, n_estimators=180; total time=   0.9s\n",
            "[CV] END .learning_rate=0.005, max_depth=9, n_estimators=180; total time=   0.9s\n",
            "[CV] END .learning_rate=0.005, max_depth=9, n_estimators=180; total time=   0.9s\n",
            "[CV] END .learning_rate=0.005, max_depth=9, n_estimators=180; total time=   0.9s\n"
          ]
        },
        {
          "output_type": "execute_result",
          "data": {
            "text/plain": [
              "GridSearchCV(cv=5, estimator=XGBClassifier(nthread=4, seed=42),\n",
              "             param_grid={'learning_rate': [0.1, 0.05, 0.01, 0.005],\n",
              "                         'max_depth': range(2, 10),\n",
              "                         'n_estimators': range(60, 220, 40)},\n",
              "             scoring='roc_auc', verbose=2)"
            ]
          },
          "metadata": {},
          "execution_count": 62
        }
      ]
    },
    {
      "cell_type": "code",
      "source": [
        "xgb_grid.best_params_"
      ],
      "metadata": {
        "colab": {
          "base_uri": "https://localhost:8080/"
        },
        "id": "85OwJR3Oibkh",
        "outputId": "737fa73a-fbc7-4206-974f-be8437b389a8"
      },
      "execution_count": 63,
      "outputs": [
        {
          "output_type": "execute_result",
          "data": {
            "text/plain": [
              "{'learning_rate': 0.05, 'max_depth': 2, 'n_estimators': 100}"
            ]
          },
          "metadata": {},
          "execution_count": 63
        }
      ]
    },
    {
      "cell_type": "code",
      "source": [
        "print('Train ROC-AUC score : ', xgb_grid.best_estimator_.score(X_train,y_train))\n",
        "print('Test ROC-AUC score : ', xgb_grid.best_estimator_.score(X_test,y_test))"
      ],
      "metadata": {
        "colab": {
          "base_uri": "https://localhost:8080/"
        },
        "id": "6yA7F_UXibnk",
        "outputId": "48506110-75a8-4bde-be20-e91394a456ca"
      },
      "execution_count": 64,
      "outputs": [
        {
          "output_type": "stream",
          "name": "stdout",
          "text": [
            "Train ROC-AUC score :  0.8550358196375896\n",
            "Test ROC-AUC score :  0.855457227138643\n"
          ]
        }
      ]
    },
    {
      "cell_type": "code",
      "source": [
        "xgb_random = RandomizedSearchCV(estimator=xgb,\n",
        "                       param_distributions = param_dict_xgb,\n",
        "                       cv = 5, verbose=2, scoring='roc_auc')\n",
        "\n",
        "xgb_random.fit(X_train,y_train)"
      ],
      "metadata": {
        "colab": {
          "base_uri": "https://localhost:8080/"
        },
        "id": "XNZfpdz1ibrB",
        "outputId": "6b320348-a7ae-4275-b8af-0c9af302b9c3"
      },
      "execution_count": 65,
      "outputs": [
        {
          "output_type": "stream",
          "name": "stdout",
          "text": [
            "Fitting 5 folds for each of 10 candidates, totalling 50 fits\n",
            "[CV] END .learning_rate=0.005, max_depth=6, n_estimators=180; total time=   0.6s\n",
            "[CV] END .learning_rate=0.005, max_depth=6, n_estimators=180; total time=   0.6s\n",
            "[CV] END .learning_rate=0.005, max_depth=6, n_estimators=180; total time=   0.6s\n",
            "[CV] END .learning_rate=0.005, max_depth=6, n_estimators=180; total time=   0.6s\n",
            "[CV] END .learning_rate=0.005, max_depth=6, n_estimators=180; total time=   0.6s\n",
            "[CV] END .learning_rate=0.005, max_depth=8, n_estimators=140; total time=   0.6s\n",
            "[CV] END .learning_rate=0.005, max_depth=8, n_estimators=140; total time=   0.6s\n",
            "[CV] END .learning_rate=0.005, max_depth=8, n_estimators=140; total time=   0.6s\n",
            "[CV] END .learning_rate=0.005, max_depth=8, n_estimators=140; total time=   0.5s\n",
            "[CV] END .learning_rate=0.005, max_depth=8, n_estimators=140; total time=   0.7s\n",
            "[CV] END ..learning_rate=0.005, max_depth=6, n_estimators=60; total time=   0.2s\n",
            "[CV] END ..learning_rate=0.005, max_depth=6, n_estimators=60; total time=   0.2s\n",
            "[CV] END ..learning_rate=0.005, max_depth=6, n_estimators=60; total time=   0.2s\n",
            "[CV] END ..learning_rate=0.005, max_depth=6, n_estimators=60; total time=   0.2s\n",
            "[CV] END ..learning_rate=0.005, max_depth=6, n_estimators=60; total time=   0.2s\n",
            "[CV] END ..learning_rate=0.005, max_depth=7, n_estimators=60; total time=   0.2s\n",
            "[CV] END ..learning_rate=0.005, max_depth=7, n_estimators=60; total time=   0.2s\n",
            "[CV] END ..learning_rate=0.005, max_depth=7, n_estimators=60; total time=   0.3s\n",
            "[CV] END ..learning_rate=0.005, max_depth=7, n_estimators=60; total time=   0.2s\n",
            "[CV] END ..learning_rate=0.005, max_depth=7, n_estimators=60; total time=   0.2s\n",
            "[CV] END ...learning_rate=0.1, max_depth=5, n_estimators=100; total time=   0.2s\n",
            "[CV] END ...learning_rate=0.1, max_depth=5, n_estimators=100; total time=   0.3s\n",
            "[CV] END ...learning_rate=0.1, max_depth=5, n_estimators=100; total time=   0.3s\n",
            "[CV] END ...learning_rate=0.1, max_depth=5, n_estimators=100; total time=   0.2s\n",
            "[CV] END ...learning_rate=0.1, max_depth=5, n_estimators=100; total time=   0.2s\n",
            "[CV] END ...learning_rate=0.01, max_depth=7, n_estimators=60; total time=   0.3s\n",
            "[CV] END ...learning_rate=0.01, max_depth=7, n_estimators=60; total time=   0.2s\n",
            "[CV] END ...learning_rate=0.01, max_depth=7, n_estimators=60; total time=   0.2s\n",
            "[CV] END ...learning_rate=0.01, max_depth=7, n_estimators=60; total time=   0.2s\n",
            "[CV] END ...learning_rate=0.01, max_depth=7, n_estimators=60; total time=   0.3s\n",
            "[CV] END ..learning_rate=0.05, max_depth=8, n_estimators=100; total time=   0.5s\n",
            "[CV] END ..learning_rate=0.05, max_depth=8, n_estimators=100; total time=   0.5s\n",
            "[CV] END ..learning_rate=0.05, max_depth=8, n_estimators=100; total time=   0.5s\n",
            "[CV] END ..learning_rate=0.05, max_depth=8, n_estimators=100; total time=   0.4s\n",
            "[CV] END ..learning_rate=0.05, max_depth=8, n_estimators=100; total time=   0.5s\n",
            "[CV] END ...learning_rate=0.05, max_depth=9, n_estimators=60; total time=   0.3s\n",
            "[CV] END ...learning_rate=0.05, max_depth=9, n_estimators=60; total time=   0.3s\n",
            "[CV] END ...learning_rate=0.05, max_depth=9, n_estimators=60; total time=   0.3s\n",
            "[CV] END ...learning_rate=0.05, max_depth=9, n_estimators=60; total time=   0.3s\n",
            "[CV] END ...learning_rate=0.05, max_depth=9, n_estimators=60; total time=   0.3s\n",
            "[CV] END ...learning_rate=0.1, max_depth=8, n_estimators=140; total time=   0.6s\n",
            "[CV] END ...learning_rate=0.1, max_depth=8, n_estimators=140; total time=   0.6s\n",
            "[CV] END ...learning_rate=0.1, max_depth=8, n_estimators=140; total time=   0.5s\n",
            "[CV] END ...learning_rate=0.1, max_depth=8, n_estimators=140; total time=   0.6s\n",
            "[CV] END ...learning_rate=0.1, max_depth=8, n_estimators=140; total time=   0.5s\n",
            "[CV] END ..learning_rate=0.01, max_depth=2, n_estimators=100; total time=   0.1s\n",
            "[CV] END ..learning_rate=0.01, max_depth=2, n_estimators=100; total time=   0.1s\n",
            "[CV] END ..learning_rate=0.01, max_depth=2, n_estimators=100; total time=   0.1s\n",
            "[CV] END ..learning_rate=0.01, max_depth=2, n_estimators=100; total time=   0.1s\n",
            "[CV] END ..learning_rate=0.01, max_depth=2, n_estimators=100; total time=   0.1s\n"
          ]
        },
        {
          "output_type": "execute_result",
          "data": {
            "text/plain": [
              "RandomizedSearchCV(cv=5, estimator=XGBClassifier(nthread=4, seed=42),\n",
              "                   param_distributions={'learning_rate': [0.1, 0.05, 0.01,\n",
              "                                                          0.005],\n",
              "                                        'max_depth': range(2, 10),\n",
              "                                        'n_estimators': range(60, 220, 40)},\n",
              "                   scoring='roc_auc', verbose=2)"
            ]
          },
          "metadata": {},
          "execution_count": 65
        }
      ]
    },
    {
      "cell_type": "code",
      "source": [
        "xgb_random.best_params_"
      ],
      "metadata": {
        "colab": {
          "base_uri": "https://localhost:8080/"
        },
        "id": "AZyl_yBVibub",
        "outputId": "a26165a2-1322-4d6c-c52a-28e63c777c57"
      },
      "execution_count": 66,
      "outputs": [
        {
          "output_type": "execute_result",
          "data": {
            "text/plain": [
              "{'n_estimators': 100, 'max_depth': 2, 'learning_rate': 0.01}"
            ]
          },
          "metadata": {},
          "execution_count": 66
        }
      ]
    },
    {
      "cell_type": "code",
      "source": [
        "print('Train ROC-AUC score : ', xgb_random.best_estimator_.score(X_train,y_train))\n",
        "print('Test ROC-AUC score : ', xgb_random.best_estimator_.score(X_test,y_test))"
      ],
      "metadata": {
        "colab": {
          "base_uri": "https://localhost:8080/"
        },
        "id": "c9Vaa3y5ivvk",
        "outputId": "544925f4-bf8b-44b6-96eb-076c78420251"
      },
      "execution_count": 67,
      "outputs": [
        {
          "output_type": "stream",
          "name": "stdout",
          "text": [
            "Train ROC-AUC score :  0.8499789296249474\n",
            "Test ROC-AUC score :  0.856440511307768\n"
          ]
        }
      ]
    },
    {
      "cell_type": "code",
      "source": [
        "xgb_bayes = BayesSearchCV(estimator=xgb,\n",
        "                       search_spaces = {\n",
        "                          'max_depth': Integer(2, 10),\n",
        "                          'n_estimators': Integer(60, 220),\n",
        "                          'learning_rate': Real(0.001, 0.1, prior='log-uniform')\n",
        "                        },\n",
        "                       cv = 5, verbose=2, scoring='roc_auc', n_jobs=10)\n",
        "\n",
        "xgb_bayes.fit(X_train,y_train)"
      ],
      "metadata": {
        "colab": {
          "base_uri": "https://localhost:8080/"
        },
        "id": "oWMCFng8ivyl",
        "outputId": "56172d50-290d-49d8-cbc5-d08f69493e70"
      },
      "execution_count": 68,
      "outputs": [
        {
          "output_type": "stream",
          "name": "stdout",
          "text": [
            "Fitting 5 folds for each of 1 candidates, totalling 5 fits\n",
            "Fitting 5 folds for each of 1 candidates, totalling 5 fits\n",
            "Fitting 5 folds for each of 1 candidates, totalling 5 fits\n",
            "Fitting 5 folds for each of 1 candidates, totalling 5 fits\n",
            "Fitting 5 folds for each of 1 candidates, totalling 5 fits\n",
            "Fitting 5 folds for each of 1 candidates, totalling 5 fits\n",
            "Fitting 5 folds for each of 1 candidates, totalling 5 fits\n",
            "Fitting 5 folds for each of 1 candidates, totalling 5 fits\n",
            "Fitting 5 folds for each of 1 candidates, totalling 5 fits\n",
            "Fitting 5 folds for each of 1 candidates, totalling 5 fits\n",
            "Fitting 5 folds for each of 1 candidates, totalling 5 fits\n",
            "Fitting 5 folds for each of 1 candidates, totalling 5 fits\n",
            "Fitting 5 folds for each of 1 candidates, totalling 5 fits\n",
            "Fitting 5 folds for each of 1 candidates, totalling 5 fits\n",
            "Fitting 5 folds for each of 1 candidates, totalling 5 fits\n",
            "Fitting 5 folds for each of 1 candidates, totalling 5 fits\n",
            "Fitting 5 folds for each of 1 candidates, totalling 5 fits\n",
            "Fitting 5 folds for each of 1 candidates, totalling 5 fits\n",
            "Fitting 5 folds for each of 1 candidates, totalling 5 fits\n",
            "Fitting 5 folds for each of 1 candidates, totalling 5 fits\n",
            "Fitting 5 folds for each of 1 candidates, totalling 5 fits\n",
            "Fitting 5 folds for each of 1 candidates, totalling 5 fits\n",
            "Fitting 5 folds for each of 1 candidates, totalling 5 fits\n",
            "Fitting 5 folds for each of 1 candidates, totalling 5 fits\n",
            "Fitting 5 folds for each of 1 candidates, totalling 5 fits\n",
            "Fitting 5 folds for each of 1 candidates, totalling 5 fits\n",
            "Fitting 5 folds for each of 1 candidates, totalling 5 fits\n",
            "Fitting 5 folds for each of 1 candidates, totalling 5 fits\n",
            "Fitting 5 folds for each of 1 candidates, totalling 5 fits\n",
            "Fitting 5 folds for each of 1 candidates, totalling 5 fits\n",
            "Fitting 5 folds for each of 1 candidates, totalling 5 fits\n",
            "Fitting 5 folds for each of 1 candidates, totalling 5 fits\n",
            "Fitting 5 folds for each of 1 candidates, totalling 5 fits\n",
            "Fitting 5 folds for each of 1 candidates, totalling 5 fits\n",
            "Fitting 5 folds for each of 1 candidates, totalling 5 fits\n",
            "Fitting 5 folds for each of 1 candidates, totalling 5 fits\n",
            "Fitting 5 folds for each of 1 candidates, totalling 5 fits\n",
            "Fitting 5 folds for each of 1 candidates, totalling 5 fits\n",
            "Fitting 5 folds for each of 1 candidates, totalling 5 fits\n",
            "Fitting 5 folds for each of 1 candidates, totalling 5 fits\n",
            "Fitting 5 folds for each of 1 candidates, totalling 5 fits\n",
            "Fitting 5 folds for each of 1 candidates, totalling 5 fits\n",
            "Fitting 5 folds for each of 1 candidates, totalling 5 fits\n",
            "Fitting 5 folds for each of 1 candidates, totalling 5 fits\n",
            "Fitting 5 folds for each of 1 candidates, totalling 5 fits\n",
            "Fitting 5 folds for each of 1 candidates, totalling 5 fits\n",
            "Fitting 5 folds for each of 1 candidates, totalling 5 fits\n",
            "Fitting 5 folds for each of 1 candidates, totalling 5 fits\n",
            "Fitting 5 folds for each of 1 candidates, totalling 5 fits\n",
            "Fitting 5 folds for each of 1 candidates, totalling 5 fits\n"
          ]
        },
        {
          "output_type": "execute_result",
          "data": {
            "text/plain": [
              "BayesSearchCV(cv=5, estimator=XGBClassifier(nthread=4, seed=42), n_jobs=10,\n",
              "              scoring='roc_auc',\n",
              "              search_spaces={'learning_rate': Real(low=0.001, high=0.1, prior='log-uniform', transform='normalize'),\n",
              "                             'max_depth': Integer(low=2, high=10, prior='uniform', transform='normalize'),\n",
              "                             'n_estimators': Integer(low=60, high=220, prior='uniform', transform='normalize')},\n",
              "              verbose=2)"
            ]
          },
          "metadata": {},
          "execution_count": 68
        }
      ]
    },
    {
      "cell_type": "code",
      "source": [
        "xgb_bayes.best_params_"
      ],
      "metadata": {
        "colab": {
          "base_uri": "https://localhost:8080/"
        },
        "id": "vhQ1EFbqiv2W",
        "outputId": "7b0ccd11-fd51-4100-bd24-cea4c0288a9f"
      },
      "execution_count": 69,
      "outputs": [
        {
          "output_type": "execute_result",
          "data": {
            "text/plain": [
              "OrderedDict([('learning_rate', 0.03737677496128866),\n",
              "             ('max_depth', 2),\n",
              "             ('n_estimators', 172)])"
            ]
          },
          "metadata": {},
          "execution_count": 69
        }
      ]
    },
    {
      "cell_type": "code",
      "source": [
        "print('Train ROC-AUC score : ', xgb_bayes.best_estimator_.score(X_train,y_train))\n",
        "print('Test ROC-AUC score : ', xgb_bayes.best_estimator_.score(X_test,y_test))"
      ],
      "metadata": {
        "colab": {
          "base_uri": "https://localhost:8080/"
        },
        "id": "zO5SZednjBIk",
        "outputId": "5ce7d899-8f89-49ba-95ce-8196c0ec81c0"
      },
      "execution_count": 70,
      "outputs": [
        {
          "output_type": "stream",
          "name": "stdout",
          "text": [
            "Train ROC-AUC score :  0.8579856721449641\n",
            "Test ROC-AUC score :  0.8544739429695182\n"
          ]
        }
      ]
    },
    {
      "cell_type": "markdown",
      "source": [
        "In case of XG Boost classifier also we found that Out of all three search algorithms  all the three search algorithm doing well.But when we compare GridSearchCV slightly better as compared to RandomSearchCV and BayesianSearchCV"
      ],
      "metadata": {
        "id": "uYMGXFz52wb2"
      }
    },
    {
      "cell_type": "code",
      "source": [
        "xgb_model =xgb_grid.best_estimator_"
      ],
      "metadata": {
        "id": "xqaz6uk8jjxD"
      },
      "execution_count": 71,
      "outputs": []
    },
    {
      "cell_type": "markdown",
      "source": [
        "# **KNN Classifier**"
      ],
      "metadata": {
        "id": "-_1Kaef48zE3"
      }
    },
    {
      "cell_type": "code",
      "source": [
        "import pandas as pd\n",
        "from sklearn.preprocessing import OneHotEncoder\n",
        "from sklearn.compose import make_column_transformer\n",
        "from sklearn.model_selection import train_test_split, GridSearchCV\n",
        "from sklearn.neighbors import KNeighborsClassifier\n",
        "from sklearn.pipeline import Pipeline"
      ],
      "metadata": {
        "id": "g6a1ujzSZX9R"
      },
      "execution_count": 72,
      "outputs": []
    },
    {
      "cell_type": "code",
      "source": [
        "knn = KNeighborsClassifier()\n",
        "\n",
        "pipe = Pipeline(steps=[('knn', knn)])\n",
        "param_grid = {\n",
        "    'knn__n_neighbors': [2,5,15, 30, 45, 64]\n",
        "}\n",
        "\n",
        "grid = GridSearchCV(pipe, param_grid, cv=10, scoring='roc_auc')\n",
        "\n",
        "grid.fit(X_train,y_train)\n",
        "\n",
        "grid.best_params_\n",
        "#{'knn__n_neighbors': 5}"
      ],
      "metadata": {
        "colab": {
          "base_uri": "https://localhost:8080/"
        },
        "id": "v9tLsS8tZzBG",
        "outputId": "55c12a4b-7d69-47c8-9eae-908b20851c24"
      },
      "execution_count": 73,
      "outputs": [
        {
          "output_type": "execute_result",
          "data": {
            "text/plain": [
              "{'knn__n_neighbors': 64}"
            ]
          },
          "metadata": {},
          "execution_count": 73
        }
      ]
    },
    {
      "cell_type": "code",
      "source": [
        "print('Train ROC-AUC score : ', grid.best_estimator_.score(X_train,y_train))\n",
        "print('Test ROC-AUC score : ', grid.best_estimator_.score(X_test,y_test))"
      ],
      "metadata": {
        "colab": {
          "base_uri": "https://localhost:8080/"
        },
        "id": "KKDjjMJvQM5n",
        "outputId": "9014ce3a-7b76-4679-f53a-318aecbaa5e3"
      },
      "execution_count": 74,
      "outputs": [
        {
          "output_type": "stream",
          "name": "stdout",
          "text": [
            "Train ROC-AUC score :  0.8478718921196797\n",
            "Test ROC-AUC score :  0.8525073746312685\n"
          ]
        }
      ]
    },
    {
      "cell_type": "code",
      "source": [
        "knn = KNeighborsClassifier()\n",
        "\n",
        "pipe = Pipeline(steps=[('knn', knn)])\n",
        "param_grid = {\n",
        "    'knn__n_neighbors': [2,5,15, 30, 45, 64]\n",
        "}\n",
        "\n",
        "knn_random = RandomizedSearchCV(pipe, param_grid, cv=10, scoring='roc_auc')\n",
        "\n",
        "knn_random.fit(X_train,y_train)\n",
        "\n",
        "knn_random.best_params_\n",
        "#{'knn__n_neighbors': 5}"
      ],
      "metadata": {
        "colab": {
          "base_uri": "https://localhost:8080/"
        },
        "id": "xB5QZhyMdjl-",
        "outputId": "546f6f49-6f4c-4951-816d-70860cb3b1ab"
      },
      "execution_count": 75,
      "outputs": [
        {
          "output_type": "stream",
          "name": "stderr",
          "text": [
            "/usr/local/lib/python3.7/dist-packages/sklearn/model_selection/_search.py:296: UserWarning: The total space of parameters 6 is smaller than n_iter=10. Running 6 iterations. For exhaustive searches, use GridSearchCV.\n",
            "  UserWarning,\n"
          ]
        },
        {
          "output_type": "execute_result",
          "data": {
            "text/plain": [
              "{'knn__n_neighbors': 64}"
            ]
          },
          "metadata": {},
          "execution_count": 75
        }
      ]
    },
    {
      "cell_type": "code",
      "source": [
        "print('Train ROC-AUC score : ', knn_random.best_estimator_.score(X_train,y_train))\n",
        "print('Test ROC-AUC score : ', knn_random.best_estimator_.score(X_test,y_test))"
      ],
      "metadata": {
        "colab": {
          "base_uri": "https://localhost:8080/"
        },
        "id": "oXZHtLRXfEWh",
        "outputId": "a31c632f-9ac5-4e6f-a6bd-502bda0ac50c"
      },
      "execution_count": 76,
      "outputs": [
        {
          "output_type": "stream",
          "name": "stdout",
          "text": [
            "Train ROC-AUC score :  0.8478718921196797\n",
            "Test ROC-AUC score :  0.8525073746312685\n"
          ]
        }
      ]
    },
    {
      "cell_type": "code",
      "source": [
        "knn = KNeighborsClassifier()\n",
        "\n",
        "pipe = Pipeline(steps=[('knn', knn)])\n",
        "param_grid = {\n",
        "    'knn__n_neighbors': [2,5,15, 30, 45, 64]\n",
        "}\n",
        "\n",
        "knn_Bayes = BayesSearchCV(pipe, param_grid, cv=10, scoring='roc_auc')\n",
        "\n",
        "knn_Bayes.fit(X_train,y_train)\n",
        "\n",
        "knn_Bayes.best_params_\n",
        "#{'knn__n_neighbors': 5}"
      ],
      "metadata": {
        "colab": {
          "base_uri": "https://localhost:8080/"
        },
        "id": "RSoDsVJffEjJ",
        "outputId": "2edae0d2-c859-40d7-9d40-baee5368f3c0"
      },
      "execution_count": 77,
      "outputs": [
        {
          "output_type": "stream",
          "name": "stderr",
          "text": [
            "/usr/local/lib/python3.7/dist-packages/skopt/optimizer/optimizer.py:449: UserWarning: The objective has been evaluated at this point before.\n",
            "  warnings.warn(\"The objective has been evaluated \"\n",
            "/usr/local/lib/python3.7/dist-packages/skopt/optimizer/optimizer.py:449: UserWarning: The objective has been evaluated at this point before.\n",
            "  warnings.warn(\"The objective has been evaluated \"\n",
            "/usr/local/lib/python3.7/dist-packages/skopt/optimizer/optimizer.py:449: UserWarning: The objective has been evaluated at this point before.\n",
            "  warnings.warn(\"The objective has been evaluated \"\n",
            "/usr/local/lib/python3.7/dist-packages/skopt/optimizer/optimizer.py:449: UserWarning: The objective has been evaluated at this point before.\n",
            "  warnings.warn(\"The objective has been evaluated \"\n",
            "/usr/local/lib/python3.7/dist-packages/skopt/optimizer/optimizer.py:449: UserWarning: The objective has been evaluated at this point before.\n",
            "  warnings.warn(\"The objective has been evaluated \"\n",
            "/usr/local/lib/python3.7/dist-packages/skopt/optimizer/optimizer.py:449: UserWarning: The objective has been evaluated at this point before.\n",
            "  warnings.warn(\"The objective has been evaluated \"\n",
            "/usr/local/lib/python3.7/dist-packages/skopt/optimizer/optimizer.py:449: UserWarning: The objective has been evaluated at this point before.\n",
            "  warnings.warn(\"The objective has been evaluated \"\n",
            "/usr/local/lib/python3.7/dist-packages/skopt/optimizer/optimizer.py:449: UserWarning: The objective has been evaluated at this point before.\n",
            "  warnings.warn(\"The objective has been evaluated \"\n",
            "/usr/local/lib/python3.7/dist-packages/skopt/optimizer/optimizer.py:449: UserWarning: The objective has been evaluated at this point before.\n",
            "  warnings.warn(\"The objective has been evaluated \"\n",
            "/usr/local/lib/python3.7/dist-packages/skopt/optimizer/optimizer.py:449: UserWarning: The objective has been evaluated at this point before.\n",
            "  warnings.warn(\"The objective has been evaluated \"\n",
            "/usr/local/lib/python3.7/dist-packages/skopt/optimizer/optimizer.py:449: UserWarning: The objective has been evaluated at this point before.\n",
            "  warnings.warn(\"The objective has been evaluated \"\n",
            "/usr/local/lib/python3.7/dist-packages/skopt/optimizer/optimizer.py:449: UserWarning: The objective has been evaluated at this point before.\n",
            "  warnings.warn(\"The objective has been evaluated \"\n",
            "/usr/local/lib/python3.7/dist-packages/skopt/optimizer/optimizer.py:449: UserWarning: The objective has been evaluated at this point before.\n",
            "  warnings.warn(\"The objective has been evaluated \"\n",
            "/usr/local/lib/python3.7/dist-packages/skopt/optimizer/optimizer.py:449: UserWarning: The objective has been evaluated at this point before.\n",
            "  warnings.warn(\"The objective has been evaluated \"\n",
            "/usr/local/lib/python3.7/dist-packages/skopt/optimizer/optimizer.py:449: UserWarning: The objective has been evaluated at this point before.\n",
            "  warnings.warn(\"The objective has been evaluated \"\n",
            "/usr/local/lib/python3.7/dist-packages/skopt/optimizer/optimizer.py:449: UserWarning: The objective has been evaluated at this point before.\n",
            "  warnings.warn(\"The objective has been evaluated \"\n",
            "/usr/local/lib/python3.7/dist-packages/skopt/optimizer/optimizer.py:449: UserWarning: The objective has been evaluated at this point before.\n",
            "  warnings.warn(\"The objective has been evaluated \"\n",
            "/usr/local/lib/python3.7/dist-packages/skopt/optimizer/optimizer.py:449: UserWarning: The objective has been evaluated at this point before.\n",
            "  warnings.warn(\"The objective has been evaluated \"\n",
            "/usr/local/lib/python3.7/dist-packages/skopt/optimizer/optimizer.py:449: UserWarning: The objective has been evaluated at this point before.\n",
            "  warnings.warn(\"The objective has been evaluated \"\n",
            "/usr/local/lib/python3.7/dist-packages/skopt/optimizer/optimizer.py:449: UserWarning: The objective has been evaluated at this point before.\n",
            "  warnings.warn(\"The objective has been evaluated \"\n",
            "/usr/local/lib/python3.7/dist-packages/skopt/optimizer/optimizer.py:449: UserWarning: The objective has been evaluated at this point before.\n",
            "  warnings.warn(\"The objective has been evaluated \"\n",
            "/usr/local/lib/python3.7/dist-packages/skopt/optimizer/optimizer.py:449: UserWarning: The objective has been evaluated at this point before.\n",
            "  warnings.warn(\"The objective has been evaluated \"\n",
            "/usr/local/lib/python3.7/dist-packages/skopt/optimizer/optimizer.py:449: UserWarning: The objective has been evaluated at this point before.\n",
            "  warnings.warn(\"The objective has been evaluated \"\n",
            "/usr/local/lib/python3.7/dist-packages/skopt/optimizer/optimizer.py:449: UserWarning: The objective has been evaluated at this point before.\n",
            "  warnings.warn(\"The objective has been evaluated \"\n",
            "/usr/local/lib/python3.7/dist-packages/skopt/optimizer/optimizer.py:449: UserWarning: The objective has been evaluated at this point before.\n",
            "  warnings.warn(\"The objective has been evaluated \"\n",
            "/usr/local/lib/python3.7/dist-packages/skopt/optimizer/optimizer.py:449: UserWarning: The objective has been evaluated at this point before.\n",
            "  warnings.warn(\"The objective has been evaluated \"\n",
            "/usr/local/lib/python3.7/dist-packages/skopt/optimizer/optimizer.py:449: UserWarning: The objective has been evaluated at this point before.\n",
            "  warnings.warn(\"The objective has been evaluated \"\n",
            "/usr/local/lib/python3.7/dist-packages/skopt/optimizer/optimizer.py:449: UserWarning: The objective has been evaluated at this point before.\n",
            "  warnings.warn(\"The objective has been evaluated \"\n",
            "/usr/local/lib/python3.7/dist-packages/skopt/optimizer/optimizer.py:449: UserWarning: The objective has been evaluated at this point before.\n",
            "  warnings.warn(\"The objective has been evaluated \"\n",
            "/usr/local/lib/python3.7/dist-packages/skopt/optimizer/optimizer.py:449: UserWarning: The objective has been evaluated at this point before.\n",
            "  warnings.warn(\"The objective has been evaluated \"\n",
            "/usr/local/lib/python3.7/dist-packages/skopt/optimizer/optimizer.py:449: UserWarning: The objective has been evaluated at this point before.\n",
            "  warnings.warn(\"The objective has been evaluated \"\n",
            "/usr/local/lib/python3.7/dist-packages/skopt/optimizer/optimizer.py:449: UserWarning: The objective has been evaluated at this point before.\n",
            "  warnings.warn(\"The objective has been evaluated \"\n",
            "/usr/local/lib/python3.7/dist-packages/skopt/optimizer/optimizer.py:449: UserWarning: The objective has been evaluated at this point before.\n",
            "  warnings.warn(\"The objective has been evaluated \"\n",
            "/usr/local/lib/python3.7/dist-packages/skopt/optimizer/optimizer.py:449: UserWarning: The objective has been evaluated at this point before.\n",
            "  warnings.warn(\"The objective has been evaluated \"\n",
            "/usr/local/lib/python3.7/dist-packages/skopt/optimizer/optimizer.py:449: UserWarning: The objective has been evaluated at this point before.\n",
            "  warnings.warn(\"The objective has been evaluated \"\n",
            "/usr/local/lib/python3.7/dist-packages/skopt/optimizer/optimizer.py:449: UserWarning: The objective has been evaluated at this point before.\n",
            "  warnings.warn(\"The objective has been evaluated \"\n",
            "/usr/local/lib/python3.7/dist-packages/skopt/optimizer/optimizer.py:449: UserWarning: The objective has been evaluated at this point before.\n",
            "  warnings.warn(\"The objective has been evaluated \"\n",
            "/usr/local/lib/python3.7/dist-packages/skopt/optimizer/optimizer.py:449: UserWarning: The objective has been evaluated at this point before.\n",
            "  warnings.warn(\"The objective has been evaluated \"\n",
            "/usr/local/lib/python3.7/dist-packages/skopt/optimizer/optimizer.py:449: UserWarning: The objective has been evaluated at this point before.\n",
            "  warnings.warn(\"The objective has been evaluated \"\n",
            "/usr/local/lib/python3.7/dist-packages/skopt/optimizer/optimizer.py:449: UserWarning: The objective has been evaluated at this point before.\n",
            "  warnings.warn(\"The objective has been evaluated \"\n"
          ]
        },
        {
          "output_type": "execute_result",
          "data": {
            "text/plain": [
              "OrderedDict([('knn__n_neighbors', 64)])"
            ]
          },
          "metadata": {},
          "execution_count": 77
        }
      ]
    },
    {
      "cell_type": "code",
      "source": [
        "print('Train ROC-AUC score : ', knn_Bayes.best_estimator_.score(X_train,y_train))\n",
        "print('Test ROC-AUC score : ', knn_Bayes.best_estimator_.score(X_test,y_test))"
      ],
      "metadata": {
        "colab": {
          "base_uri": "https://localhost:8080/"
        },
        "id": "MJ5AHa5ugrl6",
        "outputId": "ed8b8ff0-0726-461c-9dbe-76459267382a"
      },
      "execution_count": 78,
      "outputs": [
        {
          "output_type": "stream",
          "name": "stdout",
          "text": [
            "Train ROC-AUC score :  0.8478718921196797\n",
            "Test ROC-AUC score :  0.8525073746312685\n"
          ]
        }
      ]
    },
    {
      "cell_type": "markdown",
      "source": [
        "In case of KNN classifier also we found that Out of all three search algorithms all the three search algorithm doing well"
      ],
      "metadata": {
        "id": "a6_pXzTNg40h"
      }
    },
    {
      "cell_type": "code",
      "source": [
        "knn_model =grid.best_estimator_"
      ],
      "metadata": {
        "id": "AZYioA0ljqH9"
      },
      "execution_count": 79,
      "outputs": []
    },
    {
      "cell_type": "markdown",
      "source": [
        "# **Lets collect all our best models !**"
      ],
      "metadata": {
        "id": "3g4D5mDXhI1I"
      }
    },
    {
      "cell_type": "code",
      "source": [
        "  X = X.reshape(-1, 1)"
      ],
      "metadata": {
        "colab": {
          "base_uri": "https://localhost:8080/",
          "height": 287
        },
        "id": "_gomBnWTkZgP",
        "outputId": "57d73a77-4dd6-4077-90b4-4c176868f276"
      },
      "execution_count": 90,
      "outputs": [
        {
          "output_type": "error",
          "ename": "AttributeError",
          "evalue": "ignored",
          "traceback": [
            "\u001b[0;31m---------------------------------------------------------------------------\u001b[0m",
            "\u001b[0;31mAttributeError\u001b[0m                            Traceback (most recent call last)",
            "\u001b[0;32m<ipython-input-90-c53ad34f932b>\u001b[0m in \u001b[0;36m<module>\u001b[0;34m\u001b[0m\n\u001b[0;32m----> 1\u001b[0;31m \u001b[0mX\u001b[0m \u001b[0;34m=\u001b[0m \u001b[0mX\u001b[0m\u001b[0;34m.\u001b[0m\u001b[0mreshape\u001b[0m\u001b[0;34m(\u001b[0m\u001b[0;34m-\u001b[0m\u001b[0;36m1\u001b[0m\u001b[0;34m,\u001b[0m \u001b[0;36m1\u001b[0m\u001b[0;34m)\u001b[0m\u001b[0;34m\u001b[0m\u001b[0;34m\u001b[0m\u001b[0m\n\u001b[0m",
            "\u001b[0;32m/usr/local/lib/python3.7/dist-packages/pandas/core/generic.py\u001b[0m in \u001b[0;36m__getattr__\u001b[0;34m(self, name)\u001b[0m\n\u001b[1;32m   5485\u001b[0m         ):\n\u001b[1;32m   5486\u001b[0m             \u001b[0;32mreturn\u001b[0m \u001b[0mself\u001b[0m\u001b[0;34m[\u001b[0m\u001b[0mname\u001b[0m\u001b[0;34m]\u001b[0m\u001b[0;34m\u001b[0m\u001b[0;34m\u001b[0m\u001b[0m\n\u001b[0;32m-> 5487\u001b[0;31m         \u001b[0;32mreturn\u001b[0m \u001b[0mobject\u001b[0m\u001b[0;34m.\u001b[0m\u001b[0m__getattribute__\u001b[0m\u001b[0;34m(\u001b[0m\u001b[0mself\u001b[0m\u001b[0;34m,\u001b[0m \u001b[0mname\u001b[0m\u001b[0;34m)\u001b[0m\u001b[0;34m\u001b[0m\u001b[0;34m\u001b[0m\u001b[0m\n\u001b[0m\u001b[1;32m   5488\u001b[0m \u001b[0;34m\u001b[0m\u001b[0m\n\u001b[1;32m   5489\u001b[0m     \u001b[0;32mdef\u001b[0m \u001b[0m__setattr__\u001b[0m\u001b[0;34m(\u001b[0m\u001b[0mself\u001b[0m\u001b[0;34m,\u001b[0m \u001b[0mname\u001b[0m\u001b[0;34m:\u001b[0m \u001b[0mstr\u001b[0m\u001b[0;34m,\u001b[0m \u001b[0mvalue\u001b[0m\u001b[0;34m)\u001b[0m \u001b[0;34m->\u001b[0m \u001b[0;32mNone\u001b[0m\u001b[0;34m:\u001b[0m\u001b[0;34m\u001b[0m\u001b[0;34m\u001b[0m\u001b[0m\n",
            "\u001b[0;31mAttributeError\u001b[0m: 'DataFrame' object has no attribute 'reshape'"
          ]
        }
      ]
    },
    {
      "cell_type": "code",
      "source": [
        "models = [lr_model, rf_model, xgb_model]"
      ],
      "metadata": {
        "id": "KmPxzDr_hH3W"
      },
      "execution_count": 93,
      "outputs": []
    },
    {
      "cell_type": "code",
      "source": [
        "def model_metric(models,X_train, X_test, y_train, y_test):\n",
        "  \n",
        "  cols = ['Train accuracy', 'Test accuracy', 'Train precision', 'Test precision', 'Train recall', 'Test recall',\n",
        "          'Train f1 score', 'Test f1 score', 'Train ROC-AUC', 'Test ROC-AUC']\n",
        "  model_df = pd.DataFrame(columns=cols)\n",
        "  conf_train, conf_test = {}, {}\n",
        "  \n",
        "  i = 0\n",
        "  for model in models:\n",
        "    \n",
        "    model.fit(X_train, y_train)\n",
        "  \n",
        "    y_pred_train = model.predict(X_train)\n",
        "    y_pred_test = model.predict(X_test)\n",
        "\n",
        "    model_df.loc[i,'Train accuracy'] = accuracy_score(y_train, y_pred_train)\n",
        "    model_df.loc[i,'Test accuracy'] = accuracy_score( y_test, y_pred_test)\n",
        "    model_df.loc[i,'Train precision'] = precision_score(y_train, y_pred_train)\n",
        "    model_df.loc[i,'Test precision'] = precision_score( y_test, y_pred_test)\n",
        "    model_df.loc[i,'Train recall'] = recall_score(y_train, y_pred_train)\n",
        "    model_df.loc[i,'Test recall'] = recall_score(y_test, y_pred_test)\n",
        "    model_df.loc[i,'Train f1 score'] = f1_score(y_train, y_pred_train)\n",
        "    model_df.loc[i,'Test f1 score'] = f1_score(y_test, y_pred_test)\n",
        "    #model_df.loc[i,'Train ROC-AUC'] = roc_auc__score(y_train, y_pred_train)\n",
        "    #model_df.loc[i,'Test ROC-AUC'] = roc_auc_score( y_test, y_pred_test)\n",
        "\n",
        "    conf_train[model.__class__.__name__] = confusion_matrix(y_train, y_pred_train)\n",
        "    conf_test[model.__class__.__name__] = confusion_matrix(y_test, y_pred_test)\n",
        "\n",
        "    i+=1\n",
        "\n",
        "  return model_df, conf_train, conf_test"
      ],
      "metadata": {
        "id": "VBzPn1KghH7p"
      },
      "execution_count": 96,
      "outputs": []
    },
    {
      "cell_type": "code",
      "source": [
        "model_metric(models,X_train,y_train,X_test,y_test)"
      ],
      "metadata": {
        "colab": {
          "base_uri": "https://localhost:8080/",
          "height": 311
        },
        "id": "NBT-fp7nhH_a",
        "outputId": "ab00b553-f07b-4c69-92b0-5eebd58b2a1f"
      },
      "execution_count": 97,
      "outputs": [
        {
          "output_type": "error",
          "ename": "ValueError",
          "evalue": "ignored",
          "traceback": [
            "\u001b[0;31m---------------------------------------------------------------------------\u001b[0m",
            "\u001b[0;31mValueError\u001b[0m                                Traceback (most recent call last)",
            "\u001b[0;32m<ipython-input-97-d755aebf11bb>\u001b[0m in \u001b[0;36m<module>\u001b[0;34m\u001b[0m\n\u001b[0;32m----> 1\u001b[0;31m \u001b[0mmodel_metric\u001b[0m\u001b[0;34m(\u001b[0m\u001b[0mmodels\u001b[0m\u001b[0;34m,\u001b[0m\u001b[0mX_train\u001b[0m\u001b[0;34m,\u001b[0m\u001b[0my_train\u001b[0m\u001b[0;34m,\u001b[0m\u001b[0mX_test\u001b[0m\u001b[0;34m,\u001b[0m\u001b[0my_test\u001b[0m\u001b[0;34m)\u001b[0m\u001b[0;34m\u001b[0m\u001b[0;34m\u001b[0m\u001b[0m\n\u001b[0m",
            "\u001b[0;32m<ipython-input-96-e292fd67d80a>\u001b[0m in \u001b[0;36mmodel_metric\u001b[0;34m(models, X_train, X_test, y_train, y_test)\u001b[0m\n\u001b[1;32m      8\u001b[0m   \u001b[0;32mfor\u001b[0m \u001b[0mmodel\u001b[0m \u001b[0;32min\u001b[0m \u001b[0mmodels\u001b[0m\u001b[0;34m:\u001b[0m\u001b[0;34m\u001b[0m\u001b[0;34m\u001b[0m\u001b[0m\n\u001b[1;32m      9\u001b[0m \u001b[0;34m\u001b[0m\u001b[0m\n\u001b[0;32m---> 10\u001b[0;31m     \u001b[0mmodel\u001b[0m\u001b[0;34m.\u001b[0m\u001b[0mfit\u001b[0m\u001b[0;34m(\u001b[0m\u001b[0mX_train\u001b[0m\u001b[0;34m,\u001b[0m \u001b[0my_train\u001b[0m\u001b[0;34m)\u001b[0m\u001b[0;34m\u001b[0m\u001b[0;34m\u001b[0m\u001b[0m\n\u001b[0m\u001b[1;32m     11\u001b[0m \u001b[0;34m\u001b[0m\u001b[0m\n\u001b[1;32m     12\u001b[0m     \u001b[0my_pred_train\u001b[0m \u001b[0;34m=\u001b[0m \u001b[0mmodel\u001b[0m\u001b[0;34m.\u001b[0m\u001b[0mpredict\u001b[0m\u001b[0;34m(\u001b[0m\u001b[0mX_train\u001b[0m\u001b[0;34m)\u001b[0m\u001b[0;34m\u001b[0m\u001b[0;34m\u001b[0m\u001b[0m\n",
            "\u001b[0;32m/usr/local/lib/python3.7/dist-packages/sklearn/linear_model/_logistic.py\u001b[0m in \u001b[0;36mfit\u001b[0;34m(self, X, y, sample_weight)\u001b[0m\n\u001b[1;32m   1512\u001b[0m             \u001b[0mdtype\u001b[0m\u001b[0;34m=\u001b[0m\u001b[0m_dtype\u001b[0m\u001b[0;34m,\u001b[0m\u001b[0;34m\u001b[0m\u001b[0;34m\u001b[0m\u001b[0m\n\u001b[1;32m   1513\u001b[0m             \u001b[0morder\u001b[0m\u001b[0;34m=\u001b[0m\u001b[0;34m\"C\"\u001b[0m\u001b[0;34m,\u001b[0m\u001b[0;34m\u001b[0m\u001b[0;34m\u001b[0m\u001b[0m\n\u001b[0;32m-> 1514\u001b[0;31m             \u001b[0maccept_large_sparse\u001b[0m\u001b[0;34m=\u001b[0m\u001b[0msolver\u001b[0m \u001b[0;32mnot\u001b[0m \u001b[0;32min\u001b[0m \u001b[0;34m[\u001b[0m\u001b[0;34m\"liblinear\"\u001b[0m\u001b[0;34m,\u001b[0m \u001b[0;34m\"sag\"\u001b[0m\u001b[0;34m,\u001b[0m \u001b[0;34m\"saga\"\u001b[0m\u001b[0;34m]\u001b[0m\u001b[0;34m,\u001b[0m\u001b[0;34m\u001b[0m\u001b[0;34m\u001b[0m\u001b[0m\n\u001b[0m\u001b[1;32m   1515\u001b[0m         )\n\u001b[1;32m   1516\u001b[0m         \u001b[0mcheck_classification_targets\u001b[0m\u001b[0;34m(\u001b[0m\u001b[0my\u001b[0m\u001b[0;34m)\u001b[0m\u001b[0;34m\u001b[0m\u001b[0;34m\u001b[0m\u001b[0m\n",
            "\u001b[0;32m/usr/local/lib/python3.7/dist-packages/sklearn/base.py\u001b[0m in \u001b[0;36m_validate_data\u001b[0;34m(self, X, y, reset, validate_separately, **check_params)\u001b[0m\n\u001b[1;32m    579\u001b[0m                 \u001b[0my\u001b[0m \u001b[0;34m=\u001b[0m \u001b[0mcheck_array\u001b[0m\u001b[0;34m(\u001b[0m\u001b[0my\u001b[0m\u001b[0;34m,\u001b[0m \u001b[0;34m**\u001b[0m\u001b[0mcheck_y_params\u001b[0m\u001b[0;34m)\u001b[0m\u001b[0;34m\u001b[0m\u001b[0;34m\u001b[0m\u001b[0m\n\u001b[1;32m    580\u001b[0m             \u001b[0;32melse\u001b[0m\u001b[0;34m:\u001b[0m\u001b[0;34m\u001b[0m\u001b[0;34m\u001b[0m\u001b[0m\n\u001b[0;32m--> 581\u001b[0;31m                 \u001b[0mX\u001b[0m\u001b[0;34m,\u001b[0m \u001b[0my\u001b[0m \u001b[0;34m=\u001b[0m \u001b[0mcheck_X_y\u001b[0m\u001b[0;34m(\u001b[0m\u001b[0mX\u001b[0m\u001b[0;34m,\u001b[0m \u001b[0my\u001b[0m\u001b[0;34m,\u001b[0m \u001b[0;34m**\u001b[0m\u001b[0mcheck_params\u001b[0m\u001b[0;34m)\u001b[0m\u001b[0;34m\u001b[0m\u001b[0;34m\u001b[0m\u001b[0m\n\u001b[0m\u001b[1;32m    582\u001b[0m             \u001b[0mout\u001b[0m \u001b[0;34m=\u001b[0m \u001b[0mX\u001b[0m\u001b[0;34m,\u001b[0m \u001b[0my\u001b[0m\u001b[0;34m\u001b[0m\u001b[0;34m\u001b[0m\u001b[0m\n\u001b[1;32m    583\u001b[0m \u001b[0;34m\u001b[0m\u001b[0m\n",
            "\u001b[0;32m/usr/local/lib/python3.7/dist-packages/sklearn/utils/validation.py\u001b[0m in \u001b[0;36mcheck_X_y\u001b[0;34m(X, y, accept_sparse, accept_large_sparse, dtype, order, copy, force_all_finite, ensure_2d, allow_nd, multi_output, ensure_min_samples, ensure_min_features, y_numeric, estimator)\u001b[0m\n\u001b[1;32m    977\u001b[0m     )\n\u001b[1;32m    978\u001b[0m \u001b[0;34m\u001b[0m\u001b[0m\n\u001b[0;32m--> 979\u001b[0;31m     \u001b[0my\u001b[0m \u001b[0;34m=\u001b[0m \u001b[0m_check_y\u001b[0m\u001b[0;34m(\u001b[0m\u001b[0my\u001b[0m\u001b[0;34m,\u001b[0m \u001b[0mmulti_output\u001b[0m\u001b[0;34m=\u001b[0m\u001b[0mmulti_output\u001b[0m\u001b[0;34m,\u001b[0m \u001b[0my_numeric\u001b[0m\u001b[0;34m=\u001b[0m\u001b[0my_numeric\u001b[0m\u001b[0;34m)\u001b[0m\u001b[0;34m\u001b[0m\u001b[0;34m\u001b[0m\u001b[0m\n\u001b[0m\u001b[1;32m    980\u001b[0m \u001b[0;34m\u001b[0m\u001b[0m\n\u001b[1;32m    981\u001b[0m     \u001b[0mcheck_consistent_length\u001b[0m\u001b[0;34m(\u001b[0m\u001b[0mX\u001b[0m\u001b[0;34m,\u001b[0m \u001b[0my\u001b[0m\u001b[0;34m)\u001b[0m\u001b[0;34m\u001b[0m\u001b[0;34m\u001b[0m\u001b[0m\n",
            "\u001b[0;32m/usr/local/lib/python3.7/dist-packages/sklearn/utils/validation.py\u001b[0m in \u001b[0;36m_check_y\u001b[0;34m(y, multi_output, y_numeric)\u001b[0m\n\u001b[1;32m    991\u001b[0m         )\n\u001b[1;32m    992\u001b[0m     \u001b[0;32melse\u001b[0m\u001b[0;34m:\u001b[0m\u001b[0;34m\u001b[0m\u001b[0;34m\u001b[0m\u001b[0m\n\u001b[0;32m--> 993\u001b[0;31m         \u001b[0my\u001b[0m \u001b[0;34m=\u001b[0m \u001b[0mcolumn_or_1d\u001b[0m\u001b[0;34m(\u001b[0m\u001b[0my\u001b[0m\u001b[0;34m,\u001b[0m \u001b[0mwarn\u001b[0m\u001b[0;34m=\u001b[0m\u001b[0;32mTrue\u001b[0m\u001b[0;34m)\u001b[0m\u001b[0;34m\u001b[0m\u001b[0;34m\u001b[0m\u001b[0m\n\u001b[0m\u001b[1;32m    994\u001b[0m         \u001b[0m_assert_all_finite\u001b[0m\u001b[0;34m(\u001b[0m\u001b[0my\u001b[0m\u001b[0;34m)\u001b[0m\u001b[0;34m\u001b[0m\u001b[0;34m\u001b[0m\u001b[0m\n\u001b[1;32m    995\u001b[0m         \u001b[0m_ensure_no_complex_data\u001b[0m\u001b[0;34m(\u001b[0m\u001b[0my\u001b[0m\u001b[0;34m)\u001b[0m\u001b[0;34m\u001b[0m\u001b[0;34m\u001b[0m\u001b[0m\n",
            "\u001b[0;32m/usr/local/lib/python3.7/dist-packages/sklearn/utils/validation.py\u001b[0m in \u001b[0;36mcolumn_or_1d\u001b[0;34m(y, warn)\u001b[0m\n\u001b[1;32m   1037\u001b[0m \u001b[0;34m\u001b[0m\u001b[0m\n\u001b[1;32m   1038\u001b[0m     raise ValueError(\n\u001b[0;32m-> 1039\u001b[0;31m         \u001b[0;34m\"y should be a 1d array, got an array of shape {} instead.\"\u001b[0m\u001b[0;34m.\u001b[0m\u001b[0mformat\u001b[0m\u001b[0;34m(\u001b[0m\u001b[0mshape\u001b[0m\u001b[0;34m)\u001b[0m\u001b[0;34m\u001b[0m\u001b[0;34m\u001b[0m\u001b[0m\n\u001b[0m\u001b[1;32m   1040\u001b[0m     )\n\u001b[1;32m   1041\u001b[0m \u001b[0;34m\u001b[0m\u001b[0m\n",
            "\u001b[0;31mValueError\u001b[0m: y should be a 1d array, got an array of shape (1017, 15) instead."
          ]
        }
      ]
    },
    {
      "cell_type": "code",
      "source": [
        "model_df\n"
      ],
      "metadata": {
        "colab": {
          "base_uri": "https://localhost:8080/",
          "height": 165
        },
        "id": "vUc-AFPyi5JQ",
        "outputId": "995a7e26-20c3-4124-cc01-8abf51678f2a"
      },
      "execution_count": 83,
      "outputs": [
        {
          "output_type": "error",
          "ename": "NameError",
          "evalue": "ignored",
          "traceback": [
            "\u001b[0;31m---------------------------------------------------------------------------\u001b[0m",
            "\u001b[0;31mNameError\u001b[0m                                 Traceback (most recent call last)",
            "\u001b[0;32m<ipython-input-83-726374136a36>\u001b[0m in \u001b[0;36m<module>\u001b[0;34m\u001b[0m\n\u001b[0;32m----> 1\u001b[0;31m \u001b[0mmodel_df\u001b[0m\u001b[0;34m\u001b[0m\u001b[0;34m\u001b[0m\u001b[0m\n\u001b[0m",
            "\u001b[0;31mNameError\u001b[0m: name 'model_df' is not defined"
          ]
        }
      ]
    },
    {
      "cell_type": "code",
      "source": [],
      "metadata": {
        "id": "SuZ016BNkLPv"
      },
      "execution_count": null,
      "outputs": []
    }
  ]
}